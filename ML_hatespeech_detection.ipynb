{
  "nbformat": 4,
  "nbformat_minor": 0,
  "metadata": {
    "colab": {
      "name": "ML_hatespeech_detection.ipynb",
      "provenance": [],
      "collapsed_sections": [
        "NYLAfnz5HHpK"
      ]
    },
    "kernelspec": {
      "name": "python3",
      "display_name": "Python 3"
    },
    "language_info": {
      "name": "python"
    }
  },
  "cells": [
    {
      "cell_type": "code",
      "source": [
        "#Imports"
      ],
      "metadata": {
        "id": "KnaiauIPXPgr"
      },
      "execution_count": null,
      "outputs": []
    },
    {
      "cell_type": "code",
      "source": [
        "from google.colab import drive \n",
        "drive.mount('/content/drive')"
      ],
      "metadata": {
        "id": "guAPDPIOUL6e"
      },
      "execution_count": null,
      "outputs": []
    },
    {
      "cell_type": "markdown",
      "source": [
        "##Stop words and vectorizing"
      ],
      "metadata": {
        "id": "22hJtrcDTK0J"
      }
    },
    {
      "cell_type": "code",
      "source": [
        "def data_setup(df):\n",
        "  #removal of stop words\n",
        "  #lemmatization/stemming???\n",
        "  #vectorize\n",
        "  return df"
      ],
      "metadata": {
        "id": "pJrUlbFhTRtJ"
      },
      "execution_count": null,
      "outputs": []
    },
    {
      "cell_type": "markdown",
      "source": [
        "#NAIVE BAYES\n"
      ],
      "metadata": {
        "id": "NYLAfnz5HHpK"
      }
    },
    {
      "cell_type": "code",
      "source": [
        ""
      ],
      "metadata": {
        "id": "eZ5iNKM9XS7w"
      },
      "execution_count": null,
      "outputs": []
    },
    {
      "cell_type": "markdown",
      "source": [
        "#SUPPORT VECTOR MACHINES\n",
        "Using SVM classifiers for text classification tasks might be a really good idea, especially if the training data available is not much (~ a couple of thousand tagged samples)."
      ],
      "metadata": {
        "id": "DFWGClteHCOc"
      }
    },
    {
      "cell_type": "code",
      "source": [
        "def support_vector_machine(lang, emo_hash, test, kernel, c, print_metrics):\n",
        "  #Data loading\n",
        "  #/content/drive/MyDrive/TFG/data/final_data/removed_portuguese_data.csv\n",
        "  #Train and test split\n",
        "  #Vectorizing\n",
        "  #Model building\n",
        "  #Plot printing\n",
        "  return model"
      ],
      "metadata": {
        "id": "nPVaJ7veUb_m"
      },
      "execution_count": null,
      "outputs": []
    },
    {
      "cell_type": "markdown",
      "source": [
        "#LOGISTIC REGRESSION\n"
      ],
      "metadata": {
        "id": "iXV_qvLYHFZQ"
      }
    },
    {
      "cell_type": "code",
      "source": [
        ""
      ],
      "metadata": {
        "id": "hK4wM-TxQBFy"
      },
      "execution_count": null,
      "outputs": []
    },
    {
      "cell_type": "markdown",
      "source": [
        "------------------------------------------------------------------------\n",
        "#Accuracy checker and hate speech detectors"
      ],
      "metadata": {
        "id": "EaBLHdk3y0ts"
      }
    },
    {
      "cell_type": "code",
      "source": [
        "#@title 1. Choose a model and language\n",
        "\n",
        "Language = 'Spanish'  #@param [\"Spanish\", \"Italian\", \"Portuguese\", \"English\"]\n",
        "\n",
        "map_lang_data = {\n",
        "    'Spanish':\n",
        "        'spanish',\n",
        "    'Italian':\n",
        "        'italian',\n",
        "    'Portuguese':\n",
        "        'portuguese',\n",
        "    'English':\n",
        "        'english',\n",
        "}\n",
        "\n",
        "Emojis_Hashtags = 'All emojis and hashtags'  #@param [\"All emojis and hashtags\", \"Filtered emojis and hashtags\", \"No emojis or hashtags\"]\n",
        "\n",
        "map_emojhash_data = {\n",
        "    'All emojis and hashtags':\n",
        "        'mantained',\n",
        "    'Filtered emojis and hashtags':\n",
        "        'filtered',\n",
        "    'No emojis or hashtags':\n",
        "        'removed',\n",
        "}\n",
        "\n",
        "Train_Test_Split = '60/40'  #@param ['60/40', '70/30', '80/20']\n",
        "\n",
        "map_test_split = {\n",
        "    '60/40':\n",
        "        0.4,\n",
        "    '70/30':\n",
        "        0.3,\n",
        "    '80/20':\n",
        "        0.2,\n",
        "}\n",
        "\n",
        "Model = 'SVM linear kernel standard C'  #@param [\"Gaussian NB\", \"Bernoulli NB\", \"Multinomial NB\", \"SVM linear kernel small C\", \"SVM linear kernel standard C\", \"SVM linear kernel large C\", \"SVM RBF kernel small C\", \"SVM RBF kernel standard C\", \"SVM RBF kernel large C\", \"LR\"]\n",
        "\n",
        "Print_model_metrics = False #@param {type:\"boolean\"}\n",
        "\n",
        "lang = map_lang_data[Language]\n",
        "emo_hash = map_emojhash_data[Emojis_Hashtags]\n",
        "test = map_test_split[Train_Test_Split]\n",
        "\n",
        "if Model == \"SVM linear kernel small C\":\n",
        "  chosen_model = support_vector_machine(lang, emo_hash, test, \"linear\", 0.1, Print_model_metrics)\n",
        "elif Model == \"SVM linear kernel standard C\":\n",
        "  chosen_model = support_vector_machine(lang, emo_hash, test, \"linear\", 1, Print_model_metrics)\n",
        "elif Model == \"SVM linear kernel large C\":\n",
        "  chosen_model = support_vector_machine(lang, emo_hash, test, \"linear\", 10, Print_model_metrics)\n",
        "elif Model == \"SVM RBF kernel small C\":\n",
        "  chosen_model = support_vector_machine(lang, emo_hash, test, \"rbf\", 0.1, Print_model_metrics)\n",
        "elif Model == \"SVM RBF kernel standard C\":\n",
        "  chosen_model = support_vector_machine(lang, emo_hash, test, \"rbf\", 1, Print_model_metrics)\n",
        "elif Model == \"SVM RBF kernel large C\":\n",
        "  chosen_model = support_vector_machine(lang, emo_hash, test, \"rbf\", 10, Print_model_metrics)\n",
        "#elif Model == \"Gaussian NB\":\n",
        "  \n",
        "#elif Model == \"Bernoulli NB\":\n",
        "\n",
        "#elif Model == \"Multinomial NB\":"
      ],
      "metadata": {
        "id": "sdllLCBZSd8o"
      },
      "execution_count": null,
      "outputs": []
    },
    {
      "cell_type": "code",
      "source": [
        "#@title 2. Write some text to see if it contains hate speech...\n",
        "text = \"\" #@param {type:\"string\"}\n",
        "\n",
        "prediction = chosen_model.predict([text])\n",
        "\n",
        "if prediction == 1:\n",
        "  print(\"This text contains hate speech\")\n",
        "else:\n",
        "  print(\"This text does not contain hate speech\")"
      ],
      "metadata": {
        "id": "an79S9M4ZVdx",
        "cellView": "form"
      },
      "execution_count": null,
      "outputs": []
    }
  ]
}