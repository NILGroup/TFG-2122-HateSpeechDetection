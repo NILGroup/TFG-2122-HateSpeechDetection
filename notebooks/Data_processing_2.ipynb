{
  "nbformat": 4,
  "nbformat_minor": 0,
  "metadata": {
    "colab": {
      "name": "Data_processing_TFG_2.ipynb",
      "provenance": [],
      "collapsed_sections": [
        "MIo4952tQ8Y5",
        "FRRlzvtU2rQF",
        "e9WoGaFC3XD0",
        "ortdTiPz3XD3",
        "RjCl0KlS3bJO",
        "z2FM-hUCB6oQ",
        "d1O6LXtI3eDE",
        "LJVK7BSC3eDF"
      ],
      "toc_visible": true
    },
    "kernelspec": {
      "name": "python3",
      "display_name": "Python 3"
    },
    "language_info": {
      "name": "python"
    }
  },
  "cells": [
    {
      "cell_type": "markdown",
      "source": [
        "#PREPROCESSING - PART 2\n",
        "\n",
        "For this second part of the preprocessing, now that the data is unified and has a certain structure, the text will be cleaned and emojis & hashtags will be dealt with. The output of this notebook is, for each language, two csv files: one for data containing emojis and hashtags, and another with these elements removed.\n",
        "\n",
        "*Note: When saving or loading data from Drive, the paths are specific to my personal Drive*"
      ],
      "metadata": {
        "id": "i3mwfSSfXvlI"
      }
    },
    {
      "cell_type": "code",
      "execution_count": 1,
      "metadata": {
        "id": "l8x0oWb3bZAO",
        "colab": {
          "base_uri": "https://localhost:8080/"
        },
        "outputId": "4e5fa30f-1d17-4e7c-a973-898ae11b414d"
      },
      "outputs": [
        {
          "output_type": "stream",
          "name": "stdout",
          "text": [
            "Looking in indexes: https://pypi.org/simple, https://us-python.pkg.dev/colab-wheels/public/simple/\n",
            "Collecting emoji\n",
            "  Downloading emoji-2.0.0.tar.gz (197 kB)\n",
            "\u001b[K     |████████████████████████████████| 197 kB 5.3 MB/s \n",
            "\u001b[?25hBuilding wheels for collected packages: emoji\n",
            "  Building wheel for emoji (setup.py) ... \u001b[?25l\u001b[?25hdone\n",
            "  Created wheel for emoji: filename=emoji-2.0.0-py3-none-any.whl size=193022 sha256=95f231fc45a47fffbf5307e9b15beeac77300b69f5f9d0fb293c36cc98d34ecd\n",
            "  Stored in directory: /root/.cache/pip/wheels/ec/29/4d/3cfe7452ac7d8d83b1930f8a6205c3c9649b24e80f9029fc38\n",
            "Successfully built emoji\n",
            "Installing collected packages: emoji\n",
            "Successfully installed emoji-2.0.0\n"
          ]
        }
      ],
      "source": [
        "import pandas as pd\n",
        "!pip install emoji\n",
        "import emoji\n",
        "import re\n",
        "import numpy\n",
        "import warnings\n",
        "#In order to ignore warnings when overwriting row values in panda dataframes\n",
        "warnings.filterwarnings('ignore')"
      ]
    },
    {
      "cell_type": "code",
      "source": [
        "from google.colab import drive \n",
        "drive.mount('/content/drive')"
      ],
      "metadata": {
        "colab": {
          "base_uri": "https://localhost:8080/"
        },
        "id": "sffQnsNunaym",
        "outputId": "2c5c0e6e-2c42-4949-b75f-3baea3c998cb"
      },
      "execution_count": 2,
      "outputs": [
        {
          "output_type": "stream",
          "name": "stdout",
          "text": [
            "Mounted at /content/drive\n"
          ]
        }
      ]
    },
    {
      "cell_type": "markdown",
      "source": [
        "####Imports & functions"
      ],
      "metadata": {
        "id": "MIo4952tQ8Y5"
      }
    },
    {
      "cell_type": "code",
      "source": [
        "#Some dataset's emojis don't show as emojis, we need to replace the emoji code with the emoji in the df\n",
        "df_emoji_code_to_emoji = pd.read_csv('/content/emoji_codes_csv.csv', encoding='utf8', engine='python')\n",
        "df_emoji_code_to_emoji = df_emoji_code_to_emoji[[\"hex code\", \"emoji_code\", \"emoji\"]]"
      ],
      "metadata": {
        "id": "sSY-K1_sKwH-"
      },
      "execution_count": 3,
      "outputs": []
    },
    {
      "cell_type": "code",
      "source": [
        "#defining functions\n",
        "def unique(list1):\n",
        "    x = numpy.array(list1)\n",
        "    return numpy.unique(x)\n",
        "\n",
        "#If a hashtag is followed by another hashtag or a special character (?!), this divides it\n",
        "def divideHashtagtext(txt):\n",
        "  specialChars = \"#”.,@?¿¡!|:\" \n",
        "  for specialChar in specialChars:\n",
        "    txt = txt.replace(specialChar, \"$$\"+specialChar)\n",
        "  txt = txt.replace(',', ' ')\n",
        "  return txt.split(\"$$\")\n",
        "\n",
        "#Deletes accents in a string\n",
        "def deleteAccents(txt):\n",
        "    replacements = (\n",
        "        (\"á\", \"a\"),\n",
        "        (\"é\", \"e\"),\n",
        "        (\"í\", \"i\"),\n",
        "        (\"ó\", \"o\"),\n",
        "        (\"ú\", \"u\"),\n",
        "    )\n",
        "    for a, b in replacements:\n",
        "        txt = txt.replace(a, b).replace(a.upper(), b.upper())\n",
        "    return txt\n",
        "\n",
        "#Returns all emojis in a string\n",
        "def check_emojis(tweet : str):\n",
        "  words = list(tweet)\n",
        "  listEmojis = str()\n",
        "  for i in words:\n",
        "    if emoji.is_emoji(i):\n",
        "      listEmojis = listEmojis + \" \" + i\n",
        "  return listEmojis\n",
        "\n",
        "#Returns all codes with the structure &#____; (indicating emojis/special symbols)\n",
        "def getAllEmojiHexCode(df):\n",
        "  emoji_codes = []\n",
        "  pattern = \"&#(.*?)\\;\"\n",
        "  for idx, row in df.iterrows():\n",
        "    match = re.findall(pattern, row.text)\n",
        "    for m in match:\n",
        "      emoji_codes.append( \"&#\" + m + \";\")\n",
        "\n",
        "  return unique(emoji_codes)\n",
        "\n",
        "#Replaces hex codes with the corresponding emoji/symbol in a dataframe\n",
        "def replaceEmojiCodes(df):\n",
        "  for idx, row in df.iterrows():\n",
        "    for eidx, erow in df_emoji_code_to_emoji.iterrows():\n",
        "      row.text = row.text.replace(df_emoji_code_to_emoji['hex code'][eidx], str(df_emoji_code_to_emoji['emoji'][eidx])) \n",
        "      df['text'][idx] = row.text\n",
        "\n",
        "  return df\n",
        "\n",
        "#Returns keys of a dictionary whose value is superior to \"num\"\n",
        "def important_values(dict_, num):\n",
        "  dict_important = {}\n",
        "  for (key, value) in dict_.items():\n",
        "    if value > num:\n",
        "        dict_important[key] = value\n",
        "  return dict_important\n",
        "\n",
        "#Replace all emojis in keys_rep in dataframe for text in between colons, and delete al emojis in keys_del in same dataframe\n",
        "def replace_emojis(keys_rep, keys_del, df):\n",
        "  for idx, row in df.iterrows():\n",
        "    for k in keys_del:\n",
        "      row.text = row.text.replace(k, \"\")\n",
        "      df['text'][idx] = row.text\n",
        "    for k in keys_rep:\n",
        "      row.text = row.text.replace(k, \" \" + emoji.demojize(k) + \" \")\n",
        "      df['text'][idx] = row.text\n",
        "  return df"
      ],
      "metadata": {
        "id": "yy-UoGYbFZYb"
      },
      "execution_count": 4,
      "outputs": []
    },
    {
      "cell_type": "code",
      "source": [
        "#This function returns a cleaned dataframe, plus dictionaries with all the hashtags and emojis in them\n",
        "def cleanTweets_getDicts(df):\n",
        "  #Just choose spanish tweets\n",
        "  hashtag_dict = {}\n",
        "  emoji_dict = {}\n",
        "  #Change urls and mentions for a single word\n",
        "  for idx, row in df.iterrows():\n",
        "        #Remove \"\"\n",
        "        row.text = row.text.strip('\"')\n",
        "        df['text'][idx] = row.text\n",
        "        #\n",
        "        all_emojis = check_emojis(row.text)\n",
        "        all_ats = list(filter(lambda word: word[0]=='@', row.text.split())) \n",
        "        all_url = list(filter(lambda word: word[:8]=='https://', row.text.split())) + list(filter(lambda word: word[:7]=='http://', row.text.split()))\n",
        "        all_hashtags = list(filter(lambda word: word[0]=='#', row.text.split()))   \n",
        "        ##Deletes indication that the tweet is a Retweet\n",
        "        if row.text.startswith('RT '):\n",
        "          row.text = row.text[3:];\n",
        "          df['text'][idx] = row.text\n",
        "        ##\n",
        "        for i in range(len(all_hashtags)):\n",
        "            all_hashtags[i] = all_hashtags[i]\n",
        "            if len(divideHashtagtext(all_hashtags[i])) <= 2:\n",
        "              if deleteAccents(all_hashtags[i]) in hashtag_dict:\n",
        "                hashtag_dict[deleteAccents(all_hashtags[i])] = hashtag_dict[deleteAccents(all_hashtags[i])] + 1\n",
        "              else:\n",
        "                hashtag_dict[deleteAccents(all_hashtags[i])] = 1\n",
        "            else:\n",
        "              hashtag_aux_list = divideHashtagtext(all_hashtags[i])\n",
        "              hashtag_aux_list = [i for i in hashtag_aux_list if i.startswith('#')]\n",
        "              for string in hashtag_aux_list:\n",
        "                if string[0] == '#':\n",
        "                  if deleteAccents(string) in hashtag_dict:\n",
        "                    hashtag_dict[deleteAccents(string)] = hashtag_dict[deleteAccents(string)] + 1\n",
        "                  else:\n",
        "                    hashtag_dict[deleteAccents(string)] = 1\n",
        "                elif string[0] == '@':\n",
        "                  row.text = row.text.replace(string, \"\") #MENTION\n",
        "                  df['text'][idx] = row.text\n",
        "        for mention in all_ats:\n",
        "          row.text = row.text.replace(mention, \"\") #MENTION\n",
        "          df['text'][idx] = row.text\n",
        "        for url in all_url:\n",
        "          row.text = row.text.replace(url, \"\") #URL\n",
        "          df['text'][idx] = row.text\n",
        "        for e in check_emojis(row.text):\n",
        "            if e in emoji_dict:\n",
        "              emoji_dict[e] = emoji_dict[e] + 1\n",
        "            else:\n",
        "              emoji_dict[e] = 1\n",
        "              \n",
        "  return df, hashtag_dict, emoji_dict"
      ],
      "metadata": {
        "id": "x2xJvVHfFZYb"
      },
      "execution_count": 5,
      "outputs": []
    },
    {
      "cell_type": "markdown",
      "source": [
        "#SPANISH DATA"
      ],
      "metadata": {
        "id": "0ng5sD3xxAzc"
      }
    },
    {
      "cell_type": "code",
      "source": [
        "df = pd.read_csv('/content/drive/MyDrive/TFG/data/final_data/unfinished_spanish_data.csv', encoding='utf8', engine='python')"
      ],
      "metadata": {
        "id": "c5RiBkQik5yR"
      },
      "execution_count": 6,
      "outputs": []
    },
    {
      "cell_type": "markdown",
      "source": [
        "####Emoji code extraction and replacement"
      ],
      "metadata": {
        "id": "FRRlzvtU2rQF"
      }
    },
    {
      "cell_type": "code",
      "source": [
        "emoji_codes = getAllEmojiHexCode(df)"
      ],
      "metadata": {
        "id": "-ZH68f3_Dhgo"
      },
      "execution_count": null,
      "outputs": []
    },
    {
      "cell_type": "code",
      "source": [
        "emoji_codes"
      ],
      "metadata": {
        "colab": {
          "base_uri": "https://localhost:8080/"
        },
        "id": "sjmdrHzPajIQ",
        "outputId": "6b25ecae-a8ec-4318-bb8f-c8dc9c7280c3"
      },
      "execution_count": null,
      "outputs": [
        {
          "output_type": "execute_result",
          "data": {
            "text/plain": [
              "array([], dtype=float64)"
            ]
          },
          "metadata": {},
          "execution_count": 11
        }
      ]
    },
    {
      "cell_type": "code",
      "source": [
        "df = replaceEmojiCodes(df)"
      ],
      "metadata": {
        "id": "l1fL2yDb9RHt"
      },
      "execution_count": null,
      "outputs": []
    },
    {
      "cell_type": "markdown",
      "source": [
        "####Hashtag and emoji filtering"
      ],
      "metadata": {
        "id": "44j0bU3L2sZ_"
      }
    },
    {
      "cell_type": "code",
      "source": [
        "df, hashtag_dict, emoji_dict = cleanTweets_getDicts(df)"
      ],
      "metadata": {
        "id": "Eey-nDsjlVyX"
      },
      "execution_count": 7,
      "outputs": []
    },
    {
      "cell_type": "code",
      "source": [
        "emo_keys = list(emoji_dict.keys())\n",
        "emo_keys.remove(\" \")"
      ],
      "metadata": {
        "id": "osa2hy_WH9Il"
      },
      "execution_count": 8,
      "outputs": []
    },
    {
      "cell_type": "code",
      "source": [
        "hash_keys = list(hashtag_dict.keys())\n",
        "hash_keys.remove(\"#\")"
      ],
      "metadata": {
        "id": "XoZF4InoJgEr"
      },
      "execution_count": 9,
      "outputs": []
    },
    {
      "cell_type": "code",
      "source": [
        "del hashtag_dict[\"#\"]\n",
        "del emoji_dict[\" \"]"
      ],
      "metadata": {
        "id": "8O2V5ZPAC_h-"
      },
      "execution_count": 26,
      "outputs": []
    },
    {
      "cell_type": "code",
      "source": [
        "print(\"EMOJIS:\")\n",
        "print(\"unique emojis:\", len(emo_keys))\n",
        "print(\"emoji count:\", sum(emoji_dict.values()))\n",
        "print(\"HASHTAGS: \")\n",
        "print(\"unique hashtags:\", len(hash_keys))\n",
        "print(\"hashtag count:\", sum(hashtag_dict.values()))"
      ],
      "metadata": {
        "colab": {
          "base_uri": "https://localhost:8080/"
        },
        "id": "CtuCiw6c989U",
        "outputId": "85e3fb93-4cca-4205-aa01-2d3d6c4aa25d"
      },
      "execution_count": 32,
      "outputs": [
        {
          "output_type": "stream",
          "name": "stdout",
          "text": [
            "EMOJIS:\n",
            "unique emojis: 234\n",
            "emoji count: 1691\n",
            "HASHTAGS: \n",
            "unique hashtags: 1818\n",
            "hashtag count: 2656\n"
          ]
        }
      ]
    },
    {
      "cell_type": "markdown",
      "source": [
        "#####Removal of all emojis and hashtags"
      ],
      "metadata": {
        "id": "EjvXDCww2WWJ"
      }
    },
    {
      "cell_type": "code",
      "source": [
        "#Remove emojis\n",
        "df = replace_emojis([], emo_keys, df)"
      ],
      "metadata": {
        "id": "PAfcGGP1vuEf"
      },
      "execution_count": null,
      "outputs": []
    },
    {
      "cell_type": "code",
      "source": [
        "#Make sure no hashtag is left in data by mistake\n",
        "for idx, row in df.iterrows():\n",
        "      #We do this loop now and not in cells above because we leave a space before every #, and it could cause problems with emojis/special characters\n",
        "      row.text = row.text.replace(\"#\", \" #\") \n",
        "      df['text'][idx] = row.text\n",
        "      all_hashtags = list(filter(lambda word: word[0]=='#', row.text.split()))   \n",
        "      for i in range(len(all_hashtags)):\n",
        "          hash_keys = hash_keys + all_hashtags\n",
        "hash_keys = list(dict.fromkeys(hash_keys))\n",
        "for c in [\",\",\"!\",\":\",\".\",\"¿\",\"|\",\"?\",\"¡\",\"'\"]:\n",
        "  hash_keys = [s.strip(c) for s in hash_keys]\n",
        "hash_keys = sorted(hash_keys, key=len, reverse=True)"
      ],
      "metadata": {
        "id": "uE6ujpWlf7RQ"
      },
      "execution_count": null,
      "outputs": []
    },
    {
      "cell_type": "code",
      "source": [
        "#Remove hashtags \n",
        "for k in hash_keys:\n",
        "  df['text'] = df.apply(lambda row: row.text.replace(k, \"\"), axis=1)"
      ],
      "metadata": {
        "id": "vrXw50_XVhVu"
      },
      "execution_count": null,
      "outputs": []
    },
    {
      "cell_type": "code",
      "source": [
        "df.to_csv('/content/drive/MyDrive/TFG/data/final_data/removed_spanish_data.csv', index=False)  "
      ],
      "metadata": {
        "id": "WPDrqmDTFil6"
      },
      "execution_count": null,
      "outputs": []
    },
    {
      "cell_type": "markdown",
      "source": [
        "#####All emojis and hashtags kept"
      ],
      "metadata": {
        "id": "gHM0BmDW2d5H"
      }
    },
    {
      "cell_type": "code",
      "source": [
        "#Replace emojis with text\n",
        "df = replace_emojis(emo_keys, [], df)"
      ],
      "metadata": {
        "id": "GI2ZGdnO2d5H"
      },
      "execution_count": null,
      "outputs": []
    },
    {
      "cell_type": "code",
      "source": [
        "df.to_csv('/content/drive/MyDrive/TFG/data/final_data/mantained_spanish_data.csv', index=False)  "
      ],
      "metadata": {
        "id": "y9S9ykvX2d5H"
      },
      "execution_count": null,
      "outputs": []
    },
    {
      "cell_type": "markdown",
      "source": [
        "#ITALIAN DATA"
      ],
      "metadata": {
        "id": "ee7bXNvyxFyA"
      }
    },
    {
      "cell_type": "code",
      "source": [
        "df = pd.read_csv('/content/drive/MyDrive/TFG/data/final_data/unfinished_italian_data.csv', encoding='utf8', engine='python')"
      ],
      "metadata": {
        "id": "4ukPf32WyOsq"
      },
      "execution_count": 33,
      "outputs": []
    },
    {
      "cell_type": "markdown",
      "source": [
        "####Emoji code extraction and replacement"
      ],
      "metadata": {
        "id": "XDjLei483YDu"
      }
    },
    {
      "cell_type": "code",
      "source": [
        "emoji_codes = getAllEmojiHexCode(df)"
      ],
      "metadata": {
        "id": "dOUeflOy3YDv"
      },
      "execution_count": 34,
      "outputs": []
    },
    {
      "cell_type": "code",
      "source": [
        "emoji_codes"
      ],
      "metadata": {
        "id": "gDkaq6X73YDv",
        "colab": {
          "base_uri": "https://localhost:8080/"
        },
        "outputId": "02b72866-11d8-4359-a0c4-2c72787b9b4d"
      },
      "execution_count": 35,
      "outputs": [
        {
          "output_type": "execute_result",
          "data": {
            "text/plain": [
              "array(['&#x1f339;', '&#x1f346;', '&#x1f399;', '&#x1f3c1;', '&#x1f42e;',\n",
              "       '&#x1f433;', '&#x1f437;', '&#x1f441;', '&#x1f444;', '&#x1f445;',\n",
              "       '&#x1f447;', '&#x1f44d;', '&#x1f47f;', '&#x1f48b;', '&#x1f493;',\n",
              "       '&#x1f496;', '&#x1f4a6;', '&#x1f4a9;', '&#x1f4aa;', '&#x1f4af;',\n",
              "       '&#x1f50b;', '&#x1f51d;', '&#x1f600;', '&#x1f601;', '&#x1f602;',\n",
              "       '&#x1f605;', '&#x1f606;', '&#x1f608;', '&#x1f609;', '&#x1f60b;',\n",
              "       '&#x1f60d;', '&#x1f611;', '&#x1f614;', '&#x1f618;', '&#x1f61a;',\n",
              "       '&#x1f61c;', '&#x1f621;', '&#x1f62d;', '&#x1f630;', '&#x1f643;',\n",
              "       '&#x1f645;', '&#x1f64f;', '&#x1f914;', '&#x1f921;', '&#x1f923;',\n",
              "       '&#x1f924;', '&#x1f926;', '&#x1f952;', '&#x25b6;', '&#x2615;',\n",
              "       '&#x26a1;', '&#x270a;', '&#x270c;', '&#x2753;', '&#x2764;',\n",
              "       '&#x27a1;'], dtype='<U9')"
            ]
          },
          "metadata": {},
          "execution_count": 35
        }
      ]
    },
    {
      "cell_type": "code",
      "source": [
        "df = replaceEmojiCodes(df)"
      ],
      "metadata": {
        "id": "FPiUi0mQ3YDv"
      },
      "execution_count": 36,
      "outputs": []
    },
    {
      "cell_type": "code",
      "source": [
        "df.to_csv('/content/drive/MyDrive/TFG/data/final_data/unfinished_replacedemojis_italian_data.csv', index=False) \n"
      ],
      "metadata": {
        "id": "3oAnm7YUTcwT"
      },
      "execution_count": null,
      "outputs": []
    },
    {
      "cell_type": "code",
      "source": [
        "df = pd.read_csv('/content/drive/MyDrive/TFG/data/final_data/unfinished_replacedemojis_italian_data.csv', encoding='utf8', engine='python')"
      ],
      "metadata": {
        "id": "QZfn0h6aWKTF"
      },
      "execution_count": null,
      "outputs": []
    },
    {
      "cell_type": "markdown",
      "source": [
        "####Hashtag and emoji filtering"
      ],
      "metadata": {
        "id": "aZquLkaM3YDv"
      }
    },
    {
      "cell_type": "code",
      "source": [
        "df, hashtag_dict, emoji_dict = cleanTweets_getDicts(df)"
      ],
      "metadata": {
        "id": "HgNV8Uz8claA"
      },
      "execution_count": 37,
      "outputs": []
    },
    {
      "cell_type": "code",
      "source": [
        "emo_keys = list(emoji_dict.keys())\n",
        "emo_keys.remove(\" \")"
      ],
      "metadata": {
        "id": "ziOYt6Ts7x0Y"
      },
      "execution_count": 38,
      "outputs": []
    },
    {
      "cell_type": "code",
      "source": [
        "hash_keys = list(hashtag_dict.keys())\n",
        "hash_keys.remove(\"#\")\n",
        "hash_keys = sorted(hash_keys, key=len, reverse=True)"
      ],
      "metadata": {
        "id": "AQIKDSFr9wKy"
      },
      "execution_count": 39,
      "outputs": []
    },
    {
      "cell_type": "code",
      "source": [
        "del hashtag_dict[\"#\"]\n",
        "del emoji_dict[\" \"]"
      ],
      "metadata": {
        "id": "-ZCKMjhFGP6D"
      },
      "execution_count": 40,
      "outputs": []
    },
    {
      "cell_type": "code",
      "source": [
        "print(\"EMOJIS:\")\n",
        "print(\"unique emojis:\", len(emo_keys))\n",
        "print(\"emoji count:\", sum(emoji_dict.values()))\n",
        "print(\"HASHTAGS: \")\n",
        "print(\"unique hashtags:\", len(hash_keys))\n",
        "print(\"hashtag count:\", sum(hashtag_dict.values()))"
      ],
      "metadata": {
        "colab": {
          "base_uri": "https://localhost:8080/"
        },
        "outputId": "8e8a3d0b-1b38-4568-acd8-341c4d3e37aa",
        "id": "OF_hOU8eGP6E"
      },
      "execution_count": 41,
      "outputs": [
        {
          "output_type": "stream",
          "name": "stdout",
          "text": [
            "EMOJIS:\n",
            "unique emojis: 181\n",
            "emoji count: 1541\n",
            "HASHTAGS: \n",
            "unique hashtags: 3149\n",
            "hashtag count: 8819\n"
          ]
        }
      ]
    },
    {
      "cell_type": "markdown",
      "source": [
        "#####Removal of all emojis and hashtags"
      ],
      "metadata": {
        "id": "e9WoGaFC3XD0"
      }
    },
    {
      "cell_type": "code",
      "source": [
        "#Remove emojis\n",
        "df = replace_emojis([], emo_keys, df)"
      ],
      "metadata": {
        "id": "pA9dVe9gYxRA"
      },
      "execution_count": null,
      "outputs": []
    },
    {
      "cell_type": "code",
      "source": [
        "df"
      ],
      "metadata": {
        "id": "o4nHE1wp5Gcv",
        "colab": {
          "base_uri": "https://localhost:8080/",
          "height": 423
        },
        "outputId": "cadcf2a0-c2c6-44c8-df6d-84572cd93915"
      },
      "execution_count": null,
      "outputs": [
        {
          "output_type": "execute_result",
          "data": {
            "text/plain": [
              "                                                    text  hate speech\n",
              "0        Fatti trovare  te lo do volentieri e ti sbor...          1.0\n",
              "1       Tu dovresti ricominciare dai semafori a fare ...          1.0\n",
              "2      Amore,sei presentabile? Xchè così via Skype ti...          1.0\n",
              "3       Salvo poi mandare la culona a Mosca, aummaumm...          1.0\n",
              "4                                           Ti sborro io          1.0\n",
              "...                                                  ...          ...\n",
              "17446  Gli stati nazionali devono essere pronti a rin...          0.0\n",
              "17447  Il ministro dell'interno della Germania #Horst...          0.0\n",
              "17448  #Salvini: In Italia troppi si sono montati la ...          0.0\n",
              "17449    Chi giubila in buona fede non ha capito nien...          0.0\n",
              "17450  I giovani cristiani in #Etiopia sono indotti d...          0.0\n",
              "\n",
              "[17451 rows x 2 columns]"
            ],
            "text/html": [
              "\n",
              "  <div id=\"df-a1035750-28e1-4648-be43-48ea49289469\">\n",
              "    <div class=\"colab-df-container\">\n",
              "      <div>\n",
              "<style scoped>\n",
              "    .dataframe tbody tr th:only-of-type {\n",
              "        vertical-align: middle;\n",
              "    }\n",
              "\n",
              "    .dataframe tbody tr th {\n",
              "        vertical-align: top;\n",
              "    }\n",
              "\n",
              "    .dataframe thead th {\n",
              "        text-align: right;\n",
              "    }\n",
              "</style>\n",
              "<table border=\"1\" class=\"dataframe\">\n",
              "  <thead>\n",
              "    <tr style=\"text-align: right;\">\n",
              "      <th></th>\n",
              "      <th>text</th>\n",
              "      <th>hate speech</th>\n",
              "    </tr>\n",
              "  </thead>\n",
              "  <tbody>\n",
              "    <tr>\n",
              "      <th>0</th>\n",
              "      <td>Fatti trovare  te lo do volentieri e ti sbor...</td>\n",
              "      <td>1.0</td>\n",
              "    </tr>\n",
              "    <tr>\n",
              "      <th>1</th>\n",
              "      <td>Tu dovresti ricominciare dai semafori a fare ...</td>\n",
              "      <td>1.0</td>\n",
              "    </tr>\n",
              "    <tr>\n",
              "      <th>2</th>\n",
              "      <td>Amore,sei presentabile? Xchè così via Skype ti...</td>\n",
              "      <td>1.0</td>\n",
              "    </tr>\n",
              "    <tr>\n",
              "      <th>3</th>\n",
              "      <td>Salvo poi mandare la culona a Mosca, aummaumm...</td>\n",
              "      <td>1.0</td>\n",
              "    </tr>\n",
              "    <tr>\n",
              "      <th>4</th>\n",
              "      <td>Ti sborro io</td>\n",
              "      <td>1.0</td>\n",
              "    </tr>\n",
              "    <tr>\n",
              "      <th>...</th>\n",
              "      <td>...</td>\n",
              "      <td>...</td>\n",
              "    </tr>\n",
              "    <tr>\n",
              "      <th>17446</th>\n",
              "      <td>Gli stati nazionali devono essere pronti a rin...</td>\n",
              "      <td>0.0</td>\n",
              "    </tr>\n",
              "    <tr>\n",
              "      <th>17447</th>\n",
              "      <td>Il ministro dell'interno della Germania #Horst...</td>\n",
              "      <td>0.0</td>\n",
              "    </tr>\n",
              "    <tr>\n",
              "      <th>17448</th>\n",
              "      <td>#Salvini: In Italia troppi si sono montati la ...</td>\n",
              "      <td>0.0</td>\n",
              "    </tr>\n",
              "    <tr>\n",
              "      <th>17449</th>\n",
              "      <td>Chi giubila in buona fede non ha capito nien...</td>\n",
              "      <td>0.0</td>\n",
              "    </tr>\n",
              "    <tr>\n",
              "      <th>17450</th>\n",
              "      <td>I giovani cristiani in #Etiopia sono indotti d...</td>\n",
              "      <td>0.0</td>\n",
              "    </tr>\n",
              "  </tbody>\n",
              "</table>\n",
              "<p>17451 rows × 2 columns</p>\n",
              "</div>\n",
              "      <button class=\"colab-df-convert\" onclick=\"convertToInteractive('df-a1035750-28e1-4648-be43-48ea49289469')\"\n",
              "              title=\"Convert this dataframe to an interactive table.\"\n",
              "              style=\"display:none;\">\n",
              "        \n",
              "  <svg xmlns=\"http://www.w3.org/2000/svg\" height=\"24px\"viewBox=\"0 0 24 24\"\n",
              "       width=\"24px\">\n",
              "    <path d=\"M0 0h24v24H0V0z\" fill=\"none\"/>\n",
              "    <path d=\"M18.56 5.44l.94 2.06.94-2.06 2.06-.94-2.06-.94-.94-2.06-.94 2.06-2.06.94zm-11 1L8.5 8.5l.94-2.06 2.06-.94-2.06-.94L8.5 2.5l-.94 2.06-2.06.94zm10 10l.94 2.06.94-2.06 2.06-.94-2.06-.94-.94-2.06-.94 2.06-2.06.94z\"/><path d=\"M17.41 7.96l-1.37-1.37c-.4-.4-.92-.59-1.43-.59-.52 0-1.04.2-1.43.59L10.3 9.45l-7.72 7.72c-.78.78-.78 2.05 0 2.83L4 21.41c.39.39.9.59 1.41.59.51 0 1.02-.2 1.41-.59l7.78-7.78 2.81-2.81c.8-.78.8-2.07 0-2.86zM5.41 20L4 18.59l7.72-7.72 1.47 1.35L5.41 20z\"/>\n",
              "  </svg>\n",
              "      </button>\n",
              "      \n",
              "  <style>\n",
              "    .colab-df-container {\n",
              "      display:flex;\n",
              "      flex-wrap:wrap;\n",
              "      gap: 12px;\n",
              "    }\n",
              "\n",
              "    .colab-df-convert {\n",
              "      background-color: #E8F0FE;\n",
              "      border: none;\n",
              "      border-radius: 50%;\n",
              "      cursor: pointer;\n",
              "      display: none;\n",
              "      fill: #1967D2;\n",
              "      height: 32px;\n",
              "      padding: 0 0 0 0;\n",
              "      width: 32px;\n",
              "    }\n",
              "\n",
              "    .colab-df-convert:hover {\n",
              "      background-color: #E2EBFA;\n",
              "      box-shadow: 0px 1px 2px rgba(60, 64, 67, 0.3), 0px 1px 3px 1px rgba(60, 64, 67, 0.15);\n",
              "      fill: #174EA6;\n",
              "    }\n",
              "\n",
              "    [theme=dark] .colab-df-convert {\n",
              "      background-color: #3B4455;\n",
              "      fill: #D2E3FC;\n",
              "    }\n",
              "\n",
              "    [theme=dark] .colab-df-convert:hover {\n",
              "      background-color: #434B5C;\n",
              "      box-shadow: 0px 1px 3px 1px rgba(0, 0, 0, 0.15);\n",
              "      filter: drop-shadow(0px 1px 2px rgba(0, 0, 0, 0.3));\n",
              "      fill: #FFFFFF;\n",
              "    }\n",
              "  </style>\n",
              "\n",
              "      <script>\n",
              "        const buttonEl =\n",
              "          document.querySelector('#df-a1035750-28e1-4648-be43-48ea49289469 button.colab-df-convert');\n",
              "        buttonEl.style.display =\n",
              "          google.colab.kernel.accessAllowed ? 'block' : 'none';\n",
              "\n",
              "        async function convertToInteractive(key) {\n",
              "          const element = document.querySelector('#df-a1035750-28e1-4648-be43-48ea49289469');\n",
              "          const dataTable =\n",
              "            await google.colab.kernel.invokeFunction('convertToInteractive',\n",
              "                                                     [key], {});\n",
              "          if (!dataTable) return;\n",
              "\n",
              "          const docLinkHtml = 'Like what you see? Visit the ' +\n",
              "            '<a target=\"_blank\" href=https://colab.research.google.com/notebooks/data_table.ipynb>data table notebook</a>'\n",
              "            + ' to learn more about interactive tables.';\n",
              "          element.innerHTML = '';\n",
              "          dataTable['output_type'] = 'display_data';\n",
              "          await google.colab.output.renderOutput(dataTable, element);\n",
              "          const docLink = document.createElement('div');\n",
              "          docLink.innerHTML = docLinkHtml;\n",
              "          element.appendChild(docLink);\n",
              "        }\n",
              "      </script>\n",
              "    </div>\n",
              "  </div>\n",
              "  "
            ]
          },
          "metadata": {},
          "execution_count": 11
        }
      ]
    },
    {
      "cell_type": "code",
      "source": [
        "#Make sure no hashtag is left in data by mistake\n",
        "for idx, row in df.iterrows():\n",
        "      #We do this loop now and not in cells above because we leave a space before every #, and it could cause problems with emojis/special characters\n",
        "      row.text = row.text.replace(\"#\", \" #\") \n",
        "      df['text'][idx] = row.text\n",
        "      all_hashtags = list(filter(lambda word: word[0]=='#', row.text.split()))   \n",
        "      for i in range(len(all_hashtags)):\n",
        "          hash_keys = hash_keys + all_hashtags\n",
        "hash_keys = list(dict.fromkeys(hash_keys))\n",
        "for c in [\",\",\"!\",\":\",\".\",\"¿\",\"|\",\"?\",\"¡\",\"'\"]:\n",
        "  hash_keys = [s.strip(c) for s in hash_keys]\n",
        "hash_keys = sorted(hash_keys, key=len, reverse=True)"
      ],
      "metadata": {
        "id": "wKWtYPYDqRx2"
      },
      "execution_count": null,
      "outputs": []
    },
    {
      "cell_type": "code",
      "source": [
        "#Remove hashtags \n",
        "for k in hash_keys:\n",
        "  df['text'] = df.apply(lambda row: row.text.replace(k, \"\"), axis=1)"
      ],
      "metadata": {
        "id": "FRO4g-OGYxRB"
      },
      "execution_count": null,
      "outputs": []
    },
    {
      "cell_type": "code",
      "source": [
        "df.to_csv('/content/drive/MyDrive/TFG/data/final_data/removed_italian_data.csv', index=False)  "
      ],
      "metadata": {
        "id": "MIuPaPse2NWz"
      },
      "execution_count": null,
      "outputs": []
    },
    {
      "cell_type": "markdown",
      "source": [
        "#####All emojis and hashtags kept"
      ],
      "metadata": {
        "id": "ortdTiPz3XD3"
      }
    },
    {
      "cell_type": "code",
      "source": [
        "#Replace emojis with text\n",
        "df = replace_emojis(emo_keys, [], df)"
      ],
      "metadata": {
        "id": "yWBnSnC93XD3"
      },
      "execution_count": null,
      "outputs": []
    },
    {
      "cell_type": "code",
      "source": [
        "df.to_csv('/content/drive/MyDrive/TFG/data/final_data/mantained_italian_data.csv', index=False)  "
      ],
      "metadata": {
        "id": "EITlELFA3XD3"
      },
      "execution_count": null,
      "outputs": []
    },
    {
      "cell_type": "markdown",
      "source": [
        "#PORTUGUESE DATA"
      ],
      "metadata": {
        "id": "AqcORLfrxF4p"
      }
    },
    {
      "cell_type": "code",
      "source": [
        "df = pd.read_csv('/content/drive/MyDrive/TFG/data/final_data/unfinished_portuguese_data.csv', encoding='utf8', engine='python')"
      ],
      "metadata": {
        "id": "myeyq7364zph"
      },
      "execution_count": 42,
      "outputs": []
    },
    {
      "cell_type": "markdown",
      "source": [
        "####Emoji code extraction and replacement"
      ],
      "metadata": {
        "id": "pDioLgN13zJY"
      }
    },
    {
      "cell_type": "code",
      "source": [
        "emoji_codes = getAllEmojiHexCode(df)"
      ],
      "metadata": {
        "id": "pxTNm75o3zJY"
      },
      "execution_count": null,
      "outputs": []
    },
    {
      "cell_type": "code",
      "source": [
        "emoji_codes"
      ],
      "metadata": {
        "colab": {
          "base_uri": "https://localhost:8080/"
        },
        "outputId": "7ad7af42-4e35-4400-fed4-953300e7733f",
        "id": "kmKwy82n3zJY"
      },
      "execution_count": null,
      "outputs": [
        {
          "output_type": "execute_result",
          "data": {
            "text/plain": [
              "array([], dtype=float64)"
            ]
          },
          "metadata": {},
          "execution_count": 17
        }
      ]
    },
    {
      "cell_type": "code",
      "source": [
        "df = replaceEmojiCodes(df)"
      ],
      "metadata": {
        "id": "OqIMTg733zJZ"
      },
      "execution_count": null,
      "outputs": []
    },
    {
      "cell_type": "markdown",
      "source": [
        "####Hashtag and emoji filtering"
      ],
      "metadata": {
        "id": "YJSURK6M3zJZ"
      }
    },
    {
      "cell_type": "code",
      "source": [
        "df, hashtag_dict, emoji_dict = cleanTweets_getDicts(df)"
      ],
      "metadata": {
        "id": "BX-cP15FVmIh"
      },
      "execution_count": 43,
      "outputs": []
    },
    {
      "cell_type": "code",
      "source": [
        "emo_keys = list(emoji_dict.keys())\n",
        "emo_keys.remove(\" \")"
      ],
      "metadata": {
        "id": "6isUg-jwH-xz"
      },
      "execution_count": 44,
      "outputs": []
    },
    {
      "cell_type": "code",
      "source": [
        "hash_keys = list(hashtag_dict.keys())\n",
        "hash_keys.remove(\"#\")\n",
        "hash_keys = sorted(hash_keys, key=len, reverse=True)"
      ],
      "metadata": {
        "id": "1QzKWul7H-x0"
      },
      "execution_count": 45,
      "outputs": []
    },
    {
      "cell_type": "code",
      "source": [
        "del hashtag_dict[\"#\"]\n",
        "del emoji_dict[\" \"]"
      ],
      "metadata": {
        "id": "lhOjPDUeGRsu"
      },
      "execution_count": 46,
      "outputs": []
    },
    {
      "cell_type": "code",
      "source": [
        "print(\"EMOJIS:\")\n",
        "print(\"unique emojis:\", len(emo_keys))\n",
        "print(\"emoji count:\", sum(emoji_dict.values()))\n",
        "print(\"HASHTAGS: \")\n",
        "print(\"unique hashtags:\", len(hash_keys))\n",
        "print(\"hashtag count:\", sum(hashtag_dict.values()))"
      ],
      "metadata": {
        "colab": {
          "base_uri": "https://localhost:8080/"
        },
        "outputId": "4cc24cdd-5c80-4a51-b879-81501fc5af58",
        "id": "zmZpvlYNGRsu"
      },
      "execution_count": 47,
      "outputs": [
        {
          "output_type": "stream",
          "name": "stdout",
          "text": [
            "EMOJIS:\n",
            "unique emojis: 410\n",
            "emoji count: 6194\n",
            "HASHTAGS: \n",
            "unique hashtags: 1406\n",
            "hashtag count: 2791\n"
          ]
        }
      ]
    },
    {
      "cell_type": "markdown",
      "source": [
        "#####Removal of all emojis and hashtags"
      ],
      "metadata": {
        "id": "RjCl0KlS3bJO"
      }
    },
    {
      "cell_type": "code",
      "source": [
        "#Remove emojis\n",
        "df = replace_emojis([], emo_keys, df)"
      ],
      "metadata": {
        "id": "rV9Fk4brZEJR"
      },
      "execution_count": null,
      "outputs": []
    },
    {
      "cell_type": "code",
      "source": [
        "#Make sure no hashtag is left in data by mistake\n",
        "for idx, row in df.iterrows():\n",
        "      #We do this loop now and not in cells above because we leave a space before every #, and it could cause problems with emojis/special characters\n",
        "      row.text = row.text.replace(\"#\", \" #\") \n",
        "      df['text'][idx] = row.text\n",
        "      all_hashtags = list(filter(lambda word: word[0]=='#', row.text.split()))   \n",
        "      for i in range(len(all_hashtags)):\n",
        "          hash_keys = hash_keys + all_hashtags\n",
        "hash_keys = list(dict.fromkeys(hash_keys))\n",
        "for c in [\",\",\"!\",\":\",\".\",\"¿\",\"|\",\"?\",\"¡\",\"'\"]:\n",
        "  hash_keys = [s.strip(c) for s in hash_keys]\n",
        "hash_keys = sorted(hash_keys, key=len, reverse=True)"
      ],
      "metadata": {
        "id": "P_DX2rICqWv9"
      },
      "execution_count": null,
      "outputs": []
    },
    {
      "cell_type": "code",
      "source": [
        "#Remove hashtags\n",
        "for k in hash_keys:\n",
        "  df['text'] = df.apply(lambda row: row.text.replace(k, \"\"), axis=1)"
      ],
      "metadata": {
        "id": "Pv8p-pFDZEJS"
      },
      "execution_count": null,
      "outputs": []
    },
    {
      "cell_type": "code",
      "source": [
        "df.to_csv('/content/drive/MyDrive/TFG/data/final_data/removed_portuguese_data.csv', index=False)  "
      ],
      "metadata": {
        "id": "epBjs0vM3bJP"
      },
      "execution_count": null,
      "outputs": []
    },
    {
      "cell_type": "markdown",
      "source": [
        "#####All emojis and hashtags kept"
      ],
      "metadata": {
        "id": "z2FM-hUCB6oQ"
      }
    },
    {
      "cell_type": "code",
      "source": [
        "#Replace emojis with text\n",
        "df = replace_emojis(emo_keys, [], df)"
      ],
      "metadata": {
        "id": "LrrzUThP3bJP"
      },
      "execution_count": null,
      "outputs": []
    },
    {
      "cell_type": "code",
      "source": [
        "df.to_csv('/content/drive/MyDrive/TFG/data/final_data/mantained_portuguese_data.csv', index=False)  "
      ],
      "metadata": {
        "id": "P37_jf1p3bJP"
      },
      "execution_count": null,
      "outputs": []
    },
    {
      "cell_type": "markdown",
      "source": [
        "#ENGLISH DATA"
      ],
      "metadata": {
        "id": "OOAqX-4JxF95"
      }
    },
    {
      "cell_type": "code",
      "source": [
        "df = pd.read_csv('/content/drive/MyDrive/TFG/data/final_data/unfinished_english_data.csv', encoding='utf8', engine='python')"
      ],
      "metadata": {
        "id": "JrcDcH1L45gl"
      },
      "execution_count": 48,
      "outputs": []
    },
    {
      "cell_type": "markdown",
      "source": [
        "####Data splitting\n",
        "The data is split into 5 equal parts and then re-unified. This is done because runtime would be too long in some cells for the whole data"
      ],
      "metadata": {
        "id": "rMitCvmH9e6G"
      }
    },
    {
      "cell_type": "code",
      "source": [
        "df1 = df.sample(frac = 0.2)\n",
        "df = df.drop(df1.index)\n",
        "df1.to_csv('/content/drive/MyDrive/TFG/data/final_data/unfinished_english_data_1.csv', index=False) \n",
        "#\n",
        "df2 = df.sample(frac = 0.25)\n",
        "df = df.drop(df2.index)\n",
        "df2.to_csv('/content/drive/MyDrive/TFG/data/final_data/unfinished_english_data_2.csv', index=False) \n",
        "#\n",
        "df3 = df.sample(frac = 0.3)\n",
        "df = df.drop(df3.index)\n",
        "df3.to_csv('/content/drive/MyDrive/TFG/data/final_data/unfinished_english_data_3.csv', index=False) \n",
        "#\n",
        "df4 = df.sample(frac = 0.5)\n",
        "df5 = df.drop(df4.index)\n",
        "df4.to_csv('/content/drive/MyDrive/TFG/data/final_data/unfinished_english_data_4.csv', index=False) \n",
        "df5.to_csv('/content/drive/MyDrive/TFG/data/final_data/unfinished_english_data_5.csv', index=False) "
      ],
      "metadata": {
        "id": "Q6p4tArW9uJu"
      },
      "execution_count": null,
      "outputs": []
    },
    {
      "cell_type": "code",
      "source": [
        "#@title Choose subsection to run the preprocessing code on\n",
        "\n",
        "Subdataframe = '5'  #@param [\"1\", \"2\", \"3\", \"4\", \"5\"]\n",
        "\n",
        "map_subsection_load_path = {\n",
        "    '1':\n",
        "        '/content/drive/MyDrive/TFG/data/final_data/unfinished_english_data_1.csv',\n",
        "    '2':\n",
        "        '/content/drive/MyDrive/TFG/data/final_data/unfinished_english_data_2.csv',\n",
        "    '3':\n",
        "        '/content/drive/MyDrive/TFG/data/final_data/unfinished_english_data_3.csv',\n",
        "    '4':\n",
        "        '/content/drive/MyDrive/TFG/data/final_data/unfinished_english_data_4.csv',\n",
        "    '5':\n",
        "        '/content/drive/MyDrive/TFG/data/final_data/unfinished_english_data_5.csv',\n",
        "}\n",
        "\n",
        "map_replaced_emoji_save_path = {\n",
        "    '1':\n",
        "        '/content/drive/MyDrive/TFG/data/final_data/unfinished_replacedemojis_english_data_1.csv',\n",
        "    '2':\n",
        "        '/content/drive/MyDrive/TFG/data/final_data/unfinished_replacedemojis_english_data_2.csv',\n",
        "    '3':\n",
        "        '/content/drive/MyDrive/TFG/data/final_data/unfinished_replacedemojis_english_data_3.csv',\n",
        "    '4':\n",
        "        '/content/drive/MyDrive/TFG/data/final_data/unfinished_replacedemojis_english_data_4.csv',\n",
        "    '5':\n",
        "        '/content/drive/MyDrive/TFG/data/final_data/unfinished_replacedemojis_english_data_5.csv',\n",
        "}\n",
        "\n",
        "map_removed_save_path = {\n",
        "    '1':\n",
        "        '/content/drive/MyDrive/TFG/data/final_data/removed_english_data_1.csv',\n",
        "    '2':\n",
        "        '/content/drive/MyDrive/TFG/data/final_data/removed_english_data_2.csv',\n",
        "    '3':\n",
        "        '/content/drive/MyDrive/TFG/data/final_data/removed_english_data_3.csv',\n",
        "    '4':\n",
        "        '/content/drive/MyDrive/TFG/data/final_data/removed_english_data_4.csv',\n",
        "    '5':\n",
        "        '/content/drive/MyDrive/TFG/data/final_data/removed_english_data_5.csv',\n",
        "}\n",
        "\n",
        "map_filtered_save_path = {\n",
        "    '1':\n",
        "        '/content/drive/MyDrive/TFG/data/final_data/filtered_english_data_1.csv',\n",
        "    '2':\n",
        "        '/content/drive/MyDrive/TFG/data/final_data/filtered_english_data_2.csv',\n",
        "    '3':\n",
        "        '/content/drive/MyDrive/TFG/data/final_data/filtered_english_data_3.csv',\n",
        "    '4':\n",
        "        '/content/drive/MyDrive/TFG/data/final_data/filtered_english_data_4.csv',\n",
        "    '5':\n",
        "        '/content/drive/MyDrive/TFG/data/final_data/filtered_english_data_5.csv',\n",
        "}\n",
        "\n",
        "map_mantained_save_path = {\n",
        "    '1':\n",
        "        '/content/drive/MyDrive/TFG/data/final_data/mantained_english_data_1.csv',\n",
        "    '2':\n",
        "        '/content/drive/MyDrive/TFG/data/final_data/mantained_english_data_2.csv',\n",
        "    '3':\n",
        "        '/content/drive/MyDrive/TFG/data/final_data/mantained_english_data_3.csv',\n",
        "    '4':\n",
        "        '/content/drive/MyDrive/TFG/data/final_data/mantained_english_data_4.csv',\n",
        "    '5':\n",
        "        '/content/drive/MyDrive/TFG/data/final_data/mantained_english_data_5.csv',\n",
        "}\n",
        "\n",
        "load_path = map_subsection_load_path[Subdataframe]\n",
        "emoji_save_path = map_replaced_emoji_save_path[Subdataframe]\n",
        "removed_path = map_removed_save_path[Subdataframe]\n",
        "filtered_path = map_filtered_save_path[Subdataframe]\n",
        "mantained_path = map_mantained_save_path[Subdataframe]\n",
        "\n",
        "print(f'Data to load           : {load_path}')"
      ],
      "metadata": {
        "colab": {
          "base_uri": "https://localhost:8080/"
        },
        "cellView": "form",
        "id": "KW8HwTFkG4hC",
        "outputId": "4b957870-7075-4321-a026-b55b64bf592c"
      },
      "execution_count": null,
      "outputs": [
        {
          "output_type": "stream",
          "name": "stdout",
          "text": [
            "Data to load           : /content/drive/MyDrive/TFG/data/final_data/unfinished_english_data_5.csv\n"
          ]
        }
      ]
    },
    {
      "cell_type": "code",
      "source": [
        "df = pd.read_csv(load_path, encoding='utf8', engine='python')"
      ],
      "metadata": {
        "id": "LHp2f-BMFf82"
      },
      "execution_count": null,
      "outputs": []
    },
    {
      "cell_type": "markdown",
      "source": [
        "####Emoji code extraction and replacement"
      ],
      "metadata": {
        "id": "4JWxmDdE3iHE"
      }
    },
    {
      "cell_type": "code",
      "source": [
        "emoji_codes = getAllEmojiHexCode(df)"
      ],
      "metadata": {
        "id": "JXCCegz83iHE"
      },
      "execution_count": 49,
      "outputs": []
    },
    {
      "cell_type": "code",
      "source": [
        "emoji_codes"
      ],
      "metadata": {
        "colab": {
          "base_uri": "https://localhost:8080/"
        },
        "outputId": "319adf7e-74ba-4e66-f3a2-22746a68ad3c",
        "id": "ZPZpHh7d3iHE"
      },
      "execution_count": 50,
      "outputs": [
        {
          "output_type": "execute_result",
          "data": {
            "text/plain": [
              "array(['&#10004;', '&#10006;', '&#10024;', '&#10052;', '&#10060;',\n",
              "       '&#10067;', '&#10068;', '&#10069;', '&#10071;', '&#10084;',\n",
              "       '&#1040784;', '&#1040788;', '&#1041184;', '&#1041185;',\n",
              "       '&#1041190;', '&#1041191;', '&#1041196;', '&#1041204;',\n",
              "       '&#1041205;', '&#1041210;', '&#1041216;', '&#1041219;',\n",
              "       '&#1041222;', '&#1041223;', '&#1041233;', '&#1041237;',\n",
              "       '&#1041240;', '&#1041243;', '&#1041629;', '&#1041636;',\n",
              "       '&#1041653;', '&#1041681;', '&#1042390;', '&#1042469;',\n",
              "       '&#1043214;', '&#1043215;', '&#1043291;', '&#1043292;',\n",
              "       '&#1043293;', '&#1043323;', '&#1043350;', '&#1043351;',\n",
              "       '&#1043353;', '&#1043357;', '&#1043358;', '&#1043359;',\n",
              "       '&#1043360;', '&#1043473;', '&#11015;', '&#11088;', '&#11093;',\n",
              "       '&#12288;', '&#12290;', '&#127344;', '&#127378;', '&#127379;',\n",
              "       '&#127382;', '&#127383;', '&#127386;', '&#127463;', '&#127468;',\n",
              "       '&#127470;', '&#127480;', '&#127481;', '&#127482;', '&#127744;',\n",
              "       '&#127752;', '&#127754;', '&#127769;', '&#127770;', '&#127773;',\n",
              "       '&#127774;', '&#127775;', '&#127776;', '&#127795;', '&#127796;',\n",
              "       '&#127797;', '&#127800;', '&#127801;', '&#127802;', '&#127804;',\n",
              "       '&#127805;', '&#127806;', '&#127807;', '&#127809;', '&#127810;',\n",
              "       '&#127811;', '&#127812;', '&#127813;', '&#127814;', '&#127815;',\n",
              "       '&#127817;', '&#127821;', '&#127825;', '&#127827;', '&#127829;',\n",
              "       '&#127830;', '&#127831;', '&#127835;', '&#127837;', '&#127838;',\n",
              "       '&#127839;', '&#127844;', '&#127849;', '&#127850;', '&#127851;',\n",
              "       '&#127856;', '&#127861;', '&#127864;', '&#127866;', '&#127867;',\n",
              "       '&#127868;', '&#127873;', '&#127874;', '&#127876;', '&#127877;',\n",
              "       '&#127880;', '&#127881;', '&#127882;', '&#127887;', '&#127908;',\n",
              "       '&#127909;', '&#127911;', '&#127912;', '&#127913;', '&#127916;',\n",
              "       '&#127917;', '&#127919;', '&#127922;', '&#127925;', '&#127926;',\n",
              "       '&#127932;', '&#127935;', '&#127936;', '&#127938;', '&#127939;',\n",
              "       '&#127940;', '&#127942;', '&#127944;', '&#127946;', '&#127969;',\n",
              "       '&#127984;', '&#128002;', '&#128008;', '&#128010;', '&#128013;',\n",
              "       '&#128014;', '&#128016;', '&#128018;', '&#128025;', '&#128027;',\n",
              "       '&#128029;', '&#128032;', '&#128034;', '&#128035;', '&#128036;',\n",
              "       '&#128037;', '&#128038;', '&#128043;', '&#128044;', '&#128047;',\n",
              "       '&#128048;', '&#128049;', '&#128052;', '&#128053;', '&#128054;',\n",
              "       '&#128055;', '&#128056;', '&#128058;', '&#128060;', '&#128064;',\n",
              "       '&#128066;', '&#128068;', '&#128069;', '&#128070;', '&#128071;',\n",
              "       '&#128072;', '&#128073;', '&#128074;', '&#128075;', '&#128076;',\n",
              "       '&#128077;', '&#128078;', '&#128079;', '&#128080;', '&#128081;',\n",
              "       '&#128089;', '&#128091;', '&#128094;', '&#128095;', '&#128096;',\n",
              "       '&#128103;', '&#128105;', '&#128106;', '&#128107;', '&#128108;',\n",
              "       '&#128109;', '&#128110;', '&#128111;', '&#128112;', '&#128114;',\n",
              "       '&#128115;', '&#128117;', '&#128118;', '&#128119;', '&#128120;',\n",
              "       '&#128121;', '&#128122;', '&#128123;', '&#128124;', '&#128125;',\n",
              "       '&#128127;', '&#128128;', '&#128129;', '&#128130;', '&#128131;',\n",
              "       '&#128132;', '&#128133;', '&#128134;', '&#128135;', '&#128137;',\n",
              "       '&#128138;', '&#128139;', '&#128141;', '&#128142;', '&#128143;',\n",
              "       '&#128145;', '&#128147;', '&#128148;', '&#128149;', '&#128150;',\n",
              "       '&#128151;', '&#128152;', '&#128153;', '&#128154;', '&#128155;',\n",
              "       '&#128156;', '&#128158;', '&#128161;', '&#128162;', '&#128163;',\n",
              "       '&#128164;', '&#128165;', '&#128166;', '&#128167;', '&#128168;',\n",
              "       '&#128169;', '&#128170;', '&#128171;', '&#128173;', '&#128174;',\n",
              "       '&#128175;', '&#128176;', '&#128178;', '&#128179;', '&#128181;',\n",
              "       '&#128182;', '&#128184;', '&#128186;', '&#128195;', '&#128201;',\n",
              "       '&#128203;', '&#128209;', '&#128213;', '&#128214;', '&#128218;',\n",
              "       '&#128221;', '&#128226;', '&#128227;', '&#128240;', '&#128247;',\n",
              "       '&#128252;', '&#128266;', '&#128270;', '&#128272;', '&#128273;',\n",
              "       '&#128275;', '&#128282;', '&#128293;', '&#128294;', '&#128298;',\n",
              "       '&#128299;', '&#128308;', '&#128309;', '&#128315;', '&#128347;',\n",
              "       '&#128511;', '&#128513;', '&#128514;', '&#128515;', '&#128516;',\n",
              "       '&#128517;', '&#128518;', '&#128519;', '&#128520;', '&#128521;',\n",
              "       '&#128522;', '&#128523;', '&#128524;', '&#128525;', '&#128526;',\n",
              "       '&#128527;', '&#128528;', '&#128529;', '&#128530;', '&#128531;',\n",
              "       '&#128532;', '&#128533;', '&#128534;', '&#128535;', '&#128536;',\n",
              "       '&#128537;', '&#128538;', '&#128539;', '&#128540;', '&#128541;',\n",
              "       '&#128542;', '&#128543;', '&#128544;', '&#128545;', '&#128546;',\n",
              "       '&#128547;', '&#128548;', '&#128549;', '&#128550;', '&#128551;',\n",
              "       '&#128552;', '&#128553;', '&#128554;', '&#128555;', '&#128556;',\n",
              "       '&#128557;', '&#128558;', '&#128559;', '&#128560;', '&#128561;',\n",
              "       '&#128562;', '&#128563;', '&#128564;', '&#128565;', '&#128566;',\n",
              "       '&#128567;', '&#128569;', '&#128570;', '&#128571;', '&#128572;',\n",
              "       '&#128573;', '&#128574;', '&#128575;', '&#128576;', '&#128581;',\n",
              "       '&#128582;', '&#128583;', '&#128584;', '&#128585;', '&#128586;',\n",
              "       '&#128587;', '&#128588;', '&#128589;', '&#128590;', '&#128591;',\n",
              "       '&#128640;', '&#128652;', '&#128658;', '&#128659;', '&#128661;',\n",
              "       '&#128663;', '&#128664;', '&#128665;', '&#128677;', '&#128679;',\n",
              "       '&#128680;', '&#128681;', '&#128683;', '&#128684;', '&#128686;',\n",
              "       '&#128690;', '&#128694;', '&#128700;', '&#1548;', '&#1571;',\n",
              "       '&#1574;', '&#1575;', '&#1576;', '&#1577;', '&#1578;', '&#1581;',\n",
              "       '&#1582;', '&#1583;', '&#1585;', '&#1586;', '&#1588;', '&#1589;',\n",
              "       '&#1590;', '&#1591;', '&#1593;', '&#1594;', '&#1603;', '&#1604;',\n",
              "       '&#1605;', '&#1606;', '&#1607;', '&#1608;', '&#160;', '&#1610;',\n",
              "       '&#161;', '&#164;', '&#165;', '&#169;', '&#171;', '&#175;',\n",
              "       '&#176;', '&#180;', '&#187;', '&#191;', '&#193;', '&#201;',\n",
              "       '&#218;', '&#225;', '&#228;', '&#232;', '&#233;', '&#237;',\n",
              "       '&#241;', '&#243;', '&#246;', '&#247;', '&#250;', '&#251;',\n",
              "       '&#252;', '&#281;', '&#299;', '&#322;', '&#57361;', '&#57423;',\n",
              "       '&#57607;', '&#57608;', '&#57933;', '&#58113;', '&#58143;',\n",
              "       '&#58167;', '&#58373;', '&#58380;', '&#58381;', '&#58382;',\n",
              "       '&#58385;', '&#58386;', '&#58399;', '&#58400;', '&#58407;',\n",
              "       '&#65039;', '&#65292;', '&#65533;', '&#728;', '&#776;', '&#8211;',\n",
              "       '&#8212;', '&#8216;', '&#8217;', '&#8220;', '&#8221;', '&#8226;',\n",
              "       '&#8230;', '&#8242;', '&#8252;', '&#8413;', '&#8419;', '&#8482;',\n",
              "       '&#8594;', '&#8805;', '&#8853;', '&#8986;', '&#9203;', '&#9697;',\n",
              "       '&#9728;', '&#9729;', '&#9733;', '&#9749;', '&#9757;', '&#9786;',\n",
              "       '&#9825;', '&#9829;', '&#9832;', '&#9835;', '&#9855;', '&#9889;',\n",
              "       '&#9898;', '&#9899;', '&#9917;', '&#9918;', '&#9924;', '&#9981;',\n",
              "       '&#9986;', '&#9992;', '&#9994;', '&#9995;', '&#9996;', '&#x1f1f8;',\n",
              "       '&#x1f1fa;', '&#x1f602;', '&#x1f621;', '&#x2764;'], dtype='<U10')"
            ]
          },
          "metadata": {},
          "execution_count": 50
        }
      ]
    },
    {
      "cell_type": "code",
      "source": [
        "df = replaceEmojiCodes(df)"
      ],
      "metadata": {
        "id": "lEc2WtDK3iHE"
      },
      "execution_count": null,
      "outputs": []
    },
    {
      "cell_type": "code",
      "source": [
        "df.to_csv(emoji_save_path, index=False) "
      ],
      "metadata": {
        "id": "iSxkiXP6GjrS"
      },
      "execution_count": null,
      "outputs": []
    },
    {
      "cell_type": "code",
      "source": [
        "df = pd.read_csv(emoji_save_path, encoding='utf8', engine='python')"
      ],
      "metadata": {
        "id": "ZplEoPOIGjrT"
      },
      "execution_count": null,
      "outputs": []
    },
    {
      "cell_type": "markdown",
      "source": [
        "####Hashtag and emoji filtering"
      ],
      "metadata": {
        "id": "yLUbBhEa3iHF"
      }
    },
    {
      "cell_type": "code",
      "source": [
        "df, hashtag_dict, emoji_dict = cleanTweets_getDicts(df)"
      ],
      "metadata": {
        "id": "mn7b_x-CVjE9"
      },
      "execution_count": 53,
      "outputs": []
    },
    {
      "cell_type": "code",
      "source": [
        "emo_keys = list(emoji_dict.keys())\n",
        "emo_keys.remove(\" \")"
      ],
      "metadata": {
        "id": "-WYmZAf-IAEn"
      },
      "execution_count": 54,
      "outputs": []
    },
    {
      "cell_type": "code",
      "source": [
        "hash_keys = list(hashtag_dict.keys())\n",
        "hash_keys.remove(\"#\")\n",
        "hash_keys = sorted(hash_keys, key=len, reverse=True)"
      ],
      "metadata": {
        "id": "QLIx1BKuIAEo"
      },
      "execution_count": 55,
      "outputs": []
    },
    {
      "cell_type": "code",
      "source": [
        "del hashtag_dict[\"#\"]\n",
        "del emoji_dict[\" \"]"
      ],
      "metadata": {
        "id": "JnEU_xslGTMp"
      },
      "execution_count": 56,
      "outputs": []
    },
    {
      "cell_type": "code",
      "source": [
        "print(\"EMOJIS:\")\n",
        "print(\"unique emojis:\", len(emo_keys))\n",
        "print(\"emoji count:\", sum(emoji_dict.values()))\n",
        "print(\"HASHTAGS: \")\n",
        "print(\"unique hashtags:\", len(hash_keys))\n",
        "print(\"hashtag count:\", sum(hashtag_dict.values()))"
      ],
      "metadata": {
        "colab": {
          "base_uri": "https://localhost:8080/"
        },
        "outputId": "344ad28d-ff6e-4982-8a46-7f1c89016e73",
        "id": "Ki-nUig_GTMp"
      },
      "execution_count": 57,
      "outputs": [
        {
          "output_type": "stream",
          "name": "stdout",
          "text": [
            "EMOJIS:\n",
            "unique emojis: 510\n",
            "emoji count: 14131\n",
            "HASHTAGS: \n",
            "unique hashtags: 12893\n",
            "hashtag count: 35400\n"
          ]
        }
      ]
    },
    {
      "cell_type": "markdown",
      "source": [
        "#####Removal of all emojis and hashtags"
      ],
      "metadata": {
        "id": "d1O6LXtI3eDE"
      }
    },
    {
      "cell_type": "code",
      "source": [
        "#Remove emojis\n",
        "df = replace_emojis([], emo_keys, df)"
      ],
      "metadata": {
        "id": "G0HO5A4RZOzG"
      },
      "execution_count": null,
      "outputs": []
    },
    {
      "cell_type": "code",
      "source": [
        "#Make sure no hashtag is left in data by mistake\n",
        "for idx, row in df.iterrows():\n",
        "      #We do this loop now and not in cells above because we leave a space before every #, and it could cause problems with emojis/special characters\n",
        "      row.text = row.text.replace(\"#\", \" #\") \n",
        "      df['text'][idx] = row.text\n",
        "      all_hashtags = list(filter(lambda word: word[0]=='#', row.text.split()))   \n",
        "      for i in range(len(all_hashtags)):\n",
        "          hash_keys = hash_keys + all_hashtags\n",
        "hash_keys = list(dict.fromkeys(hash_keys))\n",
        "for c in [\",\",\"!\",\":\",\".\",\"¿\",\"|\",\"?\",\"¡\",\"'\"]:\n",
        "  hash_keys = [s.strip(c) for s in hash_keys]\n",
        "hash_keys = sorted(hash_keys, key=len, reverse=True)"
      ],
      "metadata": {
        "id": "eVvJYeoBqXoy"
      },
      "execution_count": null,
      "outputs": []
    },
    {
      "cell_type": "code",
      "source": [
        "#Remove hashtags \n",
        "for k in hash_keys:\n",
        "  df['text'] = df.apply(lambda row: row.text.replace(k, \"\"), axis=1)"
      ],
      "metadata": {
        "id": "OtVwp3KGRjMX"
      },
      "execution_count": null,
      "outputs": []
    },
    {
      "cell_type": "code",
      "source": [
        "df.to_csv(removed_path, index=False)  "
      ],
      "metadata": {
        "id": "6XjKR_rT3eDE"
      },
      "execution_count": null,
      "outputs": []
    },
    {
      "cell_type": "markdown",
      "source": [
        "#####All emojis and hashtags kept"
      ],
      "metadata": {
        "id": "LJVK7BSC3eDF"
      }
    },
    {
      "cell_type": "code",
      "source": [
        "#Replace emojis with text\n",
        "df = replace_emojis(emo_keys, [], df)"
      ],
      "metadata": {
        "id": "38vwewjG3eDF"
      },
      "execution_count": null,
      "outputs": []
    },
    {
      "cell_type": "code",
      "source": [
        "df.to_csv(mantained_path, index=False)  "
      ],
      "metadata": {
        "id": "PWO21iwM3eDF"
      },
      "execution_count": null,
      "outputs": []
    },
    {
      "cell_type": "markdown",
      "source": [
        "####Data unification"
      ],
      "metadata": {
        "id": "k8xqY9Q4LLbu"
      }
    },
    {
      "cell_type": "code",
      "source": [
        "df1 = pd.read_csv('/content/drive/MyDrive/TFG/data/final_data/removed_english_data_1.csv', encoding='utf8', engine='python')\n",
        "df2 = pd.read_csv('/content/drive/MyDrive/TFG/data/final_data/removed_english_data_2.csv', encoding='utf8', engine='python')\n",
        "df3 = pd.read_csv('/content/drive/MyDrive/TFG/data/final_data/removed_english_data_3.csv', encoding='utf8', engine='python')\n",
        "df4 = pd.read_csv('/content/drive/MyDrive/TFG/data/final_data/removed_english_data_4.csv', encoding='utf8', engine='python')\n",
        "df5 = pd.read_csv('/content/drive/MyDrive/TFG/data/final_data/removed_english_data_5.csv', encoding='utf8', engine='python')\n",
        "\n",
        "df = pd.concat([df1, df2, df3, df4, df5])\n",
        "\n",
        "df.to_csv('/content/drive/MyDrive/TFG/data/final_data/removed_english_data.csv', index=False)  "
      ],
      "metadata": {
        "id": "Ex4kCyAELNrt"
      },
      "execution_count": null,
      "outputs": []
    },
    {
      "cell_type": "code",
      "source": [
        "df1 = pd.read_csv('/content/drive/MyDrive/TFG/data/final_data/filtered_english_data_1.csv', encoding='utf8', engine='python')\n",
        "df2 = pd.read_csv('/content/drive/MyDrive/TFG/data/final_data/filtered_english_data_2.csv', encoding='utf8', engine='python')\n",
        "df3 = pd.read_csv('/content/drive/MyDrive/TFG/data/final_data/filtered_english_data_3.csv', encoding='utf8', engine='python')\n",
        "df4 = pd.read_csv('/content/drive/MyDrive/TFG/data/final_data/filtered_english_data_4.csv', encoding='utf8', engine='python')\n",
        "df5 = pd.read_csv('/content/drive/MyDrive/TFG/data/final_data/filtered_english_data_5.csv', encoding='utf8', engine='python')\n",
        "\n",
        "df = pd.concat([df1, df2, df3, df4, df5])\n",
        "\n",
        "df.to_csv('/content/drive/MyDrive/TFG/data/final_data/filtered_english_data.csv', index=False)  "
      ],
      "metadata": {
        "id": "j8KJ9ZjgLWou"
      },
      "execution_count": null,
      "outputs": []
    },
    {
      "cell_type": "code",
      "source": [
        "df1 = pd.read_csv('/content/drive/MyDrive/TFG/data/final_data/mantained_english_data_1.csv', encoding='utf8', engine='python')\n",
        "df2 = pd.read_csv('/content/drive/MyDrive/TFG/data/final_data/mantained_english_data_2.csv', encoding='utf8', engine='python')\n",
        "df3 = pd.read_csv('/content/drive/MyDrive/TFG/data/final_data/mantained_english_data_3.csv', encoding='utf8', engine='python')\n",
        "df4 = pd.read_csv('/content/drive/MyDrive/TFG/data/final_data/mantained_english_data_4.csv', encoding='utf8', engine='python')\n",
        "df5 = pd.read_csv('/content/drive/MyDrive/TFG/data/final_data/mantained_english_data_5.csv', encoding='utf8', engine='python')\n",
        "\n",
        "df = pd.concat([df1, df2, df3, df4, df5])\n",
        "\n",
        "df.to_csv('/content/drive/MyDrive/TFG/data/final_data/mantained_english_data.csv', index=False)  "
      ],
      "metadata": {
        "id": "LxyqoWWzLVyR"
      },
      "execution_count": null,
      "outputs": []
    }
  ]
}