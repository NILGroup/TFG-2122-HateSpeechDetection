{
  "nbformat": 4,
  "nbformat_minor": 0,
  "metadata": {
    "colab": {
      "name": "Data_processing_TFG.ipynb",
      "provenance": [],
      "collapsed_sections": [
        "JdOzqybtQ5Ov",
        "MIo4952tQ8Y5",
        "2V83lPJaHDYk",
        "cfftBNfTHH77",
        "CE2rEELvgAAx",
        "sWaF9Hhs-osh",
        "Yiv25PGWMaiu",
        "h3MvCKXr-o72",
        "XDjLei483YDu",
        "aZquLkaM3YDv",
        "6-TVvCWREOmt",
        "0xbK05z8EOsW",
        "KZSkzQL6EZ3V",
        "pDioLgN13zJY",
        "yWRUWw4FvGcR",
        "q5UlnPhRvGcT",
        "GsgRm1okDlVg",
        "3jjX9RC4DtyC",
        "yvdkxXiGKuPu",
        "Ak1Ar0R3KuPu",
        "w88EiXHuDt5k",
        "tXDlozM6N_SN",
        "24b_649SOBol",
        "nNfxyTonDuMv",
        "MIygSpZK5nuW",
        "mBPs2zYa5liP",
        "rXm5g-3PDuTK",
        "4JWxmDdE3iHE",
        "yLUbBhEa3iHF",
        "uF7eF6JWi7kJ"
      ],
      "toc_visible": true
    },
    "kernelspec": {
      "name": "python3",
      "display_name": "Python 3"
    },
    "language_info": {
      "name": "python"
    }
  },
  "cells": [
    {
      "cell_type": "markdown",
      "source": [
        "In this notebook, I will transform the datasets I will use for this project by eliminating unuseful columns and rows, correcting certain post classification, changing column and value names, etc."
      ],
      "metadata": {
        "id": "wno1SSZM5HH1"
      }
    },
    {
      "cell_type": "code",
      "execution_count": 1,
      "metadata": {
        "id": "l8x0oWb3bZAO",
        "colab": {
          "base_uri": "https://localhost:8080/"
        },
        "outputId": "9659f3bd-4830-40c0-cd0a-a3593723c34e"
      },
      "outputs": [
        {
          "output_type": "stream",
          "name": "stdout",
          "text": [
            "Looking in indexes: https://pypi.org/simple, https://us-python.pkg.dev/colab-wheels/public/simple/\n",
            "Collecting emoji\n",
            "  Downloading emoji-1.7.0.tar.gz (175 kB)\n",
            "\u001b[K     |████████████████████████████████| 175 kB 8.9 MB/s \n",
            "\u001b[?25hBuilding wheels for collected packages: emoji\n",
            "  Building wheel for emoji (setup.py) ... \u001b[?25l\u001b[?25hdone\n",
            "  Created wheel for emoji: filename=emoji-1.7.0-py3-none-any.whl size=171046 sha256=b609e6abe1bffbcb1c1f63851554b84859606e9b47745f07196718643c0fd6cc\n",
            "  Stored in directory: /root/.cache/pip/wheels/8a/4e/b6/57b01db010d17ef6ea9b40300af725ef3e210cb1acfb7ac8b6\n",
            "Successfully built emoji\n",
            "Installing collected packages: emoji\n",
            "Successfully installed emoji-1.7.0\n",
            "Looking in indexes: https://pypi.org/simple, https://us-python.pkg.dev/colab-wheels/public/simple/\n",
            "Requirement already satisfied: tweepy in /usr/local/lib/python3.7/dist-packages (3.10.0)\n",
            "Requirement already satisfied: requests[socks]>=2.11.1 in /usr/local/lib/python3.7/dist-packages (from tweepy) (2.23.0)\n",
            "Requirement already satisfied: requests-oauthlib>=0.7.0 in /usr/local/lib/python3.7/dist-packages (from tweepy) (1.3.1)\n",
            "Requirement already satisfied: six>=1.10.0 in /usr/local/lib/python3.7/dist-packages (from tweepy) (1.15.0)\n",
            "Requirement already satisfied: oauthlib>=3.0.0 in /usr/local/lib/python3.7/dist-packages (from requests-oauthlib>=0.7.0->tweepy) (3.2.0)\n",
            "Requirement already satisfied: certifi>=2017.4.17 in /usr/local/lib/python3.7/dist-packages (from requests[socks]>=2.11.1->tweepy) (2022.5.18.1)\n",
            "Requirement already satisfied: idna<3,>=2.5 in /usr/local/lib/python3.7/dist-packages (from requests[socks]>=2.11.1->tweepy) (2.10)\n",
            "Requirement already satisfied: urllib3!=1.25.0,!=1.25.1,<1.26,>=1.21.1 in /usr/local/lib/python3.7/dist-packages (from requests[socks]>=2.11.1->tweepy) (1.24.3)\n",
            "Requirement already satisfied: chardet<4,>=3.0.2 in /usr/local/lib/python3.7/dist-packages (from requests[socks]>=2.11.1->tweepy) (3.0.4)\n",
            "Requirement already satisfied: PySocks!=1.5.7,>=1.5.6 in /usr/local/lib/python3.7/dist-packages (from requests[socks]>=2.11.1->tweepy) (1.7.1)\n"
          ]
        }
      ],
      "source": [
        "import pandas as pd\n",
        "!pip install emoji\n",
        "!pip install tweepy\n",
        "import tweepy\n",
        "import emoji\n",
        "import re\n",
        "import numpy\n",
        "import warnings\n",
        "#In order to ignore warnings when overwriting row values in panda dataframes\n",
        "warnings.filterwarnings('ignore')"
      ]
    },
    {
      "cell_type": "code",
      "source": [
        "from google.colab import drive \n",
        "drive.mount('/content/drive')"
      ],
      "metadata": {
        "colab": {
          "base_uri": "https://localhost:8080/"
        },
        "id": "sffQnsNunaym",
        "outputId": "bbafe7b5-4495-4de4-f921-8a1d7b176b10"
      },
      "execution_count": 2,
      "outputs": [
        {
          "output_type": "stream",
          "name": "stdout",
          "text": [
            "Mounted at /content/drive\n"
          ]
        }
      ]
    },
    {
      "cell_type": "markdown",
      "source": [
        "####Tweepy credentials"
      ],
      "metadata": {
        "id": "JdOzqybtQ5Ov"
      }
    },
    {
      "cell_type": "code",
      "source": [
        "CONSUMER_KEY = #\n",
        "CONSUMER_SECRET = #\n",
        "OAUTH_TOKEN = #\n",
        "OAUTH_TOKEN_SECRET = #"
      ],
      "metadata": {
        "id": "VGt_WB5ZzE7T"
      },
      "execution_count": 47,
      "outputs": []
    },
    {
      "cell_type": "code",
      "source": [
        "auth = tweepy.OAuthHandler(CONSUMER_KEY, CONSUMER_SECRET)\n",
        "auth.set_access_token(OAUTH_TOKEN, OAUTH_TOKEN_SECRET)\n",
        "api = tweepy.API(auth, wait_on_rate_limit=True)"
      ],
      "metadata": {
        "id": "v60B6IQszE7T"
      },
      "execution_count": 48,
      "outputs": []
    },
    {
      "cell_type": "markdown",
      "source": [
        "####Imports & functions"
      ],
      "metadata": {
        "id": "MIo4952tQ8Y5"
      }
    },
    {
      "cell_type": "code",
      "source": [
        "#AMI dataset's emojis don't show as emojis, we need to replace the emoji code with the emoji in the df\n",
        "df_emoji_code_to_emoji = pd.read_csv('/content/emoji_codes_csv.csv', encoding='utf8', engine='python')\n",
        "df_emoji_code_to_emoji = df_emoji_code_to_emoji[[\"hex code\", \"emoji_code\", \"emoji\"]]"
      ],
      "metadata": {
        "id": "sSY-K1_sKwH-"
      },
      "execution_count": 3,
      "outputs": []
    },
    {
      "cell_type": "code",
      "source": [
        "#defining functions\n",
        "def unique(list1):\n",
        "    x = numpy.array(list1)\n",
        "    return numpy.unique(x)\n",
        "\n",
        "#If a hashtag is followed by another hashtag or a special character (?!), this divides it\n",
        "def divideHashtagtext(txt):\n",
        "  specialChars = \"#”.,@?¿¡!|:\" \n",
        "  for specialChar in specialChars:\n",
        "    txt = txt.replace(specialChar, \"$$\"+specialChar)\n",
        "  txt = txt.replace(',', ' ')\n",
        "  return txt.split(\"$$\")\n",
        "\n",
        "#Deletes spanish accents in a string\n",
        "def deleteAccents(txt):\n",
        "    replacements = (\n",
        "        (\"á\", \"a\"),\n",
        "        (\"é\", \"e\"),\n",
        "        (\"í\", \"i\"),\n",
        "        (\"ó\", \"o\"),\n",
        "        (\"ú\", \"u\"),\n",
        "    )\n",
        "    for a, b in replacements:\n",
        "        txt = txt.replace(a, b).replace(a.upper(), b.upper())\n",
        "    return txt\n",
        "\n",
        "#Returns all emojis in a string\n",
        "def check_emojis(tweet : str):\n",
        "  words = list(tweet)\n",
        "  listEmojis = str()\n",
        "  for i in words:\n",
        "    if emoji.is_emoji(i):\n",
        "      listEmojis = listEmojis + \" \" + i\n",
        "  return listEmojis\n",
        "\n",
        "#Returns all codes with the structure &#____; (indicating emojis/special symbols)\n",
        "def getAllEmojiHexCode(df):\n",
        "  emoji_codes = []\n",
        "  pattern = \"&#(.*?)\\;\"\n",
        "  for idx, row in df.iterrows():\n",
        "    match = re.findall(pattern, row.text)\n",
        "    for m in match:\n",
        "      emoji_codes.append( \"&#\" + m + \";\")\n",
        "\n",
        "  return unique(emoji_codes)\n",
        "\n",
        "#Replaces hex codes with the corresponding emoji/symbol in a dataframe\n",
        "def replaceEmojiCodes(df):\n",
        "  for idx, row in df.iterrows():\n",
        "    for eidx, erow in df_emoji_code_to_emoji.iterrows():\n",
        "      row.text = row.text.replace(df_emoji_code_to_emoji['hex code'][eidx], str(df_emoji_code_to_emoji['emoji'][eidx])) \n",
        "      df['text'][idx] = row.text\n",
        "\n",
        "  return df\n",
        "\n",
        "#Returns exception message (for Tweepy tweet extraction)\n",
        "def getExceptionMessage(msg):\n",
        "    words = msg.split(' ')\n",
        "    errorMsg = \"\"\n",
        "    for index, word in enumerate(words):\n",
        "        if index not in [0,1,2]:\n",
        "            errorMsg = errorMsg + ' ' + word\n",
        "    errorMsg = errorMsg.rstrip(\"\\'}]\")\n",
        "    errorMsg = errorMsg.lstrip(\" \\'\")\n",
        "    return errorMsg\n",
        "\n",
        "#Returns keys of a dictionary whose value is superior to \"num\"\n",
        "def important_values(dict_, num):\n",
        "  dict_important = {}\n",
        "  for (key, value) in dict_.items():\n",
        "    if value > num:\n",
        "        dict_important[key] = value\n",
        "  return dict_important\n",
        "\n",
        "#Use recursion to return all parent keys of indicated key to search in nested dictionary\n",
        "def find_parent_classes(d, value):\n",
        "  all_classes = []\n",
        "  for k,v in d.items():\n",
        "    if k == value:\n",
        "          all_classes = all_classes + [k]\n",
        "    elif isinstance(v, dict):\n",
        "          p = find_parent_classes(v, value)\n",
        "          if p:\n",
        "              all_classes = all_classes + [k] + p\n",
        "  return all_classes \n",
        "\n",
        "#Replace all emojis in keys_rep in dataframe for text in between colons, and delete al emojis in keys_del in same dataframe\n",
        "def replace_emojis(keys_rep, keys_del, df):\n",
        "  for idx, row in df.iterrows():\n",
        "    for k in keys_del:\n",
        "      row.text = row.text.replace(k, \"\")\n",
        "      df['text'][idx] = row.text\n",
        "    for k in keys_rep:\n",
        "      row.text = row.text.replace(k, \" \" + emoji.demojize(k) + \" \")\n",
        "      df['text'][idx] = row.text\n",
        "\n",
        "  return df"
      ],
      "metadata": {
        "id": "yy-UoGYbFZYb"
      },
      "execution_count": 34,
      "outputs": []
    },
    {
      "cell_type": "code",
      "source": [
        "#This function returns a cleaned dataframe, plus dictionaries with all the hashtags and emojis in them\n",
        "def cleanTweets_getDicts(df):\n",
        "  #Just choose spanish tweets\n",
        "  hashtag_dict = {}\n",
        "  emoji_dict = {}\n",
        "  #Change urls and mentions for a single word\n",
        "  for idx, row in df.iterrows():\n",
        "        #Remove \"\"\n",
        "        row.text = row.text.strip('\"')\n",
        "        df['text'][idx] = row.text\n",
        "        #\n",
        "        all_emojis = check_emojis(row.text)\n",
        "        all_ats = list(filter(lambda word: word[0]=='@', row.text.split())) \n",
        "        all_url = list(filter(lambda word: word[:8]=='https://', row.text.split())) + list(filter(lambda word: word[:7]=='http://', row.text.split()))\n",
        "        all_hashtags = list(filter(lambda word: word[0]=='#', row.text.split()))   \n",
        "        ##Deletes indication that the tweet is a Retweet\n",
        "        if row.text.startswith('RT '):\n",
        "          row.text = row.text[3:];\n",
        "          df['text'][idx] = row.text\n",
        "        ##\n",
        "        for i in range(len(all_hashtags)):\n",
        "            all_hashtags[i] = all_hashtags[i].lower() \n",
        "            if len(divideHashtagtext(all_hashtags[i])) <= 2:\n",
        "              if deleteAccents(all_hashtags[i]) in hashtag_dict:\n",
        "                hashtag_dict[deleteAccents(all_hashtags[i])] = hashtag_dict[deleteAccents(all_hashtags[i])] + 1\n",
        "              else:\n",
        "                hashtag_dict[deleteAccents(all_hashtags[i])] = 1\n",
        "            else:\n",
        "              hashtag_aux_list = divideHashtagtext(all_hashtags[i])\n",
        "              hashtag_aux_list = hashtag_aux_list.pop()\n",
        "              for string in hashtag_aux_list:\n",
        "                if string[0] == '#':\n",
        "                  if deleteAccents(string) in hashtag_dict:\n",
        "                    hashtag_dict[deleteAccents(string)] = hashtag_dict[deleteAccents(string)] + 1\n",
        "                  else:\n",
        "                    hashtag_dict[deleteAccents(string)] = 1\n",
        "                elif string[0] == '@':\n",
        "                  row.text = row.text.replace(string, \"\") #MENTION\n",
        "                  df['text'][idx] = row.text\n",
        "        for mention in all_ats:\n",
        "          row.text = row.text.replace(mention, \"\") #MENTION\n",
        "          df['text'][idx] = row.text\n",
        "        for url in all_url:\n",
        "          row.text = row.text.replace(url, \"\") #URL\n",
        "          df['text'][idx] = row.text\n",
        "        for e in check_emojis(row.text):\n",
        "            if e in emoji_dict:\n",
        "              emoji_dict[e] = emoji_dict[e] + 1\n",
        "            else:\n",
        "              emoji_dict[e] = 1\n",
        "              \n",
        "  return df, hashtag_dict, emoji_dict"
      ],
      "metadata": {
        "id": "x2xJvVHfFZYb"
      },
      "execution_count": 5,
      "outputs": []
    },
    {
      "cell_type": "markdown",
      "source": [
        "#SPANISH DATA UNIFICATION"
      ],
      "metadata": {
        "id": "B9fWhyd-PKk5"
      }
    },
    {
      "cell_type": "markdown",
      "source": [
        "Import all csv files that will be processed to obtain final corpus"
      ],
      "metadata": {
        "id": "FcCvHIS1mWHy"
      }
    },
    {
      "cell_type": "code",
      "source": [
        "#hateval\n",
        "df_hateval_train = pd.read_csv('/content/hateval2019_es_train.csv', encoding='utf8')\n",
        "df_hateval_test = pd.read_csv('/content/hateval2019_es_test.csv', encoding='utf8')\n",
        "df_hateval_val = pd.read_csv('/content/hateval2019_es_dev.csv', encoding='utf8')\n",
        "\n",
        "#EXIST\n",
        "df_exist_train = pd.read_csv('/content/EXIST2021_training.csv', encoding='utf8', engine='python')\n",
        "df_exist_test = pd.read_csv('/content/EXIST2021_test_labeled.csv', encoding='utf8', engine='python')\n"
      ],
      "metadata": {
        "id": "wiEy4ccQbzkO"
      },
      "execution_count": 7,
      "outputs": []
    },
    {
      "cell_type": "markdown",
      "source": [
        "First of all, we'll delete and change columns in order to only have the two key aspects of these tweets: text and sexism value (0,1)"
      ],
      "metadata": {
        "id": "SNDmrJx3qpOp"
      }
    },
    {
      "cell_type": "markdown",
      "source": [
        "###[HATEVAL](https://aclanthology.org/S19-2007.pdf)"
      ],
      "metadata": {
        "id": "2V83lPJaHDYk"
      }
    },
    {
      "cell_type": "code",
      "source": [
        "hateval_data = \"HATEVAL DATASET:\\n------------------------------------------\\n\""
      ],
      "metadata": {
        "id": "RmFnt2TT2o1N"
      },
      "execution_count": 8,
      "outputs": []
    },
    {
      "cell_type": "code",
      "source": [
        "hateval_data = hateval_data + \"hatEval train set:\\n\"\n",
        "#We won't use the columns that determined aggresiveness or target (group or individual) -> case is the same in all 3 subsets\n",
        "df_hateval_train = df_hateval_train.drop(['TR', 'AG'], axis=1)\n",
        "hateval_data = hateval_data + \"Number of Spanish tweets: \" + str(df_hateval_train.shape[0]) + \"\\n\\n\"\n",
        "df_hateval_train = df_hateval_train[['text','HS']]\n",
        "df_hateval_train.rename(columns = {'HS':'hate speech'}, inplace = True)"
      ],
      "metadata": {
        "id": "FCMRH7zdrPka"
      },
      "execution_count": 9,
      "outputs": []
    },
    {
      "cell_type": "code",
      "source": [
        "hateval_data = hateval_data + \"hatEval test set:\\n\"\n",
        "hateval_data = hateval_data + \"Number of Spanish tweets: \" + str(df_hateval_test.shape[0]) + \"\\n\\n\"\n",
        "df_hateval_test = df_hateval_test[['text','HS']]\n",
        "df_hateval_test.rename(columns = {'HS':'hate speech'}, inplace = True)"
      ],
      "metadata": {
        "id": "iVEKNel5sBLa"
      },
      "execution_count": 10,
      "outputs": []
    },
    {
      "cell_type": "code",
      "source": [
        "hateval_data = hateval_data + \"hatEval validation set:\\n\"\n",
        "df_hateval_val = df_hateval_val.drop(['TR', 'AG'], axis=1)\n",
        "hateval_data = hateval_data + \"Number of Spanish tweets: \" + str(df_hateval_val.shape[0]) + \"\\n\\n\"\n",
        "df_hateval_val = df_hateval_val[['text','HS']]\n",
        "df_hateval_val.rename(columns = {'HS':'hate speech'}, inplace = True)"
      ],
      "metadata": {
        "id": "RmAnXB_ou-W0"
      },
      "execution_count": 11,
      "outputs": []
    },
    {
      "cell_type": "code",
      "source": [
        "df_hateval = pd.concat([df_hateval_train, df_hateval_val, df_hateval_test])"
      ],
      "metadata": {
        "id": "CQM5N9WZvXbM"
      },
      "execution_count": 12,
      "outputs": []
    },
    {
      "cell_type": "code",
      "source": [
        "df_hateval"
      ],
      "metadata": {
        "colab": {
          "base_uri": "https://localhost:8080/",
          "height": 424
        },
        "id": "bJqQR4irGo3a",
        "outputId": "1acda7cb-931e-4a35-bc4f-b90685d4bf95"
      },
      "execution_count": 13,
      "outputs": [
        {
          "output_type": "execute_result",
          "data": {
            "text/plain": [
              "                                                   text  hate speech\n",
              "0     Easyjet quiere duplicar el número de mujeres p...            1\n",
              "1     El gobierno debe crear un control estricto de ...            1\n",
              "2     Yo veo a mujeres destruidas por acoso laboral ...            0\n",
              "3     — Yo soy respetuoso con los demás, sólamente l...            0\n",
              "4     Antonio Caballero y como ser de mal gusto e ig...            0\n",
              "...                                                 ...          ...\n",
              "1595  @kaitedo2523 Hasta que los pongan en sus puest...            1\n",
              "1596  Y una valla de seis metros con concertinas en ...            1\n",
              "1597  @ArgAcuerdo Tenes razon. Pero muy distintos er...            1\n",
              "1598  @07c05c81f52d432 @eeu_11 Aquí todos los delinc...            1\n",
              "1599  @deborahhq1973 Es normal, en Cataluña los Inde...            1\n",
              "\n",
              "[6600 rows x 2 columns]"
            ],
            "text/html": [
              "\n",
              "  <div id=\"df-0a279dd6-3472-4046-a39a-5cccf878cdb6\">\n",
              "    <div class=\"colab-df-container\">\n",
              "      <div>\n",
              "<style scoped>\n",
              "    .dataframe tbody tr th:only-of-type {\n",
              "        vertical-align: middle;\n",
              "    }\n",
              "\n",
              "    .dataframe tbody tr th {\n",
              "        vertical-align: top;\n",
              "    }\n",
              "\n",
              "    .dataframe thead th {\n",
              "        text-align: right;\n",
              "    }\n",
              "</style>\n",
              "<table border=\"1\" class=\"dataframe\">\n",
              "  <thead>\n",
              "    <tr style=\"text-align: right;\">\n",
              "      <th></th>\n",
              "      <th>text</th>\n",
              "      <th>hate speech</th>\n",
              "    </tr>\n",
              "  </thead>\n",
              "  <tbody>\n",
              "    <tr>\n",
              "      <th>0</th>\n",
              "      <td>Easyjet quiere duplicar el número de mujeres p...</td>\n",
              "      <td>1</td>\n",
              "    </tr>\n",
              "    <tr>\n",
              "      <th>1</th>\n",
              "      <td>El gobierno debe crear un control estricto de ...</td>\n",
              "      <td>1</td>\n",
              "    </tr>\n",
              "    <tr>\n",
              "      <th>2</th>\n",
              "      <td>Yo veo a mujeres destruidas por acoso laboral ...</td>\n",
              "      <td>0</td>\n",
              "    </tr>\n",
              "    <tr>\n",
              "      <th>3</th>\n",
              "      <td>— Yo soy respetuoso con los demás, sólamente l...</td>\n",
              "      <td>0</td>\n",
              "    </tr>\n",
              "    <tr>\n",
              "      <th>4</th>\n",
              "      <td>Antonio Caballero y como ser de mal gusto e ig...</td>\n",
              "      <td>0</td>\n",
              "    </tr>\n",
              "    <tr>\n",
              "      <th>...</th>\n",
              "      <td>...</td>\n",
              "      <td>...</td>\n",
              "    </tr>\n",
              "    <tr>\n",
              "      <th>1595</th>\n",
              "      <td>@kaitedo2523 Hasta que los pongan en sus puest...</td>\n",
              "      <td>1</td>\n",
              "    </tr>\n",
              "    <tr>\n",
              "      <th>1596</th>\n",
              "      <td>Y una valla de seis metros con concertinas en ...</td>\n",
              "      <td>1</td>\n",
              "    </tr>\n",
              "    <tr>\n",
              "      <th>1597</th>\n",
              "      <td>@ArgAcuerdo Tenes razon. Pero muy distintos er...</td>\n",
              "      <td>1</td>\n",
              "    </tr>\n",
              "    <tr>\n",
              "      <th>1598</th>\n",
              "      <td>@07c05c81f52d432 @eeu_11 Aquí todos los delinc...</td>\n",
              "      <td>1</td>\n",
              "    </tr>\n",
              "    <tr>\n",
              "      <th>1599</th>\n",
              "      <td>@deborahhq1973 Es normal, en Cataluña los Inde...</td>\n",
              "      <td>1</td>\n",
              "    </tr>\n",
              "  </tbody>\n",
              "</table>\n",
              "<p>6600 rows × 2 columns</p>\n",
              "</div>\n",
              "      <button class=\"colab-df-convert\" onclick=\"convertToInteractive('df-0a279dd6-3472-4046-a39a-5cccf878cdb6')\"\n",
              "              title=\"Convert this dataframe to an interactive table.\"\n",
              "              style=\"display:none;\">\n",
              "        \n",
              "  <svg xmlns=\"http://www.w3.org/2000/svg\" height=\"24px\"viewBox=\"0 0 24 24\"\n",
              "       width=\"24px\">\n",
              "    <path d=\"M0 0h24v24H0V0z\" fill=\"none\"/>\n",
              "    <path d=\"M18.56 5.44l.94 2.06.94-2.06 2.06-.94-2.06-.94-.94-2.06-.94 2.06-2.06.94zm-11 1L8.5 8.5l.94-2.06 2.06-.94-2.06-.94L8.5 2.5l-.94 2.06-2.06.94zm10 10l.94 2.06.94-2.06 2.06-.94-2.06-.94-.94-2.06-.94 2.06-2.06.94z\"/><path d=\"M17.41 7.96l-1.37-1.37c-.4-.4-.92-.59-1.43-.59-.52 0-1.04.2-1.43.59L10.3 9.45l-7.72 7.72c-.78.78-.78 2.05 0 2.83L4 21.41c.39.39.9.59 1.41.59.51 0 1.02-.2 1.41-.59l7.78-7.78 2.81-2.81c.8-.78.8-2.07 0-2.86zM5.41 20L4 18.59l7.72-7.72 1.47 1.35L5.41 20z\"/>\n",
              "  </svg>\n",
              "      </button>\n",
              "      \n",
              "  <style>\n",
              "    .colab-df-container {\n",
              "      display:flex;\n",
              "      flex-wrap:wrap;\n",
              "      gap: 12px;\n",
              "    }\n",
              "\n",
              "    .colab-df-convert {\n",
              "      background-color: #E8F0FE;\n",
              "      border: none;\n",
              "      border-radius: 50%;\n",
              "      cursor: pointer;\n",
              "      display: none;\n",
              "      fill: #1967D2;\n",
              "      height: 32px;\n",
              "      padding: 0 0 0 0;\n",
              "      width: 32px;\n",
              "    }\n",
              "\n",
              "    .colab-df-convert:hover {\n",
              "      background-color: #E2EBFA;\n",
              "      box-shadow: 0px 1px 2px rgba(60, 64, 67, 0.3), 0px 1px 3px 1px rgba(60, 64, 67, 0.15);\n",
              "      fill: #174EA6;\n",
              "    }\n",
              "\n",
              "    [theme=dark] .colab-df-convert {\n",
              "      background-color: #3B4455;\n",
              "      fill: #D2E3FC;\n",
              "    }\n",
              "\n",
              "    [theme=dark] .colab-df-convert:hover {\n",
              "      background-color: #434B5C;\n",
              "      box-shadow: 0px 1px 3px 1px rgba(0, 0, 0, 0.15);\n",
              "      filter: drop-shadow(0px 1px 2px rgba(0, 0, 0, 0.3));\n",
              "      fill: #FFFFFF;\n",
              "    }\n",
              "  </style>\n",
              "\n",
              "      <script>\n",
              "        const buttonEl =\n",
              "          document.querySelector('#df-0a279dd6-3472-4046-a39a-5cccf878cdb6 button.colab-df-convert');\n",
              "        buttonEl.style.display =\n",
              "          google.colab.kernel.accessAllowed ? 'block' : 'none';\n",
              "\n",
              "        async function convertToInteractive(key) {\n",
              "          const element = document.querySelector('#df-0a279dd6-3472-4046-a39a-5cccf878cdb6');\n",
              "          const dataTable =\n",
              "            await google.colab.kernel.invokeFunction('convertToInteractive',\n",
              "                                                     [key], {});\n",
              "          if (!dataTable) return;\n",
              "\n",
              "          const docLinkHtml = 'Like what you see? Visit the ' +\n",
              "            '<a target=\"_blank\" href=https://colab.research.google.com/notebooks/data_table.ipynb>data table notebook</a>'\n",
              "            + ' to learn more about interactive tables.';\n",
              "          element.innerHTML = '';\n",
              "          dataTable['output_type'] = 'display_data';\n",
              "          await google.colab.output.renderOutput(dataTable, element);\n",
              "          const docLink = document.createElement('div');\n",
              "          docLink.innerHTML = docLinkHtml;\n",
              "          element.appendChild(docLink);\n",
              "        }\n",
              "      </script>\n",
              "    </div>\n",
              "  </div>\n",
              "  "
            ]
          },
          "metadata": {},
          "execution_count": 13
        }
      ]
    },
    {
      "cell_type": "code",
      "source": [
        "hateval_data = hateval_data + \"hatEval all posts:\\n\"\n",
        "hateval_data = hateval_data + \"Number of Spanish tweets: \" + str(df_hateval.shape[0]) + \"\\n\"\n",
        "hateval_data = hateval_data + \"Percentage of hate speech: \" + str((len(df_hateval.loc[df_hateval['hate speech'] == 1].index)*100)/df_hateval.shape[0]) + \"%\\n\"\n",
        "print(hateval_data)"
      ],
      "metadata": {
        "colab": {
          "base_uri": "https://localhost:8080/"
        },
        "id": "U1CSNqqp0Tep",
        "outputId": "f227b775-f8eb-4ea6-fd05-2415895f37f2"
      },
      "execution_count": 14,
      "outputs": [
        {
          "output_type": "stream",
          "name": "stdout",
          "text": [
            "HATEVAL DATASET:\n",
            "------------------------------------------\n",
            "hatEval train set:\n",
            "Number of Spanish tweets: 4500\n",
            "\n",
            "hatEval test set:\n",
            "Number of Spanish tweets: 1600\n",
            "\n",
            "hatEval validation set:\n",
            "Number of Spanish tweets: 500\n",
            "\n",
            "hatEval all posts:\n",
            "Number of Spanish tweets: 6600\n",
            "Percentage of hate speech: 41.5%\n",
            "\n"
          ]
        }
      ]
    },
    {
      "cell_type": "markdown",
      "source": [
        "###[EXIST](http://journal.sepln.org/sepln/ojs/ojs/index.php/pln/article/viewFile/6389/3809)"
      ],
      "metadata": {
        "id": "cfftBNfTHH77"
      }
    },
    {
      "cell_type": "code",
      "source": [
        "exist_data = \"EXIST DATASET:\\n------------------------------------------\\n\""
      ],
      "metadata": {
        "id": "K-OvysNy5B1i"
      },
      "execution_count": 15,
      "outputs": []
    },
    {
      "cell_type": "code",
      "source": [
        "exist_data = exist_data + \"EXIST train set:\\n\"\n",
        "exist_data = exist_data + \"Number of tweets: \" + str(df_exist_train.shape[0]) + \"\\n\"\n",
        "#Choose corresponding language\n",
        "df_exist_train = df_exist_train[df_exist_train['language']==\"es\"]\n",
        "exist_data = exist_data + \"Number of Spanish tweets: \" + str(df_exist_train.shape[0]) + \"\\n\\n\"\n",
        "#We just use the first task (binary value: sexist or non-sexist)\n",
        "df_exist_train['task1'] = df_exist_train['task1'].replace(['non-sexist'],0)\n",
        "df_exist_train['task1'] = df_exist_train['task1'].replace(['sexist'],1)\n",
        "df_exist_train = df_exist_train[['text','task1']]\n",
        "df_exist_train.rename(columns = {'task1':'hate speech'}, inplace = True)"
      ],
      "metadata": {
        "id": "Rbu2wrFTC0Ct"
      },
      "execution_count": 16,
      "outputs": []
    },
    {
      "cell_type": "code",
      "source": [
        "exist_data = exist_data + \"EXIST test set:\\n\"\n",
        "exist_data = exist_data + \"Number of tweets: \" + str(df_exist_test.shape[0]) + \"\\n\"\n",
        "#Choose corresponding language\n",
        "df_exist_test = df_exist_test[df_exist_test['language']==\"es\"]\n",
        "exist_data = exist_data + \"Number of Spanish tweets: \" + str(df_exist_test.shape[0]) + \"\\n\\n\"\n",
        "#We just use the first task (binary value: sexist or non-sexist)\n",
        "df_exist_test['task1'] = df_exist_test['task1'].replace(['non-sexist'],0)\n",
        "df_exist_test['task1'] = df_exist_test['task1'].replace(['sexist'],1)\n",
        "df_exist_test = df_exist_test[['text','task1']]\n",
        "df_exist_test.rename(columns = {'task1':'hate speech'}, inplace = True)"
      ],
      "metadata": {
        "id": "w21LYR2BBGFx"
      },
      "execution_count": 17,
      "outputs": []
    },
    {
      "cell_type": "code",
      "source": [
        "df_exist = pd.concat([df_exist_train, df_exist_test])"
      ],
      "metadata": {
        "id": "M-4q_DD4GTx1"
      },
      "execution_count": 18,
      "outputs": []
    },
    {
      "cell_type": "code",
      "source": [
        "df_exist"
      ],
      "metadata": {
        "colab": {
          "base_uri": "https://localhost:8080/",
          "height": 424
        },
        "id": "YcyC441ZpuUl",
        "outputId": "6e842830-876e-4208-866c-5951a3098a3c"
      },
      "execution_count": 19,
      "outputs": [
        {
          "output_type": "execute_result",
          "data": {
            "text/plain": [
              "                                                   text  hate speech\n",
              "3436  Nadie te va a tratar tan bien como un hombre q...            1\n",
              "3437  @lindagisela74 Que rica putita obediente, afor...            1\n",
              "3438  @BicireporteraDF Yo lo hice a los 18 años por ...            0\n",
              "3439  las cosas q sueño son indicios de que yo enrea...            0\n",
              "3440  Pero a la niña le gustó desde que lo vió, así ...            0\n",
              "...                                                 ...          ...\n",
              "4363  @IreneMontero Se llama nota de corte, y es lo ...            0\n",
              "4364  @freckles887 Osea todo atack of titan parte de...            0\n",
              "4365  @alabadomango Cuéntame más!!Es por androcentri...            1\n",
              "4366   Que duro es ser tan atractiva como Jaba de Hutt.            1\n",
              "4367  @elmundoes A Pablo es que ya no le hacen caso ...            0\n",
              "\n",
              "[5701 rows x 2 columns]"
            ],
            "text/html": [
              "\n",
              "  <div id=\"df-e82d4d66-18e1-4f1e-81d2-1939e72484f3\">\n",
              "    <div class=\"colab-df-container\">\n",
              "      <div>\n",
              "<style scoped>\n",
              "    .dataframe tbody tr th:only-of-type {\n",
              "        vertical-align: middle;\n",
              "    }\n",
              "\n",
              "    .dataframe tbody tr th {\n",
              "        vertical-align: top;\n",
              "    }\n",
              "\n",
              "    .dataframe thead th {\n",
              "        text-align: right;\n",
              "    }\n",
              "</style>\n",
              "<table border=\"1\" class=\"dataframe\">\n",
              "  <thead>\n",
              "    <tr style=\"text-align: right;\">\n",
              "      <th></th>\n",
              "      <th>text</th>\n",
              "      <th>hate speech</th>\n",
              "    </tr>\n",
              "  </thead>\n",
              "  <tbody>\n",
              "    <tr>\n",
              "      <th>3436</th>\n",
              "      <td>Nadie te va a tratar tan bien como un hombre q...</td>\n",
              "      <td>1</td>\n",
              "    </tr>\n",
              "    <tr>\n",
              "      <th>3437</th>\n",
              "      <td>@lindagisela74 Que rica putita obediente, afor...</td>\n",
              "      <td>1</td>\n",
              "    </tr>\n",
              "    <tr>\n",
              "      <th>3438</th>\n",
              "      <td>@BicireporteraDF Yo lo hice a los 18 años por ...</td>\n",
              "      <td>0</td>\n",
              "    </tr>\n",
              "    <tr>\n",
              "      <th>3439</th>\n",
              "      <td>las cosas q sueño son indicios de que yo enrea...</td>\n",
              "      <td>0</td>\n",
              "    </tr>\n",
              "    <tr>\n",
              "      <th>3440</th>\n",
              "      <td>Pero a la niña le gustó desde que lo vió, así ...</td>\n",
              "      <td>0</td>\n",
              "    </tr>\n",
              "    <tr>\n",
              "      <th>...</th>\n",
              "      <td>...</td>\n",
              "      <td>...</td>\n",
              "    </tr>\n",
              "    <tr>\n",
              "      <th>4363</th>\n",
              "      <td>@IreneMontero Se llama nota de corte, y es lo ...</td>\n",
              "      <td>0</td>\n",
              "    </tr>\n",
              "    <tr>\n",
              "      <th>4364</th>\n",
              "      <td>@freckles887 Osea todo atack of titan parte de...</td>\n",
              "      <td>0</td>\n",
              "    </tr>\n",
              "    <tr>\n",
              "      <th>4365</th>\n",
              "      <td>@alabadomango Cuéntame más!!Es por androcentri...</td>\n",
              "      <td>1</td>\n",
              "    </tr>\n",
              "    <tr>\n",
              "      <th>4366</th>\n",
              "      <td>Que duro es ser tan atractiva como Jaba de Hutt.</td>\n",
              "      <td>1</td>\n",
              "    </tr>\n",
              "    <tr>\n",
              "      <th>4367</th>\n",
              "      <td>@elmundoes A Pablo es que ya no le hacen caso ...</td>\n",
              "      <td>0</td>\n",
              "    </tr>\n",
              "  </tbody>\n",
              "</table>\n",
              "<p>5701 rows × 2 columns</p>\n",
              "</div>\n",
              "      <button class=\"colab-df-convert\" onclick=\"convertToInteractive('df-e82d4d66-18e1-4f1e-81d2-1939e72484f3')\"\n",
              "              title=\"Convert this dataframe to an interactive table.\"\n",
              "              style=\"display:none;\">\n",
              "        \n",
              "  <svg xmlns=\"http://www.w3.org/2000/svg\" height=\"24px\"viewBox=\"0 0 24 24\"\n",
              "       width=\"24px\">\n",
              "    <path d=\"M0 0h24v24H0V0z\" fill=\"none\"/>\n",
              "    <path d=\"M18.56 5.44l.94 2.06.94-2.06 2.06-.94-2.06-.94-.94-2.06-.94 2.06-2.06.94zm-11 1L8.5 8.5l.94-2.06 2.06-.94-2.06-.94L8.5 2.5l-.94 2.06-2.06.94zm10 10l.94 2.06.94-2.06 2.06-.94-2.06-.94-.94-2.06-.94 2.06-2.06.94z\"/><path d=\"M17.41 7.96l-1.37-1.37c-.4-.4-.92-.59-1.43-.59-.52 0-1.04.2-1.43.59L10.3 9.45l-7.72 7.72c-.78.78-.78 2.05 0 2.83L4 21.41c.39.39.9.59 1.41.59.51 0 1.02-.2 1.41-.59l7.78-7.78 2.81-2.81c.8-.78.8-2.07 0-2.86zM5.41 20L4 18.59l7.72-7.72 1.47 1.35L5.41 20z\"/>\n",
              "  </svg>\n",
              "      </button>\n",
              "      \n",
              "  <style>\n",
              "    .colab-df-container {\n",
              "      display:flex;\n",
              "      flex-wrap:wrap;\n",
              "      gap: 12px;\n",
              "    }\n",
              "\n",
              "    .colab-df-convert {\n",
              "      background-color: #E8F0FE;\n",
              "      border: none;\n",
              "      border-radius: 50%;\n",
              "      cursor: pointer;\n",
              "      display: none;\n",
              "      fill: #1967D2;\n",
              "      height: 32px;\n",
              "      padding: 0 0 0 0;\n",
              "      width: 32px;\n",
              "    }\n",
              "\n",
              "    .colab-df-convert:hover {\n",
              "      background-color: #E2EBFA;\n",
              "      box-shadow: 0px 1px 2px rgba(60, 64, 67, 0.3), 0px 1px 3px 1px rgba(60, 64, 67, 0.15);\n",
              "      fill: #174EA6;\n",
              "    }\n",
              "\n",
              "    [theme=dark] .colab-df-convert {\n",
              "      background-color: #3B4455;\n",
              "      fill: #D2E3FC;\n",
              "    }\n",
              "\n",
              "    [theme=dark] .colab-df-convert:hover {\n",
              "      background-color: #434B5C;\n",
              "      box-shadow: 0px 1px 3px 1px rgba(0, 0, 0, 0.15);\n",
              "      filter: drop-shadow(0px 1px 2px rgba(0, 0, 0, 0.3));\n",
              "      fill: #FFFFFF;\n",
              "    }\n",
              "  </style>\n",
              "\n",
              "      <script>\n",
              "        const buttonEl =\n",
              "          document.querySelector('#df-e82d4d66-18e1-4f1e-81d2-1939e72484f3 button.colab-df-convert');\n",
              "        buttonEl.style.display =\n",
              "          google.colab.kernel.accessAllowed ? 'block' : 'none';\n",
              "\n",
              "        async function convertToInteractive(key) {\n",
              "          const element = document.querySelector('#df-e82d4d66-18e1-4f1e-81d2-1939e72484f3');\n",
              "          const dataTable =\n",
              "            await google.colab.kernel.invokeFunction('convertToInteractive',\n",
              "                                                     [key], {});\n",
              "          if (!dataTable) return;\n",
              "\n",
              "          const docLinkHtml = 'Like what you see? Visit the ' +\n",
              "            '<a target=\"_blank\" href=https://colab.research.google.com/notebooks/data_table.ipynb>data table notebook</a>'\n",
              "            + ' to learn more about interactive tables.';\n",
              "          element.innerHTML = '';\n",
              "          dataTable['output_type'] = 'display_data';\n",
              "          await google.colab.output.renderOutput(dataTable, element);\n",
              "          const docLink = document.createElement('div');\n",
              "          docLink.innerHTML = docLinkHtml;\n",
              "          element.appendChild(docLink);\n",
              "        }\n",
              "      </script>\n",
              "    </div>\n",
              "  </div>\n",
              "  "
            ]
          },
          "metadata": {},
          "execution_count": 19
        }
      ]
    },
    {
      "cell_type": "code",
      "source": [
        "exist_data = exist_data + \"EXIST all posts:\\n\"\n",
        "exist_data = exist_data + \"Number of Spanish tweets: \" + str(df_exist.shape[0]) + \"\\n\"\n",
        "exist_data = exist_data + \"Percentage of hate speech: \" + str((len(df_exist.loc[df_exist['hate speech'] == 1].index)*100)/df_exist.shape[0]) + \"%\\n\"\n",
        "print(exist_data)"
      ],
      "metadata": {
        "colab": {
          "base_uri": "https://localhost:8080/"
        },
        "id": "jWEO4iuqERr4",
        "outputId": "942ba6d2-2021-4651-849b-8ec9d7e0a198"
      },
      "execution_count": 20,
      "outputs": [
        {
          "output_type": "stream",
          "name": "stdout",
          "text": [
            "EXIST DATASET:\n",
            "------------------------------------------\n",
            "EXIST train set:\n",
            "Number of tweets: 6977\n",
            "Number of Spanish tweets: 3541\n",
            "\n",
            "EXIST test set:\n",
            "Number of tweets: 4368\n",
            "Number of Spanish tweets: 2160\n",
            "\n",
            "EXIST all posts:\n",
            "Number of Spanish tweets: 5701\n",
            "Percentage of hate speech: 50.23680056130503%\n",
            "\n"
          ]
        }
      ]
    },
    {
      "cell_type": "markdown",
      "source": [
        "###Unification, hashtags and emojis"
      ],
      "metadata": {
        "id": "m4W9dtt_VFoa"
      }
    },
    {
      "cell_type": "code",
      "source": [
        "df = pd.concat([df_hateval, df_exist])"
      ],
      "metadata": {
        "id": "otVKiCQi3RTu"
      },
      "execution_count": 21,
      "outputs": []
    },
    {
      "cell_type": "code",
      "source": [
        "df.to_csv('/content/drive/MyDrive/TFG/data/final_data/unfinished_spanish_data.csv', index=False) "
      ],
      "metadata": {
        "id": "9qIG6d8VqGRo"
      },
      "execution_count": 22,
      "outputs": []
    },
    {
      "cell_type": "code",
      "source": [
        "df = pd.read_csv('/content/drive/MyDrive/TFG/data/final_data/unfinished_spanish_data.csv', encoding='utf8', engine='python')"
      ],
      "metadata": {
        "id": "c5RiBkQik5yR"
      },
      "execution_count": 13,
      "outputs": []
    },
    {
      "cell_type": "markdown",
      "source": [
        "####Emoji code extraction and replacement"
      ],
      "metadata": {
        "id": "FRRlzvtU2rQF"
      }
    },
    {
      "cell_type": "code",
      "source": [
        "emoji_codes = getAllEmojiHexCode(df)"
      ],
      "metadata": {
        "id": "-ZH68f3_Dhgo"
      },
      "execution_count": 7,
      "outputs": []
    },
    {
      "cell_type": "code",
      "source": [
        "emoji_codes"
      ],
      "metadata": {
        "colab": {
          "base_uri": "https://localhost:8080/"
        },
        "id": "sjmdrHzPajIQ",
        "outputId": "6f18a2a1-db81-48be-e704-851487798bc8"
      },
      "execution_count": 8,
      "outputs": [
        {
          "output_type": "execute_result",
          "data": {
            "text/plain": [
              "array([], dtype=float64)"
            ]
          },
          "metadata": {},
          "execution_count": 8
        }
      ]
    },
    {
      "cell_type": "code",
      "source": [
        "df = replaceEmojiCodes(df)"
      ],
      "metadata": {
        "id": "l1fL2yDb9RHt"
      },
      "execution_count": null,
      "outputs": []
    },
    {
      "cell_type": "markdown",
      "source": [
        "####Hashtag and emoji filtering"
      ],
      "metadata": {
        "id": "44j0bU3L2sZ_"
      }
    },
    {
      "cell_type": "code",
      "source": [
        "df, hashtag_dict, emoji_dict = cleanTweets_getDicts(df)"
      ],
      "metadata": {
        "id": "Eey-nDsjlVyX"
      },
      "execution_count": 14,
      "outputs": []
    },
    {
      "cell_type": "code",
      "source": [
        "print(\"HATE SPEECH - PERCENTAGE OF ALL SPANISH POSTS:\")\n",
        "print(\"WITH HATE SPEECH: \" + str((len(df.loc[df['hate speech'] == 1].index)*100)/df.shape[0]))\n",
        "print(\"WITHOUT HATE SPEECH: \" + str((len(df.loc[df['hate speech'] == 0].index)*100)/df.shape[0]))"
      ],
      "metadata": {
        "colab": {
          "base_uri": "https://localhost:8080/"
        },
        "id": "X1nfQGpGROwq",
        "outputId": "3c8071cd-5374-4b44-b0bc-3b790d1f1e5a"
      },
      "execution_count": 10,
      "outputs": [
        {
          "output_type": "stream",
          "name": "stdout",
          "text": [
            "HATE SPEECH - PERCENTAGE OF ALL SPANISH POSTS:\n",
            "WITH HATE SPEECH: 45.54914234615072\n",
            "WITHOUT HATE SPEECH: 54.45085765384928\n"
          ]
        }
      ]
    },
    {
      "cell_type": "markdown",
      "source": [
        "#####Removal of all emojis and hashtags"
      ],
      "metadata": {
        "id": "EjvXDCww2WWJ"
      }
    },
    {
      "cell_type": "code",
      "source": [
        "#Remove emojis\n",
        "df = replace_emojis([], list(emoji_dict.keys()), df)"
      ],
      "metadata": {
        "id": "PAfcGGP1vuEf"
      },
      "execution_count": 15,
      "outputs": []
    },
    {
      "cell_type": "code",
      "source": [
        "#Remove hashtags\n",
        "for idx, row in df.iterrows():\n",
        "  for k in list(hashtag_dict.keys()):\n",
        "      row.text = row.text.replace(k, \"\")\n",
        "      df['text'][idx] = row.text"
      ],
      "metadata": {
        "id": "vrXw50_XVhVu"
      },
      "execution_count": 16,
      "outputs": []
    },
    {
      "cell_type": "code",
      "source": [
        "df.to_csv('/content/drive/MyDrive/TFG/data/final_data/removed_spanish_data.csv', index=False)  "
      ],
      "metadata": {
        "id": "WPDrqmDTFil6"
      },
      "execution_count": 17,
      "outputs": []
    },
    {
      "cell_type": "markdown",
      "source": [
        "#####Filtered emojis and hashtags"
      ],
      "metadata": {
        "id": "hzzWUk4g2dqu"
      }
    },
    {
      "cell_type": "code",
      "source": [
        "#We divide dictionaries in \"important\" (elements with at least X number of instances) and \"unimportant\", for the data with filtered hashtags&emojis\n",
        "hashtag_dict_important = important_values(hashtag_dict, 10)\n",
        "hashtag_dict_unimportant = list(filter(lambda i: i not in list(hashtag_dict_important.keys()), list(hashtag_dict.keys())))\n",
        "\n",
        "emoji_dict_important = important_values(emoji_dict, 10)\n",
        "emoji_dict_unimportant = list(filter(lambda i: i not in list(emoji_dict_important.keys()), list(emoji_dict.keys())))"
      ],
      "metadata": {
        "id": "TIYT5TAyG1Aj"
      },
      "execution_count": null,
      "outputs": []
    },
    {
      "cell_type": "code",
      "source": [
        "list(hashtag_dict_important.keys())"
      ],
      "metadata": {
        "colab": {
          "base_uri": "https://localhost:8080/"
        },
        "id": "VbcXxk22HFfK",
        "outputId": "64b56849-c993-4e20-ad52-470407cfaaa6"
      },
      "execution_count": null,
      "outputs": [
        {
          "output_type": "execute_result",
          "data": {
            "text/plain": [
              "['#españa',\n",
              " '#inmigracion',\n",
              " '#inmigrantes',\n",
              " '#ceuta',\n",
              " '#metoo',\n",
              " '#otgala7',\n",
              " '#niunamenos',\n",
              " '#',\n",
              " '#mujeres',\n",
              " '#yositecreo',\n",
              " '#mgtow',\n",
              " '#lamanada',\n",
              " '#feminismo',\n",
              " '#notallmen']"
            ]
          },
          "metadata": {},
          "execution_count": 25
        }
      ]
    },
    {
      "cell_type": "code",
      "source": [
        "list(emoji_dict_important.keys())"
      ],
      "metadata": {
        "colab": {
          "base_uri": "https://localhost:8080/"
        },
        "id": "MpDHjOZBIR74",
        "outputId": "7ef29826-27fb-4cf9-a8e6-5b5e8c469a86"
      },
      "execution_count": null,
      "outputs": [
        {
          "output_type": "execute_result",
          "data": {
            "text/plain": [
              "[' ',\n",
              " '😂',\n",
              " '😒',\n",
              " '🤣',\n",
              " '🏽',\n",
              " '😠',\n",
              " '💩',\n",
              " '🏼',\n",
              " '❤',\n",
              " '😡',\n",
              " '🏻',\n",
              " '🔥',\n",
              " '👏',\n",
              " '😘',\n",
              " '🤷',\n",
              " '♀',\n",
              " '👇',\n",
              " '😍',\n",
              " '🤔',\n",
              " '♂',\n",
              " '🤦',\n",
              " '👍',\n",
              " '🙄',\n",
              " '🎶',\n",
              " '😭',\n",
              " '👑',\n",
              " '💛',\n",
              " '😏',\n",
              " '😢',\n",
              " '😈',\n",
              " '♥']"
            ]
          },
          "metadata": {},
          "execution_count": 35
        }
      ]
    },
    {
      "cell_type": "code",
      "source": [
        "df = replace_emojis()"
      ],
      "metadata": {
        "id": "bq5B-Mjl2dqu"
      },
      "execution_count": null,
      "outputs": []
    },
    {
      "cell_type": "code",
      "source": [
        "df.to_csv('/content/drive/MyDrive/TFG/data/final_data/filtered_spanish_data.csv', index=False)  "
      ],
      "metadata": {
        "id": "UqgzpKMs2dqu"
      },
      "execution_count": null,
      "outputs": []
    },
    {
      "cell_type": "markdown",
      "source": [
        "#####All emojis and hashtags kept"
      ],
      "metadata": {
        "id": "gHM0BmDW2d5H"
      }
    },
    {
      "cell_type": "code",
      "source": [
        "#Replace emojis with text\n",
        "df = replace_emojis(list(emoji_dict.keys()), [], df)"
      ],
      "metadata": {
        "id": "GI2ZGdnO2d5H"
      },
      "execution_count": null,
      "outputs": []
    },
    {
      "cell_type": "code",
      "source": [
        "df.to_csv('/content/drive/MyDrive/TFG/data/final_data/mantained_spanish_data.csv', index=False)  "
      ],
      "metadata": {
        "id": "y9S9ykvX2d5H"
      },
      "execution_count": null,
      "outputs": []
    },
    {
      "cell_type": "markdown",
      "source": [
        "#ITALIAN DATA UNIFICATION"
      ],
      "metadata": {
        "id": "lkOVtuN1PTjY"
      }
    },
    {
      "cell_type": "code",
      "source": [
        "#AMI\n",
        "df_ami_train = pd.read_csv('/content/AMI2020_training_raw_anon.csv', encoding='utf8')\n",
        "df_ami_test = pd.read_csv('/content/AMI2020_test_raw_gold_anon.csv', encoding='utf8')\n",
        "\n",
        "#IHSC\n",
        "df_ihsc = pd.read_csv('/content/IHSC_ids.csv', encoding='utf8')\n",
        "\n",
        "#HaSpeeDe 2\n",
        "#NOTE: Original .zip has 3 datasets, only train has column names, so we'll just import train set\n",
        "df_haspee = pd.read_csv('/content/haspeede2_dev_taskAB.csv', encoding='utf8')"
      ],
      "metadata": {
        "id": "wVxGg4JLgAAv"
      },
      "execution_count": 23,
      "outputs": []
    },
    {
      "cell_type": "markdown",
      "source": [
        "###[AMI](https://s3.cbk.cloud.syseleven.net/elg-public/f0fb46717d154339a9929d707bb27f52_u2235_paper161.pdf)"
      ],
      "metadata": {
        "id": "CE2rEELvgAAx"
      }
    },
    {
      "cell_type": "code",
      "source": [
        "ami_data = \"AMI DATASET:\\n------------------------------------------\\n\""
      ],
      "metadata": {
        "id": "vrVbel4EgAAx"
      },
      "execution_count": 24,
      "outputs": []
    },
    {
      "cell_type": "code",
      "source": [
        "ami_data = ami_data + \"AMI train set:\\n\"\n",
        "df_ami_train = df_ami_train[['text','misogynous']]\n",
        "ami_data = ami_data + \"Number of Italian tweets: \" + str(df_ami_train.shape[0]) + \"\\n\\n\"\n",
        "df_ami_train.rename(columns = {'misogynous':'hate speech'}, inplace = True)"
      ],
      "metadata": {
        "id": "7vAn7G0EgAAx"
      },
      "execution_count": 25,
      "outputs": []
    },
    {
      "cell_type": "code",
      "source": [
        "ami_data = ami_data + \"AMI test set:\\n\"\n",
        "df_ami_test = df_ami_test[['text','misogynous']]\n",
        "ami_data = ami_data + \"Number of Italian tweets: \" + str(df_ami_test.shape[0]) + \"\\n\\n\"\n",
        "df_ami_test.rename(columns = {'misogynous':'hate speech'}, inplace = True)"
      ],
      "metadata": {
        "id": "xriUJQwDgAAx"
      },
      "execution_count": 26,
      "outputs": []
    },
    {
      "cell_type": "code",
      "source": [
        "df_ami = pd.concat([df_ami_train, df_ami_test])"
      ],
      "metadata": {
        "id": "a8z6dLEVgAAy"
      },
      "execution_count": 27,
      "outputs": []
    },
    {
      "cell_type": "code",
      "source": [
        "ami_data = ami_data + \"AMI all posts:\\n\"\n",
        "ami_data = ami_data + \"Number of Italian tweets: \" + str(df_ami.shape[0]) + \"\\n\"\n",
        "ami_data = ami_data + \"Percentage of hate speech: \" + str((len(df_ami.loc[df_ami['hate speech'] == 1].index)*100)/df_ami.shape[0]) + \"%\\n\"\n",
        "print(ami_data)"
      ],
      "metadata": {
        "colab": {
          "base_uri": "https://localhost:8080/"
        },
        "outputId": "06493df6-94a5-4dfa-a872-86d347d1172d",
        "id": "ZbD5tQIBgAAy"
      },
      "execution_count": 29,
      "outputs": [
        {
          "output_type": "stream",
          "name": "stdout",
          "text": [
            "AMI DATASET:\n",
            "------------------------------------------\n",
            "AMI train set:\n",
            "Number of Italian tweets: 4409\n",
            "\n",
            "AMI test set:\n",
            "Number of Italian tweets: 1000\n",
            "\n",
            "AMI all posts:\n",
            "Number of Italian tweets: 5409\n",
            "Percentage of hate speech: 47.08818635607321%\n",
            "\n"
          ]
        }
      ]
    },
    {
      "cell_type": "code",
      "source": [
        "#AMI dataset's URls and Mentions are formatted already as <MENTION_1>, <MENTION_2>, <URL>...\n",
        "#We eliminate those words here\n",
        "removed_words_list = []\n",
        "for idx, row in df_ami.iterrows():\n",
        "    words = row.text.split()\n",
        "    for w in words:\n",
        "      if w.startswith('<'):\n",
        "        removed_words_list.append(w)\n",
        "    uniq_elim_words = unique(removed_words_list)\n",
        "    for el in uniq_elim_words:\n",
        "      row.text = row.text.replace(el, \"\")\n",
        "      df_ami['text'][idx] = row.text\n",
        "    removed_words_list = []"
      ],
      "metadata": {
        "id": "tMbyI9Aqs6nl"
      },
      "execution_count": 30,
      "outputs": []
    },
    {
      "cell_type": "code",
      "source": [
        "df_ami"
      ],
      "metadata": {
        "colab": {
          "base_uri": "https://localhost:8080/",
          "height": 424
        },
        "id": "jOT2OHbVsFXJ",
        "outputId": "6219e7ab-8b6d-42e1-823d-87f04df8728c"
      },
      "execution_count": 31,
      "outputs": [
        {
          "output_type": "execute_result",
          "data": {
            "text/plain": [
              "                                                  text  hate speech\n",
              "0      Fatti trovare  te lo do volentieri e ti sbor...            1\n",
              "1     Tu dovresti ricominciare dai semafori a fare ...            1\n",
              "2    Amore,sei presentabile? Xchè così via Skype ti...            1\n",
              "3     Salvo poi mandare la culona a Mosca, aummaumm...            1\n",
              "4                                         Ti sborro io            1\n",
              "..                                                 ...          ...\n",
              "995   O si, mi piacerebbe tantissimo, che voglia di...            1\n",
              "996   Lo so ognuno ha la sua croce se vai su a colo...            1\n",
              "997                   madonna qui partono gli schiaffi            0\n",
              "998                                       Che bel culo            1\n",
              "999   Indovina chi sta piangendo perché va in pisci...            1\n",
              "\n",
              "[5409 rows x 2 columns]"
            ],
            "text/html": [
              "\n",
              "  <div id=\"df-723f3b56-f339-4f60-97a3-d75048392418\">\n",
              "    <div class=\"colab-df-container\">\n",
              "      <div>\n",
              "<style scoped>\n",
              "    .dataframe tbody tr th:only-of-type {\n",
              "        vertical-align: middle;\n",
              "    }\n",
              "\n",
              "    .dataframe tbody tr th {\n",
              "        vertical-align: top;\n",
              "    }\n",
              "\n",
              "    .dataframe thead th {\n",
              "        text-align: right;\n",
              "    }\n",
              "</style>\n",
              "<table border=\"1\" class=\"dataframe\">\n",
              "  <thead>\n",
              "    <tr style=\"text-align: right;\">\n",
              "      <th></th>\n",
              "      <th>text</th>\n",
              "      <th>hate speech</th>\n",
              "    </tr>\n",
              "  </thead>\n",
              "  <tbody>\n",
              "    <tr>\n",
              "      <th>0</th>\n",
              "      <td>Fatti trovare  te lo do volentieri e ti sbor...</td>\n",
              "      <td>1</td>\n",
              "    </tr>\n",
              "    <tr>\n",
              "      <th>1</th>\n",
              "      <td>Tu dovresti ricominciare dai semafori a fare ...</td>\n",
              "      <td>1</td>\n",
              "    </tr>\n",
              "    <tr>\n",
              "      <th>2</th>\n",
              "      <td>Amore,sei presentabile? Xchè così via Skype ti...</td>\n",
              "      <td>1</td>\n",
              "    </tr>\n",
              "    <tr>\n",
              "      <th>3</th>\n",
              "      <td>Salvo poi mandare la culona a Mosca, aummaumm...</td>\n",
              "      <td>1</td>\n",
              "    </tr>\n",
              "    <tr>\n",
              "      <th>4</th>\n",
              "      <td>Ti sborro io</td>\n",
              "      <td>1</td>\n",
              "    </tr>\n",
              "    <tr>\n",
              "      <th>...</th>\n",
              "      <td>...</td>\n",
              "      <td>...</td>\n",
              "    </tr>\n",
              "    <tr>\n",
              "      <th>995</th>\n",
              "      <td>O si, mi piacerebbe tantissimo, che voglia di...</td>\n",
              "      <td>1</td>\n",
              "    </tr>\n",
              "    <tr>\n",
              "      <th>996</th>\n",
              "      <td>Lo so ognuno ha la sua croce se vai su a colo...</td>\n",
              "      <td>1</td>\n",
              "    </tr>\n",
              "    <tr>\n",
              "      <th>997</th>\n",
              "      <td>madonna qui partono gli schiaffi</td>\n",
              "      <td>0</td>\n",
              "    </tr>\n",
              "    <tr>\n",
              "      <th>998</th>\n",
              "      <td>Che bel culo</td>\n",
              "      <td>1</td>\n",
              "    </tr>\n",
              "    <tr>\n",
              "      <th>999</th>\n",
              "      <td>Indovina chi sta piangendo perché va in pisci...</td>\n",
              "      <td>1</td>\n",
              "    </tr>\n",
              "  </tbody>\n",
              "</table>\n",
              "<p>5409 rows × 2 columns</p>\n",
              "</div>\n",
              "      <button class=\"colab-df-convert\" onclick=\"convertToInteractive('df-723f3b56-f339-4f60-97a3-d75048392418')\"\n",
              "              title=\"Convert this dataframe to an interactive table.\"\n",
              "              style=\"display:none;\">\n",
              "        \n",
              "  <svg xmlns=\"http://www.w3.org/2000/svg\" height=\"24px\"viewBox=\"0 0 24 24\"\n",
              "       width=\"24px\">\n",
              "    <path d=\"M0 0h24v24H0V0z\" fill=\"none\"/>\n",
              "    <path d=\"M18.56 5.44l.94 2.06.94-2.06 2.06-.94-2.06-.94-.94-2.06-.94 2.06-2.06.94zm-11 1L8.5 8.5l.94-2.06 2.06-.94-2.06-.94L8.5 2.5l-.94 2.06-2.06.94zm10 10l.94 2.06.94-2.06 2.06-.94-2.06-.94-.94-2.06-.94 2.06-2.06.94z\"/><path d=\"M17.41 7.96l-1.37-1.37c-.4-.4-.92-.59-1.43-.59-.52 0-1.04.2-1.43.59L10.3 9.45l-7.72 7.72c-.78.78-.78 2.05 0 2.83L4 21.41c.39.39.9.59 1.41.59.51 0 1.02-.2 1.41-.59l7.78-7.78 2.81-2.81c.8-.78.8-2.07 0-2.86zM5.41 20L4 18.59l7.72-7.72 1.47 1.35L5.41 20z\"/>\n",
              "  </svg>\n",
              "      </button>\n",
              "      \n",
              "  <style>\n",
              "    .colab-df-container {\n",
              "      display:flex;\n",
              "      flex-wrap:wrap;\n",
              "      gap: 12px;\n",
              "    }\n",
              "\n",
              "    .colab-df-convert {\n",
              "      background-color: #E8F0FE;\n",
              "      border: none;\n",
              "      border-radius: 50%;\n",
              "      cursor: pointer;\n",
              "      display: none;\n",
              "      fill: #1967D2;\n",
              "      height: 32px;\n",
              "      padding: 0 0 0 0;\n",
              "      width: 32px;\n",
              "    }\n",
              "\n",
              "    .colab-df-convert:hover {\n",
              "      background-color: #E2EBFA;\n",
              "      box-shadow: 0px 1px 2px rgba(60, 64, 67, 0.3), 0px 1px 3px 1px rgba(60, 64, 67, 0.15);\n",
              "      fill: #174EA6;\n",
              "    }\n",
              "\n",
              "    [theme=dark] .colab-df-convert {\n",
              "      background-color: #3B4455;\n",
              "      fill: #D2E3FC;\n",
              "    }\n",
              "\n",
              "    [theme=dark] .colab-df-convert:hover {\n",
              "      background-color: #434B5C;\n",
              "      box-shadow: 0px 1px 3px 1px rgba(0, 0, 0, 0.15);\n",
              "      filter: drop-shadow(0px 1px 2px rgba(0, 0, 0, 0.3));\n",
              "      fill: #FFFFFF;\n",
              "    }\n",
              "  </style>\n",
              "\n",
              "      <script>\n",
              "        const buttonEl =\n",
              "          document.querySelector('#df-723f3b56-f339-4f60-97a3-d75048392418 button.colab-df-convert');\n",
              "        buttonEl.style.display =\n",
              "          google.colab.kernel.accessAllowed ? 'block' : 'none';\n",
              "\n",
              "        async function convertToInteractive(key) {\n",
              "          const element = document.querySelector('#df-723f3b56-f339-4f60-97a3-d75048392418');\n",
              "          const dataTable =\n",
              "            await google.colab.kernel.invokeFunction('convertToInteractive',\n",
              "                                                     [key], {});\n",
              "          if (!dataTable) return;\n",
              "\n",
              "          const docLinkHtml = 'Like what you see? Visit the ' +\n",
              "            '<a target=\"_blank\" href=https://colab.research.google.com/notebooks/data_table.ipynb>data table notebook</a>'\n",
              "            + ' to learn more about interactive tables.';\n",
              "          element.innerHTML = '';\n",
              "          dataTable['output_type'] = 'display_data';\n",
              "          await google.colab.output.renderOutput(dataTable, element);\n",
              "          const docLink = document.createElement('div');\n",
              "          docLink.innerHTML = docLinkHtml;\n",
              "          element.appendChild(docLink);\n",
              "        }\n",
              "      </script>\n",
              "    </div>\n",
              "  </div>\n",
              "  "
            ]
          },
          "metadata": {},
          "execution_count": 31
        }
      ]
    },
    {
      "cell_type": "markdown",
      "source": [
        "###[IHSC](https://aclanthology.org/L18-1443.pdf)"
      ],
      "metadata": {
        "id": "sWaF9Hhs-osh"
      }
    },
    {
      "cell_type": "markdown",
      "source": [
        "####Obtaining tweet text"
      ],
      "metadata": {
        "id": "Yiv25PGWMaiu"
      }
    },
    {
      "cell_type": "code",
      "source": [
        "df_ihsc = df_ihsc[['tweet_id','hs','tweet_id_full']]\n",
        "df_ihsc.rename(columns = {'tweet_id':'text'}, inplace = True)\n",
        "df_ihsc.rename(columns = {'hs':'hate speech'}, inplace = True)"
      ],
      "metadata": {
        "id": "eAry42ekEdE2"
      },
      "execution_count": null,
      "outputs": []
    },
    {
      "cell_type": "code",
      "source": [
        "#Full ids get lost beacuse of formatting\n",
        "#Let's import the ids separately and then put them in the dataframe\n",
        "with open('/content/IHSC_ids_ids.txt') as file:\n",
        "    lines = file.readlines()\n",
        "    lines = [line.rstrip() for line in lines]"
      ],
      "metadata": {
        "id": "x7wt5Xt4xItD"
      },
      "execution_count": null,
      "outputs": []
    },
    {
      "cell_type": "code",
      "source": [
        "for idx, row in df_ihsc.iterrows():\n",
        "  try:\n",
        "    if api.get_status(lines[idx]):\n",
        "      tweetFetched = api.get_status(lines[idx])\n",
        "      df_ihsc['text'][idx] = tweetFetched.text\n",
        "  except tweepy.TweepError as e:\n",
        "    # print (e.api_code)\n",
        "    # print (getExceptionMessage(e.reason))\n",
        "    df_ihsc['text'][idx] = \"TWITTER__ERROR\" + getExceptionMessage(e.reason)\n",
        "\n",
        "df_ihsc.to_csv('/content/drive/MyDrive/TFG/data/ihsc_data.csv', index=False)  "
      ],
      "metadata": {
        "id": "dJTxLJWMx7TC"
      },
      "execution_count": null,
      "outputs": []
    },
    {
      "cell_type": "markdown",
      "source": [
        "####Rest of preprocessing\n"
      ],
      "metadata": {
        "id": "lV0rfrAxMuir"
      }
    },
    {
      "cell_type": "code",
      "source": [
        "df_ihsc = pd.read_csv('/content/drive/MyDrive/TFG/data/ihsc_data.csv', engine=\"python\")"
      ],
      "metadata": {
        "id": "VDYLc1Z1yznJ"
      },
      "execution_count": 32,
      "outputs": []
    },
    {
      "cell_type": "code",
      "source": [
        "df_ihsc[\"hate speech\"].replace({\"yes\": int(1), \"no\": int(0)}, inplace=True)\n",
        "df_ihsc.round(0)\n",
        "df_ihsc = df_ihsc[['text','hate speech']]"
      ],
      "metadata": {
        "id": "ybkYPpbkRa_D"
      },
      "execution_count": 33,
      "outputs": []
    },
    {
      "cell_type": "code",
      "source": [
        "ihsc_data = \"IHSC DATASET:\\n------------------------------------------\\n\"\n",
        "ihsc_data = ihsc_data + \"Before row elimination:\\n\"\n",
        "ihsc_data = ihsc_data + \"Number of Italian tweets: \" + str(df_ihsc.shape[0]) + \"\\n\"\n",
        "ihsc_data = ihsc_data + \"Percentage of hate speech: \" + str((len(df_ihsc.loc[df_ihsc['hate speech'] == 1].index)*100)/df_ihsc.shape[0]) + \"%\\n\\n\""
      ],
      "metadata": {
        "id": "O63NpMmFMyVP"
      },
      "execution_count": 34,
      "outputs": []
    },
    {
      "cell_type": "code",
      "source": [
        "for idx, row in df_ihsc.iterrows():\n",
        "  if \"TWITTER__ERROR\" in row.text:\n",
        "    df_ihsc = df_ihsc.drop(labels=idx, axis=0)"
      ],
      "metadata": {
        "id": "vbZkdwd0QKg2"
      },
      "execution_count": 35,
      "outputs": []
    },
    {
      "cell_type": "code",
      "source": [
        "ihsc_data = ihsc_data + \"After row elimination:\\n\"\n",
        "ihsc_data = ihsc_data + \"Number of Italian tweets: \" + str(df_ihsc.shape[0]) + \"\\n\"\n",
        "ihsc_data = ihsc_data + \"Percentage of hate speech: \" + str((len(df_ihsc.loc[df_ihsc['hate speech'] == 1].index)*100)/df_ihsc.shape[0]) + \"%\\n\\n\""
      ],
      "metadata": {
        "id": "DgKILw1oRUbr"
      },
      "execution_count": 36,
      "outputs": []
    },
    {
      "cell_type": "code",
      "source": [
        "df_ihsc"
      ],
      "metadata": {
        "colab": {
          "base_uri": "https://localhost:8080/",
          "height": 424
        },
        "id": "jpZQZVclu4e6",
        "outputId": "58680326-c8bc-4887-8293-cfb9ba636ea0"
      },
      "execution_count": 39,
      "outputs": [
        {
          "output_type": "execute_result",
          "data": {
            "text/plain": [
              "                                                   text  hate speech\n",
              "0     @Dandy_Dv @M_P_8 @JimmyGhione @virginiaraggi m...          0.0\n",
              "1     Studentessa cinese morta a Roma, fermati due g...          0.0\n",
              "2     Roma, “tangenti per appalti\\nsui campi rom”: c...          0.0\n",
              "3     \"I rom sono la sola comunità in Italia vittima...          0.0\n",
              "5     La #Raggi dopo un anno comincia a far qualcosa...          0.0\n",
              "...                                                 ...          ...\n",
              "6931  E dopo #Garland beccatevi questa! #maometto #i...          1.0\n",
              "6932  @Piovegovernolad   Bene....  Poco alla volta i...          1.0\n",
              "6935  @gintronic4 secondo me è il motore della vita!...          1.0\n",
              "6938  @gg_frank @EsercitoCrucian sganciamo quel cojo...          0.0\n",
              "6940  Rugantina Rosetta Minù Hermes ed Indio TIVOLI ...          0.0\n",
              "\n",
              "[5205 rows x 2 columns]"
            ],
            "text/html": [
              "\n",
              "  <div id=\"df-51ec964e-649b-4228-b924-11e857b79adb\">\n",
              "    <div class=\"colab-df-container\">\n",
              "      <div>\n",
              "<style scoped>\n",
              "    .dataframe tbody tr th:only-of-type {\n",
              "        vertical-align: middle;\n",
              "    }\n",
              "\n",
              "    .dataframe tbody tr th {\n",
              "        vertical-align: top;\n",
              "    }\n",
              "\n",
              "    .dataframe thead th {\n",
              "        text-align: right;\n",
              "    }\n",
              "</style>\n",
              "<table border=\"1\" class=\"dataframe\">\n",
              "  <thead>\n",
              "    <tr style=\"text-align: right;\">\n",
              "      <th></th>\n",
              "      <th>text</th>\n",
              "      <th>hate speech</th>\n",
              "    </tr>\n",
              "  </thead>\n",
              "  <tbody>\n",
              "    <tr>\n",
              "      <th>0</th>\n",
              "      <td>@Dandy_Dv @M_P_8 @JimmyGhione @virginiaraggi m...</td>\n",
              "      <td>0.0</td>\n",
              "    </tr>\n",
              "    <tr>\n",
              "      <th>1</th>\n",
              "      <td>Studentessa cinese morta a Roma, fermati due g...</td>\n",
              "      <td>0.0</td>\n",
              "    </tr>\n",
              "    <tr>\n",
              "      <th>2</th>\n",
              "      <td>Roma, “tangenti per appalti\\nsui campi rom”: c...</td>\n",
              "      <td>0.0</td>\n",
              "    </tr>\n",
              "    <tr>\n",
              "      <th>3</th>\n",
              "      <td>\"I rom sono la sola comunità in Italia vittima...</td>\n",
              "      <td>0.0</td>\n",
              "    </tr>\n",
              "    <tr>\n",
              "      <th>5</th>\n",
              "      <td>La #Raggi dopo un anno comincia a far qualcosa...</td>\n",
              "      <td>0.0</td>\n",
              "    </tr>\n",
              "    <tr>\n",
              "      <th>...</th>\n",
              "      <td>...</td>\n",
              "      <td>...</td>\n",
              "    </tr>\n",
              "    <tr>\n",
              "      <th>6931</th>\n",
              "      <td>E dopo #Garland beccatevi questa! #maometto #i...</td>\n",
              "      <td>1.0</td>\n",
              "    </tr>\n",
              "    <tr>\n",
              "      <th>6932</th>\n",
              "      <td>@Piovegovernolad   Bene....  Poco alla volta i...</td>\n",
              "      <td>1.0</td>\n",
              "    </tr>\n",
              "    <tr>\n",
              "      <th>6935</th>\n",
              "      <td>@gintronic4 secondo me è il motore della vita!...</td>\n",
              "      <td>1.0</td>\n",
              "    </tr>\n",
              "    <tr>\n",
              "      <th>6938</th>\n",
              "      <td>@gg_frank @EsercitoCrucian sganciamo quel cojo...</td>\n",
              "      <td>0.0</td>\n",
              "    </tr>\n",
              "    <tr>\n",
              "      <th>6940</th>\n",
              "      <td>Rugantina Rosetta Minù Hermes ed Indio TIVOLI ...</td>\n",
              "      <td>0.0</td>\n",
              "    </tr>\n",
              "  </tbody>\n",
              "</table>\n",
              "<p>5205 rows × 2 columns</p>\n",
              "</div>\n",
              "      <button class=\"colab-df-convert\" onclick=\"convertToInteractive('df-51ec964e-649b-4228-b924-11e857b79adb')\"\n",
              "              title=\"Convert this dataframe to an interactive table.\"\n",
              "              style=\"display:none;\">\n",
              "        \n",
              "  <svg xmlns=\"http://www.w3.org/2000/svg\" height=\"24px\"viewBox=\"0 0 24 24\"\n",
              "       width=\"24px\">\n",
              "    <path d=\"M0 0h24v24H0V0z\" fill=\"none\"/>\n",
              "    <path d=\"M18.56 5.44l.94 2.06.94-2.06 2.06-.94-2.06-.94-.94-2.06-.94 2.06-2.06.94zm-11 1L8.5 8.5l.94-2.06 2.06-.94-2.06-.94L8.5 2.5l-.94 2.06-2.06.94zm10 10l.94 2.06.94-2.06 2.06-.94-2.06-.94-.94-2.06-.94 2.06-2.06.94z\"/><path d=\"M17.41 7.96l-1.37-1.37c-.4-.4-.92-.59-1.43-.59-.52 0-1.04.2-1.43.59L10.3 9.45l-7.72 7.72c-.78.78-.78 2.05 0 2.83L4 21.41c.39.39.9.59 1.41.59.51 0 1.02-.2 1.41-.59l7.78-7.78 2.81-2.81c.8-.78.8-2.07 0-2.86zM5.41 20L4 18.59l7.72-7.72 1.47 1.35L5.41 20z\"/>\n",
              "  </svg>\n",
              "      </button>\n",
              "      \n",
              "  <style>\n",
              "    .colab-df-container {\n",
              "      display:flex;\n",
              "      flex-wrap:wrap;\n",
              "      gap: 12px;\n",
              "    }\n",
              "\n",
              "    .colab-df-convert {\n",
              "      background-color: #E8F0FE;\n",
              "      border: none;\n",
              "      border-radius: 50%;\n",
              "      cursor: pointer;\n",
              "      display: none;\n",
              "      fill: #1967D2;\n",
              "      height: 32px;\n",
              "      padding: 0 0 0 0;\n",
              "      width: 32px;\n",
              "    }\n",
              "\n",
              "    .colab-df-convert:hover {\n",
              "      background-color: #E2EBFA;\n",
              "      box-shadow: 0px 1px 2px rgba(60, 64, 67, 0.3), 0px 1px 3px 1px rgba(60, 64, 67, 0.15);\n",
              "      fill: #174EA6;\n",
              "    }\n",
              "\n",
              "    [theme=dark] .colab-df-convert {\n",
              "      background-color: #3B4455;\n",
              "      fill: #D2E3FC;\n",
              "    }\n",
              "\n",
              "    [theme=dark] .colab-df-convert:hover {\n",
              "      background-color: #434B5C;\n",
              "      box-shadow: 0px 1px 3px 1px rgba(0, 0, 0, 0.15);\n",
              "      filter: drop-shadow(0px 1px 2px rgba(0, 0, 0, 0.3));\n",
              "      fill: #FFFFFF;\n",
              "    }\n",
              "  </style>\n",
              "\n",
              "      <script>\n",
              "        const buttonEl =\n",
              "          document.querySelector('#df-51ec964e-649b-4228-b924-11e857b79adb button.colab-df-convert');\n",
              "        buttonEl.style.display =\n",
              "          google.colab.kernel.accessAllowed ? 'block' : 'none';\n",
              "\n",
              "        async function convertToInteractive(key) {\n",
              "          const element = document.querySelector('#df-51ec964e-649b-4228-b924-11e857b79adb');\n",
              "          const dataTable =\n",
              "            await google.colab.kernel.invokeFunction('convertToInteractive',\n",
              "                                                     [key], {});\n",
              "          if (!dataTable) return;\n",
              "\n",
              "          const docLinkHtml = 'Like what you see? Visit the ' +\n",
              "            '<a target=\"_blank\" href=https://colab.research.google.com/notebooks/data_table.ipynb>data table notebook</a>'\n",
              "            + ' to learn more about interactive tables.';\n",
              "          element.innerHTML = '';\n",
              "          dataTable['output_type'] = 'display_data';\n",
              "          await google.colab.output.renderOutput(dataTable, element);\n",
              "          const docLink = document.createElement('div');\n",
              "          docLink.innerHTML = docLinkHtml;\n",
              "          element.appendChild(docLink);\n",
              "        }\n",
              "      </script>\n",
              "    </div>\n",
              "  </div>\n",
              "  "
            ]
          },
          "metadata": {},
          "execution_count": 39
        }
      ]
    },
    {
      "cell_type": "code",
      "source": [
        "print(ihsc_data)"
      ],
      "metadata": {
        "colab": {
          "base_uri": "https://localhost:8080/"
        },
        "id": "GrraE1YYUHDd",
        "outputId": "4f534c54-fd3e-4cdd-e855-6a1ab5ce52b1"
      },
      "execution_count": 38,
      "outputs": [
        {
          "output_type": "stream",
          "name": "stdout",
          "text": [
            "IHSC DATASET:\n",
            "------------------------------------------\n",
            "Before row elimination:\n",
            "Number of Italian tweets: 6942\n",
            "Percentage of hate speech: 18.596946125036013%\n",
            "\n",
            "After row elimination:\n",
            "Number of Italian tweets: 5205\n",
            "Percentage of hate speech: 15.830931796349663%\n",
            "\n",
            "\n"
          ]
        }
      ]
    },
    {
      "cell_type": "markdown",
      "source": [
        "###[HaSpeeDe 2](http://ceur-ws.org/Vol-2765/paper162.pdf)"
      ],
      "metadata": {
        "id": "h3MvCKXr-o72"
      }
    },
    {
      "cell_type": "code",
      "source": [
        "hsp_data = \"HASPEEDE 2 DATASET:\\n------------------------------------------\\n\""
      ],
      "metadata": {
        "id": "uWF396SQ2Urh"
      },
      "execution_count": 40,
      "outputs": []
    },
    {
      "cell_type": "code",
      "source": [
        "hsp_data = hsp_data + \"HASPEEDE 2 train set:\\n\"\n",
        "df_haspee = df_haspee.drop(['id', 'stereotype'], axis=1)\n",
        "hsp_data = hsp_data + \"Number of Italian tweets: \" + str(df_haspee.shape[0]) + \"\\n\"\n",
        "df_haspee.rename(columns = {'hs':'hate speech'}, inplace = True)\n",
        "hsp_data = hsp_data + \"Percentage of hate speech: \" + str((len(df_haspee.loc[df_haspee['hate speech'] == 1].index)*100)/df_haspee.shape[0]) + \"%\\n\""
      ],
      "metadata": {
        "id": "AlCRh5lR2Urm"
      },
      "execution_count": 41,
      "outputs": []
    },
    {
      "cell_type": "code",
      "source": [
        "#Urls and mentions are already formatted, we delete them here\n",
        "for idx, row in df_haspee.iterrows():\n",
        "  row.text = row.text.replace(\"@user\", \"\")\n",
        "  row.text = row.text.replace(\"URL\", \"\")\n",
        "  df_haspee['text'][idx] = row.text"
      ],
      "metadata": {
        "id": "Kjj8MXjl-xZR"
      },
      "execution_count": 42,
      "outputs": []
    },
    {
      "cell_type": "code",
      "source": [
        "df_haspee"
      ],
      "metadata": {
        "colab": {
          "base_uri": "https://localhost:8080/",
          "height": 424
        },
        "id": "KC7UVoPZJC-z",
        "outputId": "d07f4c54-9e4b-4c92-8435-6f8ddf687656"
      },
      "execution_count": 48,
      "outputs": [
        {
          "output_type": "execute_result",
          "data": {
            "text/plain": [
              "                                                   text  hate speech\n",
              "0     È terrorismo anche questo, per mettere in uno ...            0\n",
              "1       infatti finché ci hanno guadagnato con i cam...            0\n",
              "2     Corriere: Tangenti, Mafia Capitale dimenticata...            0\n",
              "3      ad uno ad uno, perché quando i migranti israe...            0\n",
              "4     Il divertimento del giorno? Trovare i patrioti...            0\n",
              "...                                                 ...          ...\n",
              "6832  Gli stati nazionali devono essere pronti a rin...            0\n",
              "6833  Il ministro dell'interno della Germania #Horst...            0\n",
              "6834  #Salvini: In Italia troppi si sono montati la ...            0\n",
              "6835    Chi giubila in buona fede non ha capito nien...            0\n",
              "6836  I giovani cristiani in #Etiopia sono indotti d...            0\n",
              "\n",
              "[6837 rows x 2 columns]"
            ],
            "text/html": [
              "\n",
              "  <div id=\"df-d3c5f6b7-b921-4a82-918c-d95351b0ff79\">\n",
              "    <div class=\"colab-df-container\">\n",
              "      <div>\n",
              "<style scoped>\n",
              "    .dataframe tbody tr th:only-of-type {\n",
              "        vertical-align: middle;\n",
              "    }\n",
              "\n",
              "    .dataframe tbody tr th {\n",
              "        vertical-align: top;\n",
              "    }\n",
              "\n",
              "    .dataframe thead th {\n",
              "        text-align: right;\n",
              "    }\n",
              "</style>\n",
              "<table border=\"1\" class=\"dataframe\">\n",
              "  <thead>\n",
              "    <tr style=\"text-align: right;\">\n",
              "      <th></th>\n",
              "      <th>text</th>\n",
              "      <th>hate speech</th>\n",
              "    </tr>\n",
              "  </thead>\n",
              "  <tbody>\n",
              "    <tr>\n",
              "      <th>0</th>\n",
              "      <td>È terrorismo anche questo, per mettere in uno ...</td>\n",
              "      <td>0</td>\n",
              "    </tr>\n",
              "    <tr>\n",
              "      <th>1</th>\n",
              "      <td>infatti finché ci hanno guadagnato con i cam...</td>\n",
              "      <td>0</td>\n",
              "    </tr>\n",
              "    <tr>\n",
              "      <th>2</th>\n",
              "      <td>Corriere: Tangenti, Mafia Capitale dimenticata...</td>\n",
              "      <td>0</td>\n",
              "    </tr>\n",
              "    <tr>\n",
              "      <th>3</th>\n",
              "      <td>ad uno ad uno, perché quando i migranti israe...</td>\n",
              "      <td>0</td>\n",
              "    </tr>\n",
              "    <tr>\n",
              "      <th>4</th>\n",
              "      <td>Il divertimento del giorno? Trovare i patrioti...</td>\n",
              "      <td>0</td>\n",
              "    </tr>\n",
              "    <tr>\n",
              "      <th>...</th>\n",
              "      <td>...</td>\n",
              "      <td>...</td>\n",
              "    </tr>\n",
              "    <tr>\n",
              "      <th>6832</th>\n",
              "      <td>Gli stati nazionali devono essere pronti a rin...</td>\n",
              "      <td>0</td>\n",
              "    </tr>\n",
              "    <tr>\n",
              "      <th>6833</th>\n",
              "      <td>Il ministro dell'interno della Germania #Horst...</td>\n",
              "      <td>0</td>\n",
              "    </tr>\n",
              "    <tr>\n",
              "      <th>6834</th>\n",
              "      <td>#Salvini: In Italia troppi si sono montati la ...</td>\n",
              "      <td>0</td>\n",
              "    </tr>\n",
              "    <tr>\n",
              "      <th>6835</th>\n",
              "      <td>Chi giubila in buona fede non ha capito nien...</td>\n",
              "      <td>0</td>\n",
              "    </tr>\n",
              "    <tr>\n",
              "      <th>6836</th>\n",
              "      <td>I giovani cristiani in #Etiopia sono indotti d...</td>\n",
              "      <td>0</td>\n",
              "    </tr>\n",
              "  </tbody>\n",
              "</table>\n",
              "<p>6837 rows × 2 columns</p>\n",
              "</div>\n",
              "      <button class=\"colab-df-convert\" onclick=\"convertToInteractive('df-d3c5f6b7-b921-4a82-918c-d95351b0ff79')\"\n",
              "              title=\"Convert this dataframe to an interactive table.\"\n",
              "              style=\"display:none;\">\n",
              "        \n",
              "  <svg xmlns=\"http://www.w3.org/2000/svg\" height=\"24px\"viewBox=\"0 0 24 24\"\n",
              "       width=\"24px\">\n",
              "    <path d=\"M0 0h24v24H0V0z\" fill=\"none\"/>\n",
              "    <path d=\"M18.56 5.44l.94 2.06.94-2.06 2.06-.94-2.06-.94-.94-2.06-.94 2.06-2.06.94zm-11 1L8.5 8.5l.94-2.06 2.06-.94-2.06-.94L8.5 2.5l-.94 2.06-2.06.94zm10 10l.94 2.06.94-2.06 2.06-.94-2.06-.94-.94-2.06-.94 2.06-2.06.94z\"/><path d=\"M17.41 7.96l-1.37-1.37c-.4-.4-.92-.59-1.43-.59-.52 0-1.04.2-1.43.59L10.3 9.45l-7.72 7.72c-.78.78-.78 2.05 0 2.83L4 21.41c.39.39.9.59 1.41.59.51 0 1.02-.2 1.41-.59l7.78-7.78 2.81-2.81c.8-.78.8-2.07 0-2.86zM5.41 20L4 18.59l7.72-7.72 1.47 1.35L5.41 20z\"/>\n",
              "  </svg>\n",
              "      </button>\n",
              "      \n",
              "  <style>\n",
              "    .colab-df-container {\n",
              "      display:flex;\n",
              "      flex-wrap:wrap;\n",
              "      gap: 12px;\n",
              "    }\n",
              "\n",
              "    .colab-df-convert {\n",
              "      background-color: #E8F0FE;\n",
              "      border: none;\n",
              "      border-radius: 50%;\n",
              "      cursor: pointer;\n",
              "      display: none;\n",
              "      fill: #1967D2;\n",
              "      height: 32px;\n",
              "      padding: 0 0 0 0;\n",
              "      width: 32px;\n",
              "    }\n",
              "\n",
              "    .colab-df-convert:hover {\n",
              "      background-color: #E2EBFA;\n",
              "      box-shadow: 0px 1px 2px rgba(60, 64, 67, 0.3), 0px 1px 3px 1px rgba(60, 64, 67, 0.15);\n",
              "      fill: #174EA6;\n",
              "    }\n",
              "\n",
              "    [theme=dark] .colab-df-convert {\n",
              "      background-color: #3B4455;\n",
              "      fill: #D2E3FC;\n",
              "    }\n",
              "\n",
              "    [theme=dark] .colab-df-convert:hover {\n",
              "      background-color: #434B5C;\n",
              "      box-shadow: 0px 1px 3px 1px rgba(0, 0, 0, 0.15);\n",
              "      filter: drop-shadow(0px 1px 2px rgba(0, 0, 0, 0.3));\n",
              "      fill: #FFFFFF;\n",
              "    }\n",
              "  </style>\n",
              "\n",
              "      <script>\n",
              "        const buttonEl =\n",
              "          document.querySelector('#df-d3c5f6b7-b921-4a82-918c-d95351b0ff79 button.colab-df-convert');\n",
              "        buttonEl.style.display =\n",
              "          google.colab.kernel.accessAllowed ? 'block' : 'none';\n",
              "\n",
              "        async function convertToInteractive(key) {\n",
              "          const element = document.querySelector('#df-d3c5f6b7-b921-4a82-918c-d95351b0ff79');\n",
              "          const dataTable =\n",
              "            await google.colab.kernel.invokeFunction('convertToInteractive',\n",
              "                                                     [key], {});\n",
              "          if (!dataTable) return;\n",
              "\n",
              "          const docLinkHtml = 'Like what you see? Visit the ' +\n",
              "            '<a target=\"_blank\" href=https://colab.research.google.com/notebooks/data_table.ipynb>data table notebook</a>'\n",
              "            + ' to learn more about interactive tables.';\n",
              "          element.innerHTML = '';\n",
              "          dataTable['output_type'] = 'display_data';\n",
              "          await google.colab.output.renderOutput(dataTable, element);\n",
              "          const docLink = document.createElement('div');\n",
              "          docLink.innerHTML = docLinkHtml;\n",
              "          element.appendChild(docLink);\n",
              "        }\n",
              "      </script>\n",
              "    </div>\n",
              "  </div>\n",
              "  "
            ]
          },
          "metadata": {},
          "execution_count": 48
        }
      ]
    },
    {
      "cell_type": "code",
      "source": [
        "print(hsp_data)"
      ],
      "metadata": {
        "colab": {
          "base_uri": "https://localhost:8080/"
        },
        "id": "BkAEFNJ7jY0K",
        "outputId": "63576f8e-b231-4afb-9391-82ed26eefba1"
      },
      "execution_count": 44,
      "outputs": [
        {
          "output_type": "stream",
          "name": "stdout",
          "text": [
            "HASPEEDE 2 DATASET:\n",
            "------------------------------------------\n",
            "HASPEEDE 2 train set:\n",
            "Number of Italian tweets: 6837\n",
            "Percentage of hate speech: 40.4563405002194%\n",
            "\n"
          ]
        }
      ]
    },
    {
      "cell_type": "markdown",
      "source": [
        "###Unification, hashtags and emojis"
      ],
      "metadata": {
        "id": "gDRLPJwsU9ks"
      }
    },
    {
      "cell_type": "code",
      "source": [
        "df = pd.concat([df_ami, df_ihsc, df_haspee])"
      ],
      "metadata": {
        "id": "Ki27Mm0s3Z0l"
      },
      "execution_count": 49,
      "outputs": []
    },
    {
      "cell_type": "code",
      "source": [
        "df.to_csv('/content/drive/MyDrive/TFG/data/final_data/unfinished_italian_data.csv', index=False) "
      ],
      "metadata": {
        "id": "8tZlJJ2Crhdg"
      },
      "execution_count": 50,
      "outputs": []
    },
    {
      "cell_type": "code",
      "source": [
        "df = pd.read_csv('/content/drive/MyDrive/TFG/data/final_data/unfinished_italian_data.csv', encoding='utf8', engine='python')"
      ],
      "metadata": {
        "id": "kCN0Tmpz4vF_"
      },
      "execution_count": 18,
      "outputs": []
    },
    {
      "cell_type": "markdown",
      "source": [
        "####Emoji code extraction and replacement"
      ],
      "metadata": {
        "id": "XDjLei483YDu"
      }
    },
    {
      "cell_type": "code",
      "source": [
        "emoji_codes = getAllEmojiHexCode(df)"
      ],
      "metadata": {
        "id": "dOUeflOy3YDv"
      },
      "execution_count": 19,
      "outputs": []
    },
    {
      "cell_type": "code",
      "source": [
        "emoji_codes"
      ],
      "metadata": {
        "colab": {
          "base_uri": "https://localhost:8080/"
        },
        "outputId": "baa8f335-504d-44ce-e0d8-a04faff0a411",
        "id": "gDkaq6X73YDv"
      },
      "execution_count": 20,
      "outputs": [
        {
          "output_type": "execute_result",
          "data": {
            "text/plain": [
              "array(['&#x1f339;', '&#x1f346;', '&#x1f399;', '&#x1f3c1;', '&#x1f42e;',\n",
              "       '&#x1f433;', '&#x1f437;', '&#x1f441;', '&#x1f444;', '&#x1f445;',\n",
              "       '&#x1f447;', '&#x1f44d;', '&#x1f47f;', '&#x1f48b;', '&#x1f493;',\n",
              "       '&#x1f496;', '&#x1f4a6;', '&#x1f4a9;', '&#x1f4aa;', '&#x1f4af;',\n",
              "       '&#x1f50b;', '&#x1f51d;', '&#x1f600;', '&#x1f601;', '&#x1f602;',\n",
              "       '&#x1f605;', '&#x1f606;', '&#x1f608;', '&#x1f609;', '&#x1f60b;',\n",
              "       '&#x1f60d;', '&#x1f611;', '&#x1f614;', '&#x1f618;', '&#x1f61a;',\n",
              "       '&#x1f61c;', '&#x1f621;', '&#x1f62d;', '&#x1f630;', '&#x1f643;',\n",
              "       '&#x1f645;', '&#x1f64f;', '&#x1f914;', '&#x1f921;', '&#x1f923;',\n",
              "       '&#x1f924;', '&#x1f926;', '&#x1f952;', '&#x25b6;', '&#x2615;',\n",
              "       '&#x26a1;', '&#x270a;', '&#x270c;', '&#x2753;', '&#x2764;',\n",
              "       '&#x27a1;'], dtype='<U9')"
            ]
          },
          "metadata": {},
          "execution_count": 20
        }
      ]
    },
    {
      "cell_type": "code",
      "source": [
        "df = replaceEmojiCodes(df)"
      ],
      "metadata": {
        "id": "FPiUi0mQ3YDv"
      },
      "execution_count": null,
      "outputs": []
    },
    {
      "cell_type": "markdown",
      "source": [
        "####Hashtag and emoji filtering"
      ],
      "metadata": {
        "id": "aZquLkaM3YDv"
      }
    },
    {
      "cell_type": "code",
      "source": [
        "df, hashtag_dict, emoji_dict = cleanTweets_getDicts(df)"
      ],
      "metadata": {
        "id": "HgNV8Uz8claA"
      },
      "execution_count": null,
      "outputs": []
    },
    {
      "cell_type": "code",
      "source": [
        "hashtag_dict_important = important_values(hashtag_dict, 30)\n",
        "emoji_dict_important = important_values(emoji_dict, 30)"
      ],
      "metadata": {
        "id": "5M9pHES9Vq-w"
      },
      "execution_count": null,
      "outputs": []
    },
    {
      "cell_type": "code",
      "source": [
        "hashtag_dict_important"
      ],
      "metadata": {
        "colab": {
          "base_uri": "https://localhost:8080/"
        },
        "outputId": "dec396f3-0059-4929-dd15-c64475e012fd",
        "id": "9T-T1M2NVq-w"
      },
      "execution_count": null,
      "outputs": [
        {
          "output_type": "execute_result",
          "data": {
            "text/plain": [
              "{'#': 52,\n",
              " '#amici17': 32,\n",
              " '#berlino': 31,\n",
              " '#dallavostraparte': 101,\n",
              " '#immigrati': 59,\n",
              " '#immigrazione': 59,\n",
              " '#isis': 41,\n",
              " '#islam': 42,\n",
              " '#italia': 107,\n",
              " '#lidl': 35,\n",
              " '#migranti': 247,\n",
              " '#milano': 143,\n",
              " '#news': 168,\n",
              " '#notizie': 41,\n",
              " '#piazzapulita': 36,\n",
              " '#profughi': 35,\n",
              " '#quintacolonna': 47,\n",
              " '#raggi': 32,\n",
              " '#rom': 210,\n",
              " '#roma': 256,\n",
              " '#salvini': 71,\n",
              " '#terrorismo': 114}"
            ]
          },
          "metadata": {},
          "execution_count": 117
        }
      ]
    },
    {
      "cell_type": "code",
      "source": [
        "emoji_dict_important"
      ],
      "metadata": {
        "colab": {
          "base_uri": "https://localhost:8080/"
        },
        "outputId": "8c832728-8e57-407d-9fa1-557f681dfa50",
        "id": "3j07ChUoVq-w"
      },
      "execution_count": null,
      "outputs": [
        {
          "output_type": "execute_result",
          "data": {
            "text/plain": [
              "{' ': 1297,\n",
              " '❤': 54,\n",
              " '👅': 80,\n",
              " '👏': 59,\n",
              " '💦': 132,\n",
              " '😂': 76,\n",
              " '😋': 62,\n",
              " '😍': 60,\n",
              " '😡': 45,\n",
              " '🤣': 64}"
            ]
          },
          "metadata": {},
          "execution_count": 118
        }
      ]
    },
    {
      "cell_type": "code",
      "source": [
        "print(\"HATE SPEECH - PERCENTAGE OF ALL ITALIAN POSTS:\")\n",
        "print(\"WITH HATE SPEECH: \" + str((len(df.loc[df['hate speech'] == 1].index)*100)/df.shape[0]))\n",
        "print(\"WITHOUT HATE SPEECH: \" + str((len(df.loc[df['hate speech'] == 0].index)*100)/df.shape[0]))"
      ],
      "metadata": {
        "colab": {
          "base_uri": "https://localhost:8080/"
        },
        "id": "iD2iin8QQH-d",
        "outputId": "3ff6879b-ccb1-4e69-8263-13c1cce20f55"
      },
      "execution_count": 21,
      "outputs": [
        {
          "output_type": "stream",
          "name": "stdout",
          "text": [
            "HATE SPEECH - PERCENTAGE OF ALL ITALIAN POSTS:\n",
            "WITH HATE SPEECH: 35.16703913815827\n",
            "WITHOUT HATE SPEECH: 64.75273623288064\n"
          ]
        }
      ]
    },
    {
      "cell_type": "markdown",
      "source": [
        "#####Removal of all emojis and hashtags"
      ],
      "metadata": {
        "id": "e9WoGaFC3XD0"
      }
    },
    {
      "cell_type": "code",
      "source": [
        "#Remove emojis\n",
        "df = replace_emojis([], list(emoji_dict.keys()), df)"
      ],
      "metadata": {
        "id": "pA9dVe9gYxRA"
      },
      "execution_count": null,
      "outputs": []
    },
    {
      "cell_type": "code",
      "source": [
        "#Remove hashtags\n",
        "for idx, row in df.iterrows():\n",
        "  for k in list(hashtag_dict.keys()):\n",
        "      row.text = row.text.replace(k, \"\")\n",
        "      df['text'][idx] = row.text"
      ],
      "metadata": {
        "id": "FRO4g-OGYxRB"
      },
      "execution_count": null,
      "outputs": []
    },
    {
      "cell_type": "code",
      "source": [
        "df.to_csv('/content/drive/MyDrive/TFG/data/final_data/removed_italian_data.csv', index=False)  "
      ],
      "metadata": {
        "id": "oGba4-ei3XD3"
      },
      "execution_count": null,
      "outputs": []
    },
    {
      "cell_type": "markdown",
      "source": [
        "#####Filtered emojis and hashtags"
      ],
      "metadata": {
        "id": "Zawat6LU3XD3"
      }
    },
    {
      "cell_type": "code",
      "source": [
        "df = replace_emojis()"
      ],
      "metadata": {
        "id": "j7gQtZyC3XD3"
      },
      "execution_count": null,
      "outputs": []
    },
    {
      "cell_type": "code",
      "source": [
        "df.to_csv('/content/drive/MyDrive/TFG/data/final_data/filtered_italian_data.csv', index=False)  "
      ],
      "metadata": {
        "id": "JbFyq4hv3XD3"
      },
      "execution_count": null,
      "outputs": []
    },
    {
      "cell_type": "markdown",
      "source": [
        "#####All emojis and hashtags kept"
      ],
      "metadata": {
        "id": "ortdTiPz3XD3"
      }
    },
    {
      "cell_type": "code",
      "source": [
        "#Replace emojis with text\n",
        "df = replace_emojis(list(emoji_dict.keys()), [], df)"
      ],
      "metadata": {
        "id": "yWBnSnC93XD3"
      },
      "execution_count": null,
      "outputs": []
    },
    {
      "cell_type": "code",
      "source": [
        "df.to_csv('/content/drive/MyDrive/TFG/data/final_data/mantained_italian_data.csv', index=False)  "
      ],
      "metadata": {
        "id": "EITlELFA3XD3"
      },
      "execution_count": null,
      "outputs": []
    },
    {
      "cell_type": "markdown",
      "source": [
        "#PORTUGUESE DATA UNIFICATION"
      ],
      "metadata": {
        "id": "onFcjGfuPT-t"
      }
    },
    {
      "cell_type": "code",
      "source": [
        "#H-L PHS\n",
        "df_hlphs = pd.read_csv('/content/2019-05-28_portuguese_hate_speech_hierarchical_classification.csv', encoding='utf8')\n",
        "\n",
        "#ToLD-BR\n",
        "df_told = pd.read_csv('/content/ToLD-BR.csv', encoding='utf8')\n",
        "\n",
        "#OffComBR -> OFFCOMBR-3 only contains instances for which the class has been agreed by all three annotators (we'll use that dataset)\n",
        "df_ocombr = pd.read_csv('/content/csv_result-OffComBR3.csv', encoding='utf8')"
      ],
      "metadata": {
        "id": "8mciCkNxk-6k"
      },
      "execution_count": 51,
      "outputs": []
    },
    {
      "cell_type": "markdown",
      "source": [
        "###[Hierarchically-Labeled Portuguese Hate Speech](https://aclanthology.org/W19-3510.pdf)"
      ],
      "metadata": {
        "id": "6-TVvCWREOmt"
      }
    },
    {
      "cell_type": "code",
      "source": [
        "hlphs_data = \"HIERARCHICALLY-LABELED PORTUGUESE HATE SPEECH DATASET:\\n------------------------------------------\\n\""
      ],
      "metadata": {
        "id": "KwWe2E1DSAZt"
      },
      "execution_count": 59,
      "outputs": []
    },
    {
      "cell_type": "code",
      "source": [
        "#List of columns we want to mantain (deleted ones are non-socially oppressed targets: gamers, men, white people, etc.)\n",
        "columns_to_mantain = [\"text\",\n",
        " \"Sexism\",\n",
        " \"Racism\",\n",
        " \"Homophobia\",\n",
        " \"Origin\",\n",
        " \"Religion\",\n",
        " \"Health\",\n",
        " \"OtherLifestyle\",\n",
        " \"Aborting.women\",\n",
        " \"Argentines\",\n",
        " \"Asians\",\n",
        " \"Autists\",\n",
        " \"Black.Women\",\n",
        " \"Blond.women\",\n",
        " \"Brazilians.women\",\n",
        " \"Chinese\",\n",
        " \"Egyptians\",\n",
        " \"Fat.people\",\n",
        " \"Football.players.women\",\n",
        " \"Gamers\",\n",
        " \"Homeless\",\n",
        " \"Homeless.women\",\n",
        " \"Indigenous\",\n",
        " \"Iranians\",\n",
        " \"Japaneses\",\n",
        " \"Jews\",\n",
        " \"Latins\",\n",
        " \"Mexicans\",\n",
        " \"Muslims.women\",\n",
        " \"Nordestines\",\n",
        " \"Poor.people\",\n",
        " \"Rural.people\",\n",
        " \"Sertanejos\",\n",
        " \"Old.women\",\n",
        " \"Ugly.people\",\n",
        " \"Venezuelans\",\n",
        " \"Angolans\",\n",
        " \"Black.people\",\n",
        " \"Disabled.people\",\n",
        " \"Fat.women\",\n",
        " \"Feminists\",\n",
        " \"Gays\",\n",
        " \"Immigrants\",\n",
        " \"Islamists\",\n",
        " \"Lesbians\",\n",
        " \"Muslims\",\n",
        " \"Refugees\",\n",
        " \"Trans.women\",\n",
        " \"Travestis\",\n",
        " \"Women\",\n",
        " \"Thin.women\",\n",
        " \"Bissexuals\",\n",
        " \"Transexuals\",\n",
        " \"Ugly.women\",\n",
        " \"Arabic\",\n",
        " \"Africans\",\n",
        " \"South.Americans\",\n",
        " \"Brazilians\",\n",
        " \"Migrants\",\n",
        " \"Homossexuals\"]"
      ],
      "metadata": {
        "id": "juDZl3I5cPpt"
      },
      "execution_count": 60,
      "outputs": []
    },
    {
      "cell_type": "code",
      "source": [
        "columns_to_delete = [\"Body\",\n",
        "\"Ideology\",\n",
        "\"Agnostic\",\t\n",
        "\"Criminals\",\t\n",
        "\"Jornalists\",\t\n",
        "\"Left.wing.ideology\",\n",
        "\"Men.Feminists\",\n",
        "\"Old.people\",\n",
        "\"Polyamorous\",\n",
        "\"Russians\",\n",
        "\"Street.artist\",\t\n",
        "\"Ucranians\",\n",
        "\"Vegetarians\",\t\n",
        "\"White.people\",\t\n",
        "\"Young.people\",\n",
        "\"Men\",\t\n",
        "\"East.europeans\",\t\n",
        "\"Thin.people\",\n",
        "\"Ageing\"]"
      ],
      "metadata": {
        "id": "LdaRV85C1Dda"
      },
      "execution_count": 61,
      "outputs": []
    },
    {
      "cell_type": "code",
      "source": [
        "hier_class_dict = { 'Sexism': {'Women': {'Lesbians': 'Lesbians',\n",
        "                                         'Fat.women': 'Fat.women',\n",
        "                                         'Ugly.women': 'Ugly.women',\n",
        "                                         'Trans.women': 'Trans.women',\n",
        "                                         'Black.Women': 'Black.Women',\n",
        "                                         'Travestis': 'Travestis',\n",
        "                                         'Aborting.women': 'Aborting.women',\n",
        "                                         'Blond.women': 'Blond.women',\n",
        "                                         'Thin.women': 'Thin.women',\n",
        "                                         'Brazilians.women':'Brazilians.women',\n",
        "                                         'Football.players.women': 'Football.players.women',\n",
        "                                         'Homeless.women': 'Homeless.women',\n",
        "                                         'Muslims.women': 'Muslims.women',\n",
        "                                         'Old.women': 'Old.women'},\n",
        "                               'Men': {'Men.Feminists': 'Men.Feminists'},\n",
        "                               'Transexuals': {'Trans.women': 'Trans.women'},\n",
        "                               'Feminists': {'Men.Feminists': 'Men.Feminists'}},\n",
        "                'Homophobia': {'Homossexuals': {'Gays': 'Gays',\n",
        "                                                'Lesbians': 'Lesbians'},\n",
        "                               'Bissexuals': 'Bissexuals'},\n",
        "                'Body': {'Fat.people': {'Fat.women': 'Fat.women'},\n",
        "                         'Ugly.people': {'Ugly.women': 'Ugly.women'},\n",
        "                         'Thin.people': {'Thin.women': 'Thin.women'},\n",
        "                         'Blond.women': 'Blond.women'},\n",
        "                'Racism': {'Latins': {'Argentines': 'Argentines',\n",
        "                                      'Mexicans': 'Mexicans',\n",
        "                                      'Venezuelans': 'Venezuelans'},\n",
        "                           'Black.people': {'Black.Women': 'Black.Women'},\n",
        "                           'Asians': {'Chinese': 'Chinese',\n",
        "                                      'Japaneses': 'Japaneses'},\n",
        "                           'White.people': 'White.people',\n",
        "                           'Indigenous': 'Indigenous'},\n",
        "                'Ideology': {'Feminists': {'Men.Feminists': 'Men.Feminists'},\n",
        "                             'Agnostic': 'Agnostic',\n",
        "                             'Left.wing.ideology': 'Left.wing.ideology'},\n",
        "                'Migrants': {'Refugees': 'Refugees',\n",
        "                             'Immigrants': 'Immigrants'},\n",
        "                'Origin': {'Latins': {'Argentines': 'Argentines',\n",
        "                                      'Mexicans': 'Mexicans',\n",
        "                                      'Venezuelans': 'Venezuelans'},\n",
        "                           'Rural.people': {'Sertanejos': 'Sertanejos',\n",
        "                                            'Nordestines': 'Nordestines'},\n",
        "                           'Asians': {'Chinese': 'Chinese',\n",
        "                                      'Japaneses': 'Japaneses'},\n",
        "                           'South.Americans': {'Brazilians': {'Sertanejos': 'Sertanejos',\n",
        "                                                              'Nordestines': 'Nordestines'},\n",
        "                                               'Brazilians.women':'Brazilians.women'},\n",
        "                           'Africans': {'Angolans': 'Angolans'},\n",
        "                           'Arabic': {'Egyptians': 'Egyptians',\n",
        "                                      'Iranians': 'Iranians'},\n",
        "                           'East.europeans': {'Russians': 'Russians',\n",
        "                                              'Ucranians': 'Ucranians'}},\n",
        "                'Religion': {'Islamists': 'Islamists',\n",
        "                             'Muslims': {'Muslims.women': 'Muslims.women'},\n",
        "                             'Jews': 'Jews'},\n",
        "                'OtherLifestyle': {'Criminals': 'Criminals',\n",
        "                                   'Homeless': {'Homeless.women': 'Homeless.women'},\n",
        "                                   'Jornalists': 'Jornalists',\n",
        "                                   'Vegetarians': 'Vegetarians',\n",
        "                                   'Football.players.women': 'Football.players.women',\n",
        "                                   'Gamers': 'Gamers',\n",
        "                                   'Polyamorous': 'Polyamorous',\n",
        "                                   'Poor.people': 'Poor.people',\n",
        "                                   'Street.artist': 'Street.artist'},\n",
        "                'Health': {'Disabled.people': 'Disabled.people',\n",
        "                           'Autists': 'Autists'},\n",
        "                'Ageing': {'Old.people': {'Old.women': 'Old.women'},\n",
        "                           'Young.people': 'Young.people'}}"
      ],
      "metadata": {
        "id": "nWg0hWc_S7x9"
      },
      "execution_count": 62,
      "outputs": []
    },
    {
      "cell_type": "code",
      "source": [
        "#Changing useless column values + their parent columns' column value\n",
        "for idx, row in df_hlphs.iterrows():\n",
        "  for col_del in columns_to_delete:\n",
        "    if str(row[col_del]) == \"1\": \n",
        "      df_hlphs[col_del][idx] = 0\n",
        "      for class_del in list(filter(lambda a: a != col_del, find_parent_classes(hier_class_dict, col_del))):\n",
        "        df_hlphs[class_del][idx] = 0"
      ],
      "metadata": {
        "id": "w1y2h87ABiyY"
      },
      "execution_count": 63,
      "outputs": []
    },
    {
      "cell_type": "code",
      "source": [
        "#Do the same process but for the columns we DO want to mantain (we could do without this, but it makes sure the dataframe structure is coherent)\n",
        "for idx, row in df_hlphs.iterrows():\n",
        "  for col_man in columns_to_mantain:\n",
        "    if str(row[col_man]) == \"1\": \n",
        "      df_hlphs[col_man][idx] = 1\n",
        "      for class_man in list(filter(lambda a: a != col_man, find_parent_classes(hier_class_dict, col_man))):\n",
        "        df_hlphs[class_man][idx] = 1"
      ],
      "metadata": {
        "id": "J93tVloIj4sj"
      },
      "execution_count": 64,
      "outputs": []
    },
    {
      "cell_type": "code",
      "source": [
        "df_hlphs = df_hlphs[columns_to_mantain]\n",
        "hlphs_data = hlphs_data + \"Number of Portuguese tweets: \" + str(df_hlphs.shape[0]) + \"\\n\"\n",
        "df_hlphs[\"hate speech\"] = 0\n",
        "#\"hate speech column is and \"or\" of all columns, if 1 or more columns have a 1, it counts as hate speech\"\n",
        "for col in df_hlphs.columns[1:]:\n",
        "  df_hlphs[\"hate speech\"] = df_hlphs[\"hate speech\"] + df_hlphs[col]\n",
        "df_hlphs = df_hlphs[[\"text\", \"hate speech\"]]\n",
        "df_hlphs['hate speech'] = df_hlphs['hate speech'].replace([df_hlphs['hate speech'].unique()[1:]],1)\n",
        "hlphs_data = hlphs_data + \"Percentage of hate speech: \" + str((len(df_hlphs.loc[df_hlphs['hate speech'] == 1].index)*100)/df_hlphs.shape[0]) + \"%\\n\""
      ],
      "metadata": {
        "id": "8SF7TpUXSAZu"
      },
      "execution_count": 65,
      "outputs": []
    },
    {
      "cell_type": "code",
      "source": [
        "df_hlphs"
      ],
      "metadata": {
        "colab": {
          "base_uri": "https://localhost:8080/",
          "height": 424
        },
        "id": "GzBjgsPpkXqy",
        "outputId": "c0b6c500-9d5d-4c37-b816-95a4a326c3fa"
      },
      "execution_count": 66,
      "outputs": [
        {
          "output_type": "execute_result",
          "data": {
            "text/plain": [
              "                                                   text  hate speech\n",
              "0                      \"não come mel, morde marimbondo\"            0\n",
              "1                          não tem pinto, tem orgulho !            0\n",
              "2     Não vê essa merda de Crepúsculo! Pra isso temo...            0\n",
              "3     não da tapa na bundinha, da cotovelada nas cos...            0\n",
              "4     o diminutivo INHO não acompanha a trajetória d...            0\n",
              "...                                                 ...          ...\n",
              "5663  Na minha sala só tem viado e sapatão  e a cois...            1\n",
              "5664  PARABENS SAPATÃO SDDS @attomiter https://t.co/...            1\n",
              "5665  RT @toquedeveludo: Agora um poema:\\nEu sou sap...            1\n",
              "5666  O mundo das sapatao é mais ligado do que eu im...            1\n",
              "5667  Gente, sapatão é uma coisa q me assusta https:...            1\n",
              "\n",
              "[5668 rows x 2 columns]"
            ],
            "text/html": [
              "\n",
              "  <div id=\"df-9294d9b1-15f8-411f-889e-fe1965c93525\">\n",
              "    <div class=\"colab-df-container\">\n",
              "      <div>\n",
              "<style scoped>\n",
              "    .dataframe tbody tr th:only-of-type {\n",
              "        vertical-align: middle;\n",
              "    }\n",
              "\n",
              "    .dataframe tbody tr th {\n",
              "        vertical-align: top;\n",
              "    }\n",
              "\n",
              "    .dataframe thead th {\n",
              "        text-align: right;\n",
              "    }\n",
              "</style>\n",
              "<table border=\"1\" class=\"dataframe\">\n",
              "  <thead>\n",
              "    <tr style=\"text-align: right;\">\n",
              "      <th></th>\n",
              "      <th>text</th>\n",
              "      <th>hate speech</th>\n",
              "    </tr>\n",
              "  </thead>\n",
              "  <tbody>\n",
              "    <tr>\n",
              "      <th>0</th>\n",
              "      <td>\"não come mel, morde marimbondo\"</td>\n",
              "      <td>0</td>\n",
              "    </tr>\n",
              "    <tr>\n",
              "      <th>1</th>\n",
              "      <td>não tem pinto, tem orgulho !</td>\n",
              "      <td>0</td>\n",
              "    </tr>\n",
              "    <tr>\n",
              "      <th>2</th>\n",
              "      <td>Não vê essa merda de Crepúsculo! Pra isso temo...</td>\n",
              "      <td>0</td>\n",
              "    </tr>\n",
              "    <tr>\n",
              "      <th>3</th>\n",
              "      <td>não da tapa na bundinha, da cotovelada nas cos...</td>\n",
              "      <td>0</td>\n",
              "    </tr>\n",
              "    <tr>\n",
              "      <th>4</th>\n",
              "      <td>o diminutivo INHO não acompanha a trajetória d...</td>\n",
              "      <td>0</td>\n",
              "    </tr>\n",
              "    <tr>\n",
              "      <th>...</th>\n",
              "      <td>...</td>\n",
              "      <td>...</td>\n",
              "    </tr>\n",
              "    <tr>\n",
              "      <th>5663</th>\n",
              "      <td>Na minha sala só tem viado e sapatão  e a cois...</td>\n",
              "      <td>1</td>\n",
              "    </tr>\n",
              "    <tr>\n",
              "      <th>5664</th>\n",
              "      <td>PARABENS SAPATÃO SDDS @attomiter https://t.co/...</td>\n",
              "      <td>1</td>\n",
              "    </tr>\n",
              "    <tr>\n",
              "      <th>5665</th>\n",
              "      <td>RT @toquedeveludo: Agora um poema:\\nEu sou sap...</td>\n",
              "      <td>1</td>\n",
              "    </tr>\n",
              "    <tr>\n",
              "      <th>5666</th>\n",
              "      <td>O mundo das sapatao é mais ligado do que eu im...</td>\n",
              "      <td>1</td>\n",
              "    </tr>\n",
              "    <tr>\n",
              "      <th>5667</th>\n",
              "      <td>Gente, sapatão é uma coisa q me assusta https:...</td>\n",
              "      <td>1</td>\n",
              "    </tr>\n",
              "  </tbody>\n",
              "</table>\n",
              "<p>5668 rows × 2 columns</p>\n",
              "</div>\n",
              "      <button class=\"colab-df-convert\" onclick=\"convertToInteractive('df-9294d9b1-15f8-411f-889e-fe1965c93525')\"\n",
              "              title=\"Convert this dataframe to an interactive table.\"\n",
              "              style=\"display:none;\">\n",
              "        \n",
              "  <svg xmlns=\"http://www.w3.org/2000/svg\" height=\"24px\"viewBox=\"0 0 24 24\"\n",
              "       width=\"24px\">\n",
              "    <path d=\"M0 0h24v24H0V0z\" fill=\"none\"/>\n",
              "    <path d=\"M18.56 5.44l.94 2.06.94-2.06 2.06-.94-2.06-.94-.94-2.06-.94 2.06-2.06.94zm-11 1L8.5 8.5l.94-2.06 2.06-.94-2.06-.94L8.5 2.5l-.94 2.06-2.06.94zm10 10l.94 2.06.94-2.06 2.06-.94-2.06-.94-.94-2.06-.94 2.06-2.06.94z\"/><path d=\"M17.41 7.96l-1.37-1.37c-.4-.4-.92-.59-1.43-.59-.52 0-1.04.2-1.43.59L10.3 9.45l-7.72 7.72c-.78.78-.78 2.05 0 2.83L4 21.41c.39.39.9.59 1.41.59.51 0 1.02-.2 1.41-.59l7.78-7.78 2.81-2.81c.8-.78.8-2.07 0-2.86zM5.41 20L4 18.59l7.72-7.72 1.47 1.35L5.41 20z\"/>\n",
              "  </svg>\n",
              "      </button>\n",
              "      \n",
              "  <style>\n",
              "    .colab-df-container {\n",
              "      display:flex;\n",
              "      flex-wrap:wrap;\n",
              "      gap: 12px;\n",
              "    }\n",
              "\n",
              "    .colab-df-convert {\n",
              "      background-color: #E8F0FE;\n",
              "      border: none;\n",
              "      border-radius: 50%;\n",
              "      cursor: pointer;\n",
              "      display: none;\n",
              "      fill: #1967D2;\n",
              "      height: 32px;\n",
              "      padding: 0 0 0 0;\n",
              "      width: 32px;\n",
              "    }\n",
              "\n",
              "    .colab-df-convert:hover {\n",
              "      background-color: #E2EBFA;\n",
              "      box-shadow: 0px 1px 2px rgba(60, 64, 67, 0.3), 0px 1px 3px 1px rgba(60, 64, 67, 0.15);\n",
              "      fill: #174EA6;\n",
              "    }\n",
              "\n",
              "    [theme=dark] .colab-df-convert {\n",
              "      background-color: #3B4455;\n",
              "      fill: #D2E3FC;\n",
              "    }\n",
              "\n",
              "    [theme=dark] .colab-df-convert:hover {\n",
              "      background-color: #434B5C;\n",
              "      box-shadow: 0px 1px 3px 1px rgba(0, 0, 0, 0.15);\n",
              "      filter: drop-shadow(0px 1px 2px rgba(0, 0, 0, 0.3));\n",
              "      fill: #FFFFFF;\n",
              "    }\n",
              "  </style>\n",
              "\n",
              "      <script>\n",
              "        const buttonEl =\n",
              "          document.querySelector('#df-9294d9b1-15f8-411f-889e-fe1965c93525 button.colab-df-convert');\n",
              "        buttonEl.style.display =\n",
              "          google.colab.kernel.accessAllowed ? 'block' : 'none';\n",
              "\n",
              "        async function convertToInteractive(key) {\n",
              "          const element = document.querySelector('#df-9294d9b1-15f8-411f-889e-fe1965c93525');\n",
              "          const dataTable =\n",
              "            await google.colab.kernel.invokeFunction('convertToInteractive',\n",
              "                                                     [key], {});\n",
              "          if (!dataTable) return;\n",
              "\n",
              "          const docLinkHtml = 'Like what you see? Visit the ' +\n",
              "            '<a target=\"_blank\" href=https://colab.research.google.com/notebooks/data_table.ipynb>data table notebook</a>'\n",
              "            + ' to learn more about interactive tables.';\n",
              "          element.innerHTML = '';\n",
              "          dataTable['output_type'] = 'display_data';\n",
              "          await google.colab.output.renderOutput(dataTable, element);\n",
              "          const docLink = document.createElement('div');\n",
              "          docLink.innerHTML = docLinkHtml;\n",
              "          element.appendChild(docLink);\n",
              "        }\n",
              "      </script>\n",
              "    </div>\n",
              "  </div>\n",
              "  "
            ]
          },
          "metadata": {},
          "execution_count": 66
        }
      ]
    },
    {
      "cell_type": "code",
      "source": [
        "print(hlphs_data)"
      ],
      "metadata": {
        "colab": {
          "base_uri": "https://localhost:8080/"
        },
        "outputId": "858f60d7-ea9b-4807-f9da-0a602482e2af",
        "id": "5lT2-kuFSAZu"
      },
      "execution_count": 67,
      "outputs": [
        {
          "output_type": "stream",
          "name": "stdout",
          "text": [
            "HIERARCHICALLY-LABELED PORTUGUESE HATE SPEECH DATASET:\n",
            "------------------------------------------\n",
            "Number of Portuguese tweets: 5668\n",
            "Percentage of hate speech: 19.848270995059988%\n",
            "\n"
          ]
        }
      ]
    },
    {
      "cell_type": "markdown",
      "source": [
        "###[ToLD-BR](https://arxiv.org/pdf/2010.04543.pdf)"
      ],
      "metadata": {
        "id": "0xbK05z8EOsW"
      }
    },
    {
      "cell_type": "markdown",
      "source": [
        "\"Each tweet was annotated by three different annotators.\"; therefore a tweet need a 2 or 3 in any of the hate speech columns: homophobia, racism, misogyny, xenphobia\n"
      ],
      "metadata": {
        "id": "UTPKWQdDYVku"
      }
    },
    {
      "cell_type": "code",
      "source": [
        "told_data = \"TOLD-BR DATASET:\\n------------------------------------------\\n\""
      ],
      "metadata": {
        "id": "GM9QFeGkk-Fa"
      },
      "execution_count": 56,
      "outputs": []
    },
    {
      "cell_type": "code",
      "source": [
        "#Obscene and insulting tweets don't count as hate speech, we drop these columns\n",
        "df_told = df_told.drop(['obscene', 'insult'], axis=1)\n",
        "told_data = told_data + \"Number of Portuguese tweets: \" + str(df_told.shape[0]) + \"\\n\"\n",
        "df_told[\"hate speech\"] = 0\n",
        "for col in df_told.columns[1:]:\n",
        "  #Only if 2-3 annotators (the majority) judge a tweet as hate speech, we count is as hate speech\n",
        "  df_told[col] = df_told[col].replace([1],0)\n",
        "  df_told[col] = df_told[col].replace([2, 3],1)\n",
        "#\"hate speech column is and \"or\" of all columns, if 1 or more columns have a 1, it counts as hate speech\"\n",
        "for col in df_told.columns[1:5]:\n",
        "  df_told[\"hate speech\"] = df_told[\"hate speech\"] + df_told[col]\n",
        "df_told['hate speech'] = df_told['hate speech'].replace([df_told['hate speech'].unique()[1:]],1)\n",
        "told_data = told_data + \"Percentage of hate speech: \" + str((len(df_told.loc[df_told['hate speech'] == 1].index)*100)/df_told.shape[0]) + \"%\\n\"\n",
        "df_told = df_told[[\"text\", \"hate speech\"]]"
      ],
      "metadata": {
        "id": "fCWwGpiqk-Fa"
      },
      "execution_count": 57,
      "outputs": []
    },
    {
      "cell_type": "code",
      "source": [
        "df_told"
      ],
      "metadata": {
        "colab": {
          "base_uri": "https://localhost:8080/",
          "height": 424
        },
        "id": "TLakYCEwyS8P",
        "outputId": "57566a0a-6efd-4d83-bfc3-1577a7aae9a4"
      },
      "execution_count": 68,
      "outputs": [
        {
          "output_type": "execute_result",
          "data": {
            "text/plain": [
              "                                                    text  hate speech\n",
              "0      Meu nivel de amizade com isis é ela ter meu in...          0.0\n",
              "1      rt @user @user o cara adultera dados, que fora...          0.0\n",
              "2      @user @user @user o cara só é simplesmente o m...          0.0\n",
              "3      eu to chorando vei vsf e eu nem staneio izone ...          0.0\n",
              "4      Eleitor do Bolsonaro é tão ignorante q não per...          0.0\n",
              "...                                                  ...          ...\n",
              "20995                          @user faz favor vai carai          0.0\n",
              "20996  só queria conhecer alguém que não conhece o he...          0.0\n",
              "20997  vcs militam na hora errada em cima de memes, p...          0.0\n",
              "20998  @user porra any eu tava c dor de cabeca e fui ...          0.0\n",
              "20999  saudades da iasmin de 2017 eu era gótica demai...          0.0\n",
              "\n",
              "[21000 rows x 2 columns]"
            ],
            "text/html": [
              "\n",
              "  <div id=\"df-dfa9a805-ef2b-4d5d-8de1-42f793b939b8\">\n",
              "    <div class=\"colab-df-container\">\n",
              "      <div>\n",
              "<style scoped>\n",
              "    .dataframe tbody tr th:only-of-type {\n",
              "        vertical-align: middle;\n",
              "    }\n",
              "\n",
              "    .dataframe tbody tr th {\n",
              "        vertical-align: top;\n",
              "    }\n",
              "\n",
              "    .dataframe thead th {\n",
              "        text-align: right;\n",
              "    }\n",
              "</style>\n",
              "<table border=\"1\" class=\"dataframe\">\n",
              "  <thead>\n",
              "    <tr style=\"text-align: right;\">\n",
              "      <th></th>\n",
              "      <th>text</th>\n",
              "      <th>hate speech</th>\n",
              "    </tr>\n",
              "  </thead>\n",
              "  <tbody>\n",
              "    <tr>\n",
              "      <th>0</th>\n",
              "      <td>Meu nivel de amizade com isis é ela ter meu in...</td>\n",
              "      <td>0.0</td>\n",
              "    </tr>\n",
              "    <tr>\n",
              "      <th>1</th>\n",
              "      <td>rt @user @user o cara adultera dados, que fora...</td>\n",
              "      <td>0.0</td>\n",
              "    </tr>\n",
              "    <tr>\n",
              "      <th>2</th>\n",
              "      <td>@user @user @user o cara só é simplesmente o m...</td>\n",
              "      <td>0.0</td>\n",
              "    </tr>\n",
              "    <tr>\n",
              "      <th>3</th>\n",
              "      <td>eu to chorando vei vsf e eu nem staneio izone ...</td>\n",
              "      <td>0.0</td>\n",
              "    </tr>\n",
              "    <tr>\n",
              "      <th>4</th>\n",
              "      <td>Eleitor do Bolsonaro é tão ignorante q não per...</td>\n",
              "      <td>0.0</td>\n",
              "    </tr>\n",
              "    <tr>\n",
              "      <th>...</th>\n",
              "      <td>...</td>\n",
              "      <td>...</td>\n",
              "    </tr>\n",
              "    <tr>\n",
              "      <th>20995</th>\n",
              "      <td>@user faz favor vai carai</td>\n",
              "      <td>0.0</td>\n",
              "    </tr>\n",
              "    <tr>\n",
              "      <th>20996</th>\n",
              "      <td>só queria conhecer alguém que não conhece o he...</td>\n",
              "      <td>0.0</td>\n",
              "    </tr>\n",
              "    <tr>\n",
              "      <th>20997</th>\n",
              "      <td>vcs militam na hora errada em cima de memes, p...</td>\n",
              "      <td>0.0</td>\n",
              "    </tr>\n",
              "    <tr>\n",
              "      <th>20998</th>\n",
              "      <td>@user porra any eu tava c dor de cabeca e fui ...</td>\n",
              "      <td>0.0</td>\n",
              "    </tr>\n",
              "    <tr>\n",
              "      <th>20999</th>\n",
              "      <td>saudades da iasmin de 2017 eu era gótica demai...</td>\n",
              "      <td>0.0</td>\n",
              "    </tr>\n",
              "  </tbody>\n",
              "</table>\n",
              "<p>21000 rows × 2 columns</p>\n",
              "</div>\n",
              "      <button class=\"colab-df-convert\" onclick=\"convertToInteractive('df-dfa9a805-ef2b-4d5d-8de1-42f793b939b8')\"\n",
              "              title=\"Convert this dataframe to an interactive table.\"\n",
              "              style=\"display:none;\">\n",
              "        \n",
              "  <svg xmlns=\"http://www.w3.org/2000/svg\" height=\"24px\"viewBox=\"0 0 24 24\"\n",
              "       width=\"24px\">\n",
              "    <path d=\"M0 0h24v24H0V0z\" fill=\"none\"/>\n",
              "    <path d=\"M18.56 5.44l.94 2.06.94-2.06 2.06-.94-2.06-.94-.94-2.06-.94 2.06-2.06.94zm-11 1L8.5 8.5l.94-2.06 2.06-.94-2.06-.94L8.5 2.5l-.94 2.06-2.06.94zm10 10l.94 2.06.94-2.06 2.06-.94-2.06-.94-.94-2.06-.94 2.06-2.06.94z\"/><path d=\"M17.41 7.96l-1.37-1.37c-.4-.4-.92-.59-1.43-.59-.52 0-1.04.2-1.43.59L10.3 9.45l-7.72 7.72c-.78.78-.78 2.05 0 2.83L4 21.41c.39.39.9.59 1.41.59.51 0 1.02-.2 1.41-.59l7.78-7.78 2.81-2.81c.8-.78.8-2.07 0-2.86zM5.41 20L4 18.59l7.72-7.72 1.47 1.35L5.41 20z\"/>\n",
              "  </svg>\n",
              "      </button>\n",
              "      \n",
              "  <style>\n",
              "    .colab-df-container {\n",
              "      display:flex;\n",
              "      flex-wrap:wrap;\n",
              "      gap: 12px;\n",
              "    }\n",
              "\n",
              "    .colab-df-convert {\n",
              "      background-color: #E8F0FE;\n",
              "      border: none;\n",
              "      border-radius: 50%;\n",
              "      cursor: pointer;\n",
              "      display: none;\n",
              "      fill: #1967D2;\n",
              "      height: 32px;\n",
              "      padding: 0 0 0 0;\n",
              "      width: 32px;\n",
              "    }\n",
              "\n",
              "    .colab-df-convert:hover {\n",
              "      background-color: #E2EBFA;\n",
              "      box-shadow: 0px 1px 2px rgba(60, 64, 67, 0.3), 0px 1px 3px 1px rgba(60, 64, 67, 0.15);\n",
              "      fill: #174EA6;\n",
              "    }\n",
              "\n",
              "    [theme=dark] .colab-df-convert {\n",
              "      background-color: #3B4455;\n",
              "      fill: #D2E3FC;\n",
              "    }\n",
              "\n",
              "    [theme=dark] .colab-df-convert:hover {\n",
              "      background-color: #434B5C;\n",
              "      box-shadow: 0px 1px 3px 1px rgba(0, 0, 0, 0.15);\n",
              "      filter: drop-shadow(0px 1px 2px rgba(0, 0, 0, 0.3));\n",
              "      fill: #FFFFFF;\n",
              "    }\n",
              "  </style>\n",
              "\n",
              "      <script>\n",
              "        const buttonEl =\n",
              "          document.querySelector('#df-dfa9a805-ef2b-4d5d-8de1-42f793b939b8 button.colab-df-convert');\n",
              "        buttonEl.style.display =\n",
              "          google.colab.kernel.accessAllowed ? 'block' : 'none';\n",
              "\n",
              "        async function convertToInteractive(key) {\n",
              "          const element = document.querySelector('#df-dfa9a805-ef2b-4d5d-8de1-42f793b939b8');\n",
              "          const dataTable =\n",
              "            await google.colab.kernel.invokeFunction('convertToInteractive',\n",
              "                                                     [key], {});\n",
              "          if (!dataTable) return;\n",
              "\n",
              "          const docLinkHtml = 'Like what you see? Visit the ' +\n",
              "            '<a target=\"_blank\" href=https://colab.research.google.com/notebooks/data_table.ipynb>data table notebook</a>'\n",
              "            + ' to learn more about interactive tables.';\n",
              "          element.innerHTML = '';\n",
              "          dataTable['output_type'] = 'display_data';\n",
              "          await google.colab.output.renderOutput(dataTable, element);\n",
              "          const docLink = document.createElement('div');\n",
              "          docLink.innerHTML = docLinkHtml;\n",
              "          element.appendChild(docLink);\n",
              "        }\n",
              "      </script>\n",
              "    </div>\n",
              "  </div>\n",
              "  "
            ]
          },
          "metadata": {},
          "execution_count": 68
        }
      ]
    },
    {
      "cell_type": "code",
      "source": [
        "print(told_data)"
      ],
      "metadata": {
        "colab": {
          "base_uri": "https://localhost:8080/"
        },
        "id": "GQZTtYAynj-Z",
        "outputId": "7ec48197-eae3-4415-cda9-eb149380f002"
      },
      "execution_count": 58,
      "outputs": [
        {
          "output_type": "stream",
          "name": "stdout",
          "text": [
            "TOLD-BR DATASET:\n",
            "------------------------------------------\n",
            "Number of Portuguese tweets: 21000\n",
            "Percentage of hate speech: 1.7904761904761906%\n",
            "\n"
          ]
        }
      ]
    },
    {
      "cell_type": "markdown",
      "source": [
        "###[OffComBR](http://www.each.usp.br/digiampietri/BraSNAM/2017/p04.pdf)\n",
        "The source of the data was the news site g1.globo.com. This is the most accessed\n",
        "news site in Brazil12 and, as a result, it has many comments. Although the comments on\n",
        "this site go through moderation, we found a considerable number of offensive contents.\n"
      ],
      "metadata": {
        "id": "KZSkzQL6EZ3V"
      }
    },
    {
      "cell_type": "code",
      "source": [
        "ocombr_data = \"OFFCOMBR DATASET:\\n------------------------------------------\\n\""
      ],
      "metadata": {
        "id": "2RsEu5kgke1x"
      },
      "execution_count": 52,
      "outputs": []
    },
    {
      "cell_type": "code",
      "source": [
        "#The only necessary work here is to replace column values and names\n",
        "df_ocombr = df_ocombr.drop(['id'], axis=1)\n",
        "ocombr_data = ocombr_data + \"Number of Portuguese tweets: \" + str(df_ocombr.shape[0]) + \"\\n\"\n",
        "df_ocombr.rename(columns = {'@@class':'hate speech'}, inplace = True)\n",
        "df_ocombr.rename(columns = {'document':'text'}, inplace = True)\n",
        "df_ocombr = df_ocombr.reindex(columns=['text','hate speech'])\n",
        "df_ocombr[\"hate speech\"].replace({\"yes\": int(1), \"no\": int(0)}, inplace=True)\n",
        "ocombr_data = ocombr_data + \"Percentage of hate speech: \" + str((len(df_ocombr.loc[df_ocombr['hate speech'] == 1].index)*100)/df_ocombr.shape[0]) + \"%\\n\""
      ],
      "metadata": {
        "id": "4E6gtbnake1x"
      },
      "execution_count": 53,
      "outputs": []
    },
    {
      "cell_type": "code",
      "source": [
        "df_ocombr"
      ],
      "metadata": {
        "colab": {
          "base_uri": "https://localhost:8080/",
          "height": 424
        },
        "id": "v63N197pmr9R",
        "outputId": "79dbca33-4a6f-4189-9894-ebf355c45a99"
      },
      "execution_count": 54,
      "outputs": [
        {
          "output_type": "execute_result",
          "data": {
            "text/plain": [
              "                                                   text  hate speech\n",
              "0                  Votaram no PEZAO Agora tomem no CZAO            1\n",
              "1     cuidado com a poupanca pessoal Lembram o que a...            0\n",
              "2     Sabe o que eu acho engracado os nossos governa...            0\n",
              "3                 Podiam retirar dos lucros dos bancos             0\n",
              "4     CADE O GALVAO PRA NARRAR AGORA   FALIIIIUUUUUU...            0\n",
              "...                                                 ...          ...\n",
              "1028  Cruz so tem agilidade mesmo poder de nocaute z...            0\n",
              "1029  Meus caros amigos enigmaticosNao deveriam comp...            0\n",
              "1030  Ele chamava pra atras da escola e sentava nos ...            1\n",
              "1031  Jhalim Rabei ate fiquei assustado comecei a le...            0\n",
              "1032  Irmao Honorato sempre falando verdades e agind...            0\n",
              "\n",
              "[1033 rows x 2 columns]"
            ],
            "text/html": [
              "\n",
              "  <div id=\"df-26553f7c-d21f-4bcb-acca-f38850d3b2a9\">\n",
              "    <div class=\"colab-df-container\">\n",
              "      <div>\n",
              "<style scoped>\n",
              "    .dataframe tbody tr th:only-of-type {\n",
              "        vertical-align: middle;\n",
              "    }\n",
              "\n",
              "    .dataframe tbody tr th {\n",
              "        vertical-align: top;\n",
              "    }\n",
              "\n",
              "    .dataframe thead th {\n",
              "        text-align: right;\n",
              "    }\n",
              "</style>\n",
              "<table border=\"1\" class=\"dataframe\">\n",
              "  <thead>\n",
              "    <tr style=\"text-align: right;\">\n",
              "      <th></th>\n",
              "      <th>text</th>\n",
              "      <th>hate speech</th>\n",
              "    </tr>\n",
              "  </thead>\n",
              "  <tbody>\n",
              "    <tr>\n",
              "      <th>0</th>\n",
              "      <td>Votaram no PEZAO Agora tomem no CZAO</td>\n",
              "      <td>1</td>\n",
              "    </tr>\n",
              "    <tr>\n",
              "      <th>1</th>\n",
              "      <td>cuidado com a poupanca pessoal Lembram o que a...</td>\n",
              "      <td>0</td>\n",
              "    </tr>\n",
              "    <tr>\n",
              "      <th>2</th>\n",
              "      <td>Sabe o que eu acho engracado os nossos governa...</td>\n",
              "      <td>0</td>\n",
              "    </tr>\n",
              "    <tr>\n",
              "      <th>3</th>\n",
              "      <td>Podiam retirar dos lucros dos bancos</td>\n",
              "      <td>0</td>\n",
              "    </tr>\n",
              "    <tr>\n",
              "      <th>4</th>\n",
              "      <td>CADE O GALVAO PRA NARRAR AGORA   FALIIIIUUUUUU...</td>\n",
              "      <td>0</td>\n",
              "    </tr>\n",
              "    <tr>\n",
              "      <th>...</th>\n",
              "      <td>...</td>\n",
              "      <td>...</td>\n",
              "    </tr>\n",
              "    <tr>\n",
              "      <th>1028</th>\n",
              "      <td>Cruz so tem agilidade mesmo poder de nocaute z...</td>\n",
              "      <td>0</td>\n",
              "    </tr>\n",
              "    <tr>\n",
              "      <th>1029</th>\n",
              "      <td>Meus caros amigos enigmaticosNao deveriam comp...</td>\n",
              "      <td>0</td>\n",
              "    </tr>\n",
              "    <tr>\n",
              "      <th>1030</th>\n",
              "      <td>Ele chamava pra atras da escola e sentava nos ...</td>\n",
              "      <td>1</td>\n",
              "    </tr>\n",
              "    <tr>\n",
              "      <th>1031</th>\n",
              "      <td>Jhalim Rabei ate fiquei assustado comecei a le...</td>\n",
              "      <td>0</td>\n",
              "    </tr>\n",
              "    <tr>\n",
              "      <th>1032</th>\n",
              "      <td>Irmao Honorato sempre falando verdades e agind...</td>\n",
              "      <td>0</td>\n",
              "    </tr>\n",
              "  </tbody>\n",
              "</table>\n",
              "<p>1033 rows × 2 columns</p>\n",
              "</div>\n",
              "      <button class=\"colab-df-convert\" onclick=\"convertToInteractive('df-26553f7c-d21f-4bcb-acca-f38850d3b2a9')\"\n",
              "              title=\"Convert this dataframe to an interactive table.\"\n",
              "              style=\"display:none;\">\n",
              "        \n",
              "  <svg xmlns=\"http://www.w3.org/2000/svg\" height=\"24px\"viewBox=\"0 0 24 24\"\n",
              "       width=\"24px\">\n",
              "    <path d=\"M0 0h24v24H0V0z\" fill=\"none\"/>\n",
              "    <path d=\"M18.56 5.44l.94 2.06.94-2.06 2.06-.94-2.06-.94-.94-2.06-.94 2.06-2.06.94zm-11 1L8.5 8.5l.94-2.06 2.06-.94-2.06-.94L8.5 2.5l-.94 2.06-2.06.94zm10 10l.94 2.06.94-2.06 2.06-.94-2.06-.94-.94-2.06-.94 2.06-2.06.94z\"/><path d=\"M17.41 7.96l-1.37-1.37c-.4-.4-.92-.59-1.43-.59-.52 0-1.04.2-1.43.59L10.3 9.45l-7.72 7.72c-.78.78-.78 2.05 0 2.83L4 21.41c.39.39.9.59 1.41.59.51 0 1.02-.2 1.41-.59l7.78-7.78 2.81-2.81c.8-.78.8-2.07 0-2.86zM5.41 20L4 18.59l7.72-7.72 1.47 1.35L5.41 20z\"/>\n",
              "  </svg>\n",
              "      </button>\n",
              "      \n",
              "  <style>\n",
              "    .colab-df-container {\n",
              "      display:flex;\n",
              "      flex-wrap:wrap;\n",
              "      gap: 12px;\n",
              "    }\n",
              "\n",
              "    .colab-df-convert {\n",
              "      background-color: #E8F0FE;\n",
              "      border: none;\n",
              "      border-radius: 50%;\n",
              "      cursor: pointer;\n",
              "      display: none;\n",
              "      fill: #1967D2;\n",
              "      height: 32px;\n",
              "      padding: 0 0 0 0;\n",
              "      width: 32px;\n",
              "    }\n",
              "\n",
              "    .colab-df-convert:hover {\n",
              "      background-color: #E2EBFA;\n",
              "      box-shadow: 0px 1px 2px rgba(60, 64, 67, 0.3), 0px 1px 3px 1px rgba(60, 64, 67, 0.15);\n",
              "      fill: #174EA6;\n",
              "    }\n",
              "\n",
              "    [theme=dark] .colab-df-convert {\n",
              "      background-color: #3B4455;\n",
              "      fill: #D2E3FC;\n",
              "    }\n",
              "\n",
              "    [theme=dark] .colab-df-convert:hover {\n",
              "      background-color: #434B5C;\n",
              "      box-shadow: 0px 1px 3px 1px rgba(0, 0, 0, 0.15);\n",
              "      filter: drop-shadow(0px 1px 2px rgba(0, 0, 0, 0.3));\n",
              "      fill: #FFFFFF;\n",
              "    }\n",
              "  </style>\n",
              "\n",
              "      <script>\n",
              "        const buttonEl =\n",
              "          document.querySelector('#df-26553f7c-d21f-4bcb-acca-f38850d3b2a9 button.colab-df-convert');\n",
              "        buttonEl.style.display =\n",
              "          google.colab.kernel.accessAllowed ? 'block' : 'none';\n",
              "\n",
              "        async function convertToInteractive(key) {\n",
              "          const element = document.querySelector('#df-26553f7c-d21f-4bcb-acca-f38850d3b2a9');\n",
              "          const dataTable =\n",
              "            await google.colab.kernel.invokeFunction('convertToInteractive',\n",
              "                                                     [key], {});\n",
              "          if (!dataTable) return;\n",
              "\n",
              "          const docLinkHtml = 'Like what you see? Visit the ' +\n",
              "            '<a target=\"_blank\" href=https://colab.research.google.com/notebooks/data_table.ipynb>data table notebook</a>'\n",
              "            + ' to learn more about interactive tables.';\n",
              "          element.innerHTML = '';\n",
              "          dataTable['output_type'] = 'display_data';\n",
              "          await google.colab.output.renderOutput(dataTable, element);\n",
              "          const docLink = document.createElement('div');\n",
              "          docLink.innerHTML = docLinkHtml;\n",
              "          element.appendChild(docLink);\n",
              "        }\n",
              "      </script>\n",
              "    </div>\n",
              "  </div>\n",
              "  "
            ]
          },
          "metadata": {},
          "execution_count": 54
        }
      ]
    },
    {
      "cell_type": "code",
      "source": [
        "print(ocombr_data)"
      ],
      "metadata": {
        "colab": {
          "base_uri": "https://localhost:8080/"
        },
        "id": "qC84HRnYnU9d",
        "outputId": "2b77ee1d-990a-4b6b-8c88-0e47f8d6b3c5"
      },
      "execution_count": 55,
      "outputs": [
        {
          "output_type": "stream",
          "name": "stdout",
          "text": [
            "OFFCOMBR DATASET:\n",
            "------------------------------------------\n",
            "Number of Portuguese tweets: 1033\n",
            "Percentage of hate speech: 19.554695062923525%\n",
            "\n"
          ]
        }
      ]
    },
    {
      "cell_type": "markdown",
      "source": [
        "###Unification, hashtags and emojis"
      ],
      "metadata": {
        "id": "RWuPQuWOVQTp"
      }
    },
    {
      "cell_type": "code",
      "source": [
        "df = pd.concat([df_hlphs, df_told, df_ocombr])"
      ],
      "metadata": {
        "id": "RPh9ZdmT30vf"
      },
      "execution_count": 69,
      "outputs": []
    },
    {
      "cell_type": "code",
      "source": [
        "df.to_csv('/content/drive/MyDrive/TFG/data/final_data/unfinished_portuguese_data.csv', index=False)"
      ],
      "metadata": {
        "id": "U_4ij4EHyXs9"
      },
      "execution_count": 70,
      "outputs": []
    },
    {
      "cell_type": "code",
      "source": [
        "df = pd.read_csv('/content/drive/MyDrive/TFG/data/final_data/unfinished_portuguese_data.csv', encoding='utf8', engine='python')"
      ],
      "metadata": {
        "id": "myeyq7364zph"
      },
      "execution_count": 22,
      "outputs": []
    },
    {
      "cell_type": "markdown",
      "source": [
        "####Emoji code extraction and replacement"
      ],
      "metadata": {
        "id": "pDioLgN13zJY"
      }
    },
    {
      "cell_type": "code",
      "source": [
        "emoji_codes = getAllEmojiHexCode(df)"
      ],
      "metadata": {
        "id": "pxTNm75o3zJY"
      },
      "execution_count": 23,
      "outputs": []
    },
    {
      "cell_type": "code",
      "source": [
        "emoji_codes"
      ],
      "metadata": {
        "colab": {
          "base_uri": "https://localhost:8080/"
        },
        "outputId": "d6c39764-299d-4aa0-80dd-e8b56e1b469d",
        "id": "kmKwy82n3zJY"
      },
      "execution_count": 24,
      "outputs": [
        {
          "output_type": "execute_result",
          "data": {
            "text/plain": [
              "array([], dtype=float64)"
            ]
          },
          "metadata": {},
          "execution_count": 24
        }
      ]
    },
    {
      "cell_type": "code",
      "source": [
        "df = replaceEmojiCodes(df)"
      ],
      "metadata": {
        "id": "OqIMTg733zJZ"
      },
      "execution_count": null,
      "outputs": []
    },
    {
      "cell_type": "markdown",
      "source": [
        "####Hashtag and emoji filtering"
      ],
      "metadata": {
        "id": "YJSURK6M3zJZ"
      }
    },
    {
      "cell_type": "code",
      "source": [
        "df, hashtag_dict, emoji_dict = cleanTweets_getDicts(df)"
      ],
      "metadata": {
        "id": "BX-cP15FVmIh"
      },
      "execution_count": 25,
      "outputs": []
    },
    {
      "cell_type": "code",
      "source": [
        "hashtag_dict_important = important_values(hashtag_dict, 10)\n",
        "emoji_dict_important = important_values(emoji_dict, 10)"
      ],
      "metadata": {
        "id": "D-z_RqByVmIh"
      },
      "execution_count": 26,
      "outputs": []
    },
    {
      "cell_type": "code",
      "source": [
        "hashtag_dict_important"
      ],
      "metadata": {
        "colab": {
          "base_uri": "https://localhost:8080/"
        },
        "outputId": "caf859a6-c98f-4bee-a9e2-b02f7a8070b8",
        "id": "kJ0Loe2jVmIh"
      },
      "execution_count": 27,
      "outputs": [
        {
          "output_type": "execute_result",
          "data": {
            "text/plain": [
              "{'#diadamulher': 36,\n",
              " '#joaquinresponde': 29,\n",
              " '#luanetes': 18,\n",
              " '#luansantana': 18,\n",
              " '#luansantanashow': 18,\n",
              " '#marinaruybarbosa': 20,\n",
              " '#masterchefbr': 24,\n",
              " '#mpn': 131,\n",
              " '#mulherdeverdade': 30,\n",
              " '#nasruascontrastf': 27,\n",
              " '#nowunited': 86,\n",
              " '#oscars': 15,\n",
              " '#paz': 30,\n",
              " '#pnr': 85,\n",
              " '#portugal': 50,\n",
              " '#renovarportugal': 48,\n",
              " '#sermulhere': 17,\n",
              " '#sm_보이그룹론칭_취소해': 11,\n",
              " '#stfvergonhanacional': 135,\n",
              " '#stfvergonhanascional': 11,\n",
              " '#uniters': 65,\n",
              " '#voleinaglobo': 79,\n",
              " '#voleinosportv': 18}"
            ]
          },
          "metadata": {},
          "execution_count": 27
        }
      ]
    },
    {
      "cell_type": "code",
      "source": [
        "emoji_dict_important"
      ],
      "metadata": {
        "colab": {
          "base_uri": "https://localhost:8080/"
        },
        "outputId": "97983379-0efc-485f-a784-e65d66c6d19f",
        "id": "kDqPiGvhVmIh"
      },
      "execution_count": 28,
      "outputs": [
        {
          "output_type": "execute_result",
          "data": {
            "text/plain": [
              "{' ': 6194,\n",
              " '☺': 13,\n",
              " '♀': 84,\n",
              " '♂': 61,\n",
              " '♥': 34,\n",
              " '⚠': 26,\n",
              " '⚪': 16,\n",
              " '⚫': 12,\n",
              " '⚽': 13,\n",
              " '✅': 20,\n",
              " '✌': 16,\n",
              " '✨': 35,\n",
              " '❤': 326,\n",
              " '🌠': 11,\n",
              " '🌸': 17,\n",
              " '🍆': 24,\n",
              " '🍑': 11,\n",
              " '🍻': 12,\n",
              " '🎂': 11,\n",
              " '🎉': 12,\n",
              " '🎵': 13,\n",
              " '🎶': 39,\n",
              " '🏻': 169,\n",
              " '🏼': 52,\n",
              " '🏽': 41,\n",
              " '🏾': 67,\n",
              " '👉': 23,\n",
              " '👊': 24,\n",
              " '👌': 20,\n",
              " '👍': 78,\n",
              " '👎': 12,\n",
              " '👏': 82,\n",
              " '👺': 12,\n",
              " '💃': 15,\n",
              " '💓': 13,\n",
              " '💔': 40,\n",
              " '💕': 44,\n",
              " '💖': 42,\n",
              " '💗': 18,\n",
              " '💘': 18,\n",
              " '💙': 29,\n",
              " '💚': 29,\n",
              " '💛': 24,\n",
              " '💜': 74,\n",
              " '💞': 21,\n",
              " '💥': 12,\n",
              " '💦': 27,\n",
              " '💪': 19,\n",
              " '🔄': 26,\n",
              " '🔝': 16,\n",
              " '🔥': 79,\n",
              " '🔴': 13,\n",
              " '🖕': 11,\n",
              " '🖤': 14,\n",
              " '🗣': 12,\n",
              " '😁': 16,\n",
              " '😂': 833,\n",
              " '😅': 36,\n",
              " '😆': 16,\n",
              " '😈': 86,\n",
              " '😉': 29,\n",
              " '😊': 11,\n",
              " '😋': 33,\n",
              " '😌': 12,\n",
              " '😍': 216,\n",
              " '😎': 35,\n",
              " '😏': 21,\n",
              " '😒': 25,\n",
              " '😓': 13,\n",
              " '😔': 107,\n",
              " '😘': 29,\n",
              " '😚': 11,\n",
              " '😜': 14,\n",
              " '😝': 23,\n",
              " '😞': 13,\n",
              " '😠': 44,\n",
              " '😡': 139,\n",
              " '😢': 13,\n",
              " '😣': 16,\n",
              " '😤': 36,\n",
              " '😩': 33,\n",
              " '😪': 17,\n",
              " '😬': 21,\n",
              " '😭': 227,\n",
              " '😰': 11,\n",
              " '😱': 21,\n",
              " '😴': 12,\n",
              " '😹': 13,\n",
              " '😻': 14,\n",
              " '🙄': 59,\n",
              " '🙌': 27,\n",
              " '🙏': 82,\n",
              " '🚨': 11,\n",
              " '🤑': 20,\n",
              " '🤔': 50,\n",
              " '🤙': 13,\n",
              " '🤠': 11,\n",
              " '🤢': 18,\n",
              " '🤣': 242,\n",
              " '🤤': 67,\n",
              " '🤦': 122,\n",
              " '🤧': 13,\n",
              " '🤩': 40,\n",
              " '🤪': 64,\n",
              " '🤬': 44,\n",
              " '🤭': 22,\n",
              " '🤮': 40,\n",
              " '🤷': 25,\n",
              " '🥰': 96,\n",
              " '🥵': 29,\n",
              " '🥺': 43}"
            ]
          },
          "metadata": {},
          "execution_count": 28
        }
      ]
    },
    {
      "cell_type": "code",
      "source": [
        "print(\"HATE SPEECH - PERCENTAGE OF ALL PORTUGUESE POSTS:\")\n",
        "print(\"WITH HATE SPEECH: \" + str((len(df.loc[df['hate speech'] == 1].index)*100)/df.shape[0]))\n",
        "print(\"WITHOUT HATE SPEECH: \" + str((len(df.loc[df['hate speech'] == 0].index)*100)/df.shape[0]))"
      ],
      "metadata": {
        "id": "QqLdS4lbRjZP",
        "colab": {
          "base_uri": "https://localhost:8080/"
        },
        "outputId": "ce1d8eca-3ec3-4253-a6db-fe5916626662"
      },
      "execution_count": 29,
      "outputs": [
        {
          "output_type": "stream",
          "name": "stdout",
          "text": [
            "HATE SPEECH - PERCENTAGE OF ALL PORTUGUESE POSTS:\n",
            "WITH HATE SPEECH: 6.147792498465759\n",
            "WITHOUT HATE SPEECH: 93.85220750153424\n"
          ]
        }
      ]
    },
    {
      "cell_type": "markdown",
      "source": [
        "#####Removal of all emojis and hashtags"
      ],
      "metadata": {
        "id": "RjCl0KlS3bJO"
      }
    },
    {
      "cell_type": "code",
      "source": [
        "#Remove emojis\n",
        "df = replace_emojis([], list(emoji_dict.keys()), df)"
      ],
      "metadata": {
        "id": "rV9Fk4brZEJR"
      },
      "execution_count": null,
      "outputs": []
    },
    {
      "cell_type": "code",
      "source": [
        "#Remove hashtags\n",
        "for idx, row in df.iterrows():\n",
        "  for k in list(hashtag_dict.keys()):\n",
        "      row.text = row.text.replace(k, \"\")\n",
        "      df['text'][idx] = row.text"
      ],
      "metadata": {
        "id": "Pv8p-pFDZEJS"
      },
      "execution_count": null,
      "outputs": []
    },
    {
      "cell_type": "code",
      "source": [
        "df.to_csv('/content/drive/MyDrive/TFG/data/final_data/removed_portuguese_data.csv', index=False)  "
      ],
      "metadata": {
        "id": "epBjs0vM3bJP"
      },
      "execution_count": null,
      "outputs": []
    },
    {
      "cell_type": "markdown",
      "source": [
        "#####Filtered emojis and hashtags"
      ],
      "metadata": {
        "id": "XVsnLP6Y3bJP"
      }
    },
    {
      "cell_type": "code",
      "source": [
        "df = replace_emojis()"
      ],
      "metadata": {
        "id": "XaB2Cebr3bJP"
      },
      "execution_count": null,
      "outputs": []
    },
    {
      "cell_type": "code",
      "source": [
        "df.to_csv('/content/drive/MyDrive/TFG/data/final_data/filtered_portuguese_data.csv', index=False)  "
      ],
      "metadata": {
        "id": "GZ2JfYlb3bJP"
      },
      "execution_count": null,
      "outputs": []
    },
    {
      "cell_type": "markdown",
      "source": [
        "#####All emojis and hashtags kept"
      ],
      "metadata": {
        "id": "qiBECjUa3bJP"
      }
    },
    {
      "cell_type": "code",
      "source": [
        "#Replace emojis with text\n",
        "df = replace_emojis(list(emoji_dict.keys()), [], df)"
      ],
      "metadata": {
        "id": "LrrzUThP3bJP"
      },
      "execution_count": null,
      "outputs": []
    },
    {
      "cell_type": "code",
      "source": [
        "df.to_csv('/content/drive/MyDrive/TFG/data/final_data/mantained_portuguese_data.csv', index=False)  "
      ],
      "metadata": {
        "id": "P37_jf1p3bJP"
      },
      "execution_count": null,
      "outputs": []
    },
    {
      "cell_type": "markdown",
      "source": [
        "#ENGLISH DATA UNIFICATION"
      ],
      "metadata": {
        "id": "CSsHpjvkPUS1"
      }
    },
    {
      "cell_type": "code",
      "source": [
        "#hateval\n",
        "df_hateval_train = pd.read_csv('/content/hateval2019_en_train.csv', encoding='utf8')\n",
        "df_hateval_test = pd.read_csv('/content/hateval2019_en_test.csv', encoding='utf8')\n",
        "df_hateval_val = pd.read_csv('/content/hateval2019_en_dev.csv', encoding='utf8')\n",
        "\n",
        "#EXIST\n",
        "df_exist_train = pd.read_csv('/content/EXIST2021_training.csv', encoding='utf8', engine='python')\n",
        "df_exist_test = pd.read_csv('/content/EXIST2021_test_labeled.csv', encoding='utf8', engine='python')\n",
        "\n",
        "#Automated Hate Speech Detection\n",
        "df_aut_hate = pd.read_csv('/content/labeled_data_dav_en.csv', encoding='utf8')\n",
        "\n",
        "#Hateful Symbols or Hateful People?\n",
        "df_hatesym = pd.read_csv('/content/NAACL_SRW_2016.csv', encoding='utf8', header= None)\n",
        "\n",
        "#Are You a Racist or Am I Seeing Things?\n",
        "df_ruracist = pd.read_csv('/content/NLP+CSS_2016.csv', encoding='utf8', sep='\\t')\n",
        "\n",
        "#Hate speech dataset from a white supremacist forum \n",
        "df_whitesup = pd.read_csv('/content/annotations_metadata_white_sup.csv', encoding='utf8')\n",
        "\n",
        "#The Gab Hate Corpus\n",
        "df_ghc_train = pd.read_csv('/content/ghc_train.csv', encoding='utf8')\n",
        "df_ghc_test = pd.read_csv('/content/ghc_test.csv', encoding='utf8')"
      ],
      "metadata": {
        "id": "a8Ks1nNhWiyS"
      },
      "execution_count": 71,
      "outputs": []
    },
    {
      "cell_type": "markdown",
      "source": [
        "###[HATEVAL](https://aclanthology.org/S19-2007.pdf)"
      ],
      "metadata": {
        "id": "yWRUWw4FvGcR"
      }
    },
    {
      "cell_type": "code",
      "source": [
        "hateval_data = \"HATEVAL DATASET:\\n------------------------------------------\\n\""
      ],
      "metadata": {
        "id": "UZfMFLW9vGcS"
      },
      "execution_count": 72,
      "outputs": []
    },
    {
      "cell_type": "code",
      "source": [
        "hateval_data = hateval_data + \"hatEval train set:\\n\"\n",
        "#We won't use the columns that determined aggresiveness or target (group or individual) -> case is the same in all 3 subsets\n",
        "df_hateval_train = df_hateval_train.drop(['TR', 'AG'], axis=1)\n",
        "hateval_data = hateval_data + \"Number of English tweets: \" + str(df_hateval_train.shape[0]) + \"\\n\\n\"\n",
        "df_hateval_train = df_hateval_train[['text','HS']]\n",
        "df_hateval_train.rename(columns = {'HS':'hate speech'}, inplace = True)"
      ],
      "metadata": {
        "id": "5OPuCC9DvGcS"
      },
      "execution_count": 73,
      "outputs": []
    },
    {
      "cell_type": "code",
      "source": [
        "hateval_data = hateval_data + \"hatEval test set:\\n\"\n",
        "hateval_data = hateval_data + \"Number of English tweets: \" + str(df_hateval_test.shape[0]) + \"\\n\\n\"\n",
        "df_hateval_test = df_hateval_test[['text','HS']]\n",
        "df_hateval_test.rename(columns = {'HS':'hate speech'}, inplace = True)"
      ],
      "metadata": {
        "id": "flmQxapgvGcS"
      },
      "execution_count": 74,
      "outputs": []
    },
    {
      "cell_type": "code",
      "source": [
        "hateval_data = hateval_data + \"hatEval validation set:\\n\"\n",
        "df_hateval_val = df_hateval_val.drop(['TR', 'AG'], axis=1)\n",
        "hateval_data = hateval_data + \"Number of English tweets: \" + str(df_hateval_val.shape[0]) + \"\\n\\n\"\n",
        "df_hateval_val = df_hateval_val[['text','HS']]\n",
        "df_hateval_val.rename(columns = {'HS':'hate speech'}, inplace = True)"
      ],
      "metadata": {
        "id": "XPHmj78WvGcS"
      },
      "execution_count": 75,
      "outputs": []
    },
    {
      "cell_type": "code",
      "source": [
        "df_hateval = pd.concat([df_hateval_train, df_hateval_val, df_hateval_test])"
      ],
      "metadata": {
        "id": "gNWkPTo4vGcS"
      },
      "execution_count": 76,
      "outputs": []
    },
    {
      "cell_type": "code",
      "source": [
        "df_hateval"
      ],
      "metadata": {
        "colab": {
          "base_uri": "https://localhost:8080/",
          "height": 424
        },
        "outputId": "c0653cc3-304b-498e-809c-2718606b42b2",
        "id": "Yr0TUEHQvGcS"
      },
      "execution_count": 77,
      "outputs": [
        {
          "output_type": "execute_result",
          "data": {
            "text/plain": [
              "                                                   text  hate speech\n",
              "0     Hurray, saving us $$$ in so many ways @potus @...            1\n",
              "1     Why would young fighting age men be the vast m...            1\n",
              "2     @KamalaHarris Illegals Dump their Kids at the ...            1\n",
              "3     NY Times: 'Nearly All White' States Pose 'an A...            0\n",
              "4     Orban in Brussels: European leaders are ignori...            0\n",
              "...                                                 ...          ...\n",
              "2995  you can never take a L off a real bitch😩 im ho...            1\n",
              "2996  @Brian_202 likes to call me a cunt & a bitch b...            1\n",
              "2997  @kusha1a @Camio_the_wise @shoe0nhead 1. Never ...            1\n",
              "2998  If i see and know you a hoe why would i hit yo...            1\n",
              "2999   You be chasing them hoes fuck what a bitch think            1\n",
              "\n",
              "[13000 rows x 2 columns]"
            ],
            "text/html": [
              "\n",
              "  <div id=\"df-f3cb0124-2ca7-4fab-a582-7e5cce3d94c6\">\n",
              "    <div class=\"colab-df-container\">\n",
              "      <div>\n",
              "<style scoped>\n",
              "    .dataframe tbody tr th:only-of-type {\n",
              "        vertical-align: middle;\n",
              "    }\n",
              "\n",
              "    .dataframe tbody tr th {\n",
              "        vertical-align: top;\n",
              "    }\n",
              "\n",
              "    .dataframe thead th {\n",
              "        text-align: right;\n",
              "    }\n",
              "</style>\n",
              "<table border=\"1\" class=\"dataframe\">\n",
              "  <thead>\n",
              "    <tr style=\"text-align: right;\">\n",
              "      <th></th>\n",
              "      <th>text</th>\n",
              "      <th>hate speech</th>\n",
              "    </tr>\n",
              "  </thead>\n",
              "  <tbody>\n",
              "    <tr>\n",
              "      <th>0</th>\n",
              "      <td>Hurray, saving us $$$ in so many ways @potus @...</td>\n",
              "      <td>1</td>\n",
              "    </tr>\n",
              "    <tr>\n",
              "      <th>1</th>\n",
              "      <td>Why would young fighting age men be the vast m...</td>\n",
              "      <td>1</td>\n",
              "    </tr>\n",
              "    <tr>\n",
              "      <th>2</th>\n",
              "      <td>@KamalaHarris Illegals Dump their Kids at the ...</td>\n",
              "      <td>1</td>\n",
              "    </tr>\n",
              "    <tr>\n",
              "      <th>3</th>\n",
              "      <td>NY Times: 'Nearly All White' States Pose 'an A...</td>\n",
              "      <td>0</td>\n",
              "    </tr>\n",
              "    <tr>\n",
              "      <th>4</th>\n",
              "      <td>Orban in Brussels: European leaders are ignori...</td>\n",
              "      <td>0</td>\n",
              "    </tr>\n",
              "    <tr>\n",
              "      <th>...</th>\n",
              "      <td>...</td>\n",
              "      <td>...</td>\n",
              "    </tr>\n",
              "    <tr>\n",
              "      <th>2995</th>\n",
              "      <td>you can never take a L off a real bitch😩 im ho...</td>\n",
              "      <td>1</td>\n",
              "    </tr>\n",
              "    <tr>\n",
              "      <th>2996</th>\n",
              "      <td>@Brian_202 likes to call me a cunt &amp; a bitch b...</td>\n",
              "      <td>1</td>\n",
              "    </tr>\n",
              "    <tr>\n",
              "      <th>2997</th>\n",
              "      <td>@kusha1a @Camio_the_wise @shoe0nhead 1. Never ...</td>\n",
              "      <td>1</td>\n",
              "    </tr>\n",
              "    <tr>\n",
              "      <th>2998</th>\n",
              "      <td>If i see and know you a hoe why would i hit yo...</td>\n",
              "      <td>1</td>\n",
              "    </tr>\n",
              "    <tr>\n",
              "      <th>2999</th>\n",
              "      <td>You be chasing them hoes fuck what a bitch think</td>\n",
              "      <td>1</td>\n",
              "    </tr>\n",
              "  </tbody>\n",
              "</table>\n",
              "<p>13000 rows × 2 columns</p>\n",
              "</div>\n",
              "      <button class=\"colab-df-convert\" onclick=\"convertToInteractive('df-f3cb0124-2ca7-4fab-a582-7e5cce3d94c6')\"\n",
              "              title=\"Convert this dataframe to an interactive table.\"\n",
              "              style=\"display:none;\">\n",
              "        \n",
              "  <svg xmlns=\"http://www.w3.org/2000/svg\" height=\"24px\"viewBox=\"0 0 24 24\"\n",
              "       width=\"24px\">\n",
              "    <path d=\"M0 0h24v24H0V0z\" fill=\"none\"/>\n",
              "    <path d=\"M18.56 5.44l.94 2.06.94-2.06 2.06-.94-2.06-.94-.94-2.06-.94 2.06-2.06.94zm-11 1L8.5 8.5l.94-2.06 2.06-.94-2.06-.94L8.5 2.5l-.94 2.06-2.06.94zm10 10l.94 2.06.94-2.06 2.06-.94-2.06-.94-.94-2.06-.94 2.06-2.06.94z\"/><path d=\"M17.41 7.96l-1.37-1.37c-.4-.4-.92-.59-1.43-.59-.52 0-1.04.2-1.43.59L10.3 9.45l-7.72 7.72c-.78.78-.78 2.05 0 2.83L4 21.41c.39.39.9.59 1.41.59.51 0 1.02-.2 1.41-.59l7.78-7.78 2.81-2.81c.8-.78.8-2.07 0-2.86zM5.41 20L4 18.59l7.72-7.72 1.47 1.35L5.41 20z\"/>\n",
              "  </svg>\n",
              "      </button>\n",
              "      \n",
              "  <style>\n",
              "    .colab-df-container {\n",
              "      display:flex;\n",
              "      flex-wrap:wrap;\n",
              "      gap: 12px;\n",
              "    }\n",
              "\n",
              "    .colab-df-convert {\n",
              "      background-color: #E8F0FE;\n",
              "      border: none;\n",
              "      border-radius: 50%;\n",
              "      cursor: pointer;\n",
              "      display: none;\n",
              "      fill: #1967D2;\n",
              "      height: 32px;\n",
              "      padding: 0 0 0 0;\n",
              "      width: 32px;\n",
              "    }\n",
              "\n",
              "    .colab-df-convert:hover {\n",
              "      background-color: #E2EBFA;\n",
              "      box-shadow: 0px 1px 2px rgba(60, 64, 67, 0.3), 0px 1px 3px 1px rgba(60, 64, 67, 0.15);\n",
              "      fill: #174EA6;\n",
              "    }\n",
              "\n",
              "    [theme=dark] .colab-df-convert {\n",
              "      background-color: #3B4455;\n",
              "      fill: #D2E3FC;\n",
              "    }\n",
              "\n",
              "    [theme=dark] .colab-df-convert:hover {\n",
              "      background-color: #434B5C;\n",
              "      box-shadow: 0px 1px 3px 1px rgba(0, 0, 0, 0.15);\n",
              "      filter: drop-shadow(0px 1px 2px rgba(0, 0, 0, 0.3));\n",
              "      fill: #FFFFFF;\n",
              "    }\n",
              "  </style>\n",
              "\n",
              "      <script>\n",
              "        const buttonEl =\n",
              "          document.querySelector('#df-f3cb0124-2ca7-4fab-a582-7e5cce3d94c6 button.colab-df-convert');\n",
              "        buttonEl.style.display =\n",
              "          google.colab.kernel.accessAllowed ? 'block' : 'none';\n",
              "\n",
              "        async function convertToInteractive(key) {\n",
              "          const element = document.querySelector('#df-f3cb0124-2ca7-4fab-a582-7e5cce3d94c6');\n",
              "          const dataTable =\n",
              "            await google.colab.kernel.invokeFunction('convertToInteractive',\n",
              "                                                     [key], {});\n",
              "          if (!dataTable) return;\n",
              "\n",
              "          const docLinkHtml = 'Like what you see? Visit the ' +\n",
              "            '<a target=\"_blank\" href=https://colab.research.google.com/notebooks/data_table.ipynb>data table notebook</a>'\n",
              "            + ' to learn more about interactive tables.';\n",
              "          element.innerHTML = '';\n",
              "          dataTable['output_type'] = 'display_data';\n",
              "          await google.colab.output.renderOutput(dataTable, element);\n",
              "          const docLink = document.createElement('div');\n",
              "          docLink.innerHTML = docLinkHtml;\n",
              "          element.appendChild(docLink);\n",
              "        }\n",
              "      </script>\n",
              "    </div>\n",
              "  </div>\n",
              "  "
            ]
          },
          "metadata": {},
          "execution_count": 77
        }
      ]
    },
    {
      "cell_type": "code",
      "source": [
        "hateval_data = hateval_data + \"hatEval all posts:\\n\"\n",
        "hateval_data = hateval_data + \"Number of English tweets: \" + str(df_hateval.shape[0]) + \"\\n\"\n",
        "hateval_data = hateval_data + \"Percentage of hate speech: \" + str((len(df_hateval.loc[df_hateval['hate speech'] == 1].index)*100)/df_hateval.shape[0]) + \"%\\n\"\n",
        "print(hateval_data)"
      ],
      "metadata": {
        "colab": {
          "base_uri": "https://localhost:8080/"
        },
        "outputId": "316219ab-4b79-4afc-fbd9-f0c52602f0ca",
        "id": "n2BLFyuMvGcT"
      },
      "execution_count": 78,
      "outputs": [
        {
          "output_type": "stream",
          "name": "stdout",
          "text": [
            "HATEVAL DATASET:\n",
            "------------------------------------------\n",
            "hatEval train set:\n",
            "Number of English tweets: 9000\n",
            "\n",
            "hatEval test set:\n",
            "Number of English tweets: 3000\n",
            "\n",
            "hatEval validation set:\n",
            "Number of English tweets: 1000\n",
            "\n",
            "hatEval all posts:\n",
            "Number of English tweets: 13000\n",
            "Percentage of hate speech: 42.07692307692308%\n",
            "\n"
          ]
        }
      ]
    },
    {
      "cell_type": "markdown",
      "source": [
        "###[EXIST](http://journal.sepln.org/sepln/ojs/ojs/index.php/pln/article/viewFile/6389/3809)"
      ],
      "metadata": {
        "id": "q5UlnPhRvGcT"
      }
    },
    {
      "cell_type": "code",
      "source": [
        "exist_data = \"EXIST DATASET:\\n------------------------------------------\\n\""
      ],
      "metadata": {
        "id": "8B9aQ0WZvGcT"
      },
      "execution_count": 79,
      "outputs": []
    },
    {
      "cell_type": "code",
      "source": [
        "exist_data = exist_data + \"EXIST train set:\\n\"\n",
        "exist_data = exist_data + \"Number of tweets: \" + str(df_exist_train.shape[0]) + \"\\n\"\n",
        "#Choose corresponding language\n",
        "df_exist_train = df_exist_train[df_exist_train['language']==\"en\"]\n",
        "exist_data = exist_data + \"Number of English tweets: \" + str(df_exist_train.shape[0]) + \"\\n\\n\"\n",
        "#We just use the first task (binary value: sexist or non-sexist)\n",
        "df_exist_train['task1'] = df_exist_train['task1'].replace(['non-sexist'],0)\n",
        "df_exist_train['task1'] = df_exist_train['task1'].replace(['sexist'],1)\n",
        "df_exist_train = df_exist_train[['text','task1']]\n",
        "df_exist_train.rename(columns = {'task1':'hate speech'}, inplace = True)"
      ],
      "metadata": {
        "id": "VFOffElovGcT"
      },
      "execution_count": 80,
      "outputs": []
    },
    {
      "cell_type": "code",
      "source": [
        "exist_data = exist_data + \"EXIST test set:\\n\"\n",
        "exist_data = exist_data + \"Number of tweets: \" + str(df_exist_test.shape[0]) + \"\\n\"\n",
        "#Choose corresponding language\n",
        "df_exist_test = df_exist_test[df_exist_test['language']==\"en\"]\n",
        "exist_data = exist_data + \"Number of English tweets: \" + str(df_exist_test.shape[0]) + \"\\n\\n\"\n",
        "#We just use the first task (binary value: sexist or non-sexist)\n",
        "df_exist_test['task1'] = df_exist_test['task1'].replace(['non-sexist'],0)\n",
        "df_exist_test['task1'] = df_exist_test['task1'].replace(['sexist'],1)\n",
        "df_exist_test = df_exist_test[['text','task1']]\n",
        "df_exist_test.rename(columns = {'task1':'hate speech'}, inplace = True)"
      ],
      "metadata": {
        "id": "qjOc5zIBvGcT"
      },
      "execution_count": 81,
      "outputs": []
    },
    {
      "cell_type": "code",
      "source": [
        "df_exist = pd.concat([df_exist_train, df_exist_test])"
      ],
      "metadata": {
        "id": "wRQCmznWvGcT"
      },
      "execution_count": 82,
      "outputs": []
    },
    {
      "cell_type": "code",
      "source": [
        "df_exist"
      ],
      "metadata": {
        "colab": {
          "base_uri": "https://localhost:8080/",
          "height": 424
        },
        "id": "-jgoXZug0A-1",
        "outputId": "e0184779-e5c9-4045-df18-f6337ea5cdfd"
      },
      "execution_count": 83,
      "outputs": [
        {
          "output_type": "execute_result",
          "data": {
            "text/plain": [
              "                                                   text  hate speech\n",
              "0     She calls herself \"anti-feminazi\" how about sh...            1\n",
              "1     Now, back to these women, the brave and the be...            0\n",
              "2     @CurvyBandida @Xalynne_B Wow, your skirt is ve...            1\n",
              "3     @AurelieGuiboud Incredible!  Beautiful!But I l...            0\n",
              "4     i find it extremely hard to believe that kelly...            0\n",
              "...                                                 ...          ...\n",
              "2203  @Hazel08539106 @hatterme123 @lilhazelnuttt You...            0\n",
              "2204  how are you, a grown ass woman that’s literall...            0\n",
              "2205  Another gold digger looking to make money off ...            1\n",
              "2206  We have another first!! So glad to see women d...            0\n",
              "2207  When Simps &amp; Beta can run system &amp; be ...            1\n",
              "\n",
              "[5644 rows x 2 columns]"
            ],
            "text/html": [
              "\n",
              "  <div id=\"df-4ea373d5-0b32-4d22-9f89-9c4fa3ab007f\">\n",
              "    <div class=\"colab-df-container\">\n",
              "      <div>\n",
              "<style scoped>\n",
              "    .dataframe tbody tr th:only-of-type {\n",
              "        vertical-align: middle;\n",
              "    }\n",
              "\n",
              "    .dataframe tbody tr th {\n",
              "        vertical-align: top;\n",
              "    }\n",
              "\n",
              "    .dataframe thead th {\n",
              "        text-align: right;\n",
              "    }\n",
              "</style>\n",
              "<table border=\"1\" class=\"dataframe\">\n",
              "  <thead>\n",
              "    <tr style=\"text-align: right;\">\n",
              "      <th></th>\n",
              "      <th>text</th>\n",
              "      <th>hate speech</th>\n",
              "    </tr>\n",
              "  </thead>\n",
              "  <tbody>\n",
              "    <tr>\n",
              "      <th>0</th>\n",
              "      <td>She calls herself \"anti-feminazi\" how about sh...</td>\n",
              "      <td>1</td>\n",
              "    </tr>\n",
              "    <tr>\n",
              "      <th>1</th>\n",
              "      <td>Now, back to these women, the brave and the be...</td>\n",
              "      <td>0</td>\n",
              "    </tr>\n",
              "    <tr>\n",
              "      <th>2</th>\n",
              "      <td>@CurvyBandida @Xalynne_B Wow, your skirt is ve...</td>\n",
              "      <td>1</td>\n",
              "    </tr>\n",
              "    <tr>\n",
              "      <th>3</th>\n",
              "      <td>@AurelieGuiboud Incredible!  Beautiful!But I l...</td>\n",
              "      <td>0</td>\n",
              "    </tr>\n",
              "    <tr>\n",
              "      <th>4</th>\n",
              "      <td>i find it extremely hard to believe that kelly...</td>\n",
              "      <td>0</td>\n",
              "    </tr>\n",
              "    <tr>\n",
              "      <th>...</th>\n",
              "      <td>...</td>\n",
              "      <td>...</td>\n",
              "    </tr>\n",
              "    <tr>\n",
              "      <th>2203</th>\n",
              "      <td>@Hazel08539106 @hatterme123 @lilhazelnuttt You...</td>\n",
              "      <td>0</td>\n",
              "    </tr>\n",
              "    <tr>\n",
              "      <th>2204</th>\n",
              "      <td>how are you, a grown ass woman that’s literall...</td>\n",
              "      <td>0</td>\n",
              "    </tr>\n",
              "    <tr>\n",
              "      <th>2205</th>\n",
              "      <td>Another gold digger looking to make money off ...</td>\n",
              "      <td>1</td>\n",
              "    </tr>\n",
              "    <tr>\n",
              "      <th>2206</th>\n",
              "      <td>We have another first!! So glad to see women d...</td>\n",
              "      <td>0</td>\n",
              "    </tr>\n",
              "    <tr>\n",
              "      <th>2207</th>\n",
              "      <td>When Simps &amp;amp; Beta can run system &amp;amp; be ...</td>\n",
              "      <td>1</td>\n",
              "    </tr>\n",
              "  </tbody>\n",
              "</table>\n",
              "<p>5644 rows × 2 columns</p>\n",
              "</div>\n",
              "      <button class=\"colab-df-convert\" onclick=\"convertToInteractive('df-4ea373d5-0b32-4d22-9f89-9c4fa3ab007f')\"\n",
              "              title=\"Convert this dataframe to an interactive table.\"\n",
              "              style=\"display:none;\">\n",
              "        \n",
              "  <svg xmlns=\"http://www.w3.org/2000/svg\" height=\"24px\"viewBox=\"0 0 24 24\"\n",
              "       width=\"24px\">\n",
              "    <path d=\"M0 0h24v24H0V0z\" fill=\"none\"/>\n",
              "    <path d=\"M18.56 5.44l.94 2.06.94-2.06 2.06-.94-2.06-.94-.94-2.06-.94 2.06-2.06.94zm-11 1L8.5 8.5l.94-2.06 2.06-.94-2.06-.94L8.5 2.5l-.94 2.06-2.06.94zm10 10l.94 2.06.94-2.06 2.06-.94-2.06-.94-.94-2.06-.94 2.06-2.06.94z\"/><path d=\"M17.41 7.96l-1.37-1.37c-.4-.4-.92-.59-1.43-.59-.52 0-1.04.2-1.43.59L10.3 9.45l-7.72 7.72c-.78.78-.78 2.05 0 2.83L4 21.41c.39.39.9.59 1.41.59.51 0 1.02-.2 1.41-.59l7.78-7.78 2.81-2.81c.8-.78.8-2.07 0-2.86zM5.41 20L4 18.59l7.72-7.72 1.47 1.35L5.41 20z\"/>\n",
              "  </svg>\n",
              "      </button>\n",
              "      \n",
              "  <style>\n",
              "    .colab-df-container {\n",
              "      display:flex;\n",
              "      flex-wrap:wrap;\n",
              "      gap: 12px;\n",
              "    }\n",
              "\n",
              "    .colab-df-convert {\n",
              "      background-color: #E8F0FE;\n",
              "      border: none;\n",
              "      border-radius: 50%;\n",
              "      cursor: pointer;\n",
              "      display: none;\n",
              "      fill: #1967D2;\n",
              "      height: 32px;\n",
              "      padding: 0 0 0 0;\n",
              "      width: 32px;\n",
              "    }\n",
              "\n",
              "    .colab-df-convert:hover {\n",
              "      background-color: #E2EBFA;\n",
              "      box-shadow: 0px 1px 2px rgba(60, 64, 67, 0.3), 0px 1px 3px 1px rgba(60, 64, 67, 0.15);\n",
              "      fill: #174EA6;\n",
              "    }\n",
              "\n",
              "    [theme=dark] .colab-df-convert {\n",
              "      background-color: #3B4455;\n",
              "      fill: #D2E3FC;\n",
              "    }\n",
              "\n",
              "    [theme=dark] .colab-df-convert:hover {\n",
              "      background-color: #434B5C;\n",
              "      box-shadow: 0px 1px 3px 1px rgba(0, 0, 0, 0.15);\n",
              "      filter: drop-shadow(0px 1px 2px rgba(0, 0, 0, 0.3));\n",
              "      fill: #FFFFFF;\n",
              "    }\n",
              "  </style>\n",
              "\n",
              "      <script>\n",
              "        const buttonEl =\n",
              "          document.querySelector('#df-4ea373d5-0b32-4d22-9f89-9c4fa3ab007f button.colab-df-convert');\n",
              "        buttonEl.style.display =\n",
              "          google.colab.kernel.accessAllowed ? 'block' : 'none';\n",
              "\n",
              "        async function convertToInteractive(key) {\n",
              "          const element = document.querySelector('#df-4ea373d5-0b32-4d22-9f89-9c4fa3ab007f');\n",
              "          const dataTable =\n",
              "            await google.colab.kernel.invokeFunction('convertToInteractive',\n",
              "                                                     [key], {});\n",
              "          if (!dataTable) return;\n",
              "\n",
              "          const docLinkHtml = 'Like what you see? Visit the ' +\n",
              "            '<a target=\"_blank\" href=https://colab.research.google.com/notebooks/data_table.ipynb>data table notebook</a>'\n",
              "            + ' to learn more about interactive tables.';\n",
              "          element.innerHTML = '';\n",
              "          dataTable['output_type'] = 'display_data';\n",
              "          await google.colab.output.renderOutput(dataTable, element);\n",
              "          const docLink = document.createElement('div');\n",
              "          docLink.innerHTML = docLinkHtml;\n",
              "          element.appendChild(docLink);\n",
              "        }\n",
              "      </script>\n",
              "    </div>\n",
              "  </div>\n",
              "  "
            ]
          },
          "metadata": {},
          "execution_count": 83
        }
      ]
    },
    {
      "cell_type": "code",
      "source": [
        "exist_data = exist_data + \"EXIST all posts:\\n\"\n",
        "exist_data = exist_data + \"Number of English tweets: \" + str(df_exist.shape[0]) + \"\\n\"\n",
        "exist_data = exist_data + \"Percentage of hate speech: \" + str((len(df_exist.loc[df_exist['hate speech'] == 1].index)*100)/df_exist.shape[0]) + \"%\\n\"\n",
        "print(exist_data)"
      ],
      "metadata": {
        "colab": {
          "base_uri": "https://localhost:8080/"
        },
        "outputId": "38877008-b3e4-49f3-95c7-4893f82f42d7",
        "id": "C2jpkIZ_vGcT"
      },
      "execution_count": 84,
      "outputs": [
        {
          "output_type": "stream",
          "name": "stdout",
          "text": [
            "EXIST DATASET:\n",
            "------------------------------------------\n",
            "EXIST train set:\n",
            "Number of tweets: 6977\n",
            "Number of English tweets: 3436\n",
            "\n",
            "EXIST test set:\n",
            "Number of tweets: 4368\n",
            "Number of English tweets: 2208\n",
            "\n",
            "EXIST all posts:\n",
            "Number of English tweets: 5644\n",
            "Percentage of hate speech: 49.50389794472006%\n",
            "\n"
          ]
        }
      ]
    },
    {
      "cell_type": "markdown",
      "source": [
        "###[Automated Hate Speech Detection](https://ojs.aaai.org/index.php/ICWSM/article/view/14955/14805)\n"
      ],
      "metadata": {
        "id": "GsgRm1okDlVg"
      }
    },
    {
      "cell_type": "code",
      "source": [
        "aut_hate_data = \"AUTOMATED HATE SPEECH DETECTION DATASET:\\n------------------------------------------\\n\""
      ],
      "metadata": {
        "id": "b7gGGVlsyyC0"
      },
      "execution_count": 85,
      "outputs": []
    },
    {
      "cell_type": "code",
      "source": [
        "aut_hate_data = aut_hate_data + \"Number of English tweets: \" + str(df_aut_hate.shape[0]) + \"\\n\"\n",
        "#Replacing class names\n",
        "#Original classes: 0 - hate speech; 1 - offensive  language; 2 - neither\"\n",
        "#We transform that into 1 (hate speech) and 0 (not hate speech)\n",
        "df_aut_hate['class'] = df_aut_hate['class'].replace([1],2)\n",
        "df_aut_hate['class'] = df_aut_hate['class'].replace([0],1)\n",
        "df_aut_hate['class'] = df_aut_hate['class'].replace([2],0)\n",
        "df_aut_hate = df_aut_hate[['class','tweet']]\n",
        "df_aut_hate.rename(columns = {'class':'hate speech'}, inplace = True)\n",
        "df_aut_hate.rename(columns = {'tweet':'text'}, inplace = True)\n",
        "aut_hate_data = aut_hate_data + \"Percentage of hate speech: \" + str((len(df_aut_hate.loc[df_aut_hate['hate speech'] == 1].index)*100)/df_aut_hate.shape[0]) + \"%\\n\""
      ],
      "metadata": {
        "id": "N809VsN4yyC1"
      },
      "execution_count": 86,
      "outputs": []
    },
    {
      "cell_type": "code",
      "source": [
        "df_aut_hate"
      ],
      "metadata": {
        "colab": {
          "base_uri": "https://localhost:8080/",
          "height": 424
        },
        "id": "axdzihm_wZW0",
        "outputId": "1ea4ebb3-93b3-46fd-a086-24eca246c083"
      },
      "execution_count": 87,
      "outputs": [
        {
          "output_type": "execute_result",
          "data": {
            "text/plain": [
              "       hate speech                                               text\n",
              "0                0  !!! RT @mayasolovely: As a woman you shouldn't...\n",
              "1                0  !!!!! RT @mleew17: boy dats cold...tyga dwn ba...\n",
              "2                0  !!!!!!! RT @UrKindOfBrand Dawg!!!! RT @80sbaby...\n",
              "3                0  !!!!!!!!! RT @C_G_Anderson: @viva_based she lo...\n",
              "4                0  !!!!!!!!!!!!! RT @ShenikaRoberts: The shit you...\n",
              "...            ...                                                ...\n",
              "24778            0  you's a muthaf***in lie &#8220;@LifeAsKing: @2...\n",
              "24779            0  you've gone and broke the wrong heart baby, an...\n",
              "24780            0  young buck wanna eat!!.. dat nigguh like I ain...\n",
              "24781            0              youu got wild bitches tellin you lies\n",
              "24782            0  ~~Ruffled | Ntac Eileen Dahlia - Beautiful col...\n",
              "\n",
              "[24783 rows x 2 columns]"
            ],
            "text/html": [
              "\n",
              "  <div id=\"df-9dacf316-49f7-498f-9b08-fd2c03e17731\">\n",
              "    <div class=\"colab-df-container\">\n",
              "      <div>\n",
              "<style scoped>\n",
              "    .dataframe tbody tr th:only-of-type {\n",
              "        vertical-align: middle;\n",
              "    }\n",
              "\n",
              "    .dataframe tbody tr th {\n",
              "        vertical-align: top;\n",
              "    }\n",
              "\n",
              "    .dataframe thead th {\n",
              "        text-align: right;\n",
              "    }\n",
              "</style>\n",
              "<table border=\"1\" class=\"dataframe\">\n",
              "  <thead>\n",
              "    <tr style=\"text-align: right;\">\n",
              "      <th></th>\n",
              "      <th>hate speech</th>\n",
              "      <th>text</th>\n",
              "    </tr>\n",
              "  </thead>\n",
              "  <tbody>\n",
              "    <tr>\n",
              "      <th>0</th>\n",
              "      <td>0</td>\n",
              "      <td>!!! RT @mayasolovely: As a woman you shouldn't...</td>\n",
              "    </tr>\n",
              "    <tr>\n",
              "      <th>1</th>\n",
              "      <td>0</td>\n",
              "      <td>!!!!! RT @mleew17: boy dats cold...tyga dwn ba...</td>\n",
              "    </tr>\n",
              "    <tr>\n",
              "      <th>2</th>\n",
              "      <td>0</td>\n",
              "      <td>!!!!!!! RT @UrKindOfBrand Dawg!!!! RT @80sbaby...</td>\n",
              "    </tr>\n",
              "    <tr>\n",
              "      <th>3</th>\n",
              "      <td>0</td>\n",
              "      <td>!!!!!!!!! RT @C_G_Anderson: @viva_based she lo...</td>\n",
              "    </tr>\n",
              "    <tr>\n",
              "      <th>4</th>\n",
              "      <td>0</td>\n",
              "      <td>!!!!!!!!!!!!! RT @ShenikaRoberts: The shit you...</td>\n",
              "    </tr>\n",
              "    <tr>\n",
              "      <th>...</th>\n",
              "      <td>...</td>\n",
              "      <td>...</td>\n",
              "    </tr>\n",
              "    <tr>\n",
              "      <th>24778</th>\n",
              "      <td>0</td>\n",
              "      <td>you's a muthaf***in lie &amp;#8220;@LifeAsKing: @2...</td>\n",
              "    </tr>\n",
              "    <tr>\n",
              "      <th>24779</th>\n",
              "      <td>0</td>\n",
              "      <td>you've gone and broke the wrong heart baby, an...</td>\n",
              "    </tr>\n",
              "    <tr>\n",
              "      <th>24780</th>\n",
              "      <td>0</td>\n",
              "      <td>young buck wanna eat!!.. dat nigguh like I ain...</td>\n",
              "    </tr>\n",
              "    <tr>\n",
              "      <th>24781</th>\n",
              "      <td>0</td>\n",
              "      <td>youu got wild bitches tellin you lies</td>\n",
              "    </tr>\n",
              "    <tr>\n",
              "      <th>24782</th>\n",
              "      <td>0</td>\n",
              "      <td>~~Ruffled | Ntac Eileen Dahlia - Beautiful col...</td>\n",
              "    </tr>\n",
              "  </tbody>\n",
              "</table>\n",
              "<p>24783 rows × 2 columns</p>\n",
              "</div>\n",
              "      <button class=\"colab-df-convert\" onclick=\"convertToInteractive('df-9dacf316-49f7-498f-9b08-fd2c03e17731')\"\n",
              "              title=\"Convert this dataframe to an interactive table.\"\n",
              "              style=\"display:none;\">\n",
              "        \n",
              "  <svg xmlns=\"http://www.w3.org/2000/svg\" height=\"24px\"viewBox=\"0 0 24 24\"\n",
              "       width=\"24px\">\n",
              "    <path d=\"M0 0h24v24H0V0z\" fill=\"none\"/>\n",
              "    <path d=\"M18.56 5.44l.94 2.06.94-2.06 2.06-.94-2.06-.94-.94-2.06-.94 2.06-2.06.94zm-11 1L8.5 8.5l.94-2.06 2.06-.94-2.06-.94L8.5 2.5l-.94 2.06-2.06.94zm10 10l.94 2.06.94-2.06 2.06-.94-2.06-.94-.94-2.06-.94 2.06-2.06.94z\"/><path d=\"M17.41 7.96l-1.37-1.37c-.4-.4-.92-.59-1.43-.59-.52 0-1.04.2-1.43.59L10.3 9.45l-7.72 7.72c-.78.78-.78 2.05 0 2.83L4 21.41c.39.39.9.59 1.41.59.51 0 1.02-.2 1.41-.59l7.78-7.78 2.81-2.81c.8-.78.8-2.07 0-2.86zM5.41 20L4 18.59l7.72-7.72 1.47 1.35L5.41 20z\"/>\n",
              "  </svg>\n",
              "      </button>\n",
              "      \n",
              "  <style>\n",
              "    .colab-df-container {\n",
              "      display:flex;\n",
              "      flex-wrap:wrap;\n",
              "      gap: 12px;\n",
              "    }\n",
              "\n",
              "    .colab-df-convert {\n",
              "      background-color: #E8F0FE;\n",
              "      border: none;\n",
              "      border-radius: 50%;\n",
              "      cursor: pointer;\n",
              "      display: none;\n",
              "      fill: #1967D2;\n",
              "      height: 32px;\n",
              "      padding: 0 0 0 0;\n",
              "      width: 32px;\n",
              "    }\n",
              "\n",
              "    .colab-df-convert:hover {\n",
              "      background-color: #E2EBFA;\n",
              "      box-shadow: 0px 1px 2px rgba(60, 64, 67, 0.3), 0px 1px 3px 1px rgba(60, 64, 67, 0.15);\n",
              "      fill: #174EA6;\n",
              "    }\n",
              "\n",
              "    [theme=dark] .colab-df-convert {\n",
              "      background-color: #3B4455;\n",
              "      fill: #D2E3FC;\n",
              "    }\n",
              "\n",
              "    [theme=dark] .colab-df-convert:hover {\n",
              "      background-color: #434B5C;\n",
              "      box-shadow: 0px 1px 3px 1px rgba(0, 0, 0, 0.15);\n",
              "      filter: drop-shadow(0px 1px 2px rgba(0, 0, 0, 0.3));\n",
              "      fill: #FFFFFF;\n",
              "    }\n",
              "  </style>\n",
              "\n",
              "      <script>\n",
              "        const buttonEl =\n",
              "          document.querySelector('#df-9dacf316-49f7-498f-9b08-fd2c03e17731 button.colab-df-convert');\n",
              "        buttonEl.style.display =\n",
              "          google.colab.kernel.accessAllowed ? 'block' : 'none';\n",
              "\n",
              "        async function convertToInteractive(key) {\n",
              "          const element = document.querySelector('#df-9dacf316-49f7-498f-9b08-fd2c03e17731');\n",
              "          const dataTable =\n",
              "            await google.colab.kernel.invokeFunction('convertToInteractive',\n",
              "                                                     [key], {});\n",
              "          if (!dataTable) return;\n",
              "\n",
              "          const docLinkHtml = 'Like what you see? Visit the ' +\n",
              "            '<a target=\"_blank\" href=https://colab.research.google.com/notebooks/data_table.ipynb>data table notebook</a>'\n",
              "            + ' to learn more about interactive tables.';\n",
              "          element.innerHTML = '';\n",
              "          dataTable['output_type'] = 'display_data';\n",
              "          await google.colab.output.renderOutput(dataTable, element);\n",
              "          const docLink = document.createElement('div');\n",
              "          docLink.innerHTML = docLinkHtml;\n",
              "          element.appendChild(docLink);\n",
              "        }\n",
              "      </script>\n",
              "    </div>\n",
              "  </div>\n",
              "  "
            ]
          },
          "metadata": {},
          "execution_count": 87
        }
      ]
    },
    {
      "cell_type": "code",
      "source": [
        "print(aut_hate_data)"
      ],
      "metadata": {
        "colab": {
          "base_uri": "https://localhost:8080/"
        },
        "id": "rHdfrH5e0wKE",
        "outputId": "ed4143fc-fb54-472f-b055-2e884b98fb77"
      },
      "execution_count": 88,
      "outputs": [
        {
          "output_type": "stream",
          "name": "stdout",
          "text": [
            "AUTOMATED HATE SPEECH DETECTION DATASET:\n",
            "------------------------------------------\n",
            "Number of English tweets: 24783\n",
            "Percentage of hate speech: 5.770084332001775%\n",
            "\n"
          ]
        }
      ]
    },
    {
      "cell_type": "markdown",
      "source": [
        "###[Hateful Symbols or Hateful People?](https://aclanthology.org/N16-2013.pdf)"
      ],
      "metadata": {
        "id": "3jjX9RC4DtyC"
      }
    },
    {
      "cell_type": "markdown",
      "source": [
        "####Obtaining tweet text"
      ],
      "metadata": {
        "id": "yvdkxXiGKuPu"
      }
    },
    {
      "cell_type": "code",
      "source": [
        "df_hatesym.rename(columns = {0:'text'}, inplace = True)\n",
        "df_hatesym.rename(columns = {1:'hate speech'}, inplace = True)\n",
        "df_hatesym['hate speech'] = df_hatesym['hate speech'].replace(['none'],0)\n",
        "df_hatesym['hate speech'] = df_hatesym['hate speech'].replace(['sexism', 'racism'],1)"
      ],
      "metadata": {
        "id": "sZHQ1XphKxSh"
      },
      "execution_count": 24,
      "outputs": []
    },
    {
      "cell_type": "code",
      "source": [
        "for idx, row in df_hatesym.iterrows():\n",
        "  #This condition is for when execution is stopped and later on resumed\n",
        "  if not any(c.isalpha() for c in str(df_hatesym['text'][idx])):\n",
        "    try:\n",
        "      if api.get_status(df_hatesym['text'][idx]):\n",
        "        tweetFetched = api.get_status(df_hatesym['text'][idx])\n",
        "        df_hatesym['text'][idx] = tweetFetched.text\n",
        "    except tweepy.TweepError as e:\n",
        "      # print (e.api_code)\n",
        "      # print (getExceptionMessage(e.reason))\n",
        "      df_hatesym['text'][idx] = \"TWITTER__ERROR\" + getExceptionMessage(e.reason)\n",
        "    #We save the dataframe every line to not lose any progress (in case this cell would stop after 6+ hours!)\n",
        "    df_hatesym.to_csv('/content/drive/MyDrive/TFG/data/hatesym_data.csv', index=False)  \n"
      ],
      "metadata": {
        "id": "XA8DKyRpKqf_"
      },
      "execution_count": 125,
      "outputs": []
    },
    {
      "cell_type": "markdown",
      "source": [
        "####Rest of preprocessing\n"
      ],
      "metadata": {
        "id": "Ak1Ar0R3KuPu"
      }
    },
    {
      "cell_type": "code",
      "source": [
        "df_hatesym = pd.read_csv('/content/drive/MyDrive/TFG/data/hatesym_data.csv', engine=\"python\")\n",
        "#This dataframe contains some rows corrected (check out next dataset's process to see why)\n",
        "df_hatesym_correct = pd.read_csv('/content/drive/MyDrive/TFG/data/hatesym_data_correctclass.csv', engine=\"python\")"
      ],
      "metadata": {
        "id": "SPaoQMrjKqgA"
      },
      "execution_count": 89,
      "outputs": []
    },
    {
      "cell_type": "code",
      "source": [
        "hatesym_data = \"HATEFUL SYMBOLS OR HATEFUL PEOPLE? DATASET:\\n------------------------------------------\\n\"\n",
        "hatesym_data = hatesym_data + \"Before row elimination:\\n\"\n",
        "hatesym_data = hatesym_data + \"Number of English tweets: \" + str(df_hatesym.shape[0]) + \"\\n\"\n",
        "hatesym_data = hatesym_data + \"Percentage of hate speech: \" + str((len(df_hatesym.loc[df_hatesym['hate speech'] == 1].index)*100)/df_hatesym.shape[0]) + \"%\\n\\n\""
      ],
      "metadata": {
        "id": "6H-k0QQLdNiy"
      },
      "execution_count": 90,
      "outputs": []
    },
    {
      "cell_type": "code",
      "source": [
        "for idx, row in df_hatesym.iterrows():\n",
        "  if \"TWITTER__ERROR\" in row.text:\n",
        "    df_hatesym = df_hatesym.drop(labels=idx, axis=0)"
      ],
      "metadata": {
        "id": "vJ0wBIDJdNiz"
      },
      "execution_count": 91,
      "outputs": []
    },
    {
      "cell_type": "code",
      "source": [
        "hatesym_data = hatesym_data + \"After row elimination:\\n\"\n",
        "hatesym_data = hatesym_data + \"Number of English tweets: \" + str(df_hatesym.shape[0]) + \"\\n\"\n",
        "hatesym_data = hatesym_data + \"Percentage of hate speech: \" + str((len(df_hatesym.loc[df_hatesym['hate speech'] == 1].index)*100)/df_hatesym.shape[0]) + \"%\\n\\n\""
      ],
      "metadata": {
        "id": "tRRfD1YvdNiz"
      },
      "execution_count": 92,
      "outputs": []
    },
    {
      "cell_type": "code",
      "source": [
        "#In Waseem's Are you Racist or Am I seeing Things? dataset, some of the tweets overlap the ones used here, and I manually checked tweets where classification in both datasets is different\n",
        "hatesym_data = hatesym_data + \"After small row correction:\\n\"\n",
        "hatesym_data = hatesym_data + \"Number of English tweets: \" + str(df_hatesym_correct.shape[0]) + \"\\n\"\n",
        "hatesym_data = hatesym_data + \"Percentage of hate speech: \" + str((len(df_hatesym_correct.loc[df_hatesym_correct['hate speech'] == 1].index)*100)/df_hatesym_correct.shape[0]) + \"%\\n\\n\""
      ],
      "metadata": {
        "id": "g9fss2q-Wzlv"
      },
      "execution_count": 93,
      "outputs": []
    },
    {
      "cell_type": "code",
      "source": [
        "for idx, row in df_hatesym_correct.iterrows():\n",
        "  if \"TWITTER__ERROR\" in row.text:\n",
        "    df_hatesym_correct = df_hatesym_correct.drop(labels=idx, axis=0)"
      ],
      "metadata": {
        "id": "DlSqQHGGXhCv"
      },
      "execution_count": 94,
      "outputs": []
    },
    {
      "cell_type": "code",
      "source": [
        "hatesym_data = hatesym_data + \"After small row correction and row elimination:\\n\"\n",
        "hatesym_data = hatesym_data + \"Number of English tweets: \" + str(df_hatesym_correct.shape[0]) + \"\\n\"\n",
        "hatesym_data = hatesym_data + \"Percentage of hate speech: \" + str((len(df_hatesym_correct.loc[df_hatesym_correct['hate speech'] == 1].index)*100)/df_hatesym_correct.shape[0]) + \"%\\n\\n\""
      ],
      "metadata": {
        "id": "ujHzlpYBXiNl"
      },
      "execution_count": 95,
      "outputs": []
    },
    {
      "cell_type": "code",
      "source": [
        "df_hatesym = df_hatesym_correct"
      ],
      "metadata": {
        "id": "s2ohUg9sXV0i"
      },
      "execution_count": 96,
      "outputs": []
    },
    {
      "cell_type": "code",
      "source": [
        "df_hatesym"
      ],
      "metadata": {
        "colab": {
          "base_uri": "https://localhost:8080/",
          "height": 424
        },
        "id": "BGA0nf6L7Rqd",
        "outputId": "121873eb-5ee8-4c4c-a048-eccbe901e8e1"
      },
      "execution_count": 97,
      "outputs": [
        {
          "output_type": "execute_result",
          "data": {
            "text/plain": [
              "                                                    text  hate speech\n",
              "0      So Drasko just said he was impressed the girls...          1.0\n",
              "1      Drasko they didn't cook half a bird you idiot ...          1.0\n",
              "2      Hopefully someone cooks Drasko in the next ep ...          1.0\n",
              "3      of course you were born in serbia...you're as ...          1.0\n",
              "4      These girls are the equivalent of the irritati...          1.0\n",
              "...                                                  ...          ...\n",
              "16825                                          @ProoN ❤️          0.0\n",
              "16826  RT @Transition: @freebsdgirl just so I’m clear...          0.0\n",
              "16828  RT @Leonard_Delaney: @freebsdgirl I know! Holy...          0.0\n",
              "16829  FLOSS Weekly, open source projects, and paying...          0.0\n",
              "16907                    \"@panelrific: Let's go 🐧🐧🐧🐧🐧🐧😃\"          0.0\n",
              "\n",
              "[10242 rows x 2 columns]"
            ],
            "text/html": [
              "\n",
              "  <div id=\"df-d810c705-4361-470f-bb30-573751bab8d3\">\n",
              "    <div class=\"colab-df-container\">\n",
              "      <div>\n",
              "<style scoped>\n",
              "    .dataframe tbody tr th:only-of-type {\n",
              "        vertical-align: middle;\n",
              "    }\n",
              "\n",
              "    .dataframe tbody tr th {\n",
              "        vertical-align: top;\n",
              "    }\n",
              "\n",
              "    .dataframe thead th {\n",
              "        text-align: right;\n",
              "    }\n",
              "</style>\n",
              "<table border=\"1\" class=\"dataframe\">\n",
              "  <thead>\n",
              "    <tr style=\"text-align: right;\">\n",
              "      <th></th>\n",
              "      <th>text</th>\n",
              "      <th>hate speech</th>\n",
              "    </tr>\n",
              "  </thead>\n",
              "  <tbody>\n",
              "    <tr>\n",
              "      <th>0</th>\n",
              "      <td>So Drasko just said he was impressed the girls...</td>\n",
              "      <td>1.0</td>\n",
              "    </tr>\n",
              "    <tr>\n",
              "      <th>1</th>\n",
              "      <td>Drasko they didn't cook half a bird you idiot ...</td>\n",
              "      <td>1.0</td>\n",
              "    </tr>\n",
              "    <tr>\n",
              "      <th>2</th>\n",
              "      <td>Hopefully someone cooks Drasko in the next ep ...</td>\n",
              "      <td>1.0</td>\n",
              "    </tr>\n",
              "    <tr>\n",
              "      <th>3</th>\n",
              "      <td>of course you were born in serbia...you're as ...</td>\n",
              "      <td>1.0</td>\n",
              "    </tr>\n",
              "    <tr>\n",
              "      <th>4</th>\n",
              "      <td>These girls are the equivalent of the irritati...</td>\n",
              "      <td>1.0</td>\n",
              "    </tr>\n",
              "    <tr>\n",
              "      <th>...</th>\n",
              "      <td>...</td>\n",
              "      <td>...</td>\n",
              "    </tr>\n",
              "    <tr>\n",
              "      <th>16825</th>\n",
              "      <td>@ProoN ❤️</td>\n",
              "      <td>0.0</td>\n",
              "    </tr>\n",
              "    <tr>\n",
              "      <th>16826</th>\n",
              "      <td>RT @Transition: @freebsdgirl just so I’m clear...</td>\n",
              "      <td>0.0</td>\n",
              "    </tr>\n",
              "    <tr>\n",
              "      <th>16828</th>\n",
              "      <td>RT @Leonard_Delaney: @freebsdgirl I know! Holy...</td>\n",
              "      <td>0.0</td>\n",
              "    </tr>\n",
              "    <tr>\n",
              "      <th>16829</th>\n",
              "      <td>FLOSS Weekly, open source projects, and paying...</td>\n",
              "      <td>0.0</td>\n",
              "    </tr>\n",
              "    <tr>\n",
              "      <th>16907</th>\n",
              "      <td>\"@panelrific: Let's go 🐧🐧🐧🐧🐧🐧😃\"</td>\n",
              "      <td>0.0</td>\n",
              "    </tr>\n",
              "  </tbody>\n",
              "</table>\n",
              "<p>10242 rows × 2 columns</p>\n",
              "</div>\n",
              "      <button class=\"colab-df-convert\" onclick=\"convertToInteractive('df-d810c705-4361-470f-bb30-573751bab8d3')\"\n",
              "              title=\"Convert this dataframe to an interactive table.\"\n",
              "              style=\"display:none;\">\n",
              "        \n",
              "  <svg xmlns=\"http://www.w3.org/2000/svg\" height=\"24px\"viewBox=\"0 0 24 24\"\n",
              "       width=\"24px\">\n",
              "    <path d=\"M0 0h24v24H0V0z\" fill=\"none\"/>\n",
              "    <path d=\"M18.56 5.44l.94 2.06.94-2.06 2.06-.94-2.06-.94-.94-2.06-.94 2.06-2.06.94zm-11 1L8.5 8.5l.94-2.06 2.06-.94-2.06-.94L8.5 2.5l-.94 2.06-2.06.94zm10 10l.94 2.06.94-2.06 2.06-.94-2.06-.94-.94-2.06-.94 2.06-2.06.94z\"/><path d=\"M17.41 7.96l-1.37-1.37c-.4-.4-.92-.59-1.43-.59-.52 0-1.04.2-1.43.59L10.3 9.45l-7.72 7.72c-.78.78-.78 2.05 0 2.83L4 21.41c.39.39.9.59 1.41.59.51 0 1.02-.2 1.41-.59l7.78-7.78 2.81-2.81c.8-.78.8-2.07 0-2.86zM5.41 20L4 18.59l7.72-7.72 1.47 1.35L5.41 20z\"/>\n",
              "  </svg>\n",
              "      </button>\n",
              "      \n",
              "  <style>\n",
              "    .colab-df-container {\n",
              "      display:flex;\n",
              "      flex-wrap:wrap;\n",
              "      gap: 12px;\n",
              "    }\n",
              "\n",
              "    .colab-df-convert {\n",
              "      background-color: #E8F0FE;\n",
              "      border: none;\n",
              "      border-radius: 50%;\n",
              "      cursor: pointer;\n",
              "      display: none;\n",
              "      fill: #1967D2;\n",
              "      height: 32px;\n",
              "      padding: 0 0 0 0;\n",
              "      width: 32px;\n",
              "    }\n",
              "\n",
              "    .colab-df-convert:hover {\n",
              "      background-color: #E2EBFA;\n",
              "      box-shadow: 0px 1px 2px rgba(60, 64, 67, 0.3), 0px 1px 3px 1px rgba(60, 64, 67, 0.15);\n",
              "      fill: #174EA6;\n",
              "    }\n",
              "\n",
              "    [theme=dark] .colab-df-convert {\n",
              "      background-color: #3B4455;\n",
              "      fill: #D2E3FC;\n",
              "    }\n",
              "\n",
              "    [theme=dark] .colab-df-convert:hover {\n",
              "      background-color: #434B5C;\n",
              "      box-shadow: 0px 1px 3px 1px rgba(0, 0, 0, 0.15);\n",
              "      filter: drop-shadow(0px 1px 2px rgba(0, 0, 0, 0.3));\n",
              "      fill: #FFFFFF;\n",
              "    }\n",
              "  </style>\n",
              "\n",
              "      <script>\n",
              "        const buttonEl =\n",
              "          document.querySelector('#df-d810c705-4361-470f-bb30-573751bab8d3 button.colab-df-convert');\n",
              "        buttonEl.style.display =\n",
              "          google.colab.kernel.accessAllowed ? 'block' : 'none';\n",
              "\n",
              "        async function convertToInteractive(key) {\n",
              "          const element = document.querySelector('#df-d810c705-4361-470f-bb30-573751bab8d3');\n",
              "          const dataTable =\n",
              "            await google.colab.kernel.invokeFunction('convertToInteractive',\n",
              "                                                     [key], {});\n",
              "          if (!dataTable) return;\n",
              "\n",
              "          const docLinkHtml = 'Like what you see? Visit the ' +\n",
              "            '<a target=\"_blank\" href=https://colab.research.google.com/notebooks/data_table.ipynb>data table notebook</a>'\n",
              "            + ' to learn more about interactive tables.';\n",
              "          element.innerHTML = '';\n",
              "          dataTable['output_type'] = 'display_data';\n",
              "          await google.colab.output.renderOutput(dataTable, element);\n",
              "          const docLink = document.createElement('div');\n",
              "          docLink.innerHTML = docLinkHtml;\n",
              "          element.appendChild(docLink);\n",
              "        }\n",
              "      </script>\n",
              "    </div>\n",
              "  </div>\n",
              "  "
            ]
          },
          "metadata": {},
          "execution_count": 97
        }
      ]
    },
    {
      "cell_type": "code",
      "source": [
        "print(hatesym_data)"
      ],
      "metadata": {
        "colab": {
          "base_uri": "https://localhost:8080/"
        },
        "outputId": "3a82f17a-5136-4fa9-8976-af163069e9df",
        "id": "OXVeaWLHdNiz"
      },
      "execution_count": 98,
      "outputs": [
        {
          "output_type": "stream",
          "name": "stdout",
          "text": [
            "HATEFUL SYMBOLS OR HATEFUL PEOPLE? DATASET:\n",
            "------------------------------------------\n",
            "Before row elimination:\n",
            "Number of English tweets: 16909\n",
            "Percentage of hate speech: 31.628127032941038%\n",
            "\n",
            "After row elimination:\n",
            "Number of English tweets: 10242\n",
            "Percentage of hate speech: 26.303456356180433%\n",
            "\n",
            "After small row correction:\n",
            "Number of English tweets: 16909\n",
            "Percentage of hate speech: 31.59264297119877%\n",
            "\n",
            "After small row correction and row elimination:\n",
            "Number of English tweets: 10242\n",
            "Percentage of hate speech: 26.24487404803749%\n",
            "\n",
            "\n"
          ]
        }
      ]
    },
    {
      "cell_type": "markdown",
      "source": [
        "###[Are You a Racist or Am I Seeing Things?](https://aclanthology.org/W16-5618.pdf)"
      ],
      "metadata": {
        "id": "w88EiXHuDt5k"
      }
    },
    {
      "cell_type": "markdown",
      "source": [
        "\"Our data set\n",
        "extends the Waseem and Hovy (2016) data set by\n",
        "4, 033 tweets.\"\n",
        "\"Our data set is obtained by sampling tweets from the\n",
        "130k tweets extracted by Waseem and Hovy (2016).\""
      ],
      "metadata": {
        "id": "u-VpU7BM2y7t"
      }
    },
    {
      "cell_type": "markdown",
      "source": [
        "####Obtaining tweet text"
      ],
      "metadata": {
        "id": "tXDlozM6N_SN"
      }
    },
    {
      "cell_type": "code",
      "source": [
        "df_hatesym_ids = pd.read_csv('/content/NAACL_SRW_2016.csv', encoding='utf8', header= None)"
      ],
      "metadata": {
        "id": "dLmCuOsTm3b2"
      },
      "execution_count": 113,
      "outputs": []
    },
    {
      "cell_type": "code",
      "source": [
        "df_hatesym_ids.rename(columns = {0:'id'}, inplace = True)\n",
        "df_hatesym_ids.rename(columns = {1:'hs'}, inplace = True)\n",
        "df_hatesym_ids['hs'] = df_hatesym_ids['hs'].replace(['none'],0)\n",
        "df_hatesym_ids['hs'] = df_hatesym_ids['hs'].replace(['sexism', 'racism'],1)"
      ],
      "metadata": {
        "id": "OaNs_CCmnmxk"
      },
      "execution_count": 114,
      "outputs": []
    },
    {
      "cell_type": "code",
      "source": [
        "df_hatesym_ids.head()"
      ],
      "metadata": {
        "colab": {
          "base_uri": "https://localhost:8080/",
          "height": 206
        },
        "id": "FlD1RW7io67h",
        "outputId": "d2adfb60-f61c-4797-fca9-4655beed9378"
      },
      "execution_count": 127,
      "outputs": [
        {
          "output_type": "execute_result",
          "data": {
            "text/plain": [
              "                   id  hs\n",
              "0  572342978255048705   1\n",
              "1  572341498827522049   1\n",
              "2  572340476503724032   1\n",
              "3  572334712804384768   1\n",
              "4  572332655397629952   1"
            ],
            "text/html": [
              "\n",
              "  <div id=\"df-b513e9f1-bd60-4269-9a04-8ca80d3cf15e\">\n",
              "    <div class=\"colab-df-container\">\n",
              "      <div>\n",
              "<style scoped>\n",
              "    .dataframe tbody tr th:only-of-type {\n",
              "        vertical-align: middle;\n",
              "    }\n",
              "\n",
              "    .dataframe tbody tr th {\n",
              "        vertical-align: top;\n",
              "    }\n",
              "\n",
              "    .dataframe thead th {\n",
              "        text-align: right;\n",
              "    }\n",
              "</style>\n",
              "<table border=\"1\" class=\"dataframe\">\n",
              "  <thead>\n",
              "    <tr style=\"text-align: right;\">\n",
              "      <th></th>\n",
              "      <th>id</th>\n",
              "      <th>hs</th>\n",
              "    </tr>\n",
              "  </thead>\n",
              "  <tbody>\n",
              "    <tr>\n",
              "      <th>0</th>\n",
              "      <td>572342978255048705</td>\n",
              "      <td>1</td>\n",
              "    </tr>\n",
              "    <tr>\n",
              "      <th>1</th>\n",
              "      <td>572341498827522049</td>\n",
              "      <td>1</td>\n",
              "    </tr>\n",
              "    <tr>\n",
              "      <th>2</th>\n",
              "      <td>572340476503724032</td>\n",
              "      <td>1</td>\n",
              "    </tr>\n",
              "    <tr>\n",
              "      <th>3</th>\n",
              "      <td>572334712804384768</td>\n",
              "      <td>1</td>\n",
              "    </tr>\n",
              "    <tr>\n",
              "      <th>4</th>\n",
              "      <td>572332655397629952</td>\n",
              "      <td>1</td>\n",
              "    </tr>\n",
              "  </tbody>\n",
              "</table>\n",
              "</div>\n",
              "      <button class=\"colab-df-convert\" onclick=\"convertToInteractive('df-b513e9f1-bd60-4269-9a04-8ca80d3cf15e')\"\n",
              "              title=\"Convert this dataframe to an interactive table.\"\n",
              "              style=\"display:none;\">\n",
              "        \n",
              "  <svg xmlns=\"http://www.w3.org/2000/svg\" height=\"24px\"viewBox=\"0 0 24 24\"\n",
              "       width=\"24px\">\n",
              "    <path d=\"M0 0h24v24H0V0z\" fill=\"none\"/>\n",
              "    <path d=\"M18.56 5.44l.94 2.06.94-2.06 2.06-.94-2.06-.94-.94-2.06-.94 2.06-2.06.94zm-11 1L8.5 8.5l.94-2.06 2.06-.94-2.06-.94L8.5 2.5l-.94 2.06-2.06.94zm10 10l.94 2.06.94-2.06 2.06-.94-2.06-.94-.94-2.06-.94 2.06-2.06.94z\"/><path d=\"M17.41 7.96l-1.37-1.37c-.4-.4-.92-.59-1.43-.59-.52 0-1.04.2-1.43.59L10.3 9.45l-7.72 7.72c-.78.78-.78 2.05 0 2.83L4 21.41c.39.39.9.59 1.41.59.51 0 1.02-.2 1.41-.59l7.78-7.78 2.81-2.81c.8-.78.8-2.07 0-2.86zM5.41 20L4 18.59l7.72-7.72 1.47 1.35L5.41 20z\"/>\n",
              "  </svg>\n",
              "      </button>\n",
              "      \n",
              "  <style>\n",
              "    .colab-df-container {\n",
              "      display:flex;\n",
              "      flex-wrap:wrap;\n",
              "      gap: 12px;\n",
              "    }\n",
              "\n",
              "    .colab-df-convert {\n",
              "      background-color: #E8F0FE;\n",
              "      border: none;\n",
              "      border-radius: 50%;\n",
              "      cursor: pointer;\n",
              "      display: none;\n",
              "      fill: #1967D2;\n",
              "      height: 32px;\n",
              "      padding: 0 0 0 0;\n",
              "      width: 32px;\n",
              "    }\n",
              "\n",
              "    .colab-df-convert:hover {\n",
              "      background-color: #E2EBFA;\n",
              "      box-shadow: 0px 1px 2px rgba(60, 64, 67, 0.3), 0px 1px 3px 1px rgba(60, 64, 67, 0.15);\n",
              "      fill: #174EA6;\n",
              "    }\n",
              "\n",
              "    [theme=dark] .colab-df-convert {\n",
              "      background-color: #3B4455;\n",
              "      fill: #D2E3FC;\n",
              "    }\n",
              "\n",
              "    [theme=dark] .colab-df-convert:hover {\n",
              "      background-color: #434B5C;\n",
              "      box-shadow: 0px 1px 3px 1px rgba(0, 0, 0, 0.15);\n",
              "      filter: drop-shadow(0px 1px 2px rgba(0, 0, 0, 0.3));\n",
              "      fill: #FFFFFF;\n",
              "    }\n",
              "  </style>\n",
              "\n",
              "      <script>\n",
              "        const buttonEl =\n",
              "          document.querySelector('#df-b513e9f1-bd60-4269-9a04-8ca80d3cf15e button.colab-df-convert');\n",
              "        buttonEl.style.display =\n",
              "          google.colab.kernel.accessAllowed ? 'block' : 'none';\n",
              "\n",
              "        async function convertToInteractive(key) {\n",
              "          const element = document.querySelector('#df-b513e9f1-bd60-4269-9a04-8ca80d3cf15e');\n",
              "          const dataTable =\n",
              "            await google.colab.kernel.invokeFunction('convertToInteractive',\n",
              "                                                     [key], {});\n",
              "          if (!dataTable) return;\n",
              "\n",
              "          const docLinkHtml = 'Like what you see? Visit the ' +\n",
              "            '<a target=\"_blank\" href=https://colab.research.google.com/notebooks/data_table.ipynb>data table notebook</a>'\n",
              "            + ' to learn more about interactive tables.';\n",
              "          element.innerHTML = '';\n",
              "          dataTable['output_type'] = 'display_data';\n",
              "          await google.colab.output.renderOutput(dataTable, element);\n",
              "          const docLink = document.createElement('div');\n",
              "          docLink.innerHTML = docLinkHtml;\n",
              "          element.appendChild(docLink);\n",
              "        }\n",
              "      </script>\n",
              "    </div>\n",
              "  </div>\n",
              "  "
            ]
          },
          "metadata": {},
          "execution_count": 127
        }
      ]
    },
    {
      "cell_type": "code",
      "source": [
        "for idx, row in df_ruracist.iterrows():\n",
        "  df_ruracist['TweetID'][idx] = str(idx) + \",\" + df_ruracist['TweetID'][idx]\n",
        "df_ruracist.rename(columns = {'Expert':'Amateur'}, inplace = True)\n",
        "df_ruracist[['TweetID', 'Expert']] = df_ruracist['TweetID'].str.split(',', 1, expand=True)\n",
        "df_ruracist['Wa_Hov_HS'] = \"-\""
      ],
      "metadata": {
        "id": "KcB17pNHJqVh"
      },
      "execution_count": 119,
      "outputs": []
    },
    {
      "cell_type": "code",
      "source": [
        "#Since some tweets are also used from the above dataset, we'll have to check if in both cases those tweets' classification match  \n",
        "for idx, row in df_hatesym_ids.iterrows():\n",
        "  if row.id in df_ruracist[\"TweetID\"]:\n",
        "    df_ruracist['Wa_Hov_HS'][row.id] = row.hs"
      ],
      "metadata": {
        "id": "0Zvf9mD6pzZw"
      },
      "execution_count": 128,
      "outputs": []
    },
    {
      "cell_type": "code",
      "source": [
        "df_ruracist"
      ],
      "metadata": {
        "colab": {
          "base_uri": "https://localhost:8080/",
          "height": 505
        },
        "id": "1_gmXr9bTynf",
        "outputId": "44fa1765-a21f-4aaf-a0ea-5bee69258b21"
      },
      "execution_count": 137,
      "outputs": [
        {
          "output_type": "execute_result",
          "data": {
            "text/plain": [
              "                               TweetID  Amateur Amateur_0 Amateur_1 Amateur_2  \\\n",
              "597576902212063232  597576902212063232  neither   neither   neither       NaN   \n",
              "565586175864610817  565586175864610817  neither   neither   neither       NaN   \n",
              "563881580209246209  563881580209246209  neither   neither   neither       NaN   \n",
              "595380689534656512  595380689534656512  neither    sexism   neither       NaN   \n",
              "563757610327748608  563757610327748608  neither   neither   neither       NaN   \n",
              "...                                ...      ...       ...       ...       ...   \n",
              "569176414999588864  569176414999588864  neither   neither   neither       NaN   \n",
              "571437409843306496  571437409843306496   sexism    sexism    sexism       NaN   \n",
              "569743990897057792  569743990897057792  neither   neither   neither       NaN   \n",
              "563027947423272960  563027947423272960  neither   neither   neither       NaN   \n",
              "563896118614839297  563896118614839297  neither   neither   neither       NaN   \n",
              "\n",
              "                   Amateur_3 Amateur_4 Amateur_5 Amateur_6 Amateur_7  ...  \\\n",
              "597576902212063232       NaN       NaN       NaN       NaN       NaN  ...   \n",
              "565586175864610817       NaN       NaN       NaN       NaN       NaN  ...   \n",
              "563881580209246209       NaN       NaN       NaN       NaN       NaN  ...   \n",
              "595380689534656512       NaN       NaN       NaN       NaN       NaN  ...   \n",
              "563757610327748608       NaN       NaN       NaN       NaN       NaN  ...   \n",
              "...                      ...       ...       ...       ...       ...  ...   \n",
              "569176414999588864       NaN       NaN       NaN       NaN       NaN  ...   \n",
              "571437409843306496       NaN       NaN       NaN       NaN       NaN  ...   \n",
              "569743990897057792       NaN       NaN       NaN       NaN       NaN  ...   \n",
              "563027947423272960       NaN       NaN       NaN       NaN       NaN  ...   \n",
              "563896118614839297       NaN       NaN       NaN       NaN       NaN  ...   \n",
              "\n",
              "                   Amateur_1082 Amateur_1083 Amateur_1084 Amateur_1085  \\\n",
              "597576902212063232          NaN          NaN          NaN          NaN   \n",
              "565586175864610817          NaN          NaN          NaN          NaN   \n",
              "563881580209246209          NaN          NaN          NaN          NaN   \n",
              "595380689534656512          NaN          NaN          NaN          NaN   \n",
              "563757610327748608          NaN          NaN          NaN          NaN   \n",
              "...                         ...          ...          ...          ...   \n",
              "569176414999588864          NaN          NaN          NaN          NaN   \n",
              "571437409843306496          NaN          NaN          NaN          NaN   \n",
              "569743990897057792          NaN          NaN          NaN          NaN   \n",
              "563027947423272960          NaN          NaN          NaN          NaN   \n",
              "563896118614839297          NaN          NaN          NaN          NaN   \n",
              "\n",
              "                   Amateur_1086 Amateur_1087 Amateur_1088  Amateur_1089  \\\n",
              "597576902212063232          NaN          NaN                        NaN   \n",
              "565586175864610817          NaN          NaN                        NaN   \n",
              "563881580209246209          NaN          NaN                        NaN   \n",
              "595380689534656512          NaN          NaN                        NaN   \n",
              "563757610327748608          NaN          NaN                        NaN   \n",
              "...                         ...          ...                        ...   \n",
              "569176414999588864          NaN          NaN                        NaN   \n",
              "571437409843306496          NaN          NaN                        NaN   \n",
              "569743990897057792          NaN          NaN                        NaN   \n",
              "563027947423272960          NaN          NaN                        NaN   \n",
              "563896118614839297          NaN          NaN                        NaN   \n",
              "\n",
              "                     Expert Wa_Hov_HS text  \n",
              "597576902212063232  neither              0  \n",
              "565586175864610817  neither         0    0  \n",
              "563881580209246209  neither         0    0  \n",
              "595380689534656512  neither              0  \n",
              "563757610327748608  neither         0    0  \n",
              "...                     ...       ...  ...  \n",
              "569176414999588864  neither         0    0  \n",
              "571437409843306496   sexism              0  \n",
              "569743990897057792  neither         0    0  \n",
              "563027947423272960  neither         0    0  \n",
              "563896118614839297  neither         0    0  \n",
              "\n",
              "[6909 rows x 1094 columns]"
            ],
            "text/html": [
              "\n",
              "  <div id=\"df-0ac73e72-45ca-490e-a7b4-1b0a6e1b1e64\">\n",
              "    <div class=\"colab-df-container\">\n",
              "      <div>\n",
              "<style scoped>\n",
              "    .dataframe tbody tr th:only-of-type {\n",
              "        vertical-align: middle;\n",
              "    }\n",
              "\n",
              "    .dataframe tbody tr th {\n",
              "        vertical-align: top;\n",
              "    }\n",
              "\n",
              "    .dataframe thead th {\n",
              "        text-align: right;\n",
              "    }\n",
              "</style>\n",
              "<table border=\"1\" class=\"dataframe\">\n",
              "  <thead>\n",
              "    <tr style=\"text-align: right;\">\n",
              "      <th></th>\n",
              "      <th>TweetID</th>\n",
              "      <th>Amateur</th>\n",
              "      <th>Amateur_0</th>\n",
              "      <th>Amateur_1</th>\n",
              "      <th>Amateur_2</th>\n",
              "      <th>Amateur_3</th>\n",
              "      <th>Amateur_4</th>\n",
              "      <th>Amateur_5</th>\n",
              "      <th>Amateur_6</th>\n",
              "      <th>Amateur_7</th>\n",
              "      <th>...</th>\n",
              "      <th>Amateur_1082</th>\n",
              "      <th>Amateur_1083</th>\n",
              "      <th>Amateur_1084</th>\n",
              "      <th>Amateur_1085</th>\n",
              "      <th>Amateur_1086</th>\n",
              "      <th>Amateur_1087</th>\n",
              "      <th>Amateur_1088  Amateur_1089</th>\n",
              "      <th>Expert</th>\n",
              "      <th>Wa_Hov_HS</th>\n",
              "      <th>text</th>\n",
              "    </tr>\n",
              "  </thead>\n",
              "  <tbody>\n",
              "    <tr>\n",
              "      <th>597576902212063232</th>\n",
              "      <td>597576902212063232</td>\n",
              "      <td>neither</td>\n",
              "      <td>neither</td>\n",
              "      <td>neither</td>\n",
              "      <td>NaN</td>\n",
              "      <td>NaN</td>\n",
              "      <td>NaN</td>\n",
              "      <td>NaN</td>\n",
              "      <td>NaN</td>\n",
              "      <td>NaN</td>\n",
              "      <td>...</td>\n",
              "      <td>NaN</td>\n",
              "      <td>NaN</td>\n",
              "      <td>NaN</td>\n",
              "      <td>NaN</td>\n",
              "      <td>NaN</td>\n",
              "      <td>NaN</td>\n",
              "      <td>NaN</td>\n",
              "      <td>neither</td>\n",
              "      <td></td>\n",
              "      <td>0</td>\n",
              "    </tr>\n",
              "    <tr>\n",
              "      <th>565586175864610817</th>\n",
              "      <td>565586175864610817</td>\n",
              "      <td>neither</td>\n",
              "      <td>neither</td>\n",
              "      <td>neither</td>\n",
              "      <td>NaN</td>\n",
              "      <td>NaN</td>\n",
              "      <td>NaN</td>\n",
              "      <td>NaN</td>\n",
              "      <td>NaN</td>\n",
              "      <td>NaN</td>\n",
              "      <td>...</td>\n",
              "      <td>NaN</td>\n",
              "      <td>NaN</td>\n",
              "      <td>NaN</td>\n",
              "      <td>NaN</td>\n",
              "      <td>NaN</td>\n",
              "      <td>NaN</td>\n",
              "      <td>NaN</td>\n",
              "      <td>neither</td>\n",
              "      <td>0</td>\n",
              "      <td>0</td>\n",
              "    </tr>\n",
              "    <tr>\n",
              "      <th>563881580209246209</th>\n",
              "      <td>563881580209246209</td>\n",
              "      <td>neither</td>\n",
              "      <td>neither</td>\n",
              "      <td>neither</td>\n",
              "      <td>NaN</td>\n",
              "      <td>NaN</td>\n",
              "      <td>NaN</td>\n",
              "      <td>NaN</td>\n",
              "      <td>NaN</td>\n",
              "      <td>NaN</td>\n",
              "      <td>...</td>\n",
              "      <td>NaN</td>\n",
              "      <td>NaN</td>\n",
              "      <td>NaN</td>\n",
              "      <td>NaN</td>\n",
              "      <td>NaN</td>\n",
              "      <td>NaN</td>\n",
              "      <td>NaN</td>\n",
              "      <td>neither</td>\n",
              "      <td>0</td>\n",
              "      <td>0</td>\n",
              "    </tr>\n",
              "    <tr>\n",
              "      <th>595380689534656512</th>\n",
              "      <td>595380689534656512</td>\n",
              "      <td>neither</td>\n",
              "      <td>sexism</td>\n",
              "      <td>neither</td>\n",
              "      <td>NaN</td>\n",
              "      <td>NaN</td>\n",
              "      <td>NaN</td>\n",
              "      <td>NaN</td>\n",
              "      <td>NaN</td>\n",
              "      <td>NaN</td>\n",
              "      <td>...</td>\n",
              "      <td>NaN</td>\n",
              "      <td>NaN</td>\n",
              "      <td>NaN</td>\n",
              "      <td>NaN</td>\n",
              "      <td>NaN</td>\n",
              "      <td>NaN</td>\n",
              "      <td>NaN</td>\n",
              "      <td>neither</td>\n",
              "      <td></td>\n",
              "      <td>0</td>\n",
              "    </tr>\n",
              "    <tr>\n",
              "      <th>563757610327748608</th>\n",
              "      <td>563757610327748608</td>\n",
              "      <td>neither</td>\n",
              "      <td>neither</td>\n",
              "      <td>neither</td>\n",
              "      <td>NaN</td>\n",
              "      <td>NaN</td>\n",
              "      <td>NaN</td>\n",
              "      <td>NaN</td>\n",
              "      <td>NaN</td>\n",
              "      <td>NaN</td>\n",
              "      <td>...</td>\n",
              "      <td>NaN</td>\n",
              "      <td>NaN</td>\n",
              "      <td>NaN</td>\n",
              "      <td>NaN</td>\n",
              "      <td>NaN</td>\n",
              "      <td>NaN</td>\n",
              "      <td>NaN</td>\n",
              "      <td>neither</td>\n",
              "      <td>0</td>\n",
              "      <td>0</td>\n",
              "    </tr>\n",
              "    <tr>\n",
              "      <th>...</th>\n",
              "      <td>...</td>\n",
              "      <td>...</td>\n",
              "      <td>...</td>\n",
              "      <td>...</td>\n",
              "      <td>...</td>\n",
              "      <td>...</td>\n",
              "      <td>...</td>\n",
              "      <td>...</td>\n",
              "      <td>...</td>\n",
              "      <td>...</td>\n",
              "      <td>...</td>\n",
              "      <td>...</td>\n",
              "      <td>...</td>\n",
              "      <td>...</td>\n",
              "      <td>...</td>\n",
              "      <td>...</td>\n",
              "      <td>...</td>\n",
              "      <td>...</td>\n",
              "      <td>...</td>\n",
              "      <td>...</td>\n",
              "      <td>...</td>\n",
              "    </tr>\n",
              "    <tr>\n",
              "      <th>569176414999588864</th>\n",
              "      <td>569176414999588864</td>\n",
              "      <td>neither</td>\n",
              "      <td>neither</td>\n",
              "      <td>neither</td>\n",
              "      <td>NaN</td>\n",
              "      <td>NaN</td>\n",
              "      <td>NaN</td>\n",
              "      <td>NaN</td>\n",
              "      <td>NaN</td>\n",
              "      <td>NaN</td>\n",
              "      <td>...</td>\n",
              "      <td>NaN</td>\n",
              "      <td>NaN</td>\n",
              "      <td>NaN</td>\n",
              "      <td>NaN</td>\n",
              "      <td>NaN</td>\n",
              "      <td>NaN</td>\n",
              "      <td>NaN</td>\n",
              "      <td>neither</td>\n",
              "      <td>0</td>\n",
              "      <td>0</td>\n",
              "    </tr>\n",
              "    <tr>\n",
              "      <th>571437409843306496</th>\n",
              "      <td>571437409843306496</td>\n",
              "      <td>sexism</td>\n",
              "      <td>sexism</td>\n",
              "      <td>sexism</td>\n",
              "      <td>NaN</td>\n",
              "      <td>NaN</td>\n",
              "      <td>NaN</td>\n",
              "      <td>NaN</td>\n",
              "      <td>NaN</td>\n",
              "      <td>NaN</td>\n",
              "      <td>...</td>\n",
              "      <td>NaN</td>\n",
              "      <td>NaN</td>\n",
              "      <td>NaN</td>\n",
              "      <td>NaN</td>\n",
              "      <td>NaN</td>\n",
              "      <td>NaN</td>\n",
              "      <td>NaN</td>\n",
              "      <td>sexism</td>\n",
              "      <td></td>\n",
              "      <td>0</td>\n",
              "    </tr>\n",
              "    <tr>\n",
              "      <th>569743990897057792</th>\n",
              "      <td>569743990897057792</td>\n",
              "      <td>neither</td>\n",
              "      <td>neither</td>\n",
              "      <td>neither</td>\n",
              "      <td>NaN</td>\n",
              "      <td>NaN</td>\n",
              "      <td>NaN</td>\n",
              "      <td>NaN</td>\n",
              "      <td>NaN</td>\n",
              "      <td>NaN</td>\n",
              "      <td>...</td>\n",
              "      <td>NaN</td>\n",
              "      <td>NaN</td>\n",
              "      <td>NaN</td>\n",
              "      <td>NaN</td>\n",
              "      <td>NaN</td>\n",
              "      <td>NaN</td>\n",
              "      <td>NaN</td>\n",
              "      <td>neither</td>\n",
              "      <td>0</td>\n",
              "      <td>0</td>\n",
              "    </tr>\n",
              "    <tr>\n",
              "      <th>563027947423272960</th>\n",
              "      <td>563027947423272960</td>\n",
              "      <td>neither</td>\n",
              "      <td>neither</td>\n",
              "      <td>neither</td>\n",
              "      <td>NaN</td>\n",
              "      <td>NaN</td>\n",
              "      <td>NaN</td>\n",
              "      <td>NaN</td>\n",
              "      <td>NaN</td>\n",
              "      <td>NaN</td>\n",
              "      <td>...</td>\n",
              "      <td>NaN</td>\n",
              "      <td>NaN</td>\n",
              "      <td>NaN</td>\n",
              "      <td>NaN</td>\n",
              "      <td>NaN</td>\n",
              "      <td>NaN</td>\n",
              "      <td>NaN</td>\n",
              "      <td>neither</td>\n",
              "      <td>0</td>\n",
              "      <td>0</td>\n",
              "    </tr>\n",
              "    <tr>\n",
              "      <th>563896118614839297</th>\n",
              "      <td>563896118614839297</td>\n",
              "      <td>neither</td>\n",
              "      <td>neither</td>\n",
              "      <td>neither</td>\n",
              "      <td>NaN</td>\n",
              "      <td>NaN</td>\n",
              "      <td>NaN</td>\n",
              "      <td>NaN</td>\n",
              "      <td>NaN</td>\n",
              "      <td>NaN</td>\n",
              "      <td>...</td>\n",
              "      <td>NaN</td>\n",
              "      <td>NaN</td>\n",
              "      <td>NaN</td>\n",
              "      <td>NaN</td>\n",
              "      <td>NaN</td>\n",
              "      <td>NaN</td>\n",
              "      <td>NaN</td>\n",
              "      <td>neither</td>\n",
              "      <td>0</td>\n",
              "      <td>0</td>\n",
              "    </tr>\n",
              "  </tbody>\n",
              "</table>\n",
              "<p>6909 rows × 1094 columns</p>\n",
              "</div>\n",
              "      <button class=\"colab-df-convert\" onclick=\"convertToInteractive('df-0ac73e72-45ca-490e-a7b4-1b0a6e1b1e64')\"\n",
              "              title=\"Convert this dataframe to an interactive table.\"\n",
              "              style=\"display:none;\">\n",
              "        \n",
              "  <svg xmlns=\"http://www.w3.org/2000/svg\" height=\"24px\"viewBox=\"0 0 24 24\"\n",
              "       width=\"24px\">\n",
              "    <path d=\"M0 0h24v24H0V0z\" fill=\"none\"/>\n",
              "    <path d=\"M18.56 5.44l.94 2.06.94-2.06 2.06-.94-2.06-.94-.94-2.06-.94 2.06-2.06.94zm-11 1L8.5 8.5l.94-2.06 2.06-.94-2.06-.94L8.5 2.5l-.94 2.06-2.06.94zm10 10l.94 2.06.94-2.06 2.06-.94-2.06-.94-.94-2.06-.94 2.06-2.06.94z\"/><path d=\"M17.41 7.96l-1.37-1.37c-.4-.4-.92-.59-1.43-.59-.52 0-1.04.2-1.43.59L10.3 9.45l-7.72 7.72c-.78.78-.78 2.05 0 2.83L4 21.41c.39.39.9.59 1.41.59.51 0 1.02-.2 1.41-.59l7.78-7.78 2.81-2.81c.8-.78.8-2.07 0-2.86zM5.41 20L4 18.59l7.72-7.72 1.47 1.35L5.41 20z\"/>\n",
              "  </svg>\n",
              "      </button>\n",
              "      \n",
              "  <style>\n",
              "    .colab-df-container {\n",
              "      display:flex;\n",
              "      flex-wrap:wrap;\n",
              "      gap: 12px;\n",
              "    }\n",
              "\n",
              "    .colab-df-convert {\n",
              "      background-color: #E8F0FE;\n",
              "      border: none;\n",
              "      border-radius: 50%;\n",
              "      cursor: pointer;\n",
              "      display: none;\n",
              "      fill: #1967D2;\n",
              "      height: 32px;\n",
              "      padding: 0 0 0 0;\n",
              "      width: 32px;\n",
              "    }\n",
              "\n",
              "    .colab-df-convert:hover {\n",
              "      background-color: #E2EBFA;\n",
              "      box-shadow: 0px 1px 2px rgba(60, 64, 67, 0.3), 0px 1px 3px 1px rgba(60, 64, 67, 0.15);\n",
              "      fill: #174EA6;\n",
              "    }\n",
              "\n",
              "    [theme=dark] .colab-df-convert {\n",
              "      background-color: #3B4455;\n",
              "      fill: #D2E3FC;\n",
              "    }\n",
              "\n",
              "    [theme=dark] .colab-df-convert:hover {\n",
              "      background-color: #434B5C;\n",
              "      box-shadow: 0px 1px 3px 1px rgba(0, 0, 0, 0.15);\n",
              "      filter: drop-shadow(0px 1px 2px rgba(0, 0, 0, 0.3));\n",
              "      fill: #FFFFFF;\n",
              "    }\n",
              "  </style>\n",
              "\n",
              "      <script>\n",
              "        const buttonEl =\n",
              "          document.querySelector('#df-0ac73e72-45ca-490e-a7b4-1b0a6e1b1e64 button.colab-df-convert');\n",
              "        buttonEl.style.display =\n",
              "          google.colab.kernel.accessAllowed ? 'block' : 'none';\n",
              "\n",
              "        async function convertToInteractive(key) {\n",
              "          const element = document.querySelector('#df-0ac73e72-45ca-490e-a7b4-1b0a6e1b1e64');\n",
              "          const dataTable =\n",
              "            await google.colab.kernel.invokeFunction('convertToInteractive',\n",
              "                                                     [key], {});\n",
              "          if (!dataTable) return;\n",
              "\n",
              "          const docLinkHtml = 'Like what you see? Visit the ' +\n",
              "            '<a target=\"_blank\" href=https://colab.research.google.com/notebooks/data_table.ipynb>data table notebook</a>'\n",
              "            + ' to learn more about interactive tables.';\n",
              "          element.innerHTML = '';\n",
              "          dataTable['output_type'] = 'display_data';\n",
              "          await google.colab.output.renderOutput(dataTable, element);\n",
              "          const docLink = document.createElement('div');\n",
              "          docLink.innerHTML = docLinkHtml;\n",
              "          element.appendChild(docLink);\n",
              "        }\n",
              "      </script>\n",
              "    </div>\n",
              "  </div>\n",
              "  "
            ]
          },
          "metadata": {},
          "execution_count": 137
        }
      ]
    },
    {
      "cell_type": "code",
      "source": [
        "df_ruracist['text'] = \"0\""
      ],
      "metadata": {
        "id": "wKu2f50aUH4K"
      },
      "execution_count": 136,
      "outputs": []
    },
    {
      "cell_type": "code",
      "source": [
        "for idx, row in df_ruracist.iterrows():\n",
        "  #This condition is for when execution is stopped and later on resumed\n",
        "  if not any(c.isalpha() for c in str(df_ruracist['text'][idx])):\n",
        "    try:\n",
        "      if api.get_status(df_ruracist['TweetID'][idx]):\n",
        "        tweetFetched = api.get_status(df_ruracist['TweetID'][idx])\n",
        "        df_ruracist['text'][idx] = tweetFetched.text\n",
        "    except tweepy.TweepError as e:\n",
        "      # print (e.api_code)\n",
        "      # print (getExceptionMessage(e.reason))\n",
        "      df_ruracist['text'][idx] = \"TWITTER__ERROR\" + getExceptionMessage(e.reason)\n",
        "    #We save the dataframe every line to not lose any progress (in case this cell would stop after 6+ hours!)\n",
        "    df_ruracist.to_csv('/content/drive/MyDrive/TFG/data/ruracist_data.csv', index=False)  "
      ],
      "metadata": {
        "id": "OYD48WGtv7dX"
      },
      "execution_count": 138,
      "outputs": []
    },
    {
      "cell_type": "markdown",
      "source": [
        "####Rest of preprocessing\n"
      ],
      "metadata": {
        "id": "24b_649SOBol"
      }
    },
    {
      "cell_type": "code",
      "source": [
        "df_ruracist = pd.read_csv('/content/drive/MyDrive/TFG/data/ruracist_data.csv', engine=\"python\")"
      ],
      "metadata": {
        "id": "7tp29vwKN2P6"
      },
      "execution_count": 121,
      "outputs": []
    },
    {
      "cell_type": "code",
      "source": [
        "cols = []\n",
        "for c in df_ruracist.columns:\n",
        "  cols.append(c)\n",
        "unwanted_cols = {'TweetID', 'Expert', 'Wa_Hov_HS', 'text'}\n",
        "cols = [c for c in cols if c not in unwanted_cols]\n",
        "uniq_vals = []\n",
        "for c in cols:\n",
        "  for v in df_ruracist[c].unique():\n",
        "    uniq_vals.append(v)\n",
        "\n",
        "uniq_vals = list(dict.fromkeys(uniq_vals))\n",
        "#print all possible values in the columns to check them out\n",
        "print(uniq_vals)"
      ],
      "metadata": {
        "colab": {
          "base_uri": "https://localhost:8080/"
        },
        "id": "_1z0qiFYOjtA",
        "outputId": "c496fd23-698a-4827-b970-f69524b78c16"
      },
      "execution_count": 122,
      "outputs": [
        {
          "output_type": "stream",
          "name": "stdout",
          "text": [
            "['neither', 'sexism', 'racism', 'both', 'link', nan]\n"
          ]
        }
      ]
    },
    {
      "cell_type": "code",
      "source": [
        "#We replace the values with 0 and 1\n",
        "#\"link\" refers to a tweet with a link, we can't use it to determine if it's hate speech or not\n",
        "df_ruracist[\"Expert\"] = df_ruracist[\"Expert\"].replace(['sexism', 'racism', 'both'],1)\n",
        "df_ruracist[\"Expert\"] = df_ruracist[\"Expert\"].replace(['neither', 'link'],0)\n",
        "for c in cols:\n",
        "  df_ruracist[c] = df_ruracist[c].replace(['sexism', 'racism', 'both'],1)\n",
        "  df_ruracist[c] = df_ruracist[c].replace(['neither', 'link'],0)"
      ],
      "metadata": {
        "id": "HfKrlaP9DXwk"
      },
      "execution_count": 123,
      "outputs": []
    },
    {
      "cell_type": "code",
      "source": [
        "#Amateur_HS will have the overall hs classification of amateur annotators\n",
        "df_ruracist[\"Amateur_HS\"] = 0\n",
        "for idx, row in df_ruracist.iterrows():\n",
        "  for c in cols:\n",
        "    #When the loop if finished, if Amateur_HS has a negative value the majority said it's not Hate speech and viceversa\n",
        "    if row[c] == 1:\n",
        "      df_ruracist[\"Amateur_HS\"][idx] = df_ruracist[\"Amateur_HS\"][idx] + 1\n",
        "    elif row[c] == 0:\n",
        "      df_ruracist[\"Amateur_HS\"][idx] = df_ruracist[\"Amateur_HS\"][idx] - 1"
      ],
      "metadata": {
        "id": "mlf-8ir2NzGv"
      },
      "execution_count": 124,
      "outputs": []
    },
    {
      "cell_type": "code",
      "source": [
        "#When Amateur_HS is -1, 1 or 0 (a tie), we check the Expert's classification \n",
        "#Having all this we can create a Hate speech column with a 0/1 value for this dataset\n",
        "df_ruracist[\"hate speech\"] = 0\n",
        "for idx, row in df_ruracist.iterrows():\n",
        "    if row.Amateur_HS in [0,1,-1]:\n",
        "      df_ruracist[\"hate speech\"][idx] = df_ruracist[\"Expert\"][idx]\n",
        "    elif row.Amateur_HS < 0:\n",
        "      df_ruracist[\"hate speech\"][idx] = 0\n",
        "    else:\n",
        "      df_ruracist[\"hate speech\"][idx] = 1\n",
        "\n",
        "df_ruracist = df_ruracist[[\"TweetID\", \"text\", \"Expert\", \"Amateur_HS\", \"hate speech\", \"Wa_Hov_HS\"]]"
      ],
      "metadata": {
        "id": "I8IhL_bPN09F"
      },
      "execution_count": 125,
      "outputs": []
    },
    {
      "cell_type": "code",
      "source": [
        "#This is the dataframe's state: we'll keep these columns for now...\n",
        "df_ruracist"
      ],
      "metadata": {
        "colab": {
          "base_uri": "https://localhost:8080/",
          "height": 424
        },
        "id": "-NrzRVbmTe8P",
        "outputId": "9292066b-bda6-42ac-b95b-af9858412926"
      },
      "execution_count": 126,
      "outputs": [
        {
          "output_type": "execute_result",
          "data": {
            "text/plain": [
              "                 TweetID                                               text  \\\n",
              "0     597576902212063232  Cisco had to deal with a fat cash payout to th...   \n",
              "1     565586175864610817  @MadamPlumpette I'm decent at editing, no worr...   \n",
              "2     563881580209246209  @girlziplocked will read. gotta go afk for a b...   \n",
              "3     595380689534656512  guys. show me the data. show me your github. t...   \n",
              "4     563757610327748608  @tpw_rules nothings broken. I was just driving...   \n",
              "...                  ...                                                ...   \n",
              "6904  569176414999588864  I used to have pet bunnies. :)  I named them P...   \n",
              "6905  571437409843306496             TWITTER__ERRORUser has been suspended.   \n",
              "6906  569743990897057792  @alex SO GROSS. feeling the urge to shower in ...   \n",
              "6907  563027947423272960  Purpose of this group is to share the types of...   \n",
              "6908  563896118614839297  @onebrightlight they made mistakes in the past...   \n",
              "\n",
              "      Expert  Amateur_HS  hate speech  Wa_Hov_HS  \n",
              "0          0          -3            0        NaN  \n",
              "1          0          -3            0        0.0  \n",
              "2          0          -3            0        0.0  \n",
              "3          0          -1            0        NaN  \n",
              "4          0          -3            0        0.0  \n",
              "...      ...         ...          ...        ...  \n",
              "6904       0          -3            0        0.0  \n",
              "6905       1           3            1        NaN  \n",
              "6906       0          -3            0        0.0  \n",
              "6907       0          -3            0        0.0  \n",
              "6908       0          -3            0        0.0  \n",
              "\n",
              "[6909 rows x 6 columns]"
            ],
            "text/html": [
              "\n",
              "  <div id=\"df-b9e48491-4437-4f42-9214-fcb5364829a5\">\n",
              "    <div class=\"colab-df-container\">\n",
              "      <div>\n",
              "<style scoped>\n",
              "    .dataframe tbody tr th:only-of-type {\n",
              "        vertical-align: middle;\n",
              "    }\n",
              "\n",
              "    .dataframe tbody tr th {\n",
              "        vertical-align: top;\n",
              "    }\n",
              "\n",
              "    .dataframe thead th {\n",
              "        text-align: right;\n",
              "    }\n",
              "</style>\n",
              "<table border=\"1\" class=\"dataframe\">\n",
              "  <thead>\n",
              "    <tr style=\"text-align: right;\">\n",
              "      <th></th>\n",
              "      <th>TweetID</th>\n",
              "      <th>text</th>\n",
              "      <th>Expert</th>\n",
              "      <th>Amateur_HS</th>\n",
              "      <th>hate speech</th>\n",
              "      <th>Wa_Hov_HS</th>\n",
              "    </tr>\n",
              "  </thead>\n",
              "  <tbody>\n",
              "    <tr>\n",
              "      <th>0</th>\n",
              "      <td>597576902212063232</td>\n",
              "      <td>Cisco had to deal with a fat cash payout to th...</td>\n",
              "      <td>0</td>\n",
              "      <td>-3</td>\n",
              "      <td>0</td>\n",
              "      <td>NaN</td>\n",
              "    </tr>\n",
              "    <tr>\n",
              "      <th>1</th>\n",
              "      <td>565586175864610817</td>\n",
              "      <td>@MadamPlumpette I'm decent at editing, no worr...</td>\n",
              "      <td>0</td>\n",
              "      <td>-3</td>\n",
              "      <td>0</td>\n",
              "      <td>0.0</td>\n",
              "    </tr>\n",
              "    <tr>\n",
              "      <th>2</th>\n",
              "      <td>563881580209246209</td>\n",
              "      <td>@girlziplocked will read. gotta go afk for a b...</td>\n",
              "      <td>0</td>\n",
              "      <td>-3</td>\n",
              "      <td>0</td>\n",
              "      <td>0.0</td>\n",
              "    </tr>\n",
              "    <tr>\n",
              "      <th>3</th>\n",
              "      <td>595380689534656512</td>\n",
              "      <td>guys. show me the data. show me your github. t...</td>\n",
              "      <td>0</td>\n",
              "      <td>-1</td>\n",
              "      <td>0</td>\n",
              "      <td>NaN</td>\n",
              "    </tr>\n",
              "    <tr>\n",
              "      <th>4</th>\n",
              "      <td>563757610327748608</td>\n",
              "      <td>@tpw_rules nothings broken. I was just driving...</td>\n",
              "      <td>0</td>\n",
              "      <td>-3</td>\n",
              "      <td>0</td>\n",
              "      <td>0.0</td>\n",
              "    </tr>\n",
              "    <tr>\n",
              "      <th>...</th>\n",
              "      <td>...</td>\n",
              "      <td>...</td>\n",
              "      <td>...</td>\n",
              "      <td>...</td>\n",
              "      <td>...</td>\n",
              "      <td>...</td>\n",
              "    </tr>\n",
              "    <tr>\n",
              "      <th>6904</th>\n",
              "      <td>569176414999588864</td>\n",
              "      <td>I used to have pet bunnies. :)  I named them P...</td>\n",
              "      <td>0</td>\n",
              "      <td>-3</td>\n",
              "      <td>0</td>\n",
              "      <td>0.0</td>\n",
              "    </tr>\n",
              "    <tr>\n",
              "      <th>6905</th>\n",
              "      <td>571437409843306496</td>\n",
              "      <td>TWITTER__ERRORUser has been suspended.</td>\n",
              "      <td>1</td>\n",
              "      <td>3</td>\n",
              "      <td>1</td>\n",
              "      <td>NaN</td>\n",
              "    </tr>\n",
              "    <tr>\n",
              "      <th>6906</th>\n",
              "      <td>569743990897057792</td>\n",
              "      <td>@alex SO GROSS. feeling the urge to shower in ...</td>\n",
              "      <td>0</td>\n",
              "      <td>-3</td>\n",
              "      <td>0</td>\n",
              "      <td>0.0</td>\n",
              "    </tr>\n",
              "    <tr>\n",
              "      <th>6907</th>\n",
              "      <td>563027947423272960</td>\n",
              "      <td>Purpose of this group is to share the types of...</td>\n",
              "      <td>0</td>\n",
              "      <td>-3</td>\n",
              "      <td>0</td>\n",
              "      <td>0.0</td>\n",
              "    </tr>\n",
              "    <tr>\n",
              "      <th>6908</th>\n",
              "      <td>563896118614839297</td>\n",
              "      <td>@onebrightlight they made mistakes in the past...</td>\n",
              "      <td>0</td>\n",
              "      <td>-3</td>\n",
              "      <td>0</td>\n",
              "      <td>0.0</td>\n",
              "    </tr>\n",
              "  </tbody>\n",
              "</table>\n",
              "<p>6909 rows × 6 columns</p>\n",
              "</div>\n",
              "      <button class=\"colab-df-convert\" onclick=\"convertToInteractive('df-b9e48491-4437-4f42-9214-fcb5364829a5')\"\n",
              "              title=\"Convert this dataframe to an interactive table.\"\n",
              "              style=\"display:none;\">\n",
              "        \n",
              "  <svg xmlns=\"http://www.w3.org/2000/svg\" height=\"24px\"viewBox=\"0 0 24 24\"\n",
              "       width=\"24px\">\n",
              "    <path d=\"M0 0h24v24H0V0z\" fill=\"none\"/>\n",
              "    <path d=\"M18.56 5.44l.94 2.06.94-2.06 2.06-.94-2.06-.94-.94-2.06-.94 2.06-2.06.94zm-11 1L8.5 8.5l.94-2.06 2.06-.94-2.06-.94L8.5 2.5l-.94 2.06-2.06.94zm10 10l.94 2.06.94-2.06 2.06-.94-2.06-.94-.94-2.06-.94 2.06-2.06.94z\"/><path d=\"M17.41 7.96l-1.37-1.37c-.4-.4-.92-.59-1.43-.59-.52 0-1.04.2-1.43.59L10.3 9.45l-7.72 7.72c-.78.78-.78 2.05 0 2.83L4 21.41c.39.39.9.59 1.41.59.51 0 1.02-.2 1.41-.59l7.78-7.78 2.81-2.81c.8-.78.8-2.07 0-2.86zM5.41 20L4 18.59l7.72-7.72 1.47 1.35L5.41 20z\"/>\n",
              "  </svg>\n",
              "      </button>\n",
              "      \n",
              "  <style>\n",
              "    .colab-df-container {\n",
              "      display:flex;\n",
              "      flex-wrap:wrap;\n",
              "      gap: 12px;\n",
              "    }\n",
              "\n",
              "    .colab-df-convert {\n",
              "      background-color: #E8F0FE;\n",
              "      border: none;\n",
              "      border-radius: 50%;\n",
              "      cursor: pointer;\n",
              "      display: none;\n",
              "      fill: #1967D2;\n",
              "      height: 32px;\n",
              "      padding: 0 0 0 0;\n",
              "      width: 32px;\n",
              "    }\n",
              "\n",
              "    .colab-df-convert:hover {\n",
              "      background-color: #E2EBFA;\n",
              "      box-shadow: 0px 1px 2px rgba(60, 64, 67, 0.3), 0px 1px 3px 1px rgba(60, 64, 67, 0.15);\n",
              "      fill: #174EA6;\n",
              "    }\n",
              "\n",
              "    [theme=dark] .colab-df-convert {\n",
              "      background-color: #3B4455;\n",
              "      fill: #D2E3FC;\n",
              "    }\n",
              "\n",
              "    [theme=dark] .colab-df-convert:hover {\n",
              "      background-color: #434B5C;\n",
              "      box-shadow: 0px 1px 3px 1px rgba(0, 0, 0, 0.15);\n",
              "      filter: drop-shadow(0px 1px 2px rgba(0, 0, 0, 0.3));\n",
              "      fill: #FFFFFF;\n",
              "    }\n",
              "  </style>\n",
              "\n",
              "      <script>\n",
              "        const buttonEl =\n",
              "          document.querySelector('#df-b9e48491-4437-4f42-9214-fcb5364829a5 button.colab-df-convert');\n",
              "        buttonEl.style.display =\n",
              "          google.colab.kernel.accessAllowed ? 'block' : 'none';\n",
              "\n",
              "        async function convertToInteractive(key) {\n",
              "          const element = document.querySelector('#df-b9e48491-4437-4f42-9214-fcb5364829a5');\n",
              "          const dataTable =\n",
              "            await google.colab.kernel.invokeFunction('convertToInteractive',\n",
              "                                                     [key], {});\n",
              "          if (!dataTable) return;\n",
              "\n",
              "          const docLinkHtml = 'Like what you see? Visit the ' +\n",
              "            '<a target=\"_blank\" href=https://colab.research.google.com/notebooks/data_table.ipynb>data table notebook</a>'\n",
              "            + ' to learn more about interactive tables.';\n",
              "          element.innerHTML = '';\n",
              "          dataTable['output_type'] = 'display_data';\n",
              "          await google.colab.output.renderOutput(dataTable, element);\n",
              "          const docLink = document.createElement('div');\n",
              "          docLink.innerHTML = docLinkHtml;\n",
              "          element.appendChild(docLink);\n",
              "        }\n",
              "      </script>\n",
              "    </div>\n",
              "  </div>\n",
              "  "
            ]
          },
          "metadata": {},
          "execution_count": 126
        }
      ]
    },
    {
      "cell_type": "code",
      "source": [
        "ruracist_data = \"ARE YOU RACIST OR AM I SEEING THINGS? DATASET:\\n------------------------------------------\\n\"\n",
        "ruracist_data = ruracist_data + \"Before row elimination:\\n\"\n",
        "ruracist_data = ruracist_data + \"Number of English tweets: \" + str(df_ruracist.shape[0]) + \"\\n\"\n",
        "ruracist_data = ruracist_data + \"Percentage of hate speech: \" + str((len(df_ruracist.loc[df_ruracist['hate speech'] == 1].index)*100)/df_ruracist.shape[0]) + \"%\\n\\n\""
      ],
      "metadata": {
        "id": "FgsLCGU1YXKX"
      },
      "execution_count": 127,
      "outputs": []
    },
    {
      "cell_type": "code",
      "source": [
        "df_mismatch = df_ruracist[df_ruracist[\"hate speech\"] != df_ruracist[\"Wa_Hov_HS\"]].sort_values(by=\"Wa_Hov_HS\")\n",
        "df_mismatch = df_mismatch[~df_mismatch['Wa_Hov_HS'].isnull()]\n",
        "#I'll manually check each mismatched tweet to see If they should be considered hate speech or not (rows with twitter error will be deleted later)\n",
        "df_mismatch.to_csv('/content/drive/MyDrive/TFG/data/ruracisthatesym_mismatch_data.csv', index=False) \n",
        "df_mismatch"
      ],
      "metadata": {
        "colab": {
          "base_uri": "https://localhost:8080/",
          "height": 424
        },
        "id": "b69-OTqls0SQ",
        "outputId": "440797c5-75da-47ec-b4d1-fb0682a9b68c"
      },
      "execution_count": 128,
      "outputs": [
        {
          "output_type": "execute_result",
          "data": {
            "text/plain": [
              "                 TweetID                                               text  \\\n",
              "65    564904052652113920        TWITTER__ERRORNo status found with that ID.   \n",
              "4143  563378742152540160        TWITTER__ERRORNo status found with that ID.   \n",
              "4089  563085113123422209  ... when he hears \"blue haired bitch\", \"gamerg...   \n",
              "4087  562740608302067712  RT @femfreq: Reminder: In the game of patriarc...   \n",
              "4078  572338780671107072  Maybe the girls should have less tickets on th...   \n",
              "...                  ...                                                ...   \n",
              "4981  572321733841063936        TWITTER__ERRORNo status found with that ID.   \n",
              "5009  572330821433966592       These girls are pretty...awful. #gohome #MKR   \n",
              "5373  572334859902844929  STOP SAYING SASS OR I WILL PUT MY FOOT UP YOUR...   \n",
              "4167  572338299106291713  Catching up with #MKR. If society judges these...   \n",
              "3250  572332552016437249  My deconstructed tart joke from the last seaso...   \n",
              "\n",
              "      Expert  Amateur_HS  hate speech  Wa_Hov_HS  \n",
              "65         0           3            1        0.0  \n",
              "4143       0           3            1        0.0  \n",
              "4089       1           3            1        0.0  \n",
              "4087       0           3            1        0.0  \n",
              "4078       1           1            1        0.0  \n",
              "...      ...         ...          ...        ...  \n",
              "4981       0           1            0        1.0  \n",
              "5009       1          -3            0        1.0  \n",
              "5373       0          -3            0        1.0  \n",
              "4167       1          -3            0        1.0  \n",
              "3250       0         -32            0        1.0  \n",
              "\n",
              "[158 rows x 6 columns]"
            ],
            "text/html": [
              "\n",
              "  <div id=\"df-beef5b7e-074e-44fb-87e5-91eb3656916b\">\n",
              "    <div class=\"colab-df-container\">\n",
              "      <div>\n",
              "<style scoped>\n",
              "    .dataframe tbody tr th:only-of-type {\n",
              "        vertical-align: middle;\n",
              "    }\n",
              "\n",
              "    .dataframe tbody tr th {\n",
              "        vertical-align: top;\n",
              "    }\n",
              "\n",
              "    .dataframe thead th {\n",
              "        text-align: right;\n",
              "    }\n",
              "</style>\n",
              "<table border=\"1\" class=\"dataframe\">\n",
              "  <thead>\n",
              "    <tr style=\"text-align: right;\">\n",
              "      <th></th>\n",
              "      <th>TweetID</th>\n",
              "      <th>text</th>\n",
              "      <th>Expert</th>\n",
              "      <th>Amateur_HS</th>\n",
              "      <th>hate speech</th>\n",
              "      <th>Wa_Hov_HS</th>\n",
              "    </tr>\n",
              "  </thead>\n",
              "  <tbody>\n",
              "    <tr>\n",
              "      <th>65</th>\n",
              "      <td>564904052652113920</td>\n",
              "      <td>TWITTER__ERRORNo status found with that ID.</td>\n",
              "      <td>0</td>\n",
              "      <td>3</td>\n",
              "      <td>1</td>\n",
              "      <td>0.0</td>\n",
              "    </tr>\n",
              "    <tr>\n",
              "      <th>4143</th>\n",
              "      <td>563378742152540160</td>\n",
              "      <td>TWITTER__ERRORNo status found with that ID.</td>\n",
              "      <td>0</td>\n",
              "      <td>3</td>\n",
              "      <td>1</td>\n",
              "      <td>0.0</td>\n",
              "    </tr>\n",
              "    <tr>\n",
              "      <th>4089</th>\n",
              "      <td>563085113123422209</td>\n",
              "      <td>... when he hears \"blue haired bitch\", \"gamerg...</td>\n",
              "      <td>1</td>\n",
              "      <td>3</td>\n",
              "      <td>1</td>\n",
              "      <td>0.0</td>\n",
              "    </tr>\n",
              "    <tr>\n",
              "      <th>4087</th>\n",
              "      <td>562740608302067712</td>\n",
              "      <td>RT @femfreq: Reminder: In the game of patriarc...</td>\n",
              "      <td>0</td>\n",
              "      <td>3</td>\n",
              "      <td>1</td>\n",
              "      <td>0.0</td>\n",
              "    </tr>\n",
              "    <tr>\n",
              "      <th>4078</th>\n",
              "      <td>572338780671107072</td>\n",
              "      <td>Maybe the girls should have less tickets on th...</td>\n",
              "      <td>1</td>\n",
              "      <td>1</td>\n",
              "      <td>1</td>\n",
              "      <td>0.0</td>\n",
              "    </tr>\n",
              "    <tr>\n",
              "      <th>...</th>\n",
              "      <td>...</td>\n",
              "      <td>...</td>\n",
              "      <td>...</td>\n",
              "      <td>...</td>\n",
              "      <td>...</td>\n",
              "      <td>...</td>\n",
              "    </tr>\n",
              "    <tr>\n",
              "      <th>4981</th>\n",
              "      <td>572321733841063936</td>\n",
              "      <td>TWITTER__ERRORNo status found with that ID.</td>\n",
              "      <td>0</td>\n",
              "      <td>1</td>\n",
              "      <td>0</td>\n",
              "      <td>1.0</td>\n",
              "    </tr>\n",
              "    <tr>\n",
              "      <th>5009</th>\n",
              "      <td>572330821433966592</td>\n",
              "      <td>These girls are pretty...awful. #gohome #MKR</td>\n",
              "      <td>1</td>\n",
              "      <td>-3</td>\n",
              "      <td>0</td>\n",
              "      <td>1.0</td>\n",
              "    </tr>\n",
              "    <tr>\n",
              "      <th>5373</th>\n",
              "      <td>572334859902844929</td>\n",
              "      <td>STOP SAYING SASS OR I WILL PUT MY FOOT UP YOUR...</td>\n",
              "      <td>0</td>\n",
              "      <td>-3</td>\n",
              "      <td>0</td>\n",
              "      <td>1.0</td>\n",
              "    </tr>\n",
              "    <tr>\n",
              "      <th>4167</th>\n",
              "      <td>572338299106291713</td>\n",
              "      <td>Catching up with #MKR. If society judges these...</td>\n",
              "      <td>1</td>\n",
              "      <td>-3</td>\n",
              "      <td>0</td>\n",
              "      <td>1.0</td>\n",
              "    </tr>\n",
              "    <tr>\n",
              "      <th>3250</th>\n",
              "      <td>572332552016437249</td>\n",
              "      <td>My deconstructed tart joke from the last seaso...</td>\n",
              "      <td>0</td>\n",
              "      <td>-32</td>\n",
              "      <td>0</td>\n",
              "      <td>1.0</td>\n",
              "    </tr>\n",
              "  </tbody>\n",
              "</table>\n",
              "<p>158 rows × 6 columns</p>\n",
              "</div>\n",
              "      <button class=\"colab-df-convert\" onclick=\"convertToInteractive('df-beef5b7e-074e-44fb-87e5-91eb3656916b')\"\n",
              "              title=\"Convert this dataframe to an interactive table.\"\n",
              "              style=\"display:none;\">\n",
              "        \n",
              "  <svg xmlns=\"http://www.w3.org/2000/svg\" height=\"24px\"viewBox=\"0 0 24 24\"\n",
              "       width=\"24px\">\n",
              "    <path d=\"M0 0h24v24H0V0z\" fill=\"none\"/>\n",
              "    <path d=\"M18.56 5.44l.94 2.06.94-2.06 2.06-.94-2.06-.94-.94-2.06-.94 2.06-2.06.94zm-11 1L8.5 8.5l.94-2.06 2.06-.94-2.06-.94L8.5 2.5l-.94 2.06-2.06.94zm10 10l.94 2.06.94-2.06 2.06-.94-2.06-.94-.94-2.06-.94 2.06-2.06.94z\"/><path d=\"M17.41 7.96l-1.37-1.37c-.4-.4-.92-.59-1.43-.59-.52 0-1.04.2-1.43.59L10.3 9.45l-7.72 7.72c-.78.78-.78 2.05 0 2.83L4 21.41c.39.39.9.59 1.41.59.51 0 1.02-.2 1.41-.59l7.78-7.78 2.81-2.81c.8-.78.8-2.07 0-2.86zM5.41 20L4 18.59l7.72-7.72 1.47 1.35L5.41 20z\"/>\n",
              "  </svg>\n",
              "      </button>\n",
              "      \n",
              "  <style>\n",
              "    .colab-df-container {\n",
              "      display:flex;\n",
              "      flex-wrap:wrap;\n",
              "      gap: 12px;\n",
              "    }\n",
              "\n",
              "    .colab-df-convert {\n",
              "      background-color: #E8F0FE;\n",
              "      border: none;\n",
              "      border-radius: 50%;\n",
              "      cursor: pointer;\n",
              "      display: none;\n",
              "      fill: #1967D2;\n",
              "      height: 32px;\n",
              "      padding: 0 0 0 0;\n",
              "      width: 32px;\n",
              "    }\n",
              "\n",
              "    .colab-df-convert:hover {\n",
              "      background-color: #E2EBFA;\n",
              "      box-shadow: 0px 1px 2px rgba(60, 64, 67, 0.3), 0px 1px 3px 1px rgba(60, 64, 67, 0.15);\n",
              "      fill: #174EA6;\n",
              "    }\n",
              "\n",
              "    [theme=dark] .colab-df-convert {\n",
              "      background-color: #3B4455;\n",
              "      fill: #D2E3FC;\n",
              "    }\n",
              "\n",
              "    [theme=dark] .colab-df-convert:hover {\n",
              "      background-color: #434B5C;\n",
              "      box-shadow: 0px 1px 3px 1px rgba(0, 0, 0, 0.15);\n",
              "      filter: drop-shadow(0px 1px 2px rgba(0, 0, 0, 0.3));\n",
              "      fill: #FFFFFF;\n",
              "    }\n",
              "  </style>\n",
              "\n",
              "      <script>\n",
              "        const buttonEl =\n",
              "          document.querySelector('#df-beef5b7e-074e-44fb-87e5-91eb3656916b button.colab-df-convert');\n",
              "        buttonEl.style.display =\n",
              "          google.colab.kernel.accessAllowed ? 'block' : 'none';\n",
              "\n",
              "        async function convertToInteractive(key) {\n",
              "          const element = document.querySelector('#df-beef5b7e-074e-44fb-87e5-91eb3656916b');\n",
              "          const dataTable =\n",
              "            await google.colab.kernel.invokeFunction('convertToInteractive',\n",
              "                                                     [key], {});\n",
              "          if (!dataTable) return;\n",
              "\n",
              "          const docLinkHtml = 'Like what you see? Visit the ' +\n",
              "            '<a target=\"_blank\" href=https://colab.research.google.com/notebooks/data_table.ipynb>data table notebook</a>'\n",
              "            + ' to learn more about interactive tables.';\n",
              "          element.innerHTML = '';\n",
              "          dataTable['output_type'] = 'display_data';\n",
              "          await google.colab.output.renderOutput(dataTable, element);\n",
              "          const docLink = document.createElement('div');\n",
              "          docLink.innerHTML = docLinkHtml;\n",
              "          element.appendChild(docLink);\n",
              "        }\n",
              "      </script>\n",
              "    </div>\n",
              "  </div>\n",
              "  "
            ]
          },
          "metadata": {},
          "execution_count": 128
        }
      ]
    },
    {
      "cell_type": "code",
      "source": [
        "#What I'll do is modify Waseem & Hovy's data directly, so we can delete the duplicated rows from this dataframe directly\n",
        "df_ruracist = df_ruracist[df_ruracist[\"Wa_Hov_HS\"].isnull()]"
      ],
      "metadata": {
        "id": "Rt5rpXaVOBjy"
      },
      "execution_count": 129,
      "outputs": []
    },
    {
      "cell_type": "code",
      "source": [
        "ruracist_data = ruracist_data + \"After row elimination of overlapping tweets:\\n\"\n",
        "ruracist_data = ruracist_data + \"Number of English tweets: \" + str(df_ruracist.shape[0]) + \"\\n\"\n",
        "ruracist_data = ruracist_data + \"Percentage of hate speech: \" + str((len(df_ruracist.loc[df_ruracist['hate speech'] == 1].index)*100)/df_ruracist.shape[0]) + \"%\\n\\n\""
      ],
      "metadata": {
        "id": "wx3k55enYCZ0"
      },
      "execution_count": 130,
      "outputs": []
    },
    {
      "cell_type": "code",
      "source": [
        "for idx, row in df_ruracist.iterrows():\n",
        "  if \"TWITTER__ERROR\" in row.text:\n",
        "    df_ruracist = df_ruracist.drop(labels=idx, axis=0)"
      ],
      "metadata": {
        "id": "eccAnnk2e52W"
      },
      "execution_count": 131,
      "outputs": []
    },
    {
      "cell_type": "code",
      "source": [
        "ruracist_data = ruracist_data + \"After row eliminations (overlap + twitter error):\\n\"\n",
        "ruracist_data = ruracist_data + \"Number of English tweets: \" + str(df_ruracist.shape[0]) + \"\\n\"\n",
        "ruracist_data = ruracist_data + \"Percentage of hate speech: \" + str((len(df_ruracist.loc[df_ruracist['hate speech'] == 1].index)*100)/df_ruracist.shape[0]) + \"%\\n\\n\""
      ],
      "metadata": {
        "id": "LJgsT1w6e52W"
      },
      "execution_count": 132,
      "outputs": []
    },
    {
      "cell_type": "code",
      "source": [
        "#When manually checking the overlapped tweets, I saw that many times in this dataset the opinion of the single Expert annotator was more correct than the majority of amateur ones\n",
        "#In case there's any incorrect classification, I'll manually check the tweets where this disagreement ocurrs\n",
        "df_ruracist_exp_am_mismatch = df_ruracist[df_ruracist[\"hate speech\"] != df_ruracist[\"Expert\"]].sort_values(by=\"Wa_Hov_HS\")\n",
        "df_ruracist_exp_am_mismatch.to_csv('/content/drive/MyDrive/TFG/data/ruracis_exp_am_mismatch_data.csv', index=False) "
      ],
      "metadata": {
        "id": "mSG4XZYkNtMP"
      },
      "execution_count": 133,
      "outputs": []
    },
    {
      "cell_type": "code",
      "source": [
        "df_ruracist_exp_am_mismatch"
      ],
      "metadata": {
        "colab": {
          "base_uri": "https://localhost:8080/",
          "height": 424
        },
        "id": "gyY3JCOzaJx8",
        "outputId": "09890d3f-7dff-42b3-89d6-abebe9827878"
      },
      "execution_count": 134,
      "outputs": [
        {
          "output_type": "execute_result",
          "data": {
            "text/plain": [
              "                 TweetID                                               text  \\\n",
              "59    594917674448072704  RT @glebd: Ever told a sexist joke and a woman...   \n",
              "128   603553480754778112  @marvelousmusing I should look and see if ther...   \n",
              "140   596731670281097218  @ThelmaSleaze \"i read tweets about it\" she say...   \n",
              "157   571899941817331713                                    \"#feminazi\" 😂😭😭   \n",
              "191   570639722600538113  con watermelon and grape soda #coon lol RT @Sh...   \n",
              "...                  ...                                                ...   \n",
              "6792  596029483791986688  like sorry dude, but my world doesn't revolve ...   \n",
              "6817  572221262207979520  @Videogamehero @TomicComics \"lol what a dumb l...   \n",
              "6824  575754703071399936  @BandiBev \"FEMINAZI R ANTI-MEN BECAUSE IT SAYS...   \n",
              "6858  575672825094258688              Because i'm a feminazi, that's why...   \n",
              "6902  595282956970655744  RT @j_bigboote: @freebsdgirl You'd think havin...   \n",
              "\n",
              "      Expert  Amateur_HS  hate speech  Wa_Hov_HS  \n",
              "59         0           3            1        NaN  \n",
              "128        0           3            1        NaN  \n",
              "140        1          -3            0        NaN  \n",
              "157        0           3            1        NaN  \n",
              "191        1          -3            0        NaN  \n",
              "...      ...         ...          ...        ...  \n",
              "6792       0           3            1        NaN  \n",
              "6817       0           3            1        NaN  \n",
              "6824       0           3            1        NaN  \n",
              "6858       0           3            1        NaN  \n",
              "6902       0           3            1        NaN  \n",
              "\n",
              "[182 rows x 6 columns]"
            ],
            "text/html": [
              "\n",
              "  <div id=\"df-42a8f540-bfdf-4878-a526-9abc3cee3024\">\n",
              "    <div class=\"colab-df-container\">\n",
              "      <div>\n",
              "<style scoped>\n",
              "    .dataframe tbody tr th:only-of-type {\n",
              "        vertical-align: middle;\n",
              "    }\n",
              "\n",
              "    .dataframe tbody tr th {\n",
              "        vertical-align: top;\n",
              "    }\n",
              "\n",
              "    .dataframe thead th {\n",
              "        text-align: right;\n",
              "    }\n",
              "</style>\n",
              "<table border=\"1\" class=\"dataframe\">\n",
              "  <thead>\n",
              "    <tr style=\"text-align: right;\">\n",
              "      <th></th>\n",
              "      <th>TweetID</th>\n",
              "      <th>text</th>\n",
              "      <th>Expert</th>\n",
              "      <th>Amateur_HS</th>\n",
              "      <th>hate speech</th>\n",
              "      <th>Wa_Hov_HS</th>\n",
              "    </tr>\n",
              "  </thead>\n",
              "  <tbody>\n",
              "    <tr>\n",
              "      <th>59</th>\n",
              "      <td>594917674448072704</td>\n",
              "      <td>RT @glebd: Ever told a sexist joke and a woman...</td>\n",
              "      <td>0</td>\n",
              "      <td>3</td>\n",
              "      <td>1</td>\n",
              "      <td>NaN</td>\n",
              "    </tr>\n",
              "    <tr>\n",
              "      <th>128</th>\n",
              "      <td>603553480754778112</td>\n",
              "      <td>@marvelousmusing I should look and see if ther...</td>\n",
              "      <td>0</td>\n",
              "      <td>3</td>\n",
              "      <td>1</td>\n",
              "      <td>NaN</td>\n",
              "    </tr>\n",
              "    <tr>\n",
              "      <th>140</th>\n",
              "      <td>596731670281097218</td>\n",
              "      <td>@ThelmaSleaze \"i read tweets about it\" she say...</td>\n",
              "      <td>1</td>\n",
              "      <td>-3</td>\n",
              "      <td>0</td>\n",
              "      <td>NaN</td>\n",
              "    </tr>\n",
              "    <tr>\n",
              "      <th>157</th>\n",
              "      <td>571899941817331713</td>\n",
              "      <td>\"#feminazi\" 😂😭😭</td>\n",
              "      <td>0</td>\n",
              "      <td>3</td>\n",
              "      <td>1</td>\n",
              "      <td>NaN</td>\n",
              "    </tr>\n",
              "    <tr>\n",
              "      <th>191</th>\n",
              "      <td>570639722600538113</td>\n",
              "      <td>con watermelon and grape soda #coon lol RT @Sh...</td>\n",
              "      <td>1</td>\n",
              "      <td>-3</td>\n",
              "      <td>0</td>\n",
              "      <td>NaN</td>\n",
              "    </tr>\n",
              "    <tr>\n",
              "      <th>...</th>\n",
              "      <td>...</td>\n",
              "      <td>...</td>\n",
              "      <td>...</td>\n",
              "      <td>...</td>\n",
              "      <td>...</td>\n",
              "      <td>...</td>\n",
              "    </tr>\n",
              "    <tr>\n",
              "      <th>6792</th>\n",
              "      <td>596029483791986688</td>\n",
              "      <td>like sorry dude, but my world doesn't revolve ...</td>\n",
              "      <td>0</td>\n",
              "      <td>3</td>\n",
              "      <td>1</td>\n",
              "      <td>NaN</td>\n",
              "    </tr>\n",
              "    <tr>\n",
              "      <th>6817</th>\n",
              "      <td>572221262207979520</td>\n",
              "      <td>@Videogamehero @TomicComics \"lol what a dumb l...</td>\n",
              "      <td>0</td>\n",
              "      <td>3</td>\n",
              "      <td>1</td>\n",
              "      <td>NaN</td>\n",
              "    </tr>\n",
              "    <tr>\n",
              "      <th>6824</th>\n",
              "      <td>575754703071399936</td>\n",
              "      <td>@BandiBev \"FEMINAZI R ANTI-MEN BECAUSE IT SAYS...</td>\n",
              "      <td>0</td>\n",
              "      <td>3</td>\n",
              "      <td>1</td>\n",
              "      <td>NaN</td>\n",
              "    </tr>\n",
              "    <tr>\n",
              "      <th>6858</th>\n",
              "      <td>575672825094258688</td>\n",
              "      <td>Because i'm a feminazi, that's why...</td>\n",
              "      <td>0</td>\n",
              "      <td>3</td>\n",
              "      <td>1</td>\n",
              "      <td>NaN</td>\n",
              "    </tr>\n",
              "    <tr>\n",
              "      <th>6902</th>\n",
              "      <td>595282956970655744</td>\n",
              "      <td>RT @j_bigboote: @freebsdgirl You'd think havin...</td>\n",
              "      <td>0</td>\n",
              "      <td>3</td>\n",
              "      <td>1</td>\n",
              "      <td>NaN</td>\n",
              "    </tr>\n",
              "  </tbody>\n",
              "</table>\n",
              "<p>182 rows × 6 columns</p>\n",
              "</div>\n",
              "      <button class=\"colab-df-convert\" onclick=\"convertToInteractive('df-42a8f540-bfdf-4878-a526-9abc3cee3024')\"\n",
              "              title=\"Convert this dataframe to an interactive table.\"\n",
              "              style=\"display:none;\">\n",
              "        \n",
              "  <svg xmlns=\"http://www.w3.org/2000/svg\" height=\"24px\"viewBox=\"0 0 24 24\"\n",
              "       width=\"24px\">\n",
              "    <path d=\"M0 0h24v24H0V0z\" fill=\"none\"/>\n",
              "    <path d=\"M18.56 5.44l.94 2.06.94-2.06 2.06-.94-2.06-.94-.94-2.06-.94 2.06-2.06.94zm-11 1L8.5 8.5l.94-2.06 2.06-.94-2.06-.94L8.5 2.5l-.94 2.06-2.06.94zm10 10l.94 2.06.94-2.06 2.06-.94-2.06-.94-.94-2.06-.94 2.06-2.06.94z\"/><path d=\"M17.41 7.96l-1.37-1.37c-.4-.4-.92-.59-1.43-.59-.52 0-1.04.2-1.43.59L10.3 9.45l-7.72 7.72c-.78.78-.78 2.05 0 2.83L4 21.41c.39.39.9.59 1.41.59.51 0 1.02-.2 1.41-.59l7.78-7.78 2.81-2.81c.8-.78.8-2.07 0-2.86zM5.41 20L4 18.59l7.72-7.72 1.47 1.35L5.41 20z\"/>\n",
              "  </svg>\n",
              "      </button>\n",
              "      \n",
              "  <style>\n",
              "    .colab-df-container {\n",
              "      display:flex;\n",
              "      flex-wrap:wrap;\n",
              "      gap: 12px;\n",
              "    }\n",
              "\n",
              "    .colab-df-convert {\n",
              "      background-color: #E8F0FE;\n",
              "      border: none;\n",
              "      border-radius: 50%;\n",
              "      cursor: pointer;\n",
              "      display: none;\n",
              "      fill: #1967D2;\n",
              "      height: 32px;\n",
              "      padding: 0 0 0 0;\n",
              "      width: 32px;\n",
              "    }\n",
              "\n",
              "    .colab-df-convert:hover {\n",
              "      background-color: #E2EBFA;\n",
              "      box-shadow: 0px 1px 2px rgba(60, 64, 67, 0.3), 0px 1px 3px 1px rgba(60, 64, 67, 0.15);\n",
              "      fill: #174EA6;\n",
              "    }\n",
              "\n",
              "    [theme=dark] .colab-df-convert {\n",
              "      background-color: #3B4455;\n",
              "      fill: #D2E3FC;\n",
              "    }\n",
              "\n",
              "    [theme=dark] .colab-df-convert:hover {\n",
              "      background-color: #434B5C;\n",
              "      box-shadow: 0px 1px 3px 1px rgba(0, 0, 0, 0.15);\n",
              "      filter: drop-shadow(0px 1px 2px rgba(0, 0, 0, 0.3));\n",
              "      fill: #FFFFFF;\n",
              "    }\n",
              "  </style>\n",
              "\n",
              "      <script>\n",
              "        const buttonEl =\n",
              "          document.querySelector('#df-42a8f540-bfdf-4878-a526-9abc3cee3024 button.colab-df-convert');\n",
              "        buttonEl.style.display =\n",
              "          google.colab.kernel.accessAllowed ? 'block' : 'none';\n",
              "\n",
              "        async function convertToInteractive(key) {\n",
              "          const element = document.querySelector('#df-42a8f540-bfdf-4878-a526-9abc3cee3024');\n",
              "          const dataTable =\n",
              "            await google.colab.kernel.invokeFunction('convertToInteractive',\n",
              "                                                     [key], {});\n",
              "          if (!dataTable) return;\n",
              "\n",
              "          const docLinkHtml = 'Like what you see? Visit the ' +\n",
              "            '<a target=\"_blank\" href=https://colab.research.google.com/notebooks/data_table.ipynb>data table notebook</a>'\n",
              "            + ' to learn more about interactive tables.';\n",
              "          element.innerHTML = '';\n",
              "          dataTable['output_type'] = 'display_data';\n",
              "          await google.colab.output.renderOutput(dataTable, element);\n",
              "          const docLink = document.createElement('div');\n",
              "          docLink.innerHTML = docLinkHtml;\n",
              "          element.appendChild(docLink);\n",
              "        }\n",
              "      </script>\n",
              "    </div>\n",
              "  </div>\n",
              "  "
            ]
          },
          "metadata": {},
          "execution_count": 134
        }
      ]
    },
    {
      "cell_type": "code",
      "source": [
        "#Importing the corrected tweets from \"df_ruracist_exp_am_mismatch\"\n",
        "df_ruracis_exp_am_mismatch_data_correct = pd.read_csv('/content/drive/MyDrive/TFG/data/ruracis_exp_am_mismatch_data_correct.csv', engine=\"python\")"
      ],
      "metadata": {
        "id": "-y9r62dsGg_k"
      },
      "execution_count": 135,
      "outputs": []
    },
    {
      "cell_type": "code",
      "source": [
        "#Correcting the classification\n",
        "for idx1, row1 in df_ruracist.iterrows():\n",
        "  for idx2, row2 in df_ruracis_exp_am_mismatch_data_correct.iterrows():\n",
        "    if str(row1.TweetID) == str(row2.TweetID):\n",
        "      df_ruracist['hate speech'][idx1] = row2['hate speech']"
      ],
      "metadata": {
        "id": "hgdhu01fRVSx"
      },
      "execution_count": 136,
      "outputs": []
    },
    {
      "cell_type": "code",
      "source": [
        "#Finally, we leave the two columns we're interested in\n",
        "df_ruracist = df_ruracist[[\"text\", \"hate speech\"]]"
      ],
      "metadata": {
        "id": "6FbGD8V41-OM"
      },
      "execution_count": 137,
      "outputs": []
    },
    {
      "cell_type": "code",
      "source": [
        "df_ruracist"
      ],
      "metadata": {
        "colab": {
          "base_uri": "https://localhost:8080/",
          "height": 424
        },
        "id": "8qbsCQBa2un_",
        "outputId": "d10a9de3-42de-4716-f884-37e2525b5189"
      },
      "execution_count": 138,
      "outputs": [
        {
          "output_type": "execute_result",
          "data": {
            "text/plain": [
              "                                                   text  hate speech\n",
              "0     Cisco had to deal with a fat cash payout to th...            0\n",
              "3     guys. show me the data. show me your github. t...            0\n",
              "6     @lysandraws yay! Absolutely. I'm not gone unti...            0\n",
              "8             @SirenSailor rtfm. http://t.co/jaMXHikl3u            0\n",
              "10                               @Popehat who wouldn't?            0\n",
              "...                                                 ...          ...\n",
              "6891  Y'know, I get the appeal of group acceptance. ...            0\n",
              "6893  RT @neilhimself: It looks like by mentioning t...            0\n",
              "6897  RT @Quinnae_Moon: That's not merely because of...            0\n",
              "6898  @katexweis i'm all about black milk. some f21,...            0\n",
              "6902  RT @j_bigboote: @freebsdgirl You'd think havin...            0\n",
              "\n",
              "[2094 rows x 2 columns]"
            ],
            "text/html": [
              "\n",
              "  <div id=\"df-9f863741-9b50-4c09-808a-fd38586a5622\">\n",
              "    <div class=\"colab-df-container\">\n",
              "      <div>\n",
              "<style scoped>\n",
              "    .dataframe tbody tr th:only-of-type {\n",
              "        vertical-align: middle;\n",
              "    }\n",
              "\n",
              "    .dataframe tbody tr th {\n",
              "        vertical-align: top;\n",
              "    }\n",
              "\n",
              "    .dataframe thead th {\n",
              "        text-align: right;\n",
              "    }\n",
              "</style>\n",
              "<table border=\"1\" class=\"dataframe\">\n",
              "  <thead>\n",
              "    <tr style=\"text-align: right;\">\n",
              "      <th></th>\n",
              "      <th>text</th>\n",
              "      <th>hate speech</th>\n",
              "    </tr>\n",
              "  </thead>\n",
              "  <tbody>\n",
              "    <tr>\n",
              "      <th>0</th>\n",
              "      <td>Cisco had to deal with a fat cash payout to th...</td>\n",
              "      <td>0</td>\n",
              "    </tr>\n",
              "    <tr>\n",
              "      <th>3</th>\n",
              "      <td>guys. show me the data. show me your github. t...</td>\n",
              "      <td>0</td>\n",
              "    </tr>\n",
              "    <tr>\n",
              "      <th>6</th>\n",
              "      <td>@lysandraws yay! Absolutely. I'm not gone unti...</td>\n",
              "      <td>0</td>\n",
              "    </tr>\n",
              "    <tr>\n",
              "      <th>8</th>\n",
              "      <td>@SirenSailor rtfm. http://t.co/jaMXHikl3u</td>\n",
              "      <td>0</td>\n",
              "    </tr>\n",
              "    <tr>\n",
              "      <th>10</th>\n",
              "      <td>@Popehat who wouldn't?</td>\n",
              "      <td>0</td>\n",
              "    </tr>\n",
              "    <tr>\n",
              "      <th>...</th>\n",
              "      <td>...</td>\n",
              "      <td>...</td>\n",
              "    </tr>\n",
              "    <tr>\n",
              "      <th>6891</th>\n",
              "      <td>Y'know, I get the appeal of group acceptance. ...</td>\n",
              "      <td>0</td>\n",
              "    </tr>\n",
              "    <tr>\n",
              "      <th>6893</th>\n",
              "      <td>RT @neilhimself: It looks like by mentioning t...</td>\n",
              "      <td>0</td>\n",
              "    </tr>\n",
              "    <tr>\n",
              "      <th>6897</th>\n",
              "      <td>RT @Quinnae_Moon: That's not merely because of...</td>\n",
              "      <td>0</td>\n",
              "    </tr>\n",
              "    <tr>\n",
              "      <th>6898</th>\n",
              "      <td>@katexweis i'm all about black milk. some f21,...</td>\n",
              "      <td>0</td>\n",
              "    </tr>\n",
              "    <tr>\n",
              "      <th>6902</th>\n",
              "      <td>RT @j_bigboote: @freebsdgirl You'd think havin...</td>\n",
              "      <td>0</td>\n",
              "    </tr>\n",
              "  </tbody>\n",
              "</table>\n",
              "<p>2094 rows × 2 columns</p>\n",
              "</div>\n",
              "      <button class=\"colab-df-convert\" onclick=\"convertToInteractive('df-9f863741-9b50-4c09-808a-fd38586a5622')\"\n",
              "              title=\"Convert this dataframe to an interactive table.\"\n",
              "              style=\"display:none;\">\n",
              "        \n",
              "  <svg xmlns=\"http://www.w3.org/2000/svg\" height=\"24px\"viewBox=\"0 0 24 24\"\n",
              "       width=\"24px\">\n",
              "    <path d=\"M0 0h24v24H0V0z\" fill=\"none\"/>\n",
              "    <path d=\"M18.56 5.44l.94 2.06.94-2.06 2.06-.94-2.06-.94-.94-2.06-.94 2.06-2.06.94zm-11 1L8.5 8.5l.94-2.06 2.06-.94-2.06-.94L8.5 2.5l-.94 2.06-2.06.94zm10 10l.94 2.06.94-2.06 2.06-.94-2.06-.94-.94-2.06-.94 2.06-2.06.94z\"/><path d=\"M17.41 7.96l-1.37-1.37c-.4-.4-.92-.59-1.43-.59-.52 0-1.04.2-1.43.59L10.3 9.45l-7.72 7.72c-.78.78-.78 2.05 0 2.83L4 21.41c.39.39.9.59 1.41.59.51 0 1.02-.2 1.41-.59l7.78-7.78 2.81-2.81c.8-.78.8-2.07 0-2.86zM5.41 20L4 18.59l7.72-7.72 1.47 1.35L5.41 20z\"/>\n",
              "  </svg>\n",
              "      </button>\n",
              "      \n",
              "  <style>\n",
              "    .colab-df-container {\n",
              "      display:flex;\n",
              "      flex-wrap:wrap;\n",
              "      gap: 12px;\n",
              "    }\n",
              "\n",
              "    .colab-df-convert {\n",
              "      background-color: #E8F0FE;\n",
              "      border: none;\n",
              "      border-radius: 50%;\n",
              "      cursor: pointer;\n",
              "      display: none;\n",
              "      fill: #1967D2;\n",
              "      height: 32px;\n",
              "      padding: 0 0 0 0;\n",
              "      width: 32px;\n",
              "    }\n",
              "\n",
              "    .colab-df-convert:hover {\n",
              "      background-color: #E2EBFA;\n",
              "      box-shadow: 0px 1px 2px rgba(60, 64, 67, 0.3), 0px 1px 3px 1px rgba(60, 64, 67, 0.15);\n",
              "      fill: #174EA6;\n",
              "    }\n",
              "\n",
              "    [theme=dark] .colab-df-convert {\n",
              "      background-color: #3B4455;\n",
              "      fill: #D2E3FC;\n",
              "    }\n",
              "\n",
              "    [theme=dark] .colab-df-convert:hover {\n",
              "      background-color: #434B5C;\n",
              "      box-shadow: 0px 1px 3px 1px rgba(0, 0, 0, 0.15);\n",
              "      filter: drop-shadow(0px 1px 2px rgba(0, 0, 0, 0.3));\n",
              "      fill: #FFFFFF;\n",
              "    }\n",
              "  </style>\n",
              "\n",
              "      <script>\n",
              "        const buttonEl =\n",
              "          document.querySelector('#df-9f863741-9b50-4c09-808a-fd38586a5622 button.colab-df-convert');\n",
              "        buttonEl.style.display =\n",
              "          google.colab.kernel.accessAllowed ? 'block' : 'none';\n",
              "\n",
              "        async function convertToInteractive(key) {\n",
              "          const element = document.querySelector('#df-9f863741-9b50-4c09-808a-fd38586a5622');\n",
              "          const dataTable =\n",
              "            await google.colab.kernel.invokeFunction('convertToInteractive',\n",
              "                                                     [key], {});\n",
              "          if (!dataTable) return;\n",
              "\n",
              "          const docLinkHtml = 'Like what you see? Visit the ' +\n",
              "            '<a target=\"_blank\" href=https://colab.research.google.com/notebooks/data_table.ipynb>data table notebook</a>'\n",
              "            + ' to learn more about interactive tables.';\n",
              "          element.innerHTML = '';\n",
              "          dataTable['output_type'] = 'display_data';\n",
              "          await google.colab.output.renderOutput(dataTable, element);\n",
              "          const docLink = document.createElement('div');\n",
              "          docLink.innerHTML = docLinkHtml;\n",
              "          element.appendChild(docLink);\n",
              "        }\n",
              "      </script>\n",
              "    </div>\n",
              "  </div>\n",
              "  "
            ]
          },
          "metadata": {},
          "execution_count": 138
        }
      ]
    },
    {
      "cell_type": "code",
      "source": [
        "ruracist_data = ruracist_data + \"After row eliminations and small row correction:\\n\"\n",
        "ruracist_data = ruracist_data + \"Number of English tweets: \" + str(df_ruracist.shape[0]) + \"\\n\"\n",
        "ruracist_data = ruracist_data + \"Percentage of hate speech: \" + str((len(df_ruracist.loc[df_ruracist['hate speech'] == 1].index)*100)/df_ruracist.shape[0]) + \"%\\n\\n\""
      ],
      "metadata": {
        "id": "2otvhAkAZk6Z"
      },
      "execution_count": 139,
      "outputs": []
    },
    {
      "cell_type": "code",
      "source": [
        "print(ruracist_data)"
      ],
      "metadata": {
        "colab": {
          "base_uri": "https://localhost:8080/"
        },
        "outputId": "fe064413-3473-4076-8c69-7fd5ea29f9e5",
        "id": "o005iCALe52W"
      },
      "execution_count": 140,
      "outputs": [
        {
          "output_type": "stream",
          "name": "stdout",
          "text": [
            "ARE YOU RACIST OR AM I SEEING THINGS? DATASET:\n",
            "------------------------------------------\n",
            "Before row elimination:\n",
            "Number of English tweets: 6909\n",
            "Percentage of hate speech: 18.17918656824432%\n",
            "\n",
            "After row elimination of overlapping tweets:\n",
            "Number of English tweets: 2790\n",
            "Percentage of hate speech: 38.63799283154122%\n",
            "\n",
            "After row eliminations (overlap + twitter error):\n",
            "Number of English tweets: 2094\n",
            "Percentage of hate speech: 28.22349570200573%\n",
            "\n",
            "After row eliminations and small row correction:\n",
            "Number of English tweets: 2094\n",
            "Percentage of hate speech: 21.872015281757403%\n",
            "\n",
            "\n"
          ]
        }
      ]
    },
    {
      "cell_type": "markdown",
      "source": [
        "###[Hate speech dataset from a white supremacist forum ](https://aclanthology.org/W18-5102.pdf)"
      ],
      "metadata": {
        "id": "nNfxyTonDuMv"
      }
    },
    {
      "cell_type": "markdown",
      "source": [
        "####Obtaining post text"
      ],
      "metadata": {
        "id": "MIygSpZK5nuW"
      }
    },
    {
      "cell_type": "code",
      "source": [
        "#In this set we don't have the text or tweet IDs, these posts are from a forum, we have a column with a file id...\n",
        "#We have the posts' text as text files (loaded in in my drive)\n",
        "df_whitesup['text'] = \"\"\n",
        "for idx, row in df_whitesup.iterrows():\n",
        "  text = open('/content/drive/MyDrive/TFG/data/all_files_white_sup/' + df_whitesup['file_id'][idx] + '.txt').read()\n",
        "  df_whitesup['text'][idx] = text"
      ],
      "metadata": {
        "id": "-nIH4ruILx-h"
      },
      "execution_count": 16,
      "outputs": []
    },
    {
      "cell_type": "code",
      "source": [
        "df_whitesup.to_csv('/content/drive/MyDrive/TFG/data/whitesup_data.csv', index=False)  "
      ],
      "metadata": {
        "id": "5E7sJTSSr5Lx"
      },
      "execution_count": 18,
      "outputs": []
    },
    {
      "cell_type": "markdown",
      "source": [
        "####Rest of preprocessing\n"
      ],
      "metadata": {
        "id": "mBPs2zYa5liP"
      }
    },
    {
      "cell_type": "code",
      "source": [
        "df_whitesup = pd.read_csv('/content/drive/MyDrive/TFG/data/whitesup_data.csv', engine=\"python\")\n",
        "#We import the corrected data: explanation in a couple of cells below\n",
        "df_whitesup_correct = pd.read_csv('/content/drive/MyDrive/TFG/data/whitesup_data_correct.csv', encoding='utf8', engine=\"python\")"
      ],
      "metadata": {
        "id": "QMilOyVd4i9E"
      },
      "execution_count": 141,
      "outputs": []
    },
    {
      "cell_type": "code",
      "source": [
        "df_whitesup[\"label\"].unique()"
      ],
      "metadata": {
        "colab": {
          "base_uri": "https://localhost:8080/"
        },
        "id": "p4tllFc29xmh",
        "outputId": "0ac0fe26-3e6c-4e4b-eb6c-55522d569902"
      },
      "execution_count": 142,
      "outputs": [
        {
          "output_type": "execute_result",
          "data": {
            "text/plain": [
              "array(['noHate', 'hate', 'idk/skip', 'relation'], dtype=object)"
            ]
          },
          "metadata": {},
          "execution_count": 142
        }
      ]
    },
    {
      "cell_type": "code",
      "source": [
        "#\"relation\" refers to posts that alone aren't hateful but with the context, it is\"\n",
        "df_whitesup[df_whitesup[\"label\"]==\"relation\"].sample(n=10)\n",
        "#In this sample in some occasions posts are hateful, I want to manually check the posts labelled as \"relation\" "
      ],
      "metadata": {
        "colab": {
          "base_uri": "https://localhost:8080/",
          "height": 339
        },
        "id": "1JGfziGi5u7q",
        "outputId": "8d363989-d275-42ae-ee58-4abe084c3cb5"
      },
      "execution_count": 53,
      "outputs": [
        {
          "output_type": "execute_result",
          "data": {
            "text/plain": [
              "          file_id  user_id  subforum_id  num_contexts     label  \\\n",
              "8862   13388443_2   581151         1345             0  relation   \n",
              "10181  14022848_1   575397         1388             0  relation   \n",
              "8861   13388443_1   581151         1345             0  relation   \n",
              "1525   14026532_1   578419         1387             0  relation   \n",
              "7044   14039020_1   576887         1387             0  relation   \n",
              "4558   13462231_3   582696         1346             0  relation   \n",
              "4360   31761769_1   599528         1363             0  relation   \n",
              "2420   13507437_2   575149         1395             0  relation   \n",
              "3558   13553557_2   588238         1346             0  relation   \n",
              "7284   14651426_2   574041         1371             0  relation   \n",
              "\n",
              "                                                    text  \n",
              "8862         Is Africa the epitome of progress or what ?  \n",
              "10181  Definitely my dad said in his city growing up ...  \n",
              "8861   So we have ox-driven ambulances in Zimbabwe an...  \n",
              "1525   Just wait until we open our doors to the poor ...  \n",
              "7044   The work place pensions advert is pretty bad ,...  \n",
              "4558   I feel sorry for whites living in Southern Cal...  \n",
              "4360   The most absurd thing I have ever heard a nig ...  \n",
              "2420                                  Soccer and Music .  \n",
              "3558                              Classic brainwashing .  \n",
              "7284                Look what white liberals have done .  "
            ],
            "text/html": [
              "\n",
              "  <div id=\"df-1cfa8ea0-f628-4983-b4e9-6a48efdf73ca\">\n",
              "    <div class=\"colab-df-container\">\n",
              "      <div>\n",
              "<style scoped>\n",
              "    .dataframe tbody tr th:only-of-type {\n",
              "        vertical-align: middle;\n",
              "    }\n",
              "\n",
              "    .dataframe tbody tr th {\n",
              "        vertical-align: top;\n",
              "    }\n",
              "\n",
              "    .dataframe thead th {\n",
              "        text-align: right;\n",
              "    }\n",
              "</style>\n",
              "<table border=\"1\" class=\"dataframe\">\n",
              "  <thead>\n",
              "    <tr style=\"text-align: right;\">\n",
              "      <th></th>\n",
              "      <th>file_id</th>\n",
              "      <th>user_id</th>\n",
              "      <th>subforum_id</th>\n",
              "      <th>num_contexts</th>\n",
              "      <th>label</th>\n",
              "      <th>text</th>\n",
              "    </tr>\n",
              "  </thead>\n",
              "  <tbody>\n",
              "    <tr>\n",
              "      <th>8862</th>\n",
              "      <td>13388443_2</td>\n",
              "      <td>581151</td>\n",
              "      <td>1345</td>\n",
              "      <td>0</td>\n",
              "      <td>relation</td>\n",
              "      <td>Is Africa the epitome of progress or what ?</td>\n",
              "    </tr>\n",
              "    <tr>\n",
              "      <th>10181</th>\n",
              "      <td>14022848_1</td>\n",
              "      <td>575397</td>\n",
              "      <td>1388</td>\n",
              "      <td>0</td>\n",
              "      <td>relation</td>\n",
              "      <td>Definitely my dad said in his city growing up ...</td>\n",
              "    </tr>\n",
              "    <tr>\n",
              "      <th>8861</th>\n",
              "      <td>13388443_1</td>\n",
              "      <td>581151</td>\n",
              "      <td>1345</td>\n",
              "      <td>0</td>\n",
              "      <td>relation</td>\n",
              "      <td>So we have ox-driven ambulances in Zimbabwe an...</td>\n",
              "    </tr>\n",
              "    <tr>\n",
              "      <th>1525</th>\n",
              "      <td>14026532_1</td>\n",
              "      <td>578419</td>\n",
              "      <td>1387</td>\n",
              "      <td>0</td>\n",
              "      <td>relation</td>\n",
              "      <td>Just wait until we open our doors to the poor ...</td>\n",
              "    </tr>\n",
              "    <tr>\n",
              "      <th>7044</th>\n",
              "      <td>14039020_1</td>\n",
              "      <td>576887</td>\n",
              "      <td>1387</td>\n",
              "      <td>0</td>\n",
              "      <td>relation</td>\n",
              "      <td>The work place pensions advert is pretty bad ,...</td>\n",
              "    </tr>\n",
              "    <tr>\n",
              "      <th>4558</th>\n",
              "      <td>13462231_3</td>\n",
              "      <td>582696</td>\n",
              "      <td>1346</td>\n",
              "      <td>0</td>\n",
              "      <td>relation</td>\n",
              "      <td>I feel sorry for whites living in Southern Cal...</td>\n",
              "    </tr>\n",
              "    <tr>\n",
              "      <th>4360</th>\n",
              "      <td>31761769_1</td>\n",
              "      <td>599528</td>\n",
              "      <td>1363</td>\n",
              "      <td>0</td>\n",
              "      <td>relation</td>\n",
              "      <td>The most absurd thing I have ever heard a nig ...</td>\n",
              "    </tr>\n",
              "    <tr>\n",
              "      <th>2420</th>\n",
              "      <td>13507437_2</td>\n",
              "      <td>575149</td>\n",
              "      <td>1395</td>\n",
              "      <td>0</td>\n",
              "      <td>relation</td>\n",
              "      <td>Soccer and Music .</td>\n",
              "    </tr>\n",
              "    <tr>\n",
              "      <th>3558</th>\n",
              "      <td>13553557_2</td>\n",
              "      <td>588238</td>\n",
              "      <td>1346</td>\n",
              "      <td>0</td>\n",
              "      <td>relation</td>\n",
              "      <td>Classic brainwashing .</td>\n",
              "    </tr>\n",
              "    <tr>\n",
              "      <th>7284</th>\n",
              "      <td>14651426_2</td>\n",
              "      <td>574041</td>\n",
              "      <td>1371</td>\n",
              "      <td>0</td>\n",
              "      <td>relation</td>\n",
              "      <td>Look what white liberals have done .</td>\n",
              "    </tr>\n",
              "  </tbody>\n",
              "</table>\n",
              "</div>\n",
              "      <button class=\"colab-df-convert\" onclick=\"convertToInteractive('df-1cfa8ea0-f628-4983-b4e9-6a48efdf73ca')\"\n",
              "              title=\"Convert this dataframe to an interactive table.\"\n",
              "              style=\"display:none;\">\n",
              "        \n",
              "  <svg xmlns=\"http://www.w3.org/2000/svg\" height=\"24px\"viewBox=\"0 0 24 24\"\n",
              "       width=\"24px\">\n",
              "    <path d=\"M0 0h24v24H0V0z\" fill=\"none\"/>\n",
              "    <path d=\"M18.56 5.44l.94 2.06.94-2.06 2.06-.94-2.06-.94-.94-2.06-.94 2.06-2.06.94zm-11 1L8.5 8.5l.94-2.06 2.06-.94-2.06-.94L8.5 2.5l-.94 2.06-2.06.94zm10 10l.94 2.06.94-2.06 2.06-.94-2.06-.94-.94-2.06-.94 2.06-2.06.94z\"/><path d=\"M17.41 7.96l-1.37-1.37c-.4-.4-.92-.59-1.43-.59-.52 0-1.04.2-1.43.59L10.3 9.45l-7.72 7.72c-.78.78-.78 2.05 0 2.83L4 21.41c.39.39.9.59 1.41.59.51 0 1.02-.2 1.41-.59l7.78-7.78 2.81-2.81c.8-.78.8-2.07 0-2.86zM5.41 20L4 18.59l7.72-7.72 1.47 1.35L5.41 20z\"/>\n",
              "  </svg>\n",
              "      </button>\n",
              "      \n",
              "  <style>\n",
              "    .colab-df-container {\n",
              "      display:flex;\n",
              "      flex-wrap:wrap;\n",
              "      gap: 12px;\n",
              "    }\n",
              "\n",
              "    .colab-df-convert {\n",
              "      background-color: #E8F0FE;\n",
              "      border: none;\n",
              "      border-radius: 50%;\n",
              "      cursor: pointer;\n",
              "      display: none;\n",
              "      fill: #1967D2;\n",
              "      height: 32px;\n",
              "      padding: 0 0 0 0;\n",
              "      width: 32px;\n",
              "    }\n",
              "\n",
              "    .colab-df-convert:hover {\n",
              "      background-color: #E2EBFA;\n",
              "      box-shadow: 0px 1px 2px rgba(60, 64, 67, 0.3), 0px 1px 3px 1px rgba(60, 64, 67, 0.15);\n",
              "      fill: #174EA6;\n",
              "    }\n",
              "\n",
              "    [theme=dark] .colab-df-convert {\n",
              "      background-color: #3B4455;\n",
              "      fill: #D2E3FC;\n",
              "    }\n",
              "\n",
              "    [theme=dark] .colab-df-convert:hover {\n",
              "      background-color: #434B5C;\n",
              "      box-shadow: 0px 1px 3px 1px rgba(0, 0, 0, 0.15);\n",
              "      filter: drop-shadow(0px 1px 2px rgba(0, 0, 0, 0.3));\n",
              "      fill: #FFFFFF;\n",
              "    }\n",
              "  </style>\n",
              "\n",
              "      <script>\n",
              "        const buttonEl =\n",
              "          document.querySelector('#df-1cfa8ea0-f628-4983-b4e9-6a48efdf73ca button.colab-df-convert');\n",
              "        buttonEl.style.display =\n",
              "          google.colab.kernel.accessAllowed ? 'block' : 'none';\n",
              "\n",
              "        async function convertToInteractive(key) {\n",
              "          const element = document.querySelector('#df-1cfa8ea0-f628-4983-b4e9-6a48efdf73ca');\n",
              "          const dataTable =\n",
              "            await google.colab.kernel.invokeFunction('convertToInteractive',\n",
              "                                                     [key], {});\n",
              "          if (!dataTable) return;\n",
              "\n",
              "          const docLinkHtml = 'Like what you see? Visit the ' +\n",
              "            '<a target=\"_blank\" href=https://colab.research.google.com/notebooks/data_table.ipynb>data table notebook</a>'\n",
              "            + ' to learn more about interactive tables.';\n",
              "          element.innerHTML = '';\n",
              "          dataTable['output_type'] = 'display_data';\n",
              "          await google.colab.output.renderOutput(dataTable, element);\n",
              "          const docLink = document.createElement('div');\n",
              "          docLink.innerHTML = docLinkHtml;\n",
              "          element.appendChild(docLink);\n",
              "        }\n",
              "      </script>\n",
              "    </div>\n",
              "  </div>\n",
              "  "
            ]
          },
          "metadata": {},
          "execution_count": 53
        }
      ]
    },
    {
      "cell_type": "code",
      "source": [
        "df_whitesup = df_whitesup[['text','label']]\n",
        "df_whitesup.rename(columns = {'label':'hate speech'}, inplace = True)\n",
        "df_whitesup['hate speech'] = df_whitesup['hate speech'].replace(['noHate'],0)\n",
        "df_whitesup['hate speech'] = df_whitesup['hate speech'].replace(['hate'],1)\n",
        "df_whitesup['hate speech'] = df_whitesup['hate speech'].replace(['idk/skip'],\"-\")"
      ],
      "metadata": {
        "id": "1grv0sJURar7"
      },
      "execution_count": 143,
      "outputs": []
    },
    {
      "cell_type": "code",
      "source": [
        "whitesup_data = \"WHITE SUPREMACIST FORUM DATASET:\\n------------------------------------------\\n\"\n",
        "whitesup_data = whitesup_data + \"Before row correction and elimination:\\n\"\n",
        "whitesup_data = whitesup_data + \"Number of English tweets: \" + str(df_whitesup.shape[0]) + \"\\n\"\n",
        "whitesup_data = whitesup_data + \"Percentage of hate speech: \" + str((len(df_whitesup.loc[df_whitesup['hate speech'] == 1].index)*100)/df_whitesup.shape[0]) + \"%\\n\\n\""
      ],
      "metadata": {
        "id": "izgFNCR5Fo_K"
      },
      "execution_count": 144,
      "outputs": []
    },
    {
      "cell_type": "code",
      "source": [
        "#Deleting all rows labelled as \"idk/skip\": \n",
        "# \"Sentences that are not written in English or that\n",
        "# do not contain information as to be classified into\n",
        "# HATE or NOHATE are given this label.\"\n",
        "df_whitesup = df_whitesup[df_whitesup['hate speech'] != \"-\"]"
      ],
      "metadata": {
        "id": "D3wHfBryTZs9"
      },
      "execution_count": 145,
      "outputs": []
    },
    {
      "cell_type": "code",
      "source": [
        "whitesup_data = whitesup_data + \"After row elimination:\\n\"\n",
        "whitesup_data = whitesup_data + \"Number of English tweets: \" + str(df_whitesup.shape[0]) + \"\\n\"\n",
        "whitesup_data = whitesup_data + \"Percentage of hate speech: \" + str((len(df_whitesup.loc[df_whitesup['hate speech'] == 1].index)*100)/df_whitesup.shape[0]) + \"%\\n\\n\""
      ],
      "metadata": {
        "id": "wIsQYXEnTC-d"
      },
      "execution_count": 146,
      "outputs": []
    },
    {
      "cell_type": "code",
      "source": [
        "df_whitesup.to_csv('/content/drive/MyDrive/TFG/data/whitesup_data_to_correct.csv', index=False)  "
      ],
      "metadata": {
        "id": "2Aim6OkjRCnU"
      },
      "execution_count": 42,
      "outputs": []
    },
    {
      "cell_type": "code",
      "source": [
        "df_whitesup_correct"
      ],
      "metadata": {
        "colab": {
          "base_uri": "https://localhost:8080/",
          "height": 424
        },
        "id": "UeE98MuYsOP6",
        "outputId": "aceec5e2-ece7-4330-cd9e-8e9121d8564b"
      },
      "execution_count": 147,
      "outputs": [
        {
          "output_type": "execute_result",
          "data": {
            "text/plain": [
              "                                                    text  hate speech\n",
              "0      You are telling me that 78 % of kids under 6 i...            0\n",
              "1                          Jeeze its worst than the UK .            0\n",
              "2      So far today I 've come across the words scum ...            0\n",
              "3                          All too describe my sisters .            0\n",
              "4      The Indian teenager was showing the Caucasian ...            0\n",
              "...                                                  ...          ...\n",
              "10866  This is after a famous incident of former Prim...            0\n",
              "10867  Billy - `` That guy would n't leave me alone ,...            0\n",
              "10868  Wish we at least had a Marine Le Pen to vote f...            0\n",
              "10869  Its like the choices are white genocide candid...            0\n",
              "10870                                     Now I get it !            0\n",
              "\n",
              "[10871 rows x 2 columns]"
            ],
            "text/html": [
              "\n",
              "  <div id=\"df-081d06f6-d557-487f-bcd7-a937ec961f4a\">\n",
              "    <div class=\"colab-df-container\">\n",
              "      <div>\n",
              "<style scoped>\n",
              "    .dataframe tbody tr th:only-of-type {\n",
              "        vertical-align: middle;\n",
              "    }\n",
              "\n",
              "    .dataframe tbody tr th {\n",
              "        vertical-align: top;\n",
              "    }\n",
              "\n",
              "    .dataframe thead th {\n",
              "        text-align: right;\n",
              "    }\n",
              "</style>\n",
              "<table border=\"1\" class=\"dataframe\">\n",
              "  <thead>\n",
              "    <tr style=\"text-align: right;\">\n",
              "      <th></th>\n",
              "      <th>text</th>\n",
              "      <th>hate speech</th>\n",
              "    </tr>\n",
              "  </thead>\n",
              "  <tbody>\n",
              "    <tr>\n",
              "      <th>0</th>\n",
              "      <td>You are telling me that 78 % of kids under 6 i...</td>\n",
              "      <td>0</td>\n",
              "    </tr>\n",
              "    <tr>\n",
              "      <th>1</th>\n",
              "      <td>Jeeze its worst than the UK .</td>\n",
              "      <td>0</td>\n",
              "    </tr>\n",
              "    <tr>\n",
              "      <th>2</th>\n",
              "      <td>So far today I 've come across the words scum ...</td>\n",
              "      <td>0</td>\n",
              "    </tr>\n",
              "    <tr>\n",
              "      <th>3</th>\n",
              "      <td>All too describe my sisters .</td>\n",
              "      <td>0</td>\n",
              "    </tr>\n",
              "    <tr>\n",
              "      <th>4</th>\n",
              "      <td>The Indian teenager was showing the Caucasian ...</td>\n",
              "      <td>0</td>\n",
              "    </tr>\n",
              "    <tr>\n",
              "      <th>...</th>\n",
              "      <td>...</td>\n",
              "      <td>...</td>\n",
              "    </tr>\n",
              "    <tr>\n",
              "      <th>10866</th>\n",
              "      <td>This is after a famous incident of former Prim...</td>\n",
              "      <td>0</td>\n",
              "    </tr>\n",
              "    <tr>\n",
              "      <th>10867</th>\n",
              "      <td>Billy - `` That guy would n't leave me alone ,...</td>\n",
              "      <td>0</td>\n",
              "    </tr>\n",
              "    <tr>\n",
              "      <th>10868</th>\n",
              "      <td>Wish we at least had a Marine Le Pen to vote f...</td>\n",
              "      <td>0</td>\n",
              "    </tr>\n",
              "    <tr>\n",
              "      <th>10869</th>\n",
              "      <td>Its like the choices are white genocide candid...</td>\n",
              "      <td>0</td>\n",
              "    </tr>\n",
              "    <tr>\n",
              "      <th>10870</th>\n",
              "      <td>Now I get it !</td>\n",
              "      <td>0</td>\n",
              "    </tr>\n",
              "  </tbody>\n",
              "</table>\n",
              "<p>10871 rows × 2 columns</p>\n",
              "</div>\n",
              "      <button class=\"colab-df-convert\" onclick=\"convertToInteractive('df-081d06f6-d557-487f-bcd7-a937ec961f4a')\"\n",
              "              title=\"Convert this dataframe to an interactive table.\"\n",
              "              style=\"display:none;\">\n",
              "        \n",
              "  <svg xmlns=\"http://www.w3.org/2000/svg\" height=\"24px\"viewBox=\"0 0 24 24\"\n",
              "       width=\"24px\">\n",
              "    <path d=\"M0 0h24v24H0V0z\" fill=\"none\"/>\n",
              "    <path d=\"M18.56 5.44l.94 2.06.94-2.06 2.06-.94-2.06-.94-.94-2.06-.94 2.06-2.06.94zm-11 1L8.5 8.5l.94-2.06 2.06-.94-2.06-.94L8.5 2.5l-.94 2.06-2.06.94zm10 10l.94 2.06.94-2.06 2.06-.94-2.06-.94-.94-2.06-.94 2.06-2.06.94z\"/><path d=\"M17.41 7.96l-1.37-1.37c-.4-.4-.92-.59-1.43-.59-.52 0-1.04.2-1.43.59L10.3 9.45l-7.72 7.72c-.78.78-.78 2.05 0 2.83L4 21.41c.39.39.9.59 1.41.59.51 0 1.02-.2 1.41-.59l7.78-7.78 2.81-2.81c.8-.78.8-2.07 0-2.86zM5.41 20L4 18.59l7.72-7.72 1.47 1.35L5.41 20z\"/>\n",
              "  </svg>\n",
              "      </button>\n",
              "      \n",
              "  <style>\n",
              "    .colab-df-container {\n",
              "      display:flex;\n",
              "      flex-wrap:wrap;\n",
              "      gap: 12px;\n",
              "    }\n",
              "\n",
              "    .colab-df-convert {\n",
              "      background-color: #E8F0FE;\n",
              "      border: none;\n",
              "      border-radius: 50%;\n",
              "      cursor: pointer;\n",
              "      display: none;\n",
              "      fill: #1967D2;\n",
              "      height: 32px;\n",
              "      padding: 0 0 0 0;\n",
              "      width: 32px;\n",
              "    }\n",
              "\n",
              "    .colab-df-convert:hover {\n",
              "      background-color: #E2EBFA;\n",
              "      box-shadow: 0px 1px 2px rgba(60, 64, 67, 0.3), 0px 1px 3px 1px rgba(60, 64, 67, 0.15);\n",
              "      fill: #174EA6;\n",
              "    }\n",
              "\n",
              "    [theme=dark] .colab-df-convert {\n",
              "      background-color: #3B4455;\n",
              "      fill: #D2E3FC;\n",
              "    }\n",
              "\n",
              "    [theme=dark] .colab-df-convert:hover {\n",
              "      background-color: #434B5C;\n",
              "      box-shadow: 0px 1px 3px 1px rgba(0, 0, 0, 0.15);\n",
              "      filter: drop-shadow(0px 1px 2px rgba(0, 0, 0, 0.3));\n",
              "      fill: #FFFFFF;\n",
              "    }\n",
              "  </style>\n",
              "\n",
              "      <script>\n",
              "        const buttonEl =\n",
              "          document.querySelector('#df-081d06f6-d557-487f-bcd7-a937ec961f4a button.colab-df-convert');\n",
              "        buttonEl.style.display =\n",
              "          google.colab.kernel.accessAllowed ? 'block' : 'none';\n",
              "\n",
              "        async function convertToInteractive(key) {\n",
              "          const element = document.querySelector('#df-081d06f6-d557-487f-bcd7-a937ec961f4a');\n",
              "          const dataTable =\n",
              "            await google.colab.kernel.invokeFunction('convertToInteractive',\n",
              "                                                     [key], {});\n",
              "          if (!dataTable) return;\n",
              "\n",
              "          const docLinkHtml = 'Like what you see? Visit the ' +\n",
              "            '<a target=\"_blank\" href=https://colab.research.google.com/notebooks/data_table.ipynb>data table notebook</a>'\n",
              "            + ' to learn more about interactive tables.';\n",
              "          element.innerHTML = '';\n",
              "          dataTable['output_type'] = 'display_data';\n",
              "          await google.colab.output.renderOutput(dataTable, element);\n",
              "          const docLink = document.createElement('div');\n",
              "          docLink.innerHTML = docLinkHtml;\n",
              "          element.appendChild(docLink);\n",
              "        }\n",
              "      </script>\n",
              "    </div>\n",
              "  </div>\n",
              "  "
            ]
          },
          "metadata": {},
          "execution_count": 147
        }
      ]
    },
    {
      "cell_type": "code",
      "source": [
        "df_whitesup = df_whitesup_correct"
      ],
      "metadata": {
        "id": "S8rqlx7Psq4c"
      },
      "execution_count": 150,
      "outputs": []
    },
    {
      "cell_type": "code",
      "source": [
        "whitesup_data = whitesup_data + \"After row correction:\\n\"\n",
        "whitesup_data = whitesup_data + \"Number of English tweets: \" + str(df_whitesup_correct.shape[0]) + \"\\n\"\n",
        "whitesup_data = whitesup_data + \"Percentage of hate speech: \" + str((len(df_whitesup_correct.loc[df_whitesup_correct['hate speech'] == 1].index)*100)/df_whitesup_correct.shape[0]) + \"%\\n\\n\""
      ],
      "metadata": {
        "id": "BrvcuntgUJjE"
      },
      "execution_count": 148,
      "outputs": []
    },
    {
      "cell_type": "code",
      "source": [
        "print(whitesup_data)"
      ],
      "metadata": {
        "colab": {
          "base_uri": "https://localhost:8080/"
        },
        "id": "mZsa1Wc0VQTM",
        "outputId": "f243e2f2-049f-42b3-9581-4a639e8c5cf1"
      },
      "execution_count": 149,
      "outputs": [
        {
          "output_type": "stream",
          "name": "stdout",
          "text": [
            "WHITE SUPREMACIST FORUM DATASET:\n",
            "------------------------------------------\n",
            "Before row correction and elimination:\n",
            "Number of English tweets: 10944\n",
            "Percentage of hate speech: 10.928362573099415%\n",
            "\n",
            "After row elimination:\n",
            "Number of English tweets: 10871\n",
            "Percentage of hate speech: 11.001747769294454%\n",
            "\n",
            "After row correction:\n",
            "Number of English tweets: 10871\n",
            "Percentage of hate speech: 11.286910127863122%\n",
            "\n",
            "\n"
          ]
        }
      ]
    },
    {
      "cell_type": "markdown",
      "source": [
        "###[The Gab Hate Corpus](https://osf.io/edua3/)"
      ],
      "metadata": {
        "id": "rXm5g-3PDuTK"
      }
    },
    {
      "cell_type": "code",
      "source": [
        "df_ghc_data = \"THE GAB HATE CORPUS DATASET:\\n------------------------------------------\\n\""
      ],
      "metadata": {
        "id": "61_jRVO-2YbQ"
      },
      "execution_count": 151,
      "outputs": []
    },
    {
      "cell_type": "code",
      "source": [
        "df_ghc_data = df_ghc_data + \"Gab hate corpus train set:\\n\"\n",
        "df_ghc_data = df_ghc_data + \"Number of English tweets: \" + str(df_ghc_train.shape[0]) + \"\\n\\n\"\n",
        "df_ghc_train = df_ghc_train[['text','hd']]\n",
        "df_ghc_train.rename(columns = {'hd':'hate speech'}, inplace = True)"
      ],
      "metadata": {
        "id": "EJjm7OMk35eN"
      },
      "execution_count": 152,
      "outputs": []
    },
    {
      "cell_type": "code",
      "source": [
        "df_ghc_data = df_ghc_data + \"Gab hate corpus test set:\\n\"\n",
        "df_ghc_data = df_ghc_data + \"Number of English tweets: \" + str(df_ghc_test.shape[0]) + \"\\n\\n\"\n",
        "df_ghc_test = df_ghc_test[['text','hd']]\n",
        "df_ghc_test.rename(columns = {'hd':'hate speech'}, inplace = True)"
      ],
      "metadata": {
        "id": "N8iAmyhg4Odz"
      },
      "execution_count": 153,
      "outputs": []
    },
    {
      "cell_type": "code",
      "source": [
        "df_ghc = pd.concat([df_ghc_train, df_ghc_test])"
      ],
      "metadata": {
        "id": "hEIUfPbOLydN"
      },
      "execution_count": 154,
      "outputs": []
    },
    {
      "cell_type": "code",
      "source": [
        "df_ghc"
      ],
      "metadata": {
        "colab": {
          "base_uri": "https://localhost:8080/",
          "height": 424
        },
        "id": "HEEEclJd4QFj",
        "outputId": "bcc0938b-4043-4d2f-de5e-06a69b6d7787"
      },
      "execution_count": 155,
      "outputs": [
        {
          "output_type": "execute_result",
          "data": {
            "text/plain": [
              "                                                   text  hate speech\n",
              "0     He most likely converted to islam due to his n...            0\n",
              "1     So Ford lied about being a psychologist. Recor...            0\n",
              "2        Jobs. Education. Ending abuse of Nation. CA43.            0\n",
              "3     I share a lot of your values, & like many who ...            0\n",
              "4     I am so ready to get back to blogging! www.ben...            0\n",
              "...                                                 ...          ...\n",
              "5505  Trump To \"Counter\" DNC Lawsuit; Seeks Servers,...            0\n",
              "5506  i guess eu is gonna have to back track a littl...            0\n",
              "5507  A good read here....    https://countrysquire....            0\n",
              "5508  The only way to change things is to have compa...            0\n",
              "5509  And Tel Aviv, Jerusalem, New York, LA, Berlin,...            0\n",
              "\n",
              "[27546 rows x 2 columns]"
            ],
            "text/html": [
              "\n",
              "  <div id=\"df-baf948e6-bc22-4900-a216-3b07798998c5\">\n",
              "    <div class=\"colab-df-container\">\n",
              "      <div>\n",
              "<style scoped>\n",
              "    .dataframe tbody tr th:only-of-type {\n",
              "        vertical-align: middle;\n",
              "    }\n",
              "\n",
              "    .dataframe tbody tr th {\n",
              "        vertical-align: top;\n",
              "    }\n",
              "\n",
              "    .dataframe thead th {\n",
              "        text-align: right;\n",
              "    }\n",
              "</style>\n",
              "<table border=\"1\" class=\"dataframe\">\n",
              "  <thead>\n",
              "    <tr style=\"text-align: right;\">\n",
              "      <th></th>\n",
              "      <th>text</th>\n",
              "      <th>hate speech</th>\n",
              "    </tr>\n",
              "  </thead>\n",
              "  <tbody>\n",
              "    <tr>\n",
              "      <th>0</th>\n",
              "      <td>He most likely converted to islam due to his n...</td>\n",
              "      <td>0</td>\n",
              "    </tr>\n",
              "    <tr>\n",
              "      <th>1</th>\n",
              "      <td>So Ford lied about being a psychologist. Recor...</td>\n",
              "      <td>0</td>\n",
              "    </tr>\n",
              "    <tr>\n",
              "      <th>2</th>\n",
              "      <td>Jobs. Education. Ending abuse of Nation. CA43.</td>\n",
              "      <td>0</td>\n",
              "    </tr>\n",
              "    <tr>\n",
              "      <th>3</th>\n",
              "      <td>I share a lot of your values, &amp; like many who ...</td>\n",
              "      <td>0</td>\n",
              "    </tr>\n",
              "    <tr>\n",
              "      <th>4</th>\n",
              "      <td>I am so ready to get back to blogging! www.ben...</td>\n",
              "      <td>0</td>\n",
              "    </tr>\n",
              "    <tr>\n",
              "      <th>...</th>\n",
              "      <td>...</td>\n",
              "      <td>...</td>\n",
              "    </tr>\n",
              "    <tr>\n",
              "      <th>5505</th>\n",
              "      <td>Trump To \"Counter\" DNC Lawsuit; Seeks Servers,...</td>\n",
              "      <td>0</td>\n",
              "    </tr>\n",
              "    <tr>\n",
              "      <th>5506</th>\n",
              "      <td>i guess eu is gonna have to back track a littl...</td>\n",
              "      <td>0</td>\n",
              "    </tr>\n",
              "    <tr>\n",
              "      <th>5507</th>\n",
              "      <td>A good read here....    https://countrysquire....</td>\n",
              "      <td>0</td>\n",
              "    </tr>\n",
              "    <tr>\n",
              "      <th>5508</th>\n",
              "      <td>The only way to change things is to have compa...</td>\n",
              "      <td>0</td>\n",
              "    </tr>\n",
              "    <tr>\n",
              "      <th>5509</th>\n",
              "      <td>And Tel Aviv, Jerusalem, New York, LA, Berlin,...</td>\n",
              "      <td>0</td>\n",
              "    </tr>\n",
              "  </tbody>\n",
              "</table>\n",
              "<p>27546 rows × 2 columns</p>\n",
              "</div>\n",
              "      <button class=\"colab-df-convert\" onclick=\"convertToInteractive('df-baf948e6-bc22-4900-a216-3b07798998c5')\"\n",
              "              title=\"Convert this dataframe to an interactive table.\"\n",
              "              style=\"display:none;\">\n",
              "        \n",
              "  <svg xmlns=\"http://www.w3.org/2000/svg\" height=\"24px\"viewBox=\"0 0 24 24\"\n",
              "       width=\"24px\">\n",
              "    <path d=\"M0 0h24v24H0V0z\" fill=\"none\"/>\n",
              "    <path d=\"M18.56 5.44l.94 2.06.94-2.06 2.06-.94-2.06-.94-.94-2.06-.94 2.06-2.06.94zm-11 1L8.5 8.5l.94-2.06 2.06-.94-2.06-.94L8.5 2.5l-.94 2.06-2.06.94zm10 10l.94 2.06.94-2.06 2.06-.94-2.06-.94-.94-2.06-.94 2.06-2.06.94z\"/><path d=\"M17.41 7.96l-1.37-1.37c-.4-.4-.92-.59-1.43-.59-.52 0-1.04.2-1.43.59L10.3 9.45l-7.72 7.72c-.78.78-.78 2.05 0 2.83L4 21.41c.39.39.9.59 1.41.59.51 0 1.02-.2 1.41-.59l7.78-7.78 2.81-2.81c.8-.78.8-2.07 0-2.86zM5.41 20L4 18.59l7.72-7.72 1.47 1.35L5.41 20z\"/>\n",
              "  </svg>\n",
              "      </button>\n",
              "      \n",
              "  <style>\n",
              "    .colab-df-container {\n",
              "      display:flex;\n",
              "      flex-wrap:wrap;\n",
              "      gap: 12px;\n",
              "    }\n",
              "\n",
              "    .colab-df-convert {\n",
              "      background-color: #E8F0FE;\n",
              "      border: none;\n",
              "      border-radius: 50%;\n",
              "      cursor: pointer;\n",
              "      display: none;\n",
              "      fill: #1967D2;\n",
              "      height: 32px;\n",
              "      padding: 0 0 0 0;\n",
              "      width: 32px;\n",
              "    }\n",
              "\n",
              "    .colab-df-convert:hover {\n",
              "      background-color: #E2EBFA;\n",
              "      box-shadow: 0px 1px 2px rgba(60, 64, 67, 0.3), 0px 1px 3px 1px rgba(60, 64, 67, 0.15);\n",
              "      fill: #174EA6;\n",
              "    }\n",
              "\n",
              "    [theme=dark] .colab-df-convert {\n",
              "      background-color: #3B4455;\n",
              "      fill: #D2E3FC;\n",
              "    }\n",
              "\n",
              "    [theme=dark] .colab-df-convert:hover {\n",
              "      background-color: #434B5C;\n",
              "      box-shadow: 0px 1px 3px 1px rgba(0, 0, 0, 0.15);\n",
              "      filter: drop-shadow(0px 1px 2px rgba(0, 0, 0, 0.3));\n",
              "      fill: #FFFFFF;\n",
              "    }\n",
              "  </style>\n",
              "\n",
              "      <script>\n",
              "        const buttonEl =\n",
              "          document.querySelector('#df-baf948e6-bc22-4900-a216-3b07798998c5 button.colab-df-convert');\n",
              "        buttonEl.style.display =\n",
              "          google.colab.kernel.accessAllowed ? 'block' : 'none';\n",
              "\n",
              "        async function convertToInteractive(key) {\n",
              "          const element = document.querySelector('#df-baf948e6-bc22-4900-a216-3b07798998c5');\n",
              "          const dataTable =\n",
              "            await google.colab.kernel.invokeFunction('convertToInteractive',\n",
              "                                                     [key], {});\n",
              "          if (!dataTable) return;\n",
              "\n",
              "          const docLinkHtml = 'Like what you see? Visit the ' +\n",
              "            '<a target=\"_blank\" href=https://colab.research.google.com/notebooks/data_table.ipynb>data table notebook</a>'\n",
              "            + ' to learn more about interactive tables.';\n",
              "          element.innerHTML = '';\n",
              "          dataTable['output_type'] = 'display_data';\n",
              "          await google.colab.output.renderOutput(dataTable, element);\n",
              "          const docLink = document.createElement('div');\n",
              "          docLink.innerHTML = docLinkHtml;\n",
              "          element.appendChild(docLink);\n",
              "        }\n",
              "      </script>\n",
              "    </div>\n",
              "  </div>\n",
              "  "
            ]
          },
          "metadata": {},
          "execution_count": 155
        }
      ]
    },
    {
      "cell_type": "code",
      "source": [
        "df_ghc_data = df_ghc_data + \"Gab hate corpus all posts:\\n\"\n",
        "df_ghc_data = df_ghc_data + \"Number of English tweets: \" + str(df_ghc.shape[0]) + \"\\n\"\n",
        "df_ghc_data = df_ghc_data + \"Percentage of hate speech: \" + str((len(df_ghc.loc[df_ghc['hate speech'] == 1].index)*100)/df_ghc.shape[0]) + \"%\\n\"\n",
        "print(df_ghc_data)"
      ],
      "metadata": {
        "colab": {
          "base_uri": "https://localhost:8080/"
        },
        "id": "lpxmFBVZ2ppc",
        "outputId": "1cb55756-74bf-4c8e-c294-8a6d0f0f4733"
      },
      "execution_count": 15,
      "outputs": [
        {
          "output_type": "stream",
          "name": "stdout",
          "text": [
            "THE GAB HATE CORPUS DATASET:\n",
            "------------------------------------------\n",
            "Gab hate corpus train set:\n",
            "Number of English tweets: 22036\n",
            "\n",
            "Gab hate corpus test set:\n",
            "Number of English tweets: 5510\n",
            "\n",
            "Gab hate corpus all posts:\n",
            "Number of English tweets: 27546\n",
            "Percentage of hate speech: 8.523923618674218%\n",
            "\n"
          ]
        }
      ]
    },
    {
      "cell_type": "markdown",
      "source": [
        "###Unification, hashtags and emojis"
      ],
      "metadata": {
        "id": "jyZe-eplVSPr"
      }
    },
    {
      "cell_type": "code",
      "source": [
        "df = pd.concat([df_hateval, df_exist, df_aut_hate, df_hatesym, df_ruracist, df_whitesup, df_ghc])"
      ],
      "metadata": {
        "id": "jSNHqzG_3j6A"
      },
      "execution_count": 156,
      "outputs": []
    },
    {
      "cell_type": "code",
      "source": [
        "df.to_csv('/content/drive/MyDrive/TFG/data/final_data/unfinished_english_data.csv', index=False)"
      ],
      "metadata": {
        "id": "zivLQ1rYzyWJ"
      },
      "execution_count": 157,
      "outputs": []
    },
    {
      "cell_type": "code",
      "source": [
        "df = pd.read_csv('/content/drive/MyDrive/TFG/data/final_data/unfinished_english_data.csv', encoding='utf8', engine='python')"
      ],
      "metadata": {
        "id": "JrcDcH1L45gl"
      },
      "execution_count": 35,
      "outputs": []
    },
    {
      "cell_type": "markdown",
      "source": [
        "####Emoji code extraction and replacement"
      ],
      "metadata": {
        "id": "4JWxmDdE3iHE"
      }
    },
    {
      "cell_type": "code",
      "source": [
        "emoji_codes = getAllEmojiHexCode(df)"
      ],
      "metadata": {
        "id": "JXCCegz83iHE"
      },
      "execution_count": 31,
      "outputs": []
    },
    {
      "cell_type": "code",
      "source": [
        "emoji_codes"
      ],
      "metadata": {
        "colab": {
          "base_uri": "https://localhost:8080/"
        },
        "outputId": "91325073-00cb-4c54-b71b-f8172e7e3924",
        "id": "ZPZpHh7d3iHE"
      },
      "execution_count": 32,
      "outputs": [
        {
          "output_type": "execute_result",
          "data": {
            "text/plain": [
              "array(['&#10004;', '&#10006;', '&#10024;', '&#10052;', '&#10060;',\n",
              "       '&#10067;', '&#10068;', '&#10069;', '&#10071;', '&#10084;',\n",
              "       '&#1040784;', '&#1040788;', '&#1041184;', '&#1041185;',\n",
              "       '&#1041190;', '&#1041191;', '&#1041196;', '&#1041204;',\n",
              "       '&#1041205;', '&#1041210;', '&#1041216;', '&#1041219;',\n",
              "       '&#1041222;', '&#1041223;', '&#1041233;', '&#1041237;',\n",
              "       '&#1041240;', '&#1041243;', '&#1041629;', '&#1041636;',\n",
              "       '&#1041653;', '&#1041681;', '&#1042390;', '&#1042469;',\n",
              "       '&#1043214;', '&#1043215;', '&#1043291;', '&#1043292;',\n",
              "       '&#1043293;', '&#1043323;', '&#1043350;', '&#1043351;',\n",
              "       '&#1043353;', '&#1043357;', '&#1043358;', '&#1043359;',\n",
              "       '&#1043360;', '&#1043473;', '&#11015;', '&#11088;', '&#11093;',\n",
              "       '&#12288;', '&#12290;', '&#127344;', '&#127378;', '&#127379;',\n",
              "       '&#127382;', '&#127383;', '&#127386;', '&#127463;', '&#127468;',\n",
              "       '&#127470;', '&#127480;', '&#127481;', '&#127482;', '&#127744;',\n",
              "       '&#127752;', '&#127754;', '&#127769;', '&#127770;', '&#127773;',\n",
              "       '&#127774;', '&#127775;', '&#127776;', '&#127795;', '&#127796;',\n",
              "       '&#127797;', '&#127800;', '&#127801;', '&#127802;', '&#127804;',\n",
              "       '&#127805;', '&#127806;', '&#127807;', '&#127809;', '&#127810;',\n",
              "       '&#127811;', '&#127812;', '&#127813;', '&#127814;', '&#127815;',\n",
              "       '&#127817;', '&#127821;', '&#127825;', '&#127827;', '&#127829;',\n",
              "       '&#127830;', '&#127831;', '&#127835;', '&#127837;', '&#127838;',\n",
              "       '&#127839;', '&#127844;', '&#127849;', '&#127850;', '&#127851;',\n",
              "       '&#127856;', '&#127861;', '&#127864;', '&#127866;', '&#127867;',\n",
              "       '&#127868;', '&#127873;', '&#127874;', '&#127876;', '&#127877;',\n",
              "       '&#127880;', '&#127881;', '&#127882;', '&#127887;', '&#127908;',\n",
              "       '&#127909;', '&#127911;', '&#127912;', '&#127913;', '&#127916;',\n",
              "       '&#127917;', '&#127919;', '&#127922;', '&#127925;', '&#127926;',\n",
              "       '&#127932;', '&#127935;', '&#127936;', '&#127938;', '&#127939;',\n",
              "       '&#127940;', '&#127942;', '&#127944;', '&#127946;', '&#127969;',\n",
              "       '&#127984;', '&#128002;', '&#128008;', '&#128010;', '&#128013;',\n",
              "       '&#128014;', '&#128016;', '&#128018;', '&#128025;', '&#128027;',\n",
              "       '&#128029;', '&#128032;', '&#128034;', '&#128035;', '&#128036;',\n",
              "       '&#128037;', '&#128038;', '&#128043;', '&#128044;', '&#128047;',\n",
              "       '&#128048;', '&#128049;', '&#128052;', '&#128053;', '&#128054;',\n",
              "       '&#128055;', '&#128056;', '&#128058;', '&#128060;', '&#128064;',\n",
              "       '&#128066;', '&#128068;', '&#128069;', '&#128070;', '&#128071;',\n",
              "       '&#128072;', '&#128073;', '&#128074;', '&#128075;', '&#128076;',\n",
              "       '&#128077;', '&#128078;', '&#128079;', '&#128080;', '&#128081;',\n",
              "       '&#128089;', '&#128091;', '&#128094;', '&#128095;', '&#128096;',\n",
              "       '&#128103;', '&#128105;', '&#128106;', '&#128107;', '&#128108;',\n",
              "       '&#128109;', '&#128110;', '&#128111;', '&#128112;', '&#128114;',\n",
              "       '&#128115;', '&#128117;', '&#128118;', '&#128119;', '&#128120;',\n",
              "       '&#128121;', '&#128122;', '&#128123;', '&#128124;', '&#128125;',\n",
              "       '&#128127;', '&#128128;', '&#128129;', '&#128130;', '&#128131;',\n",
              "       '&#128132;', '&#128133;', '&#128134;', '&#128135;', '&#128137;',\n",
              "       '&#128138;', '&#128139;', '&#128141;', '&#128142;', '&#128143;',\n",
              "       '&#128145;', '&#128147;', '&#128148;', '&#128149;', '&#128150;',\n",
              "       '&#128151;', '&#128152;', '&#128153;', '&#128154;', '&#128155;',\n",
              "       '&#128156;', '&#128158;', '&#128161;', '&#128162;', '&#128163;',\n",
              "       '&#128164;', '&#128165;', '&#128166;', '&#128167;', '&#128168;',\n",
              "       '&#128169;', '&#128170;', '&#128171;', '&#128173;', '&#128174;',\n",
              "       '&#128175;', '&#128176;', '&#128178;', '&#128179;', '&#128181;',\n",
              "       '&#128182;', '&#128184;', '&#128186;', '&#128195;', '&#128201;',\n",
              "       '&#128203;', '&#128209;', '&#128213;', '&#128214;', '&#128218;',\n",
              "       '&#128221;', '&#128226;', '&#128227;', '&#128240;', '&#128247;',\n",
              "       '&#128252;', '&#128266;', '&#128270;', '&#128272;', '&#128273;',\n",
              "       '&#128275;', '&#128282;', '&#128293;', '&#128294;', '&#128298;',\n",
              "       '&#128299;', '&#128308;', '&#128309;', '&#128315;', '&#128347;',\n",
              "       '&#128511;', '&#128513;', '&#128514;', '&#128515;', '&#128516;',\n",
              "       '&#128517;', '&#128518;', '&#128519;', '&#128520;', '&#128521;',\n",
              "       '&#128522;', '&#128523;', '&#128524;', '&#128525;', '&#128526;',\n",
              "       '&#128527;', '&#128528;', '&#128529;', '&#128530;', '&#128531;',\n",
              "       '&#128532;', '&#128533;', '&#128534;', '&#128535;', '&#128536;',\n",
              "       '&#128537;', '&#128538;', '&#128539;', '&#128540;', '&#128541;',\n",
              "       '&#128542;', '&#128543;', '&#128544;', '&#128545;', '&#128546;',\n",
              "       '&#128547;', '&#128548;', '&#128549;', '&#128550;', '&#128551;',\n",
              "       '&#128552;', '&#128553;', '&#128554;', '&#128555;', '&#128556;',\n",
              "       '&#128557;', '&#128558;', '&#128559;', '&#128560;', '&#128561;',\n",
              "       '&#128562;', '&#128563;', '&#128564;', '&#128565;', '&#128566;',\n",
              "       '&#128567;', '&#128569;', '&#128570;', '&#128571;', '&#128572;',\n",
              "       '&#128573;', '&#128574;', '&#128575;', '&#128576;', '&#128581;',\n",
              "       '&#128582;', '&#128583;', '&#128584;', '&#128585;', '&#128586;',\n",
              "       '&#128587;', '&#128588;', '&#128589;', '&#128590;', '&#128591;',\n",
              "       '&#128640;', '&#128652;', '&#128658;', '&#128659;', '&#128661;',\n",
              "       '&#128663;', '&#128664;', '&#128665;', '&#128677;', '&#128679;',\n",
              "       '&#128680;', '&#128681;', '&#128683;', '&#128684;', '&#128686;',\n",
              "       '&#128690;', '&#128694;', '&#128700;', '&#1548;', '&#1571;',\n",
              "       '&#1574;', '&#1575;', '&#1576;', '&#1577;', '&#1578;', '&#1581;',\n",
              "       '&#1582;', '&#1583;', '&#1585;', '&#1586;', '&#1588;', '&#1589;',\n",
              "       '&#1590;', '&#1591;', '&#1593;', '&#1594;', '&#1603;', '&#1604;',\n",
              "       '&#1605;', '&#1606;', '&#1607;', '&#1608;', '&#160;', '&#1610;',\n",
              "       '&#161;', '&#164;', '&#165;', '&#169;', '&#171;', '&#175;',\n",
              "       '&#176;', '&#180;', '&#187;', '&#191;', '&#193;', '&#201;',\n",
              "       '&#218;', '&#225;', '&#228;', '&#232;', '&#233;', '&#237;',\n",
              "       '&#241;', '&#243;', '&#246;', '&#247;', '&#250;', '&#251;',\n",
              "       '&#252;', '&#281;', '&#299;', '&#322;', '&#57361;', '&#57423;',\n",
              "       '&#57607;', '&#57608;', '&#57933;', '&#58113;', '&#58143;',\n",
              "       '&#58167;', '&#58373;', '&#58380;', '&#58381;', '&#58382;',\n",
              "       '&#58385;', '&#58386;', '&#58399;', '&#58400;', '&#58407;',\n",
              "       '&#65039;', '&#65292;', '&#65533;', '&#728;', '&#776;', '&#8211;',\n",
              "       '&#8212;', '&#8216;', '&#8217;', '&#8220;', '&#8221;', '&#8226;',\n",
              "       '&#8230;', '&#8242;', '&#8252;', '&#8413;', '&#8419;', '&#8482;',\n",
              "       '&#8594;', '&#8805;', '&#8853;', '&#8986;', '&#9203;', '&#9697;',\n",
              "       '&#9728;', '&#9729;', '&#9733;', '&#9749;', '&#9757;', '&#9786;',\n",
              "       '&#9825;', '&#9829;', '&#9832;', '&#9835;', '&#9855;', '&#9889;',\n",
              "       '&#9898;', '&#9899;', '&#9917;', '&#9918;', '&#9924;', '&#9981;',\n",
              "       '&#9986;', '&#9992;', '&#9994;', '&#9995;', '&#9996;', '&#x1f1f8;',\n",
              "       '&#x1f1fa;', '&#x1f602;', '&#x1f621;', '&#x2764;'], dtype='<U10')"
            ]
          },
          "metadata": {},
          "execution_count": 32
        }
      ]
    },
    {
      "cell_type": "code",
      "source": [
        "df = replaceEmojiCodes(df)"
      ],
      "metadata": {
        "id": "lEc2WtDK3iHE"
      },
      "execution_count": 41,
      "outputs": []
    },
    {
      "cell_type": "markdown",
      "source": [
        "####Hashtag and emoji filtering"
      ],
      "metadata": {
        "id": "yLUbBhEa3iHF"
      }
    },
    {
      "cell_type": "code",
      "source": [
        "df, hashtag_dict, emoji_dict = cleanTweets_getDicts(df)"
      ],
      "metadata": {
        "id": "mn7b_x-CVjE9"
      },
      "execution_count": 40,
      "outputs": []
    },
    {
      "cell_type": "code",
      "source": [
        "hashtag_dict_important = important_values(hashtag_dict, 30)\n",
        "emoji_dict_important = important_values(emoji_dict, 30)"
      ],
      "metadata": {
        "id": "uYSlilnkVjE9"
      },
      "execution_count": null,
      "outputs": []
    },
    {
      "cell_type": "code",
      "source": [
        "hashtag_dict_important"
      ],
      "metadata": {
        "id": "jiFBbJ06VjE9"
      },
      "execution_count": null,
      "outputs": []
    },
    {
      "cell_type": "code",
      "source": [
        "emoji_dict_important"
      ],
      "metadata": {
        "id": "m3QZrjmMVjE9"
      },
      "execution_count": null,
      "outputs": []
    },
    {
      "cell_type": "code",
      "source": [
        "print(\"HATE SPEECH - PERCENTAGE OF ALL ENGLISH POSTS:\")\n",
        "print(\"WITH HATE SPEECH: \" + str((len(df.loc[df['hate speech'] == 1].index)*100)/df.shape[0]))\n",
        "print(\"WITHOUT HATE SPEECH: \" + str((len(df.loc[df['hate speech'] == 0].index)*100)/df.shape[0]))"
      ],
      "metadata": {
        "id": "jeRYPsh-RngW",
        "colab": {
          "base_uri": "https://localhost:8080/"
        },
        "outputId": "f232729c-dccb-4b24-c141-fd1321a1120c"
      },
      "execution_count": 37,
      "outputs": [
        {
          "output_type": "stream",
          "name": "stdout",
          "text": [
            "HATE SPEECH - PERCENTAGE OF ALL ENGLISH POSTS:\n",
            "WITH HATE SPEECH: 17.429390528774686\n",
            "WITHOUT HATE SPEECH: 82.56742408154598\n"
          ]
        }
      ]
    },
    {
      "cell_type": "markdown",
      "source": [
        "#####Removal of all emojis and hashtags"
      ],
      "metadata": {
        "id": "d1O6LXtI3eDE"
      }
    },
    {
      "cell_type": "code",
      "source": [
        "#Remove emojis\n",
        "df = replace_emojis([], list(emoji_dict.keys()), df)"
      ],
      "metadata": {
        "id": "G0HO5A4RZOzG"
      },
      "execution_count": null,
      "outputs": []
    },
    {
      "cell_type": "code",
      "source": [
        "#Remove hashtags\n",
        "for idx, row in df.iterrows():\n",
        "  for k in list(hashtag_dict.keys()):\n",
        "      row.text = row.text.replace(k, \"\")\n",
        "      df['text'][idx] = row.text"
      ],
      "metadata": {
        "id": "Ebxh1NFCZOzH"
      },
      "execution_count": null,
      "outputs": []
    },
    {
      "cell_type": "code",
      "source": [
        "df.to_csv('/content/drive/MyDrive/TFG/data/final_data/removed_english_data.csv', index=False)  "
      ],
      "metadata": {
        "id": "6XjKR_rT3eDE"
      },
      "execution_count": null,
      "outputs": []
    },
    {
      "cell_type": "markdown",
      "source": [
        "#####Filtered emojis and hashtags"
      ],
      "metadata": {
        "id": "kAVm0d5g3eDE"
      }
    },
    {
      "cell_type": "code",
      "source": [
        "df = replace_emojis()"
      ],
      "metadata": {
        "id": "QKD2Hg_O3eDF"
      },
      "execution_count": null,
      "outputs": []
    },
    {
      "cell_type": "code",
      "source": [
        "df.to_csv('/content/drive/MyDrive/TFG/data/final_data/filtered_english_data.csv', index=False)  "
      ],
      "metadata": {
        "id": "YDvYHl0B3eDF"
      },
      "execution_count": null,
      "outputs": []
    },
    {
      "cell_type": "markdown",
      "source": [
        "#####All emojis and hashtags kept"
      ],
      "metadata": {
        "id": "LJVK7BSC3eDF"
      }
    },
    {
      "cell_type": "code",
      "source": [
        "#Replace emojis with text\n",
        "df = replace_emojis(list(emoji_dict.keys()), [], df)"
      ],
      "metadata": {
        "id": "38vwewjG3eDF"
      },
      "execution_count": null,
      "outputs": []
    },
    {
      "cell_type": "code",
      "source": [
        "df.to_csv('/content/drive/MyDrive/TFG/data/final_data/mantained_english_data.csv', index=False)  "
      ],
      "metadata": {
        "id": "PWO21iwM3eDF"
      },
      "execution_count": null,
      "outputs": []
    },
    {
      "cell_type": "markdown",
      "source": [
        "#DISCARDED DATA"
      ],
      "metadata": {
        "id": "uF7eF6JWi7kJ"
      }
    },
    {
      "cell_type": "code",
      "source": [
        "#Large Scale Crowdsourcing and Characterization of Twitter Abusive Behavior\n",
        "df_abusive_text = pd.read_csv('/content/hatespeech_id_label_founta.csv', encoding='utf8', header= None)"
      ],
      "metadata": {
        "id": "X7KURDhSjgZm"
      },
      "execution_count": null,
      "outputs": []
    },
    {
      "cell_type": "markdown",
      "source": [
        "###[Large Scale Crowdsourcing and Characterization of Twitter Abusive Behavior](https://arxiv.org/pdf/1802.00393.pdf)"
      ],
      "metadata": {
        "id": "rYW0th5FDuAV"
      }
    },
    {
      "cell_type": "markdown",
      "source": [
        "####Obtaining tweet text"
      ],
      "metadata": {
        "id": "H9BhwJVSZJAk"
      }
    },
    {
      "cell_type": "code",
      "source": [
        "#Split the single column into 2\n",
        "df_abusive_text[['TweetID', 'hate speech']] = df_abusive_text[0].str.split(',', 1, expand=True)\n",
        "df_abusive_text = df_abusive_text[['TweetID', 'hate speech']]"
      ],
      "metadata": {
        "id": "hn4Nyix9XPBl"
      },
      "execution_count": null,
      "outputs": []
    },
    {
      "cell_type": "code",
      "source": [
        "df_abusive_text['text'] = \"0\""
      ],
      "metadata": {
        "id": "7e2wi0dwZiTu"
      },
      "execution_count": null,
      "outputs": []
    },
    {
      "cell_type": "code",
      "source": [
        "df_abusive_text = pd.read_csv('/content/drive/MyDrive/TFG/data/abusive_text_data.csv', encoding='utf8', engine=\"python\")"
      ],
      "metadata": {
        "id": "KCgm5IF0w-ns"
      },
      "execution_count": null,
      "outputs": []
    },
    {
      "cell_type": "code",
      "source": [
        "df_abusive_text"
      ],
      "metadata": {
        "colab": {
          "base_uri": "https://localhost:8080/",
          "height": 424
        },
        "id": "WGYjtkJZz8Ho",
        "outputId": "dea2437c-3f1d-43b5-c115-86a78f84bc28"
      },
      "execution_count": null,
      "outputs": [
        {
          "output_type": "execute_result",
          "data": {
            "text/plain": [
              "                   TweetID hate speech  \\\n",
              "0       849667487180259329     abusive   \n",
              "1       850490912954351616     abusive   \n",
              "2       848791766853668864     abusive   \n",
              "3       848306464892604416     abusive   \n",
              "4       850010509969465344      normal   \n",
              "...                    ...         ...   \n",
              "100002  848922176128376832     hateful   \n",
              "100003  849405078956109829     abusive   \n",
              "100004  847981251143254016      normal   \n",
              "100005  850180983253073920     abusive   \n",
              "100006  849515175254405120     abusive   \n",
              "\n",
              "                                                     text  \n",
              "0             TWITTER__ERRORNo status found with that ID.  \n",
              "1       Alex Brosas another idiot #ALDUBKSGoesToUS  ht...  \n",
              "2       RT @ItIzBiz: as Nancy Reagan would say, 'just ...  \n",
              "3             TWITTER__ERRORNo status found with that ID.  \n",
              "4       RT @MailOnline: The Nazi death gas so horrific...  \n",
              "...                                                   ...  \n",
              "100002                                                  0  \n",
              "100003                                                  0  \n",
              "100004                                                  0  \n",
              "100005                                                  0  \n",
              "100006                                                  0  \n",
              "\n",
              "[100007 rows x 3 columns]"
            ],
            "text/html": [
              "\n",
              "  <div id=\"df-ff0722ef-50df-4d5c-b773-d99783159cc4\">\n",
              "    <div class=\"colab-df-container\">\n",
              "      <div>\n",
              "<style scoped>\n",
              "    .dataframe tbody tr th:only-of-type {\n",
              "        vertical-align: middle;\n",
              "    }\n",
              "\n",
              "    .dataframe tbody tr th {\n",
              "        vertical-align: top;\n",
              "    }\n",
              "\n",
              "    .dataframe thead th {\n",
              "        text-align: right;\n",
              "    }\n",
              "</style>\n",
              "<table border=\"1\" class=\"dataframe\">\n",
              "  <thead>\n",
              "    <tr style=\"text-align: right;\">\n",
              "      <th></th>\n",
              "      <th>TweetID</th>\n",
              "      <th>hate speech</th>\n",
              "      <th>text</th>\n",
              "    </tr>\n",
              "  </thead>\n",
              "  <tbody>\n",
              "    <tr>\n",
              "      <th>0</th>\n",
              "      <td>849667487180259329</td>\n",
              "      <td>abusive</td>\n",
              "      <td>TWITTER__ERRORNo status found with that ID.</td>\n",
              "    </tr>\n",
              "    <tr>\n",
              "      <th>1</th>\n",
              "      <td>850490912954351616</td>\n",
              "      <td>abusive</td>\n",
              "      <td>Alex Brosas another idiot #ALDUBKSGoesToUS  ht...</td>\n",
              "    </tr>\n",
              "    <tr>\n",
              "      <th>2</th>\n",
              "      <td>848791766853668864</td>\n",
              "      <td>abusive</td>\n",
              "      <td>RT @ItIzBiz: as Nancy Reagan would say, 'just ...</td>\n",
              "    </tr>\n",
              "    <tr>\n",
              "      <th>3</th>\n",
              "      <td>848306464892604416</td>\n",
              "      <td>abusive</td>\n",
              "      <td>TWITTER__ERRORNo status found with that ID.</td>\n",
              "    </tr>\n",
              "    <tr>\n",
              "      <th>4</th>\n",
              "      <td>850010509969465344</td>\n",
              "      <td>normal</td>\n",
              "      <td>RT @MailOnline: The Nazi death gas so horrific...</td>\n",
              "    </tr>\n",
              "    <tr>\n",
              "      <th>...</th>\n",
              "      <td>...</td>\n",
              "      <td>...</td>\n",
              "      <td>...</td>\n",
              "    </tr>\n",
              "    <tr>\n",
              "      <th>100002</th>\n",
              "      <td>848922176128376832</td>\n",
              "      <td>hateful</td>\n",
              "      <td>0</td>\n",
              "    </tr>\n",
              "    <tr>\n",
              "      <th>100003</th>\n",
              "      <td>849405078956109829</td>\n",
              "      <td>abusive</td>\n",
              "      <td>0</td>\n",
              "    </tr>\n",
              "    <tr>\n",
              "      <th>100004</th>\n",
              "      <td>847981251143254016</td>\n",
              "      <td>normal</td>\n",
              "      <td>0</td>\n",
              "    </tr>\n",
              "    <tr>\n",
              "      <th>100005</th>\n",
              "      <td>850180983253073920</td>\n",
              "      <td>abusive</td>\n",
              "      <td>0</td>\n",
              "    </tr>\n",
              "    <tr>\n",
              "      <th>100006</th>\n",
              "      <td>849515175254405120</td>\n",
              "      <td>abusive</td>\n",
              "      <td>0</td>\n",
              "    </tr>\n",
              "  </tbody>\n",
              "</table>\n",
              "<p>100007 rows × 3 columns</p>\n",
              "</div>\n",
              "      <button class=\"colab-df-convert\" onclick=\"convertToInteractive('df-ff0722ef-50df-4d5c-b773-d99783159cc4')\"\n",
              "              title=\"Convert this dataframe to an interactive table.\"\n",
              "              style=\"display:none;\">\n",
              "        \n",
              "  <svg xmlns=\"http://www.w3.org/2000/svg\" height=\"24px\"viewBox=\"0 0 24 24\"\n",
              "       width=\"24px\">\n",
              "    <path d=\"M0 0h24v24H0V0z\" fill=\"none\"/>\n",
              "    <path d=\"M18.56 5.44l.94 2.06.94-2.06 2.06-.94-2.06-.94-.94-2.06-.94 2.06-2.06.94zm-11 1L8.5 8.5l.94-2.06 2.06-.94-2.06-.94L8.5 2.5l-.94 2.06-2.06.94zm10 10l.94 2.06.94-2.06 2.06-.94-2.06-.94-.94-2.06-.94 2.06-2.06.94z\"/><path d=\"M17.41 7.96l-1.37-1.37c-.4-.4-.92-.59-1.43-.59-.52 0-1.04.2-1.43.59L10.3 9.45l-7.72 7.72c-.78.78-.78 2.05 0 2.83L4 21.41c.39.39.9.59 1.41.59.51 0 1.02-.2 1.41-.59l7.78-7.78 2.81-2.81c.8-.78.8-2.07 0-2.86zM5.41 20L4 18.59l7.72-7.72 1.47 1.35L5.41 20z\"/>\n",
              "  </svg>\n",
              "      </button>\n",
              "      \n",
              "  <style>\n",
              "    .colab-df-container {\n",
              "      display:flex;\n",
              "      flex-wrap:wrap;\n",
              "      gap: 12px;\n",
              "    }\n",
              "\n",
              "    .colab-df-convert {\n",
              "      background-color: #E8F0FE;\n",
              "      border: none;\n",
              "      border-radius: 50%;\n",
              "      cursor: pointer;\n",
              "      display: none;\n",
              "      fill: #1967D2;\n",
              "      height: 32px;\n",
              "      padding: 0 0 0 0;\n",
              "      width: 32px;\n",
              "    }\n",
              "\n",
              "    .colab-df-convert:hover {\n",
              "      background-color: #E2EBFA;\n",
              "      box-shadow: 0px 1px 2px rgba(60, 64, 67, 0.3), 0px 1px 3px 1px rgba(60, 64, 67, 0.15);\n",
              "      fill: #174EA6;\n",
              "    }\n",
              "\n",
              "    [theme=dark] .colab-df-convert {\n",
              "      background-color: #3B4455;\n",
              "      fill: #D2E3FC;\n",
              "    }\n",
              "\n",
              "    [theme=dark] .colab-df-convert:hover {\n",
              "      background-color: #434B5C;\n",
              "      box-shadow: 0px 1px 3px 1px rgba(0, 0, 0, 0.15);\n",
              "      filter: drop-shadow(0px 1px 2px rgba(0, 0, 0, 0.3));\n",
              "      fill: #FFFFFF;\n",
              "    }\n",
              "  </style>\n",
              "\n",
              "      <script>\n",
              "        const buttonEl =\n",
              "          document.querySelector('#df-ff0722ef-50df-4d5c-b773-d99783159cc4 button.colab-df-convert');\n",
              "        buttonEl.style.display =\n",
              "          google.colab.kernel.accessAllowed ? 'block' : 'none';\n",
              "\n",
              "        async function convertToInteractive(key) {\n",
              "          const element = document.querySelector('#df-ff0722ef-50df-4d5c-b773-d99783159cc4');\n",
              "          const dataTable =\n",
              "            await google.colab.kernel.invokeFunction('convertToInteractive',\n",
              "                                                     [key], {});\n",
              "          if (!dataTable) return;\n",
              "\n",
              "          const docLinkHtml = 'Like what you see? Visit the ' +\n",
              "            '<a target=\"_blank\" href=https://colab.research.google.com/notebooks/data_table.ipynb>data table notebook</a>'\n",
              "            + ' to learn more about interactive tables.';\n",
              "          element.innerHTML = '';\n",
              "          dataTable['output_type'] = 'display_data';\n",
              "          await google.colab.output.renderOutput(dataTable, element);\n",
              "          const docLink = document.createElement('div');\n",
              "          docLink.innerHTML = docLinkHtml;\n",
              "          element.appendChild(docLink);\n",
              "        }\n",
              "      </script>\n",
              "    </div>\n",
              "  </div>\n",
              "  "
            ]
          },
          "metadata": {},
          "execution_count": 13
        }
      ]
    },
    {
      "cell_type": "code",
      "source": [
        "for idx, row in df_abusive_text.iterrows():\n",
        "  if \"TWITTER__ERROR\" in str(row.text) or \"0\" in str(row.text) or row[\"hate speech\"]!=\"hateful\":\n",
        "    df_abusive_text = df_abusive_text.drop(labels=idx, axis=0)"
      ],
      "metadata": {
        "id": "mpiWk0690LfW"
      },
      "execution_count": null,
      "outputs": []
    },
    {
      "cell_type": "code",
      "source": [
        "df_abusive_text"
      ],
      "metadata": {
        "colab": {
          "base_uri": "https://localhost:8080/",
          "height": 755
        },
        "id": "02LqO7gbzate",
        "outputId": "b5dca421-0f95-4769-fdaa-766ce3fe6360"
      },
      "execution_count": null,
      "outputs": [
        {
          "output_type": "execute_result",
          "data": {
            "text/plain": [
              "                  TweetID hate speech  \\\n",
              "5      850433664890544128     hateful   \n",
              "12     850100742035836929     hateful   \n",
              "21     847804507367100416     hateful   \n",
              "33     850090319165050880     hateful   \n",
              "67     848686686930382848     hateful   \n",
              "...                   ...         ...   \n",
              "44055  849005550524387328     hateful   \n",
              "44088  850157792925241346     hateful   \n",
              "44348  848578067043889153     hateful   \n",
              "44371  850378195224465411     hateful   \n",
              "44378  847515964442890241     hateful   \n",
              "\n",
              "                                                    text  \n",
              "5      I hate er chase because if the Bitch that work...  \n",
              "12     RT @nyctophil3: Pineapples do not belong on pi...  \n",
              "21     Niggas keep talking about women wearing weave ...  \n",
              "33     @vappywave idiot that's not gonna work. you go...  \n",
              "67     RT @ayevonnn: bruh i fucking hate people like ...  \n",
              "...                                                  ...  \n",
              "44055  lrt is cute because they're opposite elements ...  \n",
              "44088  Voted for the biggest fucking liar @POTUS ever...  \n",
              "44348  Supposed \"Anti-fascist\" favors murderous commu...  \n",
              "44371  Syrian ally Iran blasts U.S. missile strikes a...  \n",
              "44378  What a bitter and nasty bunch #SNP followers a...  \n",
              "\n",
              "[996 rows x 3 columns]"
            ],
            "text/html": [
              "\n",
              "  <div id=\"df-3b0d56bb-271f-47ba-843a-647bd6678945\">\n",
              "    <div class=\"colab-df-container\">\n",
              "      <div>\n",
              "<style scoped>\n",
              "    .dataframe tbody tr th:only-of-type {\n",
              "        vertical-align: middle;\n",
              "    }\n",
              "\n",
              "    .dataframe tbody tr th {\n",
              "        vertical-align: top;\n",
              "    }\n",
              "\n",
              "    .dataframe thead th {\n",
              "        text-align: right;\n",
              "    }\n",
              "</style>\n",
              "<table border=\"1\" class=\"dataframe\">\n",
              "  <thead>\n",
              "    <tr style=\"text-align: right;\">\n",
              "      <th></th>\n",
              "      <th>TweetID</th>\n",
              "      <th>hate speech</th>\n",
              "      <th>text</th>\n",
              "    </tr>\n",
              "  </thead>\n",
              "  <tbody>\n",
              "    <tr>\n",
              "      <th>5</th>\n",
              "      <td>850433664890544128</td>\n",
              "      <td>hateful</td>\n",
              "      <td>I hate er chase because if the Bitch that work...</td>\n",
              "    </tr>\n",
              "    <tr>\n",
              "      <th>12</th>\n",
              "      <td>850100742035836929</td>\n",
              "      <td>hateful</td>\n",
              "      <td>RT @nyctophil3: Pineapples do not belong on pi...</td>\n",
              "    </tr>\n",
              "    <tr>\n",
              "      <th>21</th>\n",
              "      <td>847804507367100416</td>\n",
              "      <td>hateful</td>\n",
              "      <td>Niggas keep talking about women wearing weave ...</td>\n",
              "    </tr>\n",
              "    <tr>\n",
              "      <th>33</th>\n",
              "      <td>850090319165050880</td>\n",
              "      <td>hateful</td>\n",
              "      <td>@vappywave idiot that's not gonna work. you go...</td>\n",
              "    </tr>\n",
              "    <tr>\n",
              "      <th>67</th>\n",
              "      <td>848686686930382848</td>\n",
              "      <td>hateful</td>\n",
              "      <td>RT @ayevonnn: bruh i fucking hate people like ...</td>\n",
              "    </tr>\n",
              "    <tr>\n",
              "      <th>...</th>\n",
              "      <td>...</td>\n",
              "      <td>...</td>\n",
              "      <td>...</td>\n",
              "    </tr>\n",
              "    <tr>\n",
              "      <th>44055</th>\n",
              "      <td>849005550524387328</td>\n",
              "      <td>hateful</td>\n",
              "      <td>lrt is cute because they're opposite elements ...</td>\n",
              "    </tr>\n",
              "    <tr>\n",
              "      <th>44088</th>\n",
              "      <td>850157792925241346</td>\n",
              "      <td>hateful</td>\n",
              "      <td>Voted for the biggest fucking liar @POTUS ever...</td>\n",
              "    </tr>\n",
              "    <tr>\n",
              "      <th>44348</th>\n",
              "      <td>848578067043889153</td>\n",
              "      <td>hateful</td>\n",
              "      <td>Supposed \"Anti-fascist\" favors murderous commu...</td>\n",
              "    </tr>\n",
              "    <tr>\n",
              "      <th>44371</th>\n",
              "      <td>850378195224465411</td>\n",
              "      <td>hateful</td>\n",
              "      <td>Syrian ally Iran blasts U.S. missile strikes a...</td>\n",
              "    </tr>\n",
              "    <tr>\n",
              "      <th>44378</th>\n",
              "      <td>847515964442890241</td>\n",
              "      <td>hateful</td>\n",
              "      <td>What a bitter and nasty bunch #SNP followers a...</td>\n",
              "    </tr>\n",
              "  </tbody>\n",
              "</table>\n",
              "<p>996 rows × 3 columns</p>\n",
              "</div>\n",
              "      <button class=\"colab-df-convert\" onclick=\"convertToInteractive('df-3b0d56bb-271f-47ba-843a-647bd6678945')\"\n",
              "              title=\"Convert this dataframe to an interactive table.\"\n",
              "              style=\"display:none;\">\n",
              "        \n",
              "  <svg xmlns=\"http://www.w3.org/2000/svg\" height=\"24px\"viewBox=\"0 0 24 24\"\n",
              "       width=\"24px\">\n",
              "    <path d=\"M0 0h24v24H0V0z\" fill=\"none\"/>\n",
              "    <path d=\"M18.56 5.44l.94 2.06.94-2.06 2.06-.94-2.06-.94-.94-2.06-.94 2.06-2.06.94zm-11 1L8.5 8.5l.94-2.06 2.06-.94-2.06-.94L8.5 2.5l-.94 2.06-2.06.94zm10 10l.94 2.06.94-2.06 2.06-.94-2.06-.94-.94-2.06-.94 2.06-2.06.94z\"/><path d=\"M17.41 7.96l-1.37-1.37c-.4-.4-.92-.59-1.43-.59-.52 0-1.04.2-1.43.59L10.3 9.45l-7.72 7.72c-.78.78-.78 2.05 0 2.83L4 21.41c.39.39.9.59 1.41.59.51 0 1.02-.2 1.41-.59l7.78-7.78 2.81-2.81c.8-.78.8-2.07 0-2.86zM5.41 20L4 18.59l7.72-7.72 1.47 1.35L5.41 20z\"/>\n",
              "  </svg>\n",
              "      </button>\n",
              "      \n",
              "  <style>\n",
              "    .colab-df-container {\n",
              "      display:flex;\n",
              "      flex-wrap:wrap;\n",
              "      gap: 12px;\n",
              "    }\n",
              "\n",
              "    .colab-df-convert {\n",
              "      background-color: #E8F0FE;\n",
              "      border: none;\n",
              "      border-radius: 50%;\n",
              "      cursor: pointer;\n",
              "      display: none;\n",
              "      fill: #1967D2;\n",
              "      height: 32px;\n",
              "      padding: 0 0 0 0;\n",
              "      width: 32px;\n",
              "    }\n",
              "\n",
              "    .colab-df-convert:hover {\n",
              "      background-color: #E2EBFA;\n",
              "      box-shadow: 0px 1px 2px rgba(60, 64, 67, 0.3), 0px 1px 3px 1px rgba(60, 64, 67, 0.15);\n",
              "      fill: #174EA6;\n",
              "    }\n",
              "\n",
              "    [theme=dark] .colab-df-convert {\n",
              "      background-color: #3B4455;\n",
              "      fill: #D2E3FC;\n",
              "    }\n",
              "\n",
              "    [theme=dark] .colab-df-convert:hover {\n",
              "      background-color: #434B5C;\n",
              "      box-shadow: 0px 1px 3px 1px rgba(0, 0, 0, 0.15);\n",
              "      filter: drop-shadow(0px 1px 2px rgba(0, 0, 0, 0.3));\n",
              "      fill: #FFFFFF;\n",
              "    }\n",
              "  </style>\n",
              "\n",
              "      <script>\n",
              "        const buttonEl =\n",
              "          document.querySelector('#df-3b0d56bb-271f-47ba-843a-647bd6678945 button.colab-df-convert');\n",
              "        buttonEl.style.display =\n",
              "          google.colab.kernel.accessAllowed ? 'block' : 'none';\n",
              "\n",
              "        async function convertToInteractive(key) {\n",
              "          const element = document.querySelector('#df-3b0d56bb-271f-47ba-843a-647bd6678945');\n",
              "          const dataTable =\n",
              "            await google.colab.kernel.invokeFunction('convertToInteractive',\n",
              "                                                     [key], {});\n",
              "          if (!dataTable) return;\n",
              "\n",
              "          const docLinkHtml = 'Like what you see? Visit the ' +\n",
              "            '<a target=\"_blank\" href=https://colab.research.google.com/notebooks/data_table.ipynb>data table notebook</a>'\n",
              "            + ' to learn more about interactive tables.';\n",
              "          element.innerHTML = '';\n",
              "          dataTable['output_type'] = 'display_data';\n",
              "          await google.colab.output.renderOutput(dataTable, element);\n",
              "          const docLink = document.createElement('div');\n",
              "          docLink.innerHTML = docLinkHtml;\n",
              "          element.appendChild(docLink);\n",
              "        }\n",
              "      </script>\n",
              "    </div>\n",
              "  </div>\n",
              "  "
            ]
          },
          "metadata": {},
          "execution_count": 15
        }
      ]
    },
    {
      "cell_type": "code",
      "source": [
        "for idx, row in df_abusive_text.iterrows():\n",
        "  #This condition is for when execution is stopped and later on resumed\n",
        "  if not any(c.isalpha() for c in str(df_abusive_text['text'][idx])):\n",
        "    try:\n",
        "      if api.get_status(df_abusive_text['TweetID'][idx]):\n",
        "        tweetFetched = api.get_status(df_abusive_text['TweetID'][idx])\n",
        "        df_abusive_text['text'][idx] = tweetFetched.text\n",
        "    except tweepy.TweepError as e:\n",
        "      # print (e.api_code)\n",
        "      # print (getExceptionMessage(e.reason))\n",
        "      df_abusive_text['text'][idx] = \"TWITTER__ERROR\" + getExceptionMessage(e.reason)\n",
        "    #We save the dataframe every line to not lose any progress (in case this cell would stop after 6+ hours!)\n",
        "    df_abusive_text.to_csv('/content/drive/MyDrive/TFG/data/abusive_text_data.csv', index=False)  "
      ],
      "metadata": {
        "id": "Yiu8e1L_ZiTu"
      },
      "execution_count": null,
      "outputs": []
    },
    {
      "cell_type": "markdown",
      "source": [
        "####Rest of preprocessing\n"
      ],
      "metadata": {
        "id": "8lXEzR7CZMIA"
      }
    },
    {
      "cell_type": "code",
      "source": [
        "df_abusive_text['hate speech'].unique()"
      ],
      "metadata": {
        "colab": {
          "base_uri": "https://localhost:8080/"
        },
        "id": "pTI1QHf7LL7s",
        "outputId": "77367672-ecee-4df1-9836-baaeec717b92"
      },
      "execution_count": null,
      "outputs": [
        {
          "output_type": "execute_result",
          "data": {
            "text/plain": [
              "array(['abusive', 'normal', 'hateful', 'spam'], dtype=object)"
            ]
          },
          "metadata": {},
          "execution_count": 56
        }
      ]
    }
  ]
}